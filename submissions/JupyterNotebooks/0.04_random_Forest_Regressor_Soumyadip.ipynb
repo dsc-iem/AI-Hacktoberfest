{
 "cells": [
  {
   "cell_type": "markdown",
   "metadata": {},
   "source": [
    "![dsc-logo](https://raw.githubusercontent.com/divyake/Cysec-Hacktoberfest/dcc84465cfcff73981f8fcb5c8fe3b1710c007e1/assets/logo.svg)\n",
    "\n",
    "<img src='https://upload.wikimedia.org/wikipedia/commons/d/d8/Deerfire_high_res_edit.jpg' width='1200px' style=\"vertical-align:middle\"/>"
   ]
  },
  {
   "cell_type": "markdown",
   "metadata": {},
   "source": [
    "**Hello** reader, In this notebook, I have covered the model-building part for Forest Fire Prediction and the Uni-variate analysis of the target variable(area). I have plotted different charts and graphs in order to describe how the target variable is changing and what are the properties of that variable.\n",
    "<br>\n",
    "\n",
    "### Table of Content:\n",
    "1. Analysis on the data\n",
    "      * Basic info about data\n",
    "      * what are the Numerical features?\n",
    "      * what are the Continuous Numerical feafeatures?\n",
    "      * what are the Discrete Numerical feafeatures?\n",
    "      * what are the Categorical Features?And quantitative analysis on those features.\n",
    "<br>\n",
    "2. Statistical insights of all the features\n",
    "<br>\n",
    "3. Uni-variate analysis of Area/Target variable\n",
    "      * Scatter Plot\n",
    "      * Line Plot\n",
    "      * PDF (Probability density function) Plot\n",
    "      * CDF (cumulative distribution function) Plot\n",
    "      * Histogram Plot\n",
    "      * Violin Plot\n",
    "<br>\n",
    "4. Data Preprocessing\n",
    "      * Encoding of data\n",
    "      * Feature selection\n",
    "      * Train test split\n",
    "<br>     \n",
    "5. Model building\n",
    "      * Model Building using Selected features\n",
    "      * Cross Validation\n",
    "      * Metric Reports\n",
    "\n",
    "### Note: The plots are in cufflinks and plotly, so it won't be visible inside github. To see the plots all you need to do is to clone the repository and open it in your local system or you can open the file inside [kaggle](https://www.kaggle.com/) too."
   ]
  },
  {
   "cell_type": "markdown",
   "metadata": {},
   "source": [
    "# Utils:"
   ]
  },
  {
   "cell_type": "code",
   "execution_count": 1,
   "metadata": {
    "_cell_guid": "79c7e3d0-c299-4dcb-8224-4455121ee9b0",
    "_uuid": "d629ff2d2480ee46fbb7e2d37f6b5fab8052498a"
   },
   "outputs": [],
   "source": [
    "import pandas as pd\n",
    "import numpy as np\n",
    "import matplotlib.pyplot as plt\n",
    "import seaborn as sns\n",
    "\n",
    "from plotly.offline import iplot\n",
    "import plotly as py\n",
    "import plotly.tools as tls\n",
    "import cufflinks as cf\n",
    "\n",
    "from sklearn.metrics import r2_score\n",
    "from sklearn.metrics import mean_squared_error\n",
    "from sklearn.metrics import mean_absolute_error"
   ]
  },
  {
   "cell_type": "code",
   "execution_count": 2,
   "metadata": {},
   "outputs": [],
   "source": [
    "pd.pandas.set_option('display.max_columns',None)\n",
    "pd.pandas.set_option('display.max_rows',None)"
   ]
  },
  {
   "cell_type": "code",
   "execution_count": 3,
   "metadata": {},
   "outputs": [],
   "source": [
    "cm = sns.light_palette(\"green\", as_cmap=True)"
   ]
  },
  {
   "cell_type": "code",
   "execution_count": 4,
   "metadata": {},
   "outputs": [
    {
     "data": {
      "text/html": [
       "        <script type=\"text/javascript\">\n",
       "        window.PlotlyConfig = {MathJaxConfig: 'local'};\n",
       "        if (window.MathJax) {MathJax.Hub.Config({SVG: {font: \"STIX-Web\"}});}\n",
       "        if (typeof require !== 'undefined') {\n",
       "        require.undef(\"plotly\");\n",
       "        requirejs.config({\n",
       "            paths: {\n",
       "                'plotly': ['https://cdn.plot.ly/plotly-latest.min']\n",
       "            }\n",
       "        });\n",
       "        require(['plotly'], function(Plotly) {\n",
       "            window._Plotly = Plotly;\n",
       "        });\n",
       "        }\n",
       "        </script>\n",
       "        "
      ]
     },
     "metadata": {},
     "output_type": "display_data"
    },
    {
     "data": {
      "text/html": [
       "        <script type=\"text/javascript\">\n",
       "        window.PlotlyConfig = {MathJaxConfig: 'local'};\n",
       "        if (window.MathJax) {MathJax.Hub.Config({SVG: {font: \"STIX-Web\"}});}\n",
       "        if (typeof require !== 'undefined') {\n",
       "        require.undef(\"plotly\");\n",
       "        requirejs.config({\n",
       "            paths: {\n",
       "                'plotly': ['https://cdn.plot.ly/plotly-latest.min']\n",
       "            }\n",
       "        });\n",
       "        require(['plotly'], function(Plotly) {\n",
       "            window._Plotly = Plotly;\n",
       "        });\n",
       "        }\n",
       "        </script>\n",
       "        "
      ]
     },
     "metadata": {},
     "output_type": "display_data"
    }
   ],
   "source": [
    "py.offline.init_notebook_mode(connected = True)\n",
    "cf.go_offline()\n",
    "cf.set_config_file(theme='solar')\n",
    "plt.style.use('ggplot')"
   ]
  },
  {
   "cell_type": "markdown",
   "metadata": {},
   "source": [
    "# Analysis on the data"
   ]
  },
  {
   "cell_type": "code",
   "execution_count": 5,
   "metadata": {},
   "outputs": [
    {
     "data": {
      "text/html": [
       "<style  type=\"text/css\" >\n",
       "#T_c978f480_035d_11eb_b8ee_0242ac130202row0_col0,#T_c978f480_035d_11eb_b8ee_0242ac130202row0_col1,#T_c978f480_035d_11eb_b8ee_0242ac130202row0_col2,#T_c978f480_035d_11eb_b8ee_0242ac130202row0_col3,#T_c978f480_035d_11eb_b8ee_0242ac130202row0_col4,#T_c978f480_035d_11eb_b8ee_0242ac130202row0_col5,#T_c978f480_035d_11eb_b8ee_0242ac130202row0_col6,#T_c978f480_035d_11eb_b8ee_0242ac130202row0_col7,#T_c978f480_035d_11eb_b8ee_0242ac130202row0_col8,#T_c978f480_035d_11eb_b8ee_0242ac130202row0_col9,#T_c978f480_035d_11eb_b8ee_0242ac130202row0_col10,#T_c978f480_035d_11eb_b8ee_0242ac130202row0_col11,#T_c978f480_035d_11eb_b8ee_0242ac130202row0_col12,#T_c978f480_035d_11eb_b8ee_0242ac130202row1_col0,#T_c978f480_035d_11eb_b8ee_0242ac130202row1_col1,#T_c978f480_035d_11eb_b8ee_0242ac130202row1_col2,#T_c978f480_035d_11eb_b8ee_0242ac130202row1_col3,#T_c978f480_035d_11eb_b8ee_0242ac130202row1_col4,#T_c978f480_035d_11eb_b8ee_0242ac130202row1_col5,#T_c978f480_035d_11eb_b8ee_0242ac130202row1_col6,#T_c978f480_035d_11eb_b8ee_0242ac130202row1_col7,#T_c978f480_035d_11eb_b8ee_0242ac130202row1_col8,#T_c978f480_035d_11eb_b8ee_0242ac130202row1_col9,#T_c978f480_035d_11eb_b8ee_0242ac130202row1_col10,#T_c978f480_035d_11eb_b8ee_0242ac130202row1_col11,#T_c978f480_035d_11eb_b8ee_0242ac130202row1_col12,#T_c978f480_035d_11eb_b8ee_0242ac130202row2_col0,#T_c978f480_035d_11eb_b8ee_0242ac130202row2_col1,#T_c978f480_035d_11eb_b8ee_0242ac130202row2_col2,#T_c978f480_035d_11eb_b8ee_0242ac130202row2_col3,#T_c978f480_035d_11eb_b8ee_0242ac130202row2_col4,#T_c978f480_035d_11eb_b8ee_0242ac130202row2_col5,#T_c978f480_035d_11eb_b8ee_0242ac130202row2_col6,#T_c978f480_035d_11eb_b8ee_0242ac130202row2_col7,#T_c978f480_035d_11eb_b8ee_0242ac130202row2_col8,#T_c978f480_035d_11eb_b8ee_0242ac130202row2_col9,#T_c978f480_035d_11eb_b8ee_0242ac130202row2_col10,#T_c978f480_035d_11eb_b8ee_0242ac130202row2_col11,#T_c978f480_035d_11eb_b8ee_0242ac130202row2_col12,#T_c978f480_035d_11eb_b8ee_0242ac130202row3_col0,#T_c978f480_035d_11eb_b8ee_0242ac130202row3_col1,#T_c978f480_035d_11eb_b8ee_0242ac130202row3_col2,#T_c978f480_035d_11eb_b8ee_0242ac130202row3_col3,#T_c978f480_035d_11eb_b8ee_0242ac130202row3_col4,#T_c978f480_035d_11eb_b8ee_0242ac130202row3_col5,#T_c978f480_035d_11eb_b8ee_0242ac130202row3_col6,#T_c978f480_035d_11eb_b8ee_0242ac130202row3_col7,#T_c978f480_035d_11eb_b8ee_0242ac130202row3_col8,#T_c978f480_035d_11eb_b8ee_0242ac130202row3_col9,#T_c978f480_035d_11eb_b8ee_0242ac130202row3_col10,#T_c978f480_035d_11eb_b8ee_0242ac130202row3_col11,#T_c978f480_035d_11eb_b8ee_0242ac130202row3_col12,#T_c978f480_035d_11eb_b8ee_0242ac130202row4_col0,#T_c978f480_035d_11eb_b8ee_0242ac130202row4_col1,#T_c978f480_035d_11eb_b8ee_0242ac130202row4_col2,#T_c978f480_035d_11eb_b8ee_0242ac130202row4_col3,#T_c978f480_035d_11eb_b8ee_0242ac130202row4_col4,#T_c978f480_035d_11eb_b8ee_0242ac130202row4_col5,#T_c978f480_035d_11eb_b8ee_0242ac130202row4_col6,#T_c978f480_035d_11eb_b8ee_0242ac130202row4_col7,#T_c978f480_035d_11eb_b8ee_0242ac130202row4_col8,#T_c978f480_035d_11eb_b8ee_0242ac130202row4_col9,#T_c978f480_035d_11eb_b8ee_0242ac130202row4_col10,#T_c978f480_035d_11eb_b8ee_0242ac130202row4_col11,#T_c978f480_035d_11eb_b8ee_0242ac130202row4_col12{\n",
       "            background-color:  black;\n",
       "            color:  lawngreen;\n",
       "            border-color:  white;\n",
       "        }</style><table id=\"T_c978f480_035d_11eb_b8ee_0242ac130202\" ><thead>    <tr>        <th class=\"blank level0\" ></th>        <th class=\"col_heading level0 col0\" >X</th>        <th class=\"col_heading level0 col1\" >Y</th>        <th class=\"col_heading level0 col2\" >month</th>        <th class=\"col_heading level0 col3\" >day</th>        <th class=\"col_heading level0 col4\" >FFMC</th>        <th class=\"col_heading level0 col5\" >DMC</th>        <th class=\"col_heading level0 col6\" >DC</th>        <th class=\"col_heading level0 col7\" >ISI</th>        <th class=\"col_heading level0 col8\" >temp</th>        <th class=\"col_heading level0 col9\" >RH</th>        <th class=\"col_heading level0 col10\" >wind</th>        <th class=\"col_heading level0 col11\" >rain</th>        <th class=\"col_heading level0 col12\" >area</th>    </tr></thead><tbody>\n",
       "                <tr>\n",
       "                        <th id=\"T_c978f480_035d_11eb_b8ee_0242ac130202level0_row0\" class=\"row_heading level0 row0\" >0</th>\n",
       "                        <td id=\"T_c978f480_035d_11eb_b8ee_0242ac130202row0_col0\" class=\"data row0 col0\" >7</td>\n",
       "                        <td id=\"T_c978f480_035d_11eb_b8ee_0242ac130202row0_col1\" class=\"data row0 col1\" >5</td>\n",
       "                        <td id=\"T_c978f480_035d_11eb_b8ee_0242ac130202row0_col2\" class=\"data row0 col2\" >mar</td>\n",
       "                        <td id=\"T_c978f480_035d_11eb_b8ee_0242ac130202row0_col3\" class=\"data row0 col3\" >fri</td>\n",
       "                        <td id=\"T_c978f480_035d_11eb_b8ee_0242ac130202row0_col4\" class=\"data row0 col4\" >86.200000</td>\n",
       "                        <td id=\"T_c978f480_035d_11eb_b8ee_0242ac130202row0_col5\" class=\"data row0 col5\" >26.200000</td>\n",
       "                        <td id=\"T_c978f480_035d_11eb_b8ee_0242ac130202row0_col6\" class=\"data row0 col6\" >94.300000</td>\n",
       "                        <td id=\"T_c978f480_035d_11eb_b8ee_0242ac130202row0_col7\" class=\"data row0 col7\" >5.100000</td>\n",
       "                        <td id=\"T_c978f480_035d_11eb_b8ee_0242ac130202row0_col8\" class=\"data row0 col8\" >8.200000</td>\n",
       "                        <td id=\"T_c978f480_035d_11eb_b8ee_0242ac130202row0_col9\" class=\"data row0 col9\" >51</td>\n",
       "                        <td id=\"T_c978f480_035d_11eb_b8ee_0242ac130202row0_col10\" class=\"data row0 col10\" >6.700000</td>\n",
       "                        <td id=\"T_c978f480_035d_11eb_b8ee_0242ac130202row0_col11\" class=\"data row0 col11\" >0.000000</td>\n",
       "                        <td id=\"T_c978f480_035d_11eb_b8ee_0242ac130202row0_col12\" class=\"data row0 col12\" >0.000000</td>\n",
       "            </tr>\n",
       "            <tr>\n",
       "                        <th id=\"T_c978f480_035d_11eb_b8ee_0242ac130202level0_row1\" class=\"row_heading level0 row1\" >1</th>\n",
       "                        <td id=\"T_c978f480_035d_11eb_b8ee_0242ac130202row1_col0\" class=\"data row1 col0\" >7</td>\n",
       "                        <td id=\"T_c978f480_035d_11eb_b8ee_0242ac130202row1_col1\" class=\"data row1 col1\" >4</td>\n",
       "                        <td id=\"T_c978f480_035d_11eb_b8ee_0242ac130202row1_col2\" class=\"data row1 col2\" >oct</td>\n",
       "                        <td id=\"T_c978f480_035d_11eb_b8ee_0242ac130202row1_col3\" class=\"data row1 col3\" >tue</td>\n",
       "                        <td id=\"T_c978f480_035d_11eb_b8ee_0242ac130202row1_col4\" class=\"data row1 col4\" >90.600000</td>\n",
       "                        <td id=\"T_c978f480_035d_11eb_b8ee_0242ac130202row1_col5\" class=\"data row1 col5\" >35.400000</td>\n",
       "                        <td id=\"T_c978f480_035d_11eb_b8ee_0242ac130202row1_col6\" class=\"data row1 col6\" >669.100000</td>\n",
       "                        <td id=\"T_c978f480_035d_11eb_b8ee_0242ac130202row1_col7\" class=\"data row1 col7\" >6.700000</td>\n",
       "                        <td id=\"T_c978f480_035d_11eb_b8ee_0242ac130202row1_col8\" class=\"data row1 col8\" >18.000000</td>\n",
       "                        <td id=\"T_c978f480_035d_11eb_b8ee_0242ac130202row1_col9\" class=\"data row1 col9\" >33</td>\n",
       "                        <td id=\"T_c978f480_035d_11eb_b8ee_0242ac130202row1_col10\" class=\"data row1 col10\" >0.900000</td>\n",
       "                        <td id=\"T_c978f480_035d_11eb_b8ee_0242ac130202row1_col11\" class=\"data row1 col11\" >0.000000</td>\n",
       "                        <td id=\"T_c978f480_035d_11eb_b8ee_0242ac130202row1_col12\" class=\"data row1 col12\" >0.000000</td>\n",
       "            </tr>\n",
       "            <tr>\n",
       "                        <th id=\"T_c978f480_035d_11eb_b8ee_0242ac130202level0_row2\" class=\"row_heading level0 row2\" >2</th>\n",
       "                        <td id=\"T_c978f480_035d_11eb_b8ee_0242ac130202row2_col0\" class=\"data row2 col0\" >7</td>\n",
       "                        <td id=\"T_c978f480_035d_11eb_b8ee_0242ac130202row2_col1\" class=\"data row2 col1\" >4</td>\n",
       "                        <td id=\"T_c978f480_035d_11eb_b8ee_0242ac130202row2_col2\" class=\"data row2 col2\" >oct</td>\n",
       "                        <td id=\"T_c978f480_035d_11eb_b8ee_0242ac130202row2_col3\" class=\"data row2 col3\" >sat</td>\n",
       "                        <td id=\"T_c978f480_035d_11eb_b8ee_0242ac130202row2_col4\" class=\"data row2 col4\" >90.600000</td>\n",
       "                        <td id=\"T_c978f480_035d_11eb_b8ee_0242ac130202row2_col5\" class=\"data row2 col5\" >43.700000</td>\n",
       "                        <td id=\"T_c978f480_035d_11eb_b8ee_0242ac130202row2_col6\" class=\"data row2 col6\" >686.900000</td>\n",
       "                        <td id=\"T_c978f480_035d_11eb_b8ee_0242ac130202row2_col7\" class=\"data row2 col7\" >6.700000</td>\n",
       "                        <td id=\"T_c978f480_035d_11eb_b8ee_0242ac130202row2_col8\" class=\"data row2 col8\" >14.600000</td>\n",
       "                        <td id=\"T_c978f480_035d_11eb_b8ee_0242ac130202row2_col9\" class=\"data row2 col9\" >33</td>\n",
       "                        <td id=\"T_c978f480_035d_11eb_b8ee_0242ac130202row2_col10\" class=\"data row2 col10\" >1.300000</td>\n",
       "                        <td id=\"T_c978f480_035d_11eb_b8ee_0242ac130202row2_col11\" class=\"data row2 col11\" >0.000000</td>\n",
       "                        <td id=\"T_c978f480_035d_11eb_b8ee_0242ac130202row2_col12\" class=\"data row2 col12\" >0.000000</td>\n",
       "            </tr>\n",
       "            <tr>\n",
       "                        <th id=\"T_c978f480_035d_11eb_b8ee_0242ac130202level0_row3\" class=\"row_heading level0 row3\" >3</th>\n",
       "                        <td id=\"T_c978f480_035d_11eb_b8ee_0242ac130202row3_col0\" class=\"data row3 col0\" >8</td>\n",
       "                        <td id=\"T_c978f480_035d_11eb_b8ee_0242ac130202row3_col1\" class=\"data row3 col1\" >6</td>\n",
       "                        <td id=\"T_c978f480_035d_11eb_b8ee_0242ac130202row3_col2\" class=\"data row3 col2\" >mar</td>\n",
       "                        <td id=\"T_c978f480_035d_11eb_b8ee_0242ac130202row3_col3\" class=\"data row3 col3\" >fri</td>\n",
       "                        <td id=\"T_c978f480_035d_11eb_b8ee_0242ac130202row3_col4\" class=\"data row3 col4\" >91.700000</td>\n",
       "                        <td id=\"T_c978f480_035d_11eb_b8ee_0242ac130202row3_col5\" class=\"data row3 col5\" >33.300000</td>\n",
       "                        <td id=\"T_c978f480_035d_11eb_b8ee_0242ac130202row3_col6\" class=\"data row3 col6\" >77.500000</td>\n",
       "                        <td id=\"T_c978f480_035d_11eb_b8ee_0242ac130202row3_col7\" class=\"data row3 col7\" >9.000000</td>\n",
       "                        <td id=\"T_c978f480_035d_11eb_b8ee_0242ac130202row3_col8\" class=\"data row3 col8\" >8.300000</td>\n",
       "                        <td id=\"T_c978f480_035d_11eb_b8ee_0242ac130202row3_col9\" class=\"data row3 col9\" >97</td>\n",
       "                        <td id=\"T_c978f480_035d_11eb_b8ee_0242ac130202row3_col10\" class=\"data row3 col10\" >4.000000</td>\n",
       "                        <td id=\"T_c978f480_035d_11eb_b8ee_0242ac130202row3_col11\" class=\"data row3 col11\" >0.200000</td>\n",
       "                        <td id=\"T_c978f480_035d_11eb_b8ee_0242ac130202row3_col12\" class=\"data row3 col12\" >0.000000</td>\n",
       "            </tr>\n",
       "            <tr>\n",
       "                        <th id=\"T_c978f480_035d_11eb_b8ee_0242ac130202level0_row4\" class=\"row_heading level0 row4\" >4</th>\n",
       "                        <td id=\"T_c978f480_035d_11eb_b8ee_0242ac130202row4_col0\" class=\"data row4 col0\" >8</td>\n",
       "                        <td id=\"T_c978f480_035d_11eb_b8ee_0242ac130202row4_col1\" class=\"data row4 col1\" >6</td>\n",
       "                        <td id=\"T_c978f480_035d_11eb_b8ee_0242ac130202row4_col2\" class=\"data row4 col2\" >mar</td>\n",
       "                        <td id=\"T_c978f480_035d_11eb_b8ee_0242ac130202row4_col3\" class=\"data row4 col3\" >sun</td>\n",
       "                        <td id=\"T_c978f480_035d_11eb_b8ee_0242ac130202row4_col4\" class=\"data row4 col4\" >89.300000</td>\n",
       "                        <td id=\"T_c978f480_035d_11eb_b8ee_0242ac130202row4_col5\" class=\"data row4 col5\" >51.300000</td>\n",
       "                        <td id=\"T_c978f480_035d_11eb_b8ee_0242ac130202row4_col6\" class=\"data row4 col6\" >102.200000</td>\n",
       "                        <td id=\"T_c978f480_035d_11eb_b8ee_0242ac130202row4_col7\" class=\"data row4 col7\" >9.600000</td>\n",
       "                        <td id=\"T_c978f480_035d_11eb_b8ee_0242ac130202row4_col8\" class=\"data row4 col8\" >11.400000</td>\n",
       "                        <td id=\"T_c978f480_035d_11eb_b8ee_0242ac130202row4_col9\" class=\"data row4 col9\" >99</td>\n",
       "                        <td id=\"T_c978f480_035d_11eb_b8ee_0242ac130202row4_col10\" class=\"data row4 col10\" >1.800000</td>\n",
       "                        <td id=\"T_c978f480_035d_11eb_b8ee_0242ac130202row4_col11\" class=\"data row4 col11\" >0.000000</td>\n",
       "                        <td id=\"T_c978f480_035d_11eb_b8ee_0242ac130202row4_col12\" class=\"data row4 col12\" >0.000000</td>\n",
       "            </tr>\n",
       "    </tbody></table>"
      ],
      "text/plain": [
       "<pandas.io.formats.style.Styler at 0x7f17b7a2bf10>"
      ]
     },
     "execution_count": 5,
     "metadata": {},
     "output_type": "execute_result"
    }
   ],
   "source": [
    "df = pd.read_csv('../input/forest-fire-prediction/forestfires.csv')\n",
    "df.head().style.set_properties(**{'background-color': 'black',\n",
    "                           'color': 'lawngreen',\n",
    "                           'border-color': 'white'})\n",
    "# .style.background_gradient(cmap='Reds')\n",
    "\n"
   ]
  },
  {
   "cell_type": "code",
   "execution_count": 6,
   "metadata": {},
   "outputs": [
    {
     "name": "stdout",
     "output_type": "stream",
     "text": [
      "<class 'pandas.core.frame.DataFrame'>\n",
      "RangeIndex: 517 entries, 0 to 516\n",
      "Data columns (total 13 columns):\n",
      " #   Column  Non-Null Count  Dtype  \n",
      "---  ------  --------------  -----  \n",
      " 0   X       517 non-null    int64  \n",
      " 1   Y       517 non-null    int64  \n",
      " 2   month   517 non-null    object \n",
      " 3   day     517 non-null    object \n",
      " 4   FFMC    517 non-null    float64\n",
      " 5   DMC     517 non-null    float64\n",
      " 6   DC      517 non-null    float64\n",
      " 7   ISI     517 non-null    float64\n",
      " 8   temp    517 non-null    float64\n",
      " 9   RH      517 non-null    int64  \n",
      " 10  wind    517 non-null    float64\n",
      " 11  rain    517 non-null    float64\n",
      " 12  area    517 non-null    float64\n",
      "dtypes: float64(8), int64(3), object(2)\n",
      "memory usage: 52.6+ KB\n"
     ]
    }
   ],
   "source": [
    "df.info()"
   ]
  },
  {
   "cell_type": "markdown",
   "metadata": {},
   "source": [
    "## what are the Numerical features?"
   ]
  },
  {
   "cell_type": "code",
   "execution_count": 7,
   "metadata": {},
   "outputs": [
    {
     "name": "stdout",
     "output_type": "stream",
     "text": [
      "Number of Numerical variables are:  11\n",
      "Numerical features are:  ['X', 'Y', 'FFMC', 'DMC', 'DC', 'ISI', 'temp', 'RH', 'wind', 'rain', 'area']\n"
     ]
    },
    {
     "data": {
      "text/html": [
       "<style  type=\"text/css\" >\n",
       "#T_c98510da_035d_11eb_b8ee_0242ac130202row0_col0,#T_c98510da_035d_11eb_b8ee_0242ac130202row0_col2,#T_c98510da_035d_11eb_b8ee_0242ac130202row0_col3,#T_c98510da_035d_11eb_b8ee_0242ac130202row0_col5,#T_c98510da_035d_11eb_b8ee_0242ac130202row0_col6,#T_c98510da_035d_11eb_b8ee_0242ac130202row0_col9,#T_c98510da_035d_11eb_b8ee_0242ac130202row0_col10,#T_c98510da_035d_11eb_b8ee_0242ac130202row1_col0,#T_c98510da_035d_11eb_b8ee_0242ac130202row1_col1,#T_c98510da_035d_11eb_b8ee_0242ac130202row1_col7,#T_c98510da_035d_11eb_b8ee_0242ac130202row1_col8,#T_c98510da_035d_11eb_b8ee_0242ac130202row1_col9,#T_c98510da_035d_11eb_b8ee_0242ac130202row1_col10,#T_c98510da_035d_11eb_b8ee_0242ac130202row2_col0,#T_c98510da_035d_11eb_b8ee_0242ac130202row2_col1,#T_c98510da_035d_11eb_b8ee_0242ac130202row2_col7,#T_c98510da_035d_11eb_b8ee_0242ac130202row2_col9,#T_c98510da_035d_11eb_b8ee_0242ac130202row2_col10,#T_c98510da_035d_11eb_b8ee_0242ac130202row3_col4,#T_c98510da_035d_11eb_b8ee_0242ac130202row3_col10,#T_c98510da_035d_11eb_b8ee_0242ac130202row4_col9,#T_c98510da_035d_11eb_b8ee_0242ac130202row4_col10{\n",
       "            background-color:  #e5ffe5;\n",
       "            color:  #000000;\n",
       "        }#T_c98510da_035d_11eb_b8ee_0242ac130202row0_col1{\n",
       "            background-color:  #72bf72;\n",
       "            color:  #000000;\n",
       "        }#T_c98510da_035d_11eb_b8ee_0242ac130202row0_col4{\n",
       "            background-color:  #dffcdf;\n",
       "            color:  #000000;\n",
       "        }#T_c98510da_035d_11eb_b8ee_0242ac130202row0_col7{\n",
       "            background-color:  #a7dda7;\n",
       "            color:  #000000;\n",
       "        }#T_c98510da_035d_11eb_b8ee_0242ac130202row0_col8,#T_c98510da_035d_11eb_b8ee_0242ac130202row1_col6,#T_c98510da_035d_11eb_b8ee_0242ac130202row2_col4,#T_c98510da_035d_11eb_b8ee_0242ac130202row3_col0,#T_c98510da_035d_11eb_b8ee_0242ac130202row3_col1,#T_c98510da_035d_11eb_b8ee_0242ac130202row3_col2,#T_c98510da_035d_11eb_b8ee_0242ac130202row3_col9,#T_c98510da_035d_11eb_b8ee_0242ac130202row4_col0,#T_c98510da_035d_11eb_b8ee_0242ac130202row4_col1,#T_c98510da_035d_11eb_b8ee_0242ac130202row4_col3,#T_c98510da_035d_11eb_b8ee_0242ac130202row4_col5,#T_c98510da_035d_11eb_b8ee_0242ac130202row4_col7{\n",
       "            background-color:  #008000;\n",
       "            color:  #f1f1f1;\n",
       "        }#T_c98510da_035d_11eb_b8ee_0242ac130202row1_col2,#T_c98510da_035d_11eb_b8ee_0242ac130202row2_col2{\n",
       "            background-color:  #2e992e;\n",
       "            color:  #000000;\n",
       "        }#T_c98510da_035d_11eb_b8ee_0242ac130202row1_col3{\n",
       "            background-color:  #92d192;\n",
       "            color:  #000000;\n",
       "        }#T_c98510da_035d_11eb_b8ee_0242ac130202row1_col4,#T_c98510da_035d_11eb_b8ee_0242ac130202row3_col7{\n",
       "            background-color:  #068306;\n",
       "            color:  #f1f1f1;\n",
       "        }#T_c98510da_035d_11eb_b8ee_0242ac130202row1_col5,#T_c98510da_035d_11eb_b8ee_0242ac130202row2_col5{\n",
       "            background-color:  #94d294;\n",
       "            color:  #000000;\n",
       "        }#T_c98510da_035d_11eb_b8ee_0242ac130202row2_col3{\n",
       "            background-color:  #45a645;\n",
       "            color:  #000000;\n",
       "        }#T_c98510da_035d_11eb_b8ee_0242ac130202row2_col6{\n",
       "            background-color:  #4fac4f;\n",
       "            color:  #000000;\n",
       "        }#T_c98510da_035d_11eb_b8ee_0242ac130202row2_col8{\n",
       "            background-color:  #d6f7d6;\n",
       "            color:  #000000;\n",
       "        }#T_c98510da_035d_11eb_b8ee_0242ac130202row3_col3{\n",
       "            background-color:  #a5dba5;\n",
       "            color:  #000000;\n",
       "        }#T_c98510da_035d_11eb_b8ee_0242ac130202row3_col5{\n",
       "            background-color:  #1f911f;\n",
       "            color:  #000000;\n",
       "        }#T_c98510da_035d_11eb_b8ee_0242ac130202row3_col6{\n",
       "            background-color:  #e4fee4;\n",
       "            color:  #000000;\n",
       "        }#T_c98510da_035d_11eb_b8ee_0242ac130202row3_col8{\n",
       "            background-color:  #6bbb6b;\n",
       "            color:  #000000;\n",
       "        }#T_c98510da_035d_11eb_b8ee_0242ac130202row4_col2{\n",
       "            background-color:  #64b764;\n",
       "            color:  #000000;\n",
       "        }#T_c98510da_035d_11eb_b8ee_0242ac130202row4_col4{\n",
       "            background-color:  #dcfadc;\n",
       "            color:  #000000;\n",
       "        }#T_c98510da_035d_11eb_b8ee_0242ac130202row4_col6{\n",
       "            background-color:  #9bd69b;\n",
       "            color:  #000000;\n",
       "        }#T_c98510da_035d_11eb_b8ee_0242ac130202row4_col8{\n",
       "            background-color:  #c2ecc2;\n",
       "            color:  #000000;\n",
       "        }</style><table id=\"T_c98510da_035d_11eb_b8ee_0242ac130202\" ><thead>    <tr>        <th class=\"blank level0\" ></th>        <th class=\"col_heading level0 col0\" >X</th>        <th class=\"col_heading level0 col1\" >Y</th>        <th class=\"col_heading level0 col2\" >FFMC</th>        <th class=\"col_heading level0 col3\" >DMC</th>        <th class=\"col_heading level0 col4\" >DC</th>        <th class=\"col_heading level0 col5\" >ISI</th>        <th class=\"col_heading level0 col6\" >temp</th>        <th class=\"col_heading level0 col7\" >RH</th>        <th class=\"col_heading level0 col8\" >wind</th>        <th class=\"col_heading level0 col9\" >rain</th>        <th class=\"col_heading level0 col10\" >area</th>    </tr></thead><tbody>\n",
       "                <tr>\n",
       "                        <th id=\"T_c98510da_035d_11eb_b8ee_0242ac130202level0_row0\" class=\"row_heading level0 row0\" >0</th>\n",
       "                        <td id=\"T_c98510da_035d_11eb_b8ee_0242ac130202row0_col0\" class=\"data row0 col0\" >7</td>\n",
       "                        <td id=\"T_c98510da_035d_11eb_b8ee_0242ac130202row0_col1\" class=\"data row0 col1\" >5</td>\n",
       "                        <td id=\"T_c98510da_035d_11eb_b8ee_0242ac130202row0_col2\" class=\"data row0 col2\" >86.200000</td>\n",
       "                        <td id=\"T_c98510da_035d_11eb_b8ee_0242ac130202row0_col3\" class=\"data row0 col3\" >26.200000</td>\n",
       "                        <td id=\"T_c98510da_035d_11eb_b8ee_0242ac130202row0_col4\" class=\"data row0 col4\" >94.300000</td>\n",
       "                        <td id=\"T_c98510da_035d_11eb_b8ee_0242ac130202row0_col5\" class=\"data row0 col5\" >5.100000</td>\n",
       "                        <td id=\"T_c98510da_035d_11eb_b8ee_0242ac130202row0_col6\" class=\"data row0 col6\" >8.200000</td>\n",
       "                        <td id=\"T_c98510da_035d_11eb_b8ee_0242ac130202row0_col7\" class=\"data row0 col7\" >51</td>\n",
       "                        <td id=\"T_c98510da_035d_11eb_b8ee_0242ac130202row0_col8\" class=\"data row0 col8\" >6.700000</td>\n",
       "                        <td id=\"T_c98510da_035d_11eb_b8ee_0242ac130202row0_col9\" class=\"data row0 col9\" >0.000000</td>\n",
       "                        <td id=\"T_c98510da_035d_11eb_b8ee_0242ac130202row0_col10\" class=\"data row0 col10\" >0.000000</td>\n",
       "            </tr>\n",
       "            <tr>\n",
       "                        <th id=\"T_c98510da_035d_11eb_b8ee_0242ac130202level0_row1\" class=\"row_heading level0 row1\" >1</th>\n",
       "                        <td id=\"T_c98510da_035d_11eb_b8ee_0242ac130202row1_col0\" class=\"data row1 col0\" >7</td>\n",
       "                        <td id=\"T_c98510da_035d_11eb_b8ee_0242ac130202row1_col1\" class=\"data row1 col1\" >4</td>\n",
       "                        <td id=\"T_c98510da_035d_11eb_b8ee_0242ac130202row1_col2\" class=\"data row1 col2\" >90.600000</td>\n",
       "                        <td id=\"T_c98510da_035d_11eb_b8ee_0242ac130202row1_col3\" class=\"data row1 col3\" >35.400000</td>\n",
       "                        <td id=\"T_c98510da_035d_11eb_b8ee_0242ac130202row1_col4\" class=\"data row1 col4\" >669.100000</td>\n",
       "                        <td id=\"T_c98510da_035d_11eb_b8ee_0242ac130202row1_col5\" class=\"data row1 col5\" >6.700000</td>\n",
       "                        <td id=\"T_c98510da_035d_11eb_b8ee_0242ac130202row1_col6\" class=\"data row1 col6\" >18.000000</td>\n",
       "                        <td id=\"T_c98510da_035d_11eb_b8ee_0242ac130202row1_col7\" class=\"data row1 col7\" >33</td>\n",
       "                        <td id=\"T_c98510da_035d_11eb_b8ee_0242ac130202row1_col8\" class=\"data row1 col8\" >0.900000</td>\n",
       "                        <td id=\"T_c98510da_035d_11eb_b8ee_0242ac130202row1_col9\" class=\"data row1 col9\" >0.000000</td>\n",
       "                        <td id=\"T_c98510da_035d_11eb_b8ee_0242ac130202row1_col10\" class=\"data row1 col10\" >0.000000</td>\n",
       "            </tr>\n",
       "            <tr>\n",
       "                        <th id=\"T_c98510da_035d_11eb_b8ee_0242ac130202level0_row2\" class=\"row_heading level0 row2\" >2</th>\n",
       "                        <td id=\"T_c98510da_035d_11eb_b8ee_0242ac130202row2_col0\" class=\"data row2 col0\" >7</td>\n",
       "                        <td id=\"T_c98510da_035d_11eb_b8ee_0242ac130202row2_col1\" class=\"data row2 col1\" >4</td>\n",
       "                        <td id=\"T_c98510da_035d_11eb_b8ee_0242ac130202row2_col2\" class=\"data row2 col2\" >90.600000</td>\n",
       "                        <td id=\"T_c98510da_035d_11eb_b8ee_0242ac130202row2_col3\" class=\"data row2 col3\" >43.700000</td>\n",
       "                        <td id=\"T_c98510da_035d_11eb_b8ee_0242ac130202row2_col4\" class=\"data row2 col4\" >686.900000</td>\n",
       "                        <td id=\"T_c98510da_035d_11eb_b8ee_0242ac130202row2_col5\" class=\"data row2 col5\" >6.700000</td>\n",
       "                        <td id=\"T_c98510da_035d_11eb_b8ee_0242ac130202row2_col6\" class=\"data row2 col6\" >14.600000</td>\n",
       "                        <td id=\"T_c98510da_035d_11eb_b8ee_0242ac130202row2_col7\" class=\"data row2 col7\" >33</td>\n",
       "                        <td id=\"T_c98510da_035d_11eb_b8ee_0242ac130202row2_col8\" class=\"data row2 col8\" >1.300000</td>\n",
       "                        <td id=\"T_c98510da_035d_11eb_b8ee_0242ac130202row2_col9\" class=\"data row2 col9\" >0.000000</td>\n",
       "                        <td id=\"T_c98510da_035d_11eb_b8ee_0242ac130202row2_col10\" class=\"data row2 col10\" >0.000000</td>\n",
       "            </tr>\n",
       "            <tr>\n",
       "                        <th id=\"T_c98510da_035d_11eb_b8ee_0242ac130202level0_row3\" class=\"row_heading level0 row3\" >3</th>\n",
       "                        <td id=\"T_c98510da_035d_11eb_b8ee_0242ac130202row3_col0\" class=\"data row3 col0\" >8</td>\n",
       "                        <td id=\"T_c98510da_035d_11eb_b8ee_0242ac130202row3_col1\" class=\"data row3 col1\" >6</td>\n",
       "                        <td id=\"T_c98510da_035d_11eb_b8ee_0242ac130202row3_col2\" class=\"data row3 col2\" >91.700000</td>\n",
       "                        <td id=\"T_c98510da_035d_11eb_b8ee_0242ac130202row3_col3\" class=\"data row3 col3\" >33.300000</td>\n",
       "                        <td id=\"T_c98510da_035d_11eb_b8ee_0242ac130202row3_col4\" class=\"data row3 col4\" >77.500000</td>\n",
       "                        <td id=\"T_c98510da_035d_11eb_b8ee_0242ac130202row3_col5\" class=\"data row3 col5\" >9.000000</td>\n",
       "                        <td id=\"T_c98510da_035d_11eb_b8ee_0242ac130202row3_col6\" class=\"data row3 col6\" >8.300000</td>\n",
       "                        <td id=\"T_c98510da_035d_11eb_b8ee_0242ac130202row3_col7\" class=\"data row3 col7\" >97</td>\n",
       "                        <td id=\"T_c98510da_035d_11eb_b8ee_0242ac130202row3_col8\" class=\"data row3 col8\" >4.000000</td>\n",
       "                        <td id=\"T_c98510da_035d_11eb_b8ee_0242ac130202row3_col9\" class=\"data row3 col9\" >0.200000</td>\n",
       "                        <td id=\"T_c98510da_035d_11eb_b8ee_0242ac130202row3_col10\" class=\"data row3 col10\" >0.000000</td>\n",
       "            </tr>\n",
       "            <tr>\n",
       "                        <th id=\"T_c98510da_035d_11eb_b8ee_0242ac130202level0_row4\" class=\"row_heading level0 row4\" >4</th>\n",
       "                        <td id=\"T_c98510da_035d_11eb_b8ee_0242ac130202row4_col0\" class=\"data row4 col0\" >8</td>\n",
       "                        <td id=\"T_c98510da_035d_11eb_b8ee_0242ac130202row4_col1\" class=\"data row4 col1\" >6</td>\n",
       "                        <td id=\"T_c98510da_035d_11eb_b8ee_0242ac130202row4_col2\" class=\"data row4 col2\" >89.300000</td>\n",
       "                        <td id=\"T_c98510da_035d_11eb_b8ee_0242ac130202row4_col3\" class=\"data row4 col3\" >51.300000</td>\n",
       "                        <td id=\"T_c98510da_035d_11eb_b8ee_0242ac130202row4_col4\" class=\"data row4 col4\" >102.200000</td>\n",
       "                        <td id=\"T_c98510da_035d_11eb_b8ee_0242ac130202row4_col5\" class=\"data row4 col5\" >9.600000</td>\n",
       "                        <td id=\"T_c98510da_035d_11eb_b8ee_0242ac130202row4_col6\" class=\"data row4 col6\" >11.400000</td>\n",
       "                        <td id=\"T_c98510da_035d_11eb_b8ee_0242ac130202row4_col7\" class=\"data row4 col7\" >99</td>\n",
       "                        <td id=\"T_c98510da_035d_11eb_b8ee_0242ac130202row4_col8\" class=\"data row4 col8\" >1.800000</td>\n",
       "                        <td id=\"T_c98510da_035d_11eb_b8ee_0242ac130202row4_col9\" class=\"data row4 col9\" >0.000000</td>\n",
       "                        <td id=\"T_c98510da_035d_11eb_b8ee_0242ac130202row4_col10\" class=\"data row4 col10\" >0.000000</td>\n",
       "            </tr>\n",
       "    </tbody></table>"
      ],
      "text/plain": [
       "<pandas.io.formats.style.Styler at 0x7f17b773bed0>"
      ]
     },
     "execution_count": 7,
     "metadata": {},
     "output_type": "execute_result"
    }
   ],
   "source": [
    "numerical_features = [features for features in df.columns if df[features].dtypes != 'O']\n",
    "print('Number of Numerical variables are: ', len(numerical_features))\n",
    "print('Numerical features are: ', numerical_features)\n",
    "df[numerical_features].head().style.background_gradient(cmap=cm)"
   ]
  },
  {
   "cell_type": "code",
   "execution_count": 8,
   "metadata": {},
   "outputs": [
    {
     "name": "stdout",
     "output_type": "stream",
     "text": [
      "length of discrete numerical variables are: 3\n",
      "And the discreate features are: ['X', 'Y', 'rain']\n"
     ]
    },
    {
     "data": {
      "text/html": [
       "<style  type=\"text/css\" >\n",
       "#T_c98a9564_035d_11eb_b8ee_0242ac130202row0_col0,#T_c98a9564_035d_11eb_b8ee_0242ac130202row0_col2,#T_c98a9564_035d_11eb_b8ee_0242ac130202row1_col0,#T_c98a9564_035d_11eb_b8ee_0242ac130202row1_col1,#T_c98a9564_035d_11eb_b8ee_0242ac130202row1_col2,#T_c98a9564_035d_11eb_b8ee_0242ac130202row2_col0,#T_c98a9564_035d_11eb_b8ee_0242ac130202row2_col1,#T_c98a9564_035d_11eb_b8ee_0242ac130202row2_col2,#T_c98a9564_035d_11eb_b8ee_0242ac130202row4_col2{\n",
       "            background-color:  #e5ffe5;\n",
       "            color:  #000000;\n",
       "        }#T_c98a9564_035d_11eb_b8ee_0242ac130202row0_col1{\n",
       "            background-color:  #72bf72;\n",
       "            color:  #000000;\n",
       "        }#T_c98a9564_035d_11eb_b8ee_0242ac130202row3_col0,#T_c98a9564_035d_11eb_b8ee_0242ac130202row3_col1,#T_c98a9564_035d_11eb_b8ee_0242ac130202row3_col2,#T_c98a9564_035d_11eb_b8ee_0242ac130202row4_col0,#T_c98a9564_035d_11eb_b8ee_0242ac130202row4_col1{\n",
       "            background-color:  #008000;\n",
       "            color:  #f1f1f1;\n",
       "        }</style><table id=\"T_c98a9564_035d_11eb_b8ee_0242ac130202\" ><thead>    <tr>        <th class=\"blank level0\" ></th>        <th class=\"col_heading level0 col0\" >X</th>        <th class=\"col_heading level0 col1\" >Y</th>        <th class=\"col_heading level0 col2\" >rain</th>    </tr></thead><tbody>\n",
       "                <tr>\n",
       "                        <th id=\"T_c98a9564_035d_11eb_b8ee_0242ac130202level0_row0\" class=\"row_heading level0 row0\" >0</th>\n",
       "                        <td id=\"T_c98a9564_035d_11eb_b8ee_0242ac130202row0_col0\" class=\"data row0 col0\" >7</td>\n",
       "                        <td id=\"T_c98a9564_035d_11eb_b8ee_0242ac130202row0_col1\" class=\"data row0 col1\" >5</td>\n",
       "                        <td id=\"T_c98a9564_035d_11eb_b8ee_0242ac130202row0_col2\" class=\"data row0 col2\" >0.000000</td>\n",
       "            </tr>\n",
       "            <tr>\n",
       "                        <th id=\"T_c98a9564_035d_11eb_b8ee_0242ac130202level0_row1\" class=\"row_heading level0 row1\" >1</th>\n",
       "                        <td id=\"T_c98a9564_035d_11eb_b8ee_0242ac130202row1_col0\" class=\"data row1 col0\" >7</td>\n",
       "                        <td id=\"T_c98a9564_035d_11eb_b8ee_0242ac130202row1_col1\" class=\"data row1 col1\" >4</td>\n",
       "                        <td id=\"T_c98a9564_035d_11eb_b8ee_0242ac130202row1_col2\" class=\"data row1 col2\" >0.000000</td>\n",
       "            </tr>\n",
       "            <tr>\n",
       "                        <th id=\"T_c98a9564_035d_11eb_b8ee_0242ac130202level0_row2\" class=\"row_heading level0 row2\" >2</th>\n",
       "                        <td id=\"T_c98a9564_035d_11eb_b8ee_0242ac130202row2_col0\" class=\"data row2 col0\" >7</td>\n",
       "                        <td id=\"T_c98a9564_035d_11eb_b8ee_0242ac130202row2_col1\" class=\"data row2 col1\" >4</td>\n",
       "                        <td id=\"T_c98a9564_035d_11eb_b8ee_0242ac130202row2_col2\" class=\"data row2 col2\" >0.000000</td>\n",
       "            </tr>\n",
       "            <tr>\n",
       "                        <th id=\"T_c98a9564_035d_11eb_b8ee_0242ac130202level0_row3\" class=\"row_heading level0 row3\" >3</th>\n",
       "                        <td id=\"T_c98a9564_035d_11eb_b8ee_0242ac130202row3_col0\" class=\"data row3 col0\" >8</td>\n",
       "                        <td id=\"T_c98a9564_035d_11eb_b8ee_0242ac130202row3_col1\" class=\"data row3 col1\" >6</td>\n",
       "                        <td id=\"T_c98a9564_035d_11eb_b8ee_0242ac130202row3_col2\" class=\"data row3 col2\" >0.200000</td>\n",
       "            </tr>\n",
       "            <tr>\n",
       "                        <th id=\"T_c98a9564_035d_11eb_b8ee_0242ac130202level0_row4\" class=\"row_heading level0 row4\" >4</th>\n",
       "                        <td id=\"T_c98a9564_035d_11eb_b8ee_0242ac130202row4_col0\" class=\"data row4 col0\" >8</td>\n",
       "                        <td id=\"T_c98a9564_035d_11eb_b8ee_0242ac130202row4_col1\" class=\"data row4 col1\" >6</td>\n",
       "                        <td id=\"T_c98a9564_035d_11eb_b8ee_0242ac130202row4_col2\" class=\"data row4 col2\" >0.000000</td>\n",
       "            </tr>\n",
       "    </tbody></table>"
      ],
      "text/plain": [
       "<pandas.io.formats.style.Styler at 0x7f17b773b990>"
      ]
     },
     "execution_count": 8,
     "metadata": {},
     "output_type": "execute_result"
    }
   ],
   "source": [
    "discrete_feature = [features for features in numerical_features if len(df[features].unique())< 20]\n",
    "print(f\"length of discrete numerical variables are: {len(discrete_feature)}\")\n",
    "print(f\"And the discreate features are: {discrete_feature}\")\n",
    "# lets see the head of the data frame consists of discrete numerical values\n",
    "df[discrete_feature].head().style.background_gradient(cm).highlight_null('green')"
   ]
  },
  {
   "cell_type": "code",
   "execution_count": 9,
   "metadata": {},
   "outputs": [
    {
     "data": {
      "text/plain": [
       "4    91\n",
       "6    86\n",
       "2    73\n",
       "8    61\n",
       "7    60\n",
       "3    55\n",
       "1    48\n",
       "5    30\n",
       "9    13\n",
       "Name: X, dtype: int64"
      ]
     },
     "execution_count": 9,
     "metadata": {},
     "output_type": "execute_result"
    }
   ],
   "source": [
    "df['X'].value_counts()"
   ]
  },
  {
   "cell_type": "code",
   "execution_count": 10,
   "metadata": {},
   "outputs": [
    {
     "data": {
      "text/plain": [
       "4    203\n",
       "5    125\n",
       "6     74\n",
       "3     64\n",
       "2     44\n",
       "9      6\n",
       "8      1\n",
       "Name: Y, dtype: int64"
      ]
     },
     "execution_count": 10,
     "metadata": {},
     "output_type": "execute_result"
    }
   ],
   "source": [
    "df['Y'].value_counts()"
   ]
  },
  {
   "cell_type": "code",
   "execution_count": 11,
   "metadata": {},
   "outputs": [
    {
     "data": {
      "text/plain": [
       "0.0    509\n",
       "0.8      2\n",
       "0.2      2\n",
       "0.4      1\n",
       "6.4      1\n",
       "1.4      1\n",
       "1.0      1\n",
       "Name: rain, dtype: int64"
      ]
     },
     "execution_count": 11,
     "metadata": {},
     "output_type": "execute_result"
    }
   ],
   "source": [
    "df['rain'].value_counts()"
   ]
  },
  {
   "cell_type": "code",
   "execution_count": 12,
   "metadata": {},
   "outputs": [
    {
     "name": "stdout",
     "output_type": "stream",
     "text": [
      "4    91\n",
      "6    86\n",
      "2    73\n",
      "8    61\n",
      "7    60\n",
      "3    55\n",
      "1    48\n",
      "5    30\n",
      "9    13\n",
      "Name: X, dtype: int64\n",
      "\n",
      "\n",
      "4    203\n",
      "5    125\n",
      "6     74\n",
      "3     64\n",
      "2     44\n",
      "9      6\n",
      "8      1\n",
      "Name: Y, dtype: int64\n",
      "\n",
      "\n",
      "0.0    509\n",
      "0.8      2\n",
      "0.2      2\n",
      "0.4      1\n",
      "6.4      1\n",
      "1.4      1\n",
      "1.0      1\n",
      "Name: rain, dtype: int64\n"
     ]
    }
   ],
   "source": [
    "# lets see the different values in each discreate variables\n",
    "print(df['X'].value_counts())\n",
    "print('\\n')\n",
    "print(df['Y'].value_counts())\n",
    "print('\\n')\n",
    "print(df['rain'].value_counts())"
   ]
  },
  {
   "cell_type": "code",
   "execution_count": 13,
   "metadata": {},
   "outputs": [
    {
     "name": "stdout",
     "output_type": "stream",
     "text": [
      "year features are : []\n"
     ]
    }
   ],
   "source": [
    "#  lets search for year feature\n",
    "year_feature = [features for features in numerical_features if 'Yr' in features or 'Year' in features or 'yr' in features or 'year' in features]\n",
    "print(f\"year features are : {year_feature}\")"
   ]
  },
  {
   "cell_type": "code",
   "execution_count": 14,
   "metadata": {},
   "outputs": [
    {
     "name": "stdout",
     "output_type": "stream",
     "text": [
      "Continuous feature Count 8\n",
      "Continuous feature are: ['FFMC', 'DMC', 'DC', 'ISI', 'temp', 'RH', 'wind', 'area']\n"
     ]
    },
    {
     "data": {
      "text/html": [
       "<style  type=\"text/css\" >\n",
       "#T_c99dbb30_035d_11eb_b8ee_0242ac130202row0_col0,#T_c99dbb30_035d_11eb_b8ee_0242ac130202row0_col1,#T_c99dbb30_035d_11eb_b8ee_0242ac130202row0_col3,#T_c99dbb30_035d_11eb_b8ee_0242ac130202row0_col4,#T_c99dbb30_035d_11eb_b8ee_0242ac130202row0_col7,#T_c99dbb30_035d_11eb_b8ee_0242ac130202row1_col5,#T_c99dbb30_035d_11eb_b8ee_0242ac130202row1_col6,#T_c99dbb30_035d_11eb_b8ee_0242ac130202row1_col7,#T_c99dbb30_035d_11eb_b8ee_0242ac130202row2_col5,#T_c99dbb30_035d_11eb_b8ee_0242ac130202row2_col7,#T_c99dbb30_035d_11eb_b8ee_0242ac130202row3_col2,#T_c99dbb30_035d_11eb_b8ee_0242ac130202row3_col7,#T_c99dbb30_035d_11eb_b8ee_0242ac130202row4_col7{\n",
       "            background-color:  #e5ffe5;\n",
       "            color:  #000000;\n",
       "        }#T_c99dbb30_035d_11eb_b8ee_0242ac130202row0_col2{\n",
       "            background-color:  #dffcdf;\n",
       "            color:  #000000;\n",
       "        }#T_c99dbb30_035d_11eb_b8ee_0242ac130202row0_col5{\n",
       "            background-color:  #a7dda7;\n",
       "            color:  #000000;\n",
       "        }#T_c99dbb30_035d_11eb_b8ee_0242ac130202row0_col6,#T_c99dbb30_035d_11eb_b8ee_0242ac130202row1_col4,#T_c99dbb30_035d_11eb_b8ee_0242ac130202row2_col2,#T_c99dbb30_035d_11eb_b8ee_0242ac130202row3_col0,#T_c99dbb30_035d_11eb_b8ee_0242ac130202row4_col1,#T_c99dbb30_035d_11eb_b8ee_0242ac130202row4_col3,#T_c99dbb30_035d_11eb_b8ee_0242ac130202row4_col5{\n",
       "            background-color:  #008000;\n",
       "            color:  #f1f1f1;\n",
       "        }#T_c99dbb30_035d_11eb_b8ee_0242ac130202row1_col0,#T_c99dbb30_035d_11eb_b8ee_0242ac130202row2_col0{\n",
       "            background-color:  #2e992e;\n",
       "            color:  #000000;\n",
       "        }#T_c99dbb30_035d_11eb_b8ee_0242ac130202row1_col1{\n",
       "            background-color:  #92d192;\n",
       "            color:  #000000;\n",
       "        }#T_c99dbb30_035d_11eb_b8ee_0242ac130202row1_col2,#T_c99dbb30_035d_11eb_b8ee_0242ac130202row3_col5{\n",
       "            background-color:  #068306;\n",
       "            color:  #f1f1f1;\n",
       "        }#T_c99dbb30_035d_11eb_b8ee_0242ac130202row1_col3,#T_c99dbb30_035d_11eb_b8ee_0242ac130202row2_col3{\n",
       "            background-color:  #94d294;\n",
       "            color:  #000000;\n",
       "        }#T_c99dbb30_035d_11eb_b8ee_0242ac130202row2_col1{\n",
       "            background-color:  #45a645;\n",
       "            color:  #000000;\n",
       "        }#T_c99dbb30_035d_11eb_b8ee_0242ac130202row2_col4{\n",
       "            background-color:  #4fac4f;\n",
       "            color:  #000000;\n",
       "        }#T_c99dbb30_035d_11eb_b8ee_0242ac130202row2_col6{\n",
       "            background-color:  #d6f7d6;\n",
       "            color:  #000000;\n",
       "        }#T_c99dbb30_035d_11eb_b8ee_0242ac130202row3_col1{\n",
       "            background-color:  #a5dba5;\n",
       "            color:  #000000;\n",
       "        }#T_c99dbb30_035d_11eb_b8ee_0242ac130202row3_col3{\n",
       "            background-color:  #1f911f;\n",
       "            color:  #000000;\n",
       "        }#T_c99dbb30_035d_11eb_b8ee_0242ac130202row3_col4{\n",
       "            background-color:  #e4fee4;\n",
       "            color:  #000000;\n",
       "        }#T_c99dbb30_035d_11eb_b8ee_0242ac130202row3_col6{\n",
       "            background-color:  #6bbb6b;\n",
       "            color:  #000000;\n",
       "        }#T_c99dbb30_035d_11eb_b8ee_0242ac130202row4_col0{\n",
       "            background-color:  #64b764;\n",
       "            color:  #000000;\n",
       "        }#T_c99dbb30_035d_11eb_b8ee_0242ac130202row4_col2{\n",
       "            background-color:  #dcfadc;\n",
       "            color:  #000000;\n",
       "        }#T_c99dbb30_035d_11eb_b8ee_0242ac130202row4_col4{\n",
       "            background-color:  #9bd69b;\n",
       "            color:  #000000;\n",
       "        }#T_c99dbb30_035d_11eb_b8ee_0242ac130202row4_col6{\n",
       "            background-color:  #c2ecc2;\n",
       "            color:  #000000;\n",
       "        }</style><table id=\"T_c99dbb30_035d_11eb_b8ee_0242ac130202\" ><thead>    <tr>        <th class=\"blank level0\" ></th>        <th class=\"col_heading level0 col0\" >FFMC</th>        <th class=\"col_heading level0 col1\" >DMC</th>        <th class=\"col_heading level0 col2\" >DC</th>        <th class=\"col_heading level0 col3\" >ISI</th>        <th class=\"col_heading level0 col4\" >temp</th>        <th class=\"col_heading level0 col5\" >RH</th>        <th class=\"col_heading level0 col6\" >wind</th>        <th class=\"col_heading level0 col7\" >area</th>    </tr></thead><tbody>\n",
       "                <tr>\n",
       "                        <th id=\"T_c99dbb30_035d_11eb_b8ee_0242ac130202level0_row0\" class=\"row_heading level0 row0\" >0</th>\n",
       "                        <td id=\"T_c99dbb30_035d_11eb_b8ee_0242ac130202row0_col0\" class=\"data row0 col0\" >86.200000</td>\n",
       "                        <td id=\"T_c99dbb30_035d_11eb_b8ee_0242ac130202row0_col1\" class=\"data row0 col1\" >26.200000</td>\n",
       "                        <td id=\"T_c99dbb30_035d_11eb_b8ee_0242ac130202row0_col2\" class=\"data row0 col2\" >94.300000</td>\n",
       "                        <td id=\"T_c99dbb30_035d_11eb_b8ee_0242ac130202row0_col3\" class=\"data row0 col3\" >5.100000</td>\n",
       "                        <td id=\"T_c99dbb30_035d_11eb_b8ee_0242ac130202row0_col4\" class=\"data row0 col4\" >8.200000</td>\n",
       "                        <td id=\"T_c99dbb30_035d_11eb_b8ee_0242ac130202row0_col5\" class=\"data row0 col5\" >51</td>\n",
       "                        <td id=\"T_c99dbb30_035d_11eb_b8ee_0242ac130202row0_col6\" class=\"data row0 col6\" >6.700000</td>\n",
       "                        <td id=\"T_c99dbb30_035d_11eb_b8ee_0242ac130202row0_col7\" class=\"data row0 col7\" >0.000000</td>\n",
       "            </tr>\n",
       "            <tr>\n",
       "                        <th id=\"T_c99dbb30_035d_11eb_b8ee_0242ac130202level0_row1\" class=\"row_heading level0 row1\" >1</th>\n",
       "                        <td id=\"T_c99dbb30_035d_11eb_b8ee_0242ac130202row1_col0\" class=\"data row1 col0\" >90.600000</td>\n",
       "                        <td id=\"T_c99dbb30_035d_11eb_b8ee_0242ac130202row1_col1\" class=\"data row1 col1\" >35.400000</td>\n",
       "                        <td id=\"T_c99dbb30_035d_11eb_b8ee_0242ac130202row1_col2\" class=\"data row1 col2\" >669.100000</td>\n",
       "                        <td id=\"T_c99dbb30_035d_11eb_b8ee_0242ac130202row1_col3\" class=\"data row1 col3\" >6.700000</td>\n",
       "                        <td id=\"T_c99dbb30_035d_11eb_b8ee_0242ac130202row1_col4\" class=\"data row1 col4\" >18.000000</td>\n",
       "                        <td id=\"T_c99dbb30_035d_11eb_b8ee_0242ac130202row1_col5\" class=\"data row1 col5\" >33</td>\n",
       "                        <td id=\"T_c99dbb30_035d_11eb_b8ee_0242ac130202row1_col6\" class=\"data row1 col6\" >0.900000</td>\n",
       "                        <td id=\"T_c99dbb30_035d_11eb_b8ee_0242ac130202row1_col7\" class=\"data row1 col7\" >0.000000</td>\n",
       "            </tr>\n",
       "            <tr>\n",
       "                        <th id=\"T_c99dbb30_035d_11eb_b8ee_0242ac130202level0_row2\" class=\"row_heading level0 row2\" >2</th>\n",
       "                        <td id=\"T_c99dbb30_035d_11eb_b8ee_0242ac130202row2_col0\" class=\"data row2 col0\" >90.600000</td>\n",
       "                        <td id=\"T_c99dbb30_035d_11eb_b8ee_0242ac130202row2_col1\" class=\"data row2 col1\" >43.700000</td>\n",
       "                        <td id=\"T_c99dbb30_035d_11eb_b8ee_0242ac130202row2_col2\" class=\"data row2 col2\" >686.900000</td>\n",
       "                        <td id=\"T_c99dbb30_035d_11eb_b8ee_0242ac130202row2_col3\" class=\"data row2 col3\" >6.700000</td>\n",
       "                        <td id=\"T_c99dbb30_035d_11eb_b8ee_0242ac130202row2_col4\" class=\"data row2 col4\" >14.600000</td>\n",
       "                        <td id=\"T_c99dbb30_035d_11eb_b8ee_0242ac130202row2_col5\" class=\"data row2 col5\" >33</td>\n",
       "                        <td id=\"T_c99dbb30_035d_11eb_b8ee_0242ac130202row2_col6\" class=\"data row2 col6\" >1.300000</td>\n",
       "                        <td id=\"T_c99dbb30_035d_11eb_b8ee_0242ac130202row2_col7\" class=\"data row2 col7\" >0.000000</td>\n",
       "            </tr>\n",
       "            <tr>\n",
       "                        <th id=\"T_c99dbb30_035d_11eb_b8ee_0242ac130202level0_row3\" class=\"row_heading level0 row3\" >3</th>\n",
       "                        <td id=\"T_c99dbb30_035d_11eb_b8ee_0242ac130202row3_col0\" class=\"data row3 col0\" >91.700000</td>\n",
       "                        <td id=\"T_c99dbb30_035d_11eb_b8ee_0242ac130202row3_col1\" class=\"data row3 col1\" >33.300000</td>\n",
       "                        <td id=\"T_c99dbb30_035d_11eb_b8ee_0242ac130202row3_col2\" class=\"data row3 col2\" >77.500000</td>\n",
       "                        <td id=\"T_c99dbb30_035d_11eb_b8ee_0242ac130202row3_col3\" class=\"data row3 col3\" >9.000000</td>\n",
       "                        <td id=\"T_c99dbb30_035d_11eb_b8ee_0242ac130202row3_col4\" class=\"data row3 col4\" >8.300000</td>\n",
       "                        <td id=\"T_c99dbb30_035d_11eb_b8ee_0242ac130202row3_col5\" class=\"data row3 col5\" >97</td>\n",
       "                        <td id=\"T_c99dbb30_035d_11eb_b8ee_0242ac130202row3_col6\" class=\"data row3 col6\" >4.000000</td>\n",
       "                        <td id=\"T_c99dbb30_035d_11eb_b8ee_0242ac130202row3_col7\" class=\"data row3 col7\" >0.000000</td>\n",
       "            </tr>\n",
       "            <tr>\n",
       "                        <th id=\"T_c99dbb30_035d_11eb_b8ee_0242ac130202level0_row4\" class=\"row_heading level0 row4\" >4</th>\n",
       "                        <td id=\"T_c99dbb30_035d_11eb_b8ee_0242ac130202row4_col0\" class=\"data row4 col0\" >89.300000</td>\n",
       "                        <td id=\"T_c99dbb30_035d_11eb_b8ee_0242ac130202row4_col1\" class=\"data row4 col1\" >51.300000</td>\n",
       "                        <td id=\"T_c99dbb30_035d_11eb_b8ee_0242ac130202row4_col2\" class=\"data row4 col2\" >102.200000</td>\n",
       "                        <td id=\"T_c99dbb30_035d_11eb_b8ee_0242ac130202row4_col3\" class=\"data row4 col3\" >9.600000</td>\n",
       "                        <td id=\"T_c99dbb30_035d_11eb_b8ee_0242ac130202row4_col4\" class=\"data row4 col4\" >11.400000</td>\n",
       "                        <td id=\"T_c99dbb30_035d_11eb_b8ee_0242ac130202row4_col5\" class=\"data row4 col5\" >99</td>\n",
       "                        <td id=\"T_c99dbb30_035d_11eb_b8ee_0242ac130202row4_col6\" class=\"data row4 col6\" >1.800000</td>\n",
       "                        <td id=\"T_c99dbb30_035d_11eb_b8ee_0242ac130202row4_col7\" class=\"data row4 col7\" >0.000000</td>\n",
       "            </tr>\n",
       "    </tbody></table>"
      ],
      "text/plain": [
       "<pandas.io.formats.style.Styler at 0x7f17b769c3d0>"
      ]
     },
     "execution_count": 14,
     "metadata": {},
     "output_type": "execute_result"
    }
   ],
   "source": [
    "continuous_feature=[features for features in numerical_features if features not in discrete_feature]\n",
    "print(f\"Continuous feature Count {len(continuous_feature)}\")\n",
    "print(f\"Continuous feature are: {continuous_feature}\")\n",
    "\n",
    "# lets see the head\n",
    "df[continuous_feature].head().style.background_gradient(cmap=cm)"
   ]
  },
  {
   "cell_type": "code",
   "execution_count": 15,
   "metadata": {},
   "outputs": [
    {
     "name": "stdout",
     "output_type": "stream",
     "text": [
      "Now categorical variables are: ['month', 'day']\n",
      "number of categorical variables are: ['month', 'day']\n"
     ]
    },
    {
     "data": {
      "text/html": [
       "<div>\n",
       "<style scoped>\n",
       "    .dataframe tbody tr th:only-of-type {\n",
       "        vertical-align: middle;\n",
       "    }\n",
       "\n",
       "    .dataframe tbody tr th {\n",
       "        vertical-align: top;\n",
       "    }\n",
       "\n",
       "    .dataframe thead th {\n",
       "        text-align: right;\n",
       "    }\n",
       "</style>\n",
       "<table border=\"1\" class=\"dataframe\">\n",
       "  <thead>\n",
       "    <tr style=\"text-align: right;\">\n",
       "      <th></th>\n",
       "      <th>month</th>\n",
       "      <th>day</th>\n",
       "    </tr>\n",
       "  </thead>\n",
       "  <tbody>\n",
       "    <tr>\n",
       "      <th>0</th>\n",
       "      <td>mar</td>\n",
       "      <td>fri</td>\n",
       "    </tr>\n",
       "    <tr>\n",
       "      <th>1</th>\n",
       "      <td>oct</td>\n",
       "      <td>tue</td>\n",
       "    </tr>\n",
       "    <tr>\n",
       "      <th>2</th>\n",
       "      <td>oct</td>\n",
       "      <td>sat</td>\n",
       "    </tr>\n",
       "    <tr>\n",
       "      <th>3</th>\n",
       "      <td>mar</td>\n",
       "      <td>fri</td>\n",
       "    </tr>\n",
       "    <tr>\n",
       "      <th>4</th>\n",
       "      <td>mar</td>\n",
       "      <td>sun</td>\n",
       "    </tr>\n",
       "  </tbody>\n",
       "</table>\n",
       "</div>"
      ],
      "text/plain": [
       "  month  day\n",
       "0   mar  fri\n",
       "1   oct  tue\n",
       "2   oct  sat\n",
       "3   mar  fri\n",
       "4   mar  sun"
      ]
     },
     "execution_count": 15,
     "metadata": {},
     "output_type": "execute_result"
    }
   ],
   "source": [
    "categorical_features = [features for features in df.columns if df[features].dtypes =='O']\n",
    "print(f\"Now categorical variables are: {categorical_features}\")\n",
    "print(f\"number of categorical variables are: {categorical_features}\")\n",
    "\n",
    "# see the head\n",
    "# CANT COLOR A CATEGORICAL VARIABLE\n",
    "df[categorical_features].head()"
   ]
  },
  {
   "cell_type": "code",
   "execution_count": 16,
   "metadata": {},
   "outputs": [
    {
     "data": {
      "text/plain": [
       "count     517\n",
       "unique     12\n",
       "top       aug\n",
       "freq      184\n",
       "Name: month, dtype: object"
      ]
     },
     "execution_count": 16,
     "metadata": {},
     "output_type": "execute_result"
    }
   ],
   "source": [
    "df['month'].describe()"
   ]
  },
  {
   "cell_type": "code",
   "execution_count": 17,
   "metadata": {},
   "outputs": [
    {
     "data": {
      "text/plain": [
       "count     517\n",
       "unique      7\n",
       "top       sun\n",
       "freq       95\n",
       "Name: day, dtype: object"
      ]
     },
     "execution_count": 17,
     "metadata": {},
     "output_type": "execute_result"
    }
   ],
   "source": [
    "df['day'].describe()"
   ]
  },
  {
   "cell_type": "code",
   "execution_count": 18,
   "metadata": {},
   "outputs": [
    {
     "name": "stdout",
     "output_type": "stream",
     "text": [
      "aug    184\n",
      "sep    172\n",
      "mar     54\n",
      "jul     32\n",
      "feb     20\n",
      "jun     17\n",
      "oct     15\n",
      "apr      9\n",
      "dec      9\n",
      "jan      2\n",
      "may      2\n",
      "nov      1\n",
      "Name: month, dtype: int64\n",
      "\n",
      "\n",
      "sun    95\n",
      "fri    85\n",
      "sat    84\n",
      "mon    74\n",
      "tue    64\n",
      "thu    61\n",
      "wed    54\n",
      "Name: day, dtype: int64\n",
      "\n",
      "\n"
     ]
    }
   ],
   "source": [
    "# lets see the different values in each categorical variables\n",
    "print(df['month'].value_counts())\n",
    "print('\\n')\n",
    "print(df['day'].value_counts())\n",
    "print('\\n')"
   ]
  },
  {
   "cell_type": "code",
   "execution_count": 19,
   "metadata": {},
   "outputs": [
    {
     "data": {
      "text/html": [
       "<style  type=\"text/css\" >\n",
       "#T_c9b419f2_035d_11eb_b8ee_0242ac130202row0_col0,#T_c9b419f2_035d_11eb_b8ee_0242ac130202row0_col1,#T_c9b419f2_035d_11eb_b8ee_0242ac130202row0_col2,#T_c9b419f2_035d_11eb_b8ee_0242ac130202row0_col3,#T_c9b419f2_035d_11eb_b8ee_0242ac130202row0_col5,#T_c9b419f2_035d_11eb_b8ee_0242ac130202row0_col6,#T_c9b419f2_035d_11eb_b8ee_0242ac130202row0_col7,#T_c9b419f2_035d_11eb_b8ee_0242ac130202row0_col8,#T_c9b419f2_035d_11eb_b8ee_0242ac130202row0_col9,#T_c9b419f2_035d_11eb_b8ee_0242ac130202row7_col4,#T_c9b419f2_035d_11eb_b8ee_0242ac130202row7_col10{\n",
       "            background-color:  #67000d;\n",
       "            color:  #f1f1f1;\n",
       "        }#T_c9b419f2_035d_11eb_b8ee_0242ac130202row0_col4{\n",
       "            background-color:  #f24633;\n",
       "            color:  #000000;\n",
       "        }#T_c9b419f2_035d_11eb_b8ee_0242ac130202row0_col10{\n",
       "            background-color:  #fb7252;\n",
       "            color:  #000000;\n",
       "        }#T_c9b419f2_035d_11eb_b8ee_0242ac130202row1_col0,#T_c9b419f2_035d_11eb_b8ee_0242ac130202row1_col1,#T_c9b419f2_035d_11eb_b8ee_0242ac130202row1_col8,#T_c9b419f2_035d_11eb_b8ee_0242ac130202row2_col6,#T_c9b419f2_035d_11eb_b8ee_0242ac130202row4_col1,#T_c9b419f2_035d_11eb_b8ee_0242ac130202row4_col8,#T_c9b419f2_035d_11eb_b8ee_0242ac130202row5_col0,#T_c9b419f2_035d_11eb_b8ee_0242ac130202row5_col1,#T_c9b419f2_035d_11eb_b8ee_0242ac130202row5_col8,#T_c9b419f2_035d_11eb_b8ee_0242ac130202row6_col1,#T_c9b419f2_035d_11eb_b8ee_0242ac130202row6_col10{\n",
       "            background-color:  #fff4ef;\n",
       "            color:  #000000;\n",
       "        }#T_c9b419f2_035d_11eb_b8ee_0242ac130202row1_col2,#T_c9b419f2_035d_11eb_b8ee_0242ac130202row4_col2{\n",
       "            background-color:  #fdd4c2;\n",
       "            color:  #000000;\n",
       "        }#T_c9b419f2_035d_11eb_b8ee_0242ac130202row1_col3{\n",
       "            background-color:  #fdc6b0;\n",
       "            color:  #000000;\n",
       "        }#T_c9b419f2_035d_11eb_b8ee_0242ac130202row1_col4{\n",
       "            background-color:  #ec382b;\n",
       "            color:  #f1f1f1;\n",
       "        }#T_c9b419f2_035d_11eb_b8ee_0242ac130202row1_col5,#T_c9b419f2_035d_11eb_b8ee_0242ac130202row5_col5,#T_c9b419f2_035d_11eb_b8ee_0242ac130202row7_col8{\n",
       "            background-color:  #fff2ec;\n",
       "            color:  #000000;\n",
       "        }#T_c9b419f2_035d_11eb_b8ee_0242ac130202row1_col6,#T_c9b419f2_035d_11eb_b8ee_0242ac130202row5_col6{\n",
       "            background-color:  #fff0e8;\n",
       "            color:  #000000;\n",
       "        }#T_c9b419f2_035d_11eb_b8ee_0242ac130202row1_col7,#T_c9b419f2_035d_11eb_b8ee_0242ac130202row2_col10{\n",
       "            background-color:  #ffece3;\n",
       "            color:  #000000;\n",
       "        }#T_c9b419f2_035d_11eb_b8ee_0242ac130202row1_col9,#T_c9b419f2_035d_11eb_b8ee_0242ac130202row2_col0,#T_c9b419f2_035d_11eb_b8ee_0242ac130202row2_col1,#T_c9b419f2_035d_11eb_b8ee_0242ac130202row2_col2,#T_c9b419f2_035d_11eb_b8ee_0242ac130202row2_col7,#T_c9b419f2_035d_11eb_b8ee_0242ac130202row2_col8,#T_c9b419f2_035d_11eb_b8ee_0242ac130202row2_col9,#T_c9b419f2_035d_11eb_b8ee_0242ac130202row3_col0,#T_c9b419f2_035d_11eb_b8ee_0242ac130202row3_col1,#T_c9b419f2_035d_11eb_b8ee_0242ac130202row3_col3,#T_c9b419f2_035d_11eb_b8ee_0242ac130202row3_col4,#T_c9b419f2_035d_11eb_b8ee_0242ac130202row3_col5,#T_c9b419f2_035d_11eb_b8ee_0242ac130202row3_col6,#T_c9b419f2_035d_11eb_b8ee_0242ac130202row3_col7,#T_c9b419f2_035d_11eb_b8ee_0242ac130202row3_col8,#T_c9b419f2_035d_11eb_b8ee_0242ac130202row3_col9,#T_c9b419f2_035d_11eb_b8ee_0242ac130202row3_col10,#T_c9b419f2_035d_11eb_b8ee_0242ac130202row4_col0,#T_c9b419f2_035d_11eb_b8ee_0242ac130202row4_col9,#T_c9b419f2_035d_11eb_b8ee_0242ac130202row4_col10,#T_c9b419f2_035d_11eb_b8ee_0242ac130202row5_col9,#T_c9b419f2_035d_11eb_b8ee_0242ac130202row5_col10,#T_c9b419f2_035d_11eb_b8ee_0242ac130202row6_col9{\n",
       "            background-color:  #fff5f0;\n",
       "            color:  #000000;\n",
       "        }#T_c9b419f2_035d_11eb_b8ee_0242ac130202row1_col10,#T_c9b419f2_035d_11eb_b8ee_0242ac130202row4_col5,#T_c9b419f2_035d_11eb_b8ee_0242ac130202row7_col0,#T_c9b419f2_035d_11eb_b8ee_0242ac130202row7_col1,#T_c9b419f2_035d_11eb_b8ee_0242ac130202row7_col9{\n",
       "            background-color:  #fff3ed;\n",
       "            color:  #000000;\n",
       "        }#T_c9b419f2_035d_11eb_b8ee_0242ac130202row2_col3{\n",
       "            background-color:  #fee1d3;\n",
       "            color:  #000000;\n",
       "        }#T_c9b419f2_035d_11eb_b8ee_0242ac130202row2_col4{\n",
       "            background-color:  #fcb095;\n",
       "            color:  #000000;\n",
       "        }#T_c9b419f2_035d_11eb_b8ee_0242ac130202row2_col5,#T_c9b419f2_035d_11eb_b8ee_0242ac130202row6_col0,#T_c9b419f2_035d_11eb_b8ee_0242ac130202row6_col8{\n",
       "            background-color:  #fff4ee;\n",
       "            color:  #000000;\n",
       "        }#T_c9b419f2_035d_11eb_b8ee_0242ac130202row3_col2,#T_c9b419f2_035d_11eb_b8ee_0242ac130202row4_col6{\n",
       "            background-color:  #fff1ea;\n",
       "            color:  #000000;\n",
       "        }#T_c9b419f2_035d_11eb_b8ee_0242ac130202row4_col3{\n",
       "            background-color:  #fedfd0;\n",
       "            color:  #000000;\n",
       "        }#T_c9b419f2_035d_11eb_b8ee_0242ac130202row4_col4{\n",
       "            background-color:  #fa6849;\n",
       "            color:  #000000;\n",
       "        }#T_c9b419f2_035d_11eb_b8ee_0242ac130202row4_col7{\n",
       "            background-color:  #ffefe8;\n",
       "            color:  #000000;\n",
       "        }#T_c9b419f2_035d_11eb_b8ee_0242ac130202row5_col2,#T_c9b419f2_035d_11eb_b8ee_0242ac130202row6_col2,#T_c9b419f2_035d_11eb_b8ee_0242ac130202row7_col7{\n",
       "            background-color:  #fdd3c1;\n",
       "            color:  #000000;\n",
       "        }#T_c9b419f2_035d_11eb_b8ee_0242ac130202row5_col3{\n",
       "            background-color:  #fdc7b2;\n",
       "            color:  #000000;\n",
       "        }#T_c9b419f2_035d_11eb_b8ee_0242ac130202row5_col4{\n",
       "            background-color:  #c4161c;\n",
       "            color:  #f1f1f1;\n",
       "        }#T_c9b419f2_035d_11eb_b8ee_0242ac130202row5_col7{\n",
       "            background-color:  #ffece4;\n",
       "            color:  #000000;\n",
       "        }#T_c9b419f2_035d_11eb_b8ee_0242ac130202row6_col3{\n",
       "            background-color:  #fcb398;\n",
       "            color:  #000000;\n",
       "        }#T_c9b419f2_035d_11eb_b8ee_0242ac130202row6_col4{\n",
       "            background-color:  #b31218;\n",
       "            color:  #f1f1f1;\n",
       "        }#T_c9b419f2_035d_11eb_b8ee_0242ac130202row6_col5{\n",
       "            background-color:  #fff2eb;\n",
       "            color:  #000000;\n",
       "        }#T_c9b419f2_035d_11eb_b8ee_0242ac130202row6_col6{\n",
       "            background-color:  #ffeee7;\n",
       "            color:  #000000;\n",
       "        }#T_c9b419f2_035d_11eb_b8ee_0242ac130202row6_col7{\n",
       "            background-color:  #fee8de;\n",
       "            color:  #000000;\n",
       "        }#T_c9b419f2_035d_11eb_b8ee_0242ac130202row7_col2{\n",
       "            background-color:  #fdd1be;\n",
       "            color:  #000000;\n",
       "        }#T_c9b419f2_035d_11eb_b8ee_0242ac130202row7_col3{\n",
       "            background-color:  #f5523a;\n",
       "            color:  #000000;\n",
       "        }#T_c9b419f2_035d_11eb_b8ee_0242ac130202row7_col5{\n",
       "            background-color:  #fee3d7;\n",
       "            color:  #000000;\n",
       "        }#T_c9b419f2_035d_11eb_b8ee_0242ac130202row7_col6{\n",
       "            background-color:  #ffebe2;\n",
       "            color:  #000000;\n",
       "        }</style><table id=\"T_c9b419f2_035d_11eb_b8ee_0242ac130202\" ><thead>    <tr>        <th class=\"blank level0\" ></th>        <th class=\"col_heading level0 col0\" >X</th>        <th class=\"col_heading level0 col1\" >Y</th>        <th class=\"col_heading level0 col2\" >FFMC</th>        <th class=\"col_heading level0 col3\" >DMC</th>        <th class=\"col_heading level0 col4\" >DC</th>        <th class=\"col_heading level0 col5\" >ISI</th>        <th class=\"col_heading level0 col6\" >temp</th>        <th class=\"col_heading level0 col7\" >RH</th>        <th class=\"col_heading level0 col8\" >wind</th>        <th class=\"col_heading level0 col9\" >rain</th>        <th class=\"col_heading level0 col10\" >area</th>    </tr></thead><tbody>\n",
       "                <tr>\n",
       "                        <th id=\"T_c9b419f2_035d_11eb_b8ee_0242ac130202level0_row0\" class=\"row_heading level0 row0\" >count</th>\n",
       "                        <td id=\"T_c9b419f2_035d_11eb_b8ee_0242ac130202row0_col0\" class=\"data row0 col0\" >517.000000</td>\n",
       "                        <td id=\"T_c9b419f2_035d_11eb_b8ee_0242ac130202row0_col1\" class=\"data row0 col1\" >517.000000</td>\n",
       "                        <td id=\"T_c9b419f2_035d_11eb_b8ee_0242ac130202row0_col2\" class=\"data row0 col2\" >517.000000</td>\n",
       "                        <td id=\"T_c9b419f2_035d_11eb_b8ee_0242ac130202row0_col3\" class=\"data row0 col3\" >517.000000</td>\n",
       "                        <td id=\"T_c9b419f2_035d_11eb_b8ee_0242ac130202row0_col4\" class=\"data row0 col4\" >517.000000</td>\n",
       "                        <td id=\"T_c9b419f2_035d_11eb_b8ee_0242ac130202row0_col5\" class=\"data row0 col5\" >517.000000</td>\n",
       "                        <td id=\"T_c9b419f2_035d_11eb_b8ee_0242ac130202row0_col6\" class=\"data row0 col6\" >517.000000</td>\n",
       "                        <td id=\"T_c9b419f2_035d_11eb_b8ee_0242ac130202row0_col7\" class=\"data row0 col7\" >517.000000</td>\n",
       "                        <td id=\"T_c9b419f2_035d_11eb_b8ee_0242ac130202row0_col8\" class=\"data row0 col8\" >517.000000</td>\n",
       "                        <td id=\"T_c9b419f2_035d_11eb_b8ee_0242ac130202row0_col9\" class=\"data row0 col9\" >517.000000</td>\n",
       "                        <td id=\"T_c9b419f2_035d_11eb_b8ee_0242ac130202row0_col10\" class=\"data row0 col10\" >517.000000</td>\n",
       "            </tr>\n",
       "            <tr>\n",
       "                        <th id=\"T_c9b419f2_035d_11eb_b8ee_0242ac130202level0_row1\" class=\"row_heading level0 row1\" >mean</th>\n",
       "                        <td id=\"T_c9b419f2_035d_11eb_b8ee_0242ac130202row1_col0\" class=\"data row1 col0\" >4.669246</td>\n",
       "                        <td id=\"T_c9b419f2_035d_11eb_b8ee_0242ac130202row1_col1\" class=\"data row1 col1\" >4.299807</td>\n",
       "                        <td id=\"T_c9b419f2_035d_11eb_b8ee_0242ac130202row1_col2\" class=\"data row1 col2\" >90.644681</td>\n",
       "                        <td id=\"T_c9b419f2_035d_11eb_b8ee_0242ac130202row1_col3\" class=\"data row1 col3\" >110.872340</td>\n",
       "                        <td id=\"T_c9b419f2_035d_11eb_b8ee_0242ac130202row1_col4\" class=\"data row1 col4\" >547.940039</td>\n",
       "                        <td id=\"T_c9b419f2_035d_11eb_b8ee_0242ac130202row1_col5\" class=\"data row1 col5\" >9.021663</td>\n",
       "                        <td id=\"T_c9b419f2_035d_11eb_b8ee_0242ac130202row1_col6\" class=\"data row1 col6\" >18.889168</td>\n",
       "                        <td id=\"T_c9b419f2_035d_11eb_b8ee_0242ac130202row1_col7\" class=\"data row1 col7\" >44.288201</td>\n",
       "                        <td id=\"T_c9b419f2_035d_11eb_b8ee_0242ac130202row1_col8\" class=\"data row1 col8\" >4.017602</td>\n",
       "                        <td id=\"T_c9b419f2_035d_11eb_b8ee_0242ac130202row1_col9\" class=\"data row1 col9\" >0.021663</td>\n",
       "                        <td id=\"T_c9b419f2_035d_11eb_b8ee_0242ac130202row1_col10\" class=\"data row1 col10\" >12.847292</td>\n",
       "            </tr>\n",
       "            <tr>\n",
       "                        <th id=\"T_c9b419f2_035d_11eb_b8ee_0242ac130202level0_row2\" class=\"row_heading level0 row2\" >std</th>\n",
       "                        <td id=\"T_c9b419f2_035d_11eb_b8ee_0242ac130202row2_col0\" class=\"data row2 col0\" >2.313778</td>\n",
       "                        <td id=\"T_c9b419f2_035d_11eb_b8ee_0242ac130202row2_col1\" class=\"data row2 col1\" >1.229900</td>\n",
       "                        <td id=\"T_c9b419f2_035d_11eb_b8ee_0242ac130202row2_col2\" class=\"data row2 col2\" >5.520111</td>\n",
       "                        <td id=\"T_c9b419f2_035d_11eb_b8ee_0242ac130202row2_col3\" class=\"data row2 col3\" >64.046482</td>\n",
       "                        <td id=\"T_c9b419f2_035d_11eb_b8ee_0242ac130202row2_col4\" class=\"data row2 col4\" >248.066192</td>\n",
       "                        <td id=\"T_c9b419f2_035d_11eb_b8ee_0242ac130202row2_col5\" class=\"data row2 col5\" >4.559477</td>\n",
       "                        <td id=\"T_c9b419f2_035d_11eb_b8ee_0242ac130202row2_col6\" class=\"data row2 col6\" >5.806625</td>\n",
       "                        <td id=\"T_c9b419f2_035d_11eb_b8ee_0242ac130202row2_col7\" class=\"data row2 col7\" >16.317469</td>\n",
       "                        <td id=\"T_c9b419f2_035d_11eb_b8ee_0242ac130202row2_col8\" class=\"data row2 col8\" >1.791653</td>\n",
       "                        <td id=\"T_c9b419f2_035d_11eb_b8ee_0242ac130202row2_col9\" class=\"data row2 col9\" >0.295959</td>\n",
       "                        <td id=\"T_c9b419f2_035d_11eb_b8ee_0242ac130202row2_col10\" class=\"data row2 col10\" >63.655818</td>\n",
       "            </tr>\n",
       "            <tr>\n",
       "                        <th id=\"T_c9b419f2_035d_11eb_b8ee_0242ac130202level0_row3\" class=\"row_heading level0 row3\" >min</th>\n",
       "                        <td id=\"T_c9b419f2_035d_11eb_b8ee_0242ac130202row3_col0\" class=\"data row3 col0\" >1.000000</td>\n",
       "                        <td id=\"T_c9b419f2_035d_11eb_b8ee_0242ac130202row3_col1\" class=\"data row3 col1\" >2.000000</td>\n",
       "                        <td id=\"T_c9b419f2_035d_11eb_b8ee_0242ac130202row3_col2\" class=\"data row3 col2\" >18.700000</td>\n",
       "                        <td id=\"T_c9b419f2_035d_11eb_b8ee_0242ac130202row3_col3\" class=\"data row3 col3\" >1.100000</td>\n",
       "                        <td id=\"T_c9b419f2_035d_11eb_b8ee_0242ac130202row3_col4\" class=\"data row3 col4\" >7.900000</td>\n",
       "                        <td id=\"T_c9b419f2_035d_11eb_b8ee_0242ac130202row3_col5\" class=\"data row3 col5\" >0.000000</td>\n",
       "                        <td id=\"T_c9b419f2_035d_11eb_b8ee_0242ac130202row3_col6\" class=\"data row3 col6\" >2.200000</td>\n",
       "                        <td id=\"T_c9b419f2_035d_11eb_b8ee_0242ac130202row3_col7\" class=\"data row3 col7\" >15.000000</td>\n",
       "                        <td id=\"T_c9b419f2_035d_11eb_b8ee_0242ac130202row3_col8\" class=\"data row3 col8\" >0.400000</td>\n",
       "                        <td id=\"T_c9b419f2_035d_11eb_b8ee_0242ac130202row3_col9\" class=\"data row3 col9\" >0.000000</td>\n",
       "                        <td id=\"T_c9b419f2_035d_11eb_b8ee_0242ac130202row3_col10\" class=\"data row3 col10\" >0.000000</td>\n",
       "            </tr>\n",
       "            <tr>\n",
       "                        <th id=\"T_c9b419f2_035d_11eb_b8ee_0242ac130202level0_row4\" class=\"row_heading level0 row4\" >25%</th>\n",
       "                        <td id=\"T_c9b419f2_035d_11eb_b8ee_0242ac130202row4_col0\" class=\"data row4 col0\" >3.000000</td>\n",
       "                        <td id=\"T_c9b419f2_035d_11eb_b8ee_0242ac130202row4_col1\" class=\"data row4 col1\" >4.000000</td>\n",
       "                        <td id=\"T_c9b419f2_035d_11eb_b8ee_0242ac130202row4_col2\" class=\"data row4 col2\" >90.200000</td>\n",
       "                        <td id=\"T_c9b419f2_035d_11eb_b8ee_0242ac130202row4_col3\" class=\"data row4 col3\" >68.600000</td>\n",
       "                        <td id=\"T_c9b419f2_035d_11eb_b8ee_0242ac130202row4_col4\" class=\"data row4 col4\" >437.700000</td>\n",
       "                        <td id=\"T_c9b419f2_035d_11eb_b8ee_0242ac130202row4_col5\" class=\"data row4 col5\" >6.500000</td>\n",
       "                        <td id=\"T_c9b419f2_035d_11eb_b8ee_0242ac130202row4_col6\" class=\"data row4 col6\" >15.500000</td>\n",
       "                        <td id=\"T_c9b419f2_035d_11eb_b8ee_0242ac130202row4_col7\" class=\"data row4 col7\" >33.000000</td>\n",
       "                        <td id=\"T_c9b419f2_035d_11eb_b8ee_0242ac130202row4_col8\" class=\"data row4 col8\" >2.700000</td>\n",
       "                        <td id=\"T_c9b419f2_035d_11eb_b8ee_0242ac130202row4_col9\" class=\"data row4 col9\" >0.000000</td>\n",
       "                        <td id=\"T_c9b419f2_035d_11eb_b8ee_0242ac130202row4_col10\" class=\"data row4 col10\" >0.000000</td>\n",
       "            </tr>\n",
       "            <tr>\n",
       "                        <th id=\"T_c9b419f2_035d_11eb_b8ee_0242ac130202level0_row5\" class=\"row_heading level0 row5\" >50%</th>\n",
       "                        <td id=\"T_c9b419f2_035d_11eb_b8ee_0242ac130202row5_col0\" class=\"data row5 col0\" >4.000000</td>\n",
       "                        <td id=\"T_c9b419f2_035d_11eb_b8ee_0242ac130202row5_col1\" class=\"data row5 col1\" >4.000000</td>\n",
       "                        <td id=\"T_c9b419f2_035d_11eb_b8ee_0242ac130202row5_col2\" class=\"data row5 col2\" >91.600000</td>\n",
       "                        <td id=\"T_c9b419f2_035d_11eb_b8ee_0242ac130202row5_col3\" class=\"data row5 col3\" >108.300000</td>\n",
       "                        <td id=\"T_c9b419f2_035d_11eb_b8ee_0242ac130202row5_col4\" class=\"data row5 col4\" >664.200000</td>\n",
       "                        <td id=\"T_c9b419f2_035d_11eb_b8ee_0242ac130202row5_col5\" class=\"data row5 col5\" >8.400000</td>\n",
       "                        <td id=\"T_c9b419f2_035d_11eb_b8ee_0242ac130202row5_col6\" class=\"data row5 col6\" >19.300000</td>\n",
       "                        <td id=\"T_c9b419f2_035d_11eb_b8ee_0242ac130202row5_col7\" class=\"data row5 col7\" >42.000000</td>\n",
       "                        <td id=\"T_c9b419f2_035d_11eb_b8ee_0242ac130202row5_col8\" class=\"data row5 col8\" >4.000000</td>\n",
       "                        <td id=\"T_c9b419f2_035d_11eb_b8ee_0242ac130202row5_col9\" class=\"data row5 col9\" >0.000000</td>\n",
       "                        <td id=\"T_c9b419f2_035d_11eb_b8ee_0242ac130202row5_col10\" class=\"data row5 col10\" >0.520000</td>\n",
       "            </tr>\n",
       "            <tr>\n",
       "                        <th id=\"T_c9b419f2_035d_11eb_b8ee_0242ac130202level0_row6\" class=\"row_heading level0 row6\" >75%</th>\n",
       "                        <td id=\"T_c9b419f2_035d_11eb_b8ee_0242ac130202row6_col0\" class=\"data row6 col0\" >7.000000</td>\n",
       "                        <td id=\"T_c9b419f2_035d_11eb_b8ee_0242ac130202row6_col1\" class=\"data row6 col1\" >5.000000</td>\n",
       "                        <td id=\"T_c9b419f2_035d_11eb_b8ee_0242ac130202row6_col2\" class=\"data row6 col2\" >92.900000</td>\n",
       "                        <td id=\"T_c9b419f2_035d_11eb_b8ee_0242ac130202row6_col3\" class=\"data row6 col3\" >142.400000</td>\n",
       "                        <td id=\"T_c9b419f2_035d_11eb_b8ee_0242ac130202row6_col4\" class=\"data row6 col4\" >713.900000</td>\n",
       "                        <td id=\"T_c9b419f2_035d_11eb_b8ee_0242ac130202row6_col5\" class=\"data row6 col5\" >10.800000</td>\n",
       "                        <td id=\"T_c9b419f2_035d_11eb_b8ee_0242ac130202row6_col6\" class=\"data row6 col6\" >22.800000</td>\n",
       "                        <td id=\"T_c9b419f2_035d_11eb_b8ee_0242ac130202row6_col7\" class=\"data row6 col7\" >53.000000</td>\n",
       "                        <td id=\"T_c9b419f2_035d_11eb_b8ee_0242ac130202row6_col8\" class=\"data row6 col8\" >4.900000</td>\n",
       "                        <td id=\"T_c9b419f2_035d_11eb_b8ee_0242ac130202row6_col9\" class=\"data row6 col9\" >0.000000</td>\n",
       "                        <td id=\"T_c9b419f2_035d_11eb_b8ee_0242ac130202row6_col10\" class=\"data row6 col10\" >6.570000</td>\n",
       "            </tr>\n",
       "            <tr>\n",
       "                        <th id=\"T_c9b419f2_035d_11eb_b8ee_0242ac130202level0_row7\" class=\"row_heading level0 row7\" >max</th>\n",
       "                        <td id=\"T_c9b419f2_035d_11eb_b8ee_0242ac130202row7_col0\" class=\"data row7 col0\" >9.000000</td>\n",
       "                        <td id=\"T_c9b419f2_035d_11eb_b8ee_0242ac130202row7_col1\" class=\"data row7 col1\" >9.000000</td>\n",
       "                        <td id=\"T_c9b419f2_035d_11eb_b8ee_0242ac130202row7_col2\" class=\"data row7 col2\" >96.200000</td>\n",
       "                        <td id=\"T_c9b419f2_035d_11eb_b8ee_0242ac130202row7_col3\" class=\"data row7 col3\" >291.300000</td>\n",
       "                        <td id=\"T_c9b419f2_035d_11eb_b8ee_0242ac130202row7_col4\" class=\"data row7 col4\" >860.600000</td>\n",
       "                        <td id=\"T_c9b419f2_035d_11eb_b8ee_0242ac130202row7_col5\" class=\"data row7 col5\" >56.100000</td>\n",
       "                        <td id=\"T_c9b419f2_035d_11eb_b8ee_0242ac130202row7_col6\" class=\"data row7 col6\" >33.300000</td>\n",
       "                        <td id=\"T_c9b419f2_035d_11eb_b8ee_0242ac130202row7_col7\" class=\"data row7 col7\" >100.000000</td>\n",
       "                        <td id=\"T_c9b419f2_035d_11eb_b8ee_0242ac130202row7_col8\" class=\"data row7 col8\" >9.400000</td>\n",
       "                        <td id=\"T_c9b419f2_035d_11eb_b8ee_0242ac130202row7_col9\" class=\"data row7 col9\" >6.400000</td>\n",
       "                        <td id=\"T_c9b419f2_035d_11eb_b8ee_0242ac130202row7_col10\" class=\"data row7 col10\" >1090.840000</td>\n",
       "            </tr>\n",
       "    </tbody></table>"
      ],
      "text/plain": [
       "<pandas.io.formats.style.Styler at 0x7f17b75cab10>"
      ]
     },
     "execution_count": 19,
     "metadata": {},
     "output_type": "execute_result"
    }
   ],
   "source": [
    "df.describe().style.background_gradient(cmap='Reds')"
   ]
  },
  {
   "cell_type": "markdown",
   "metadata": {},
   "source": [
    "## Lets bring some color and draw some graphs\n",
    "\n",
    "|Type of variable|Column name|\n",
    "|--|--|\n",
    "|Numerical Variables|'X', 'Y', 'FFMC', 'DMC', 'DC', 'ISI', 'temp', 'RH', 'wind', 'rain', 'area'|\n",
    "|Year variable/features|No year variables|\n",
    "|Discrete Variables|'X', 'Y', 'rain'|\n",
    "|Continuous Variables|'FFMC', 'DMC', 'DC', 'ISI', 'temp', 'RH', 'wind', 'area'|\n",
    "|Categorical Variables|'month', 'day'|\n"
   ]
  },
  {
   "cell_type": "markdown",
   "metadata": {},
   "source": [
    "## Uni-variate analysis of Area:\n",
    "\n",
    "\n",
    "\n",
    "\n",
    "\n"
   ]
  },
  {
   "cell_type": "markdown",
   "metadata": {},
   "source": [
    "## Scatter Plot of Area:"
   ]
  },
  {
   "cell_type": "code",
   "execution_count": 20,
   "metadata": {},
   "outputs": [
    {
     "data": {
      "application/vnd.plotly.v1+json": {
       "config": {
        "linkText": "Export to plot.ly",
        "plotlyServerURL": "https://plot.ly",
        "showLink": true
       },
       "data": [
        {
         "line": {
          "color": "rgba(255, 153, 51, 1.0)",
          "dash": "solid",
          "shape": "linear",
          "width": 1.3
         },
         "marker": {
          "size": 12,
          "symbol": "circle"
         },
         "mode": "markers",
         "name": "area",
         "text": "",
         "type": "scatter",
         "x": [
          0,
          1,
          2,
          3,
          4,
          5,
          6,
          7,
          8,
          9,
          10,
          11,
          12,
          13,
          14,
          15,
          16,
          17,
          18,
          19,
          20,
          21,
          22,
          23,
          24,
          25,
          26,
          27,
          28,
          29,
          30,
          31,
          32,
          33,
          34,
          35,
          36,
          37,
          38,
          39,
          40,
          41,
          42,
          43,
          44,
          45,
          46,
          47,
          48,
          49,
          50,
          51,
          52,
          53,
          54,
          55,
          56,
          57,
          58,
          59,
          60,
          61,
          62,
          63,
          64,
          65,
          66,
          67,
          68,
          69,
          70,
          71,
          72,
          73,
          74,
          75,
          76,
          77,
          78,
          79,
          80,
          81,
          82,
          83,
          84,
          85,
          86,
          87,
          88,
          89,
          90,
          91,
          92,
          93,
          94,
          95,
          96,
          97,
          98,
          99,
          100,
          101,
          102,
          103,
          104,
          105,
          106,
          107,
          108,
          109,
          110,
          111,
          112,
          113,
          114,
          115,
          116,
          117,
          118,
          119,
          120,
          121,
          122,
          123,
          124,
          125,
          126,
          127,
          128,
          129,
          130,
          131,
          132,
          133,
          134,
          135,
          136,
          137,
          138,
          139,
          140,
          141,
          142,
          143,
          144,
          145,
          146,
          147,
          148,
          149,
          150,
          151,
          152,
          153,
          154,
          155,
          156,
          157,
          158,
          159,
          160,
          161,
          162,
          163,
          164,
          165,
          166,
          167,
          168,
          169,
          170,
          171,
          172,
          173,
          174,
          175,
          176,
          177,
          178,
          179,
          180,
          181,
          182,
          183,
          184,
          185,
          186,
          187,
          188,
          189,
          190,
          191,
          192,
          193,
          194,
          195,
          196,
          197,
          198,
          199,
          200,
          201,
          202,
          203,
          204,
          205,
          206,
          207,
          208,
          209,
          210,
          211,
          212,
          213,
          214,
          215,
          216,
          217,
          218,
          219,
          220,
          221,
          222,
          223,
          224,
          225,
          226,
          227,
          228,
          229,
          230,
          231,
          232,
          233,
          234,
          235,
          236,
          237,
          238,
          239,
          240,
          241,
          242,
          243,
          244,
          245,
          246,
          247,
          248,
          249,
          250,
          251,
          252,
          253,
          254,
          255,
          256,
          257,
          258,
          259,
          260,
          261,
          262,
          263,
          264,
          265,
          266,
          267,
          268,
          269,
          270,
          271,
          272,
          273,
          274,
          275,
          276,
          277,
          278,
          279,
          280,
          281,
          282,
          283,
          284,
          285,
          286,
          287,
          288,
          289,
          290,
          291,
          292,
          293,
          294,
          295,
          296,
          297,
          298,
          299,
          300,
          301,
          302,
          303,
          304,
          305,
          306,
          307,
          308,
          309,
          310,
          311,
          312,
          313,
          314,
          315,
          316,
          317,
          318,
          319,
          320,
          321,
          322,
          323,
          324,
          325,
          326,
          327,
          328,
          329,
          330,
          331,
          332,
          333,
          334,
          335,
          336,
          337,
          338,
          339,
          340,
          341,
          342,
          343,
          344,
          345,
          346,
          347,
          348,
          349,
          350,
          351,
          352,
          353,
          354,
          355,
          356,
          357,
          358,
          359,
          360,
          361,
          362,
          363,
          364,
          365,
          366,
          367,
          368,
          369,
          370,
          371,
          372,
          373,
          374,
          375,
          376,
          377,
          378,
          379,
          380,
          381,
          382,
          383,
          384,
          385,
          386,
          387,
          388,
          389,
          390,
          391,
          392,
          393,
          394,
          395,
          396,
          397,
          398,
          399,
          400,
          401,
          402,
          403,
          404,
          405,
          406,
          407,
          408,
          409,
          410,
          411,
          412,
          413,
          414,
          415,
          416,
          417,
          418,
          419,
          420,
          421,
          422,
          423,
          424,
          425,
          426,
          427,
          428,
          429,
          430,
          431,
          432,
          433,
          434,
          435,
          436,
          437,
          438,
          439,
          440,
          441,
          442,
          443,
          444,
          445,
          446,
          447,
          448,
          449,
          450,
          451,
          452,
          453,
          454,
          455,
          456,
          457,
          458,
          459,
          460,
          461,
          462,
          463,
          464,
          465,
          466,
          467,
          468,
          469,
          470,
          471,
          472,
          473,
          474,
          475,
          476,
          477,
          478,
          479,
          480,
          481,
          482,
          483,
          484,
          485,
          486,
          487,
          488,
          489,
          490,
          491,
          492,
          493,
          494,
          495,
          496,
          497,
          498,
          499,
          500,
          501,
          502,
          503,
          504,
          505,
          506,
          507,
          508,
          509,
          510,
          511,
          512,
          513,
          514,
          515,
          516
         ],
         "y": [
          0,
          0,
          0,
          0,
          0,
          0,
          0,
          0,
          0,
          0,
          0,
          0,
          0,
          0,
          0,
          0,
          0,
          0,
          0,
          0,
          0,
          0,
          0,
          0,
          0,
          0,
          0,
          0,
          0,
          0,
          0,
          0,
          0,
          0,
          0,
          0,
          0,
          0,
          0,
          0,
          0,
          0,
          0,
          0,
          0,
          0,
          0,
          0,
          0,
          0,
          0,
          0,
          0,
          0,
          0,
          0,
          0,
          0,
          0,
          0,
          0,
          0,
          0,
          0,
          0,
          0,
          0,
          0,
          0,
          0,
          0,
          0,
          0,
          0,
          0,
          0,
          0,
          0,
          0,
          0,
          0,
          0,
          0,
          0,
          0,
          0,
          0,
          0,
          0,
          0,
          0,
          0,
          0,
          0,
          0,
          0,
          0,
          0,
          0,
          0,
          0,
          0,
          0,
          0,
          0,
          0,
          0,
          0,
          0,
          0,
          0,
          0,
          0,
          0,
          0,
          0,
          0,
          0,
          0,
          0,
          0,
          0,
          0,
          0,
          0,
          0,
          0,
          0,
          0,
          0,
          0,
          0,
          0,
          0,
          0,
          0,
          0,
          0,
          0.36,
          0.43,
          0.47,
          0.55,
          0.61,
          0.71,
          0.77,
          0.9,
          0.95,
          0.96,
          1.07,
          1.12,
          1.19,
          1.36,
          1.43,
          1.46,
          1.46,
          1.56,
          1.61,
          1.63,
          1.64,
          1.69,
          1.75,
          1.9,
          1.94,
          1.95,
          2.01,
          2.14,
          2.29,
          2.51,
          2.53,
          2.55,
          2.57,
          2.69,
          2.74,
          3.07,
          3.5,
          4.53,
          4.61,
          4.69,
          4.88,
          5.23,
          5.33,
          5.44,
          6.38,
          6.83,
          6.96,
          7.04,
          7.19,
          7.3,
          7.4,
          8.24,
          8.31,
          8.68,
          8.71,
          9.41,
          10.01,
          10.02,
          10.93,
          11.06,
          11.24,
          11.32,
          11.53,
          12.1,
          13.05,
          13.7,
          13.99,
          14.57,
          15.45,
          17.2,
          19.23,
          23.41,
          24.23,
          26,
          26.13,
          27.35,
          28.66,
          28.66,
          29.48,
          30.32,
          31.72,
          31.86,
          32.07,
          35.88,
          36.85,
          37.02,
          37.71,
          48.55,
          49.37,
          58.3,
          64.1,
          71.3,
          88.49,
          95.18,
          103.39,
          105.66,
          154.88,
          196.48,
          200.94,
          212.88,
          1090.84,
          0,
          0,
          0,
          10.13,
          0,
          2.87,
          0.76,
          0.09,
          0.75,
          0,
          2.47,
          0.68,
          0.24,
          0.21,
          1.52,
          10.34,
          0,
          8.02,
          0.68,
          0,
          1.38,
          8.85,
          3.3,
          4.25,
          1.56,
          6.54,
          0.79,
          0.17,
          0,
          0,
          4.4,
          0.52,
          9.27,
          3.09,
          8.98,
          11.19,
          5.38,
          17.85,
          10.73,
          22.03,
          9.77,
          9.27,
          24.77,
          0,
          1.1,
          24.24,
          0,
          0,
          0,
          0,
          0,
          0,
          8,
          2.64,
          86.45,
          6.57,
          0,
          0.9,
          0,
          0,
          0,
          0,
          3.52,
          0,
          0,
          0,
          0,
          0.41,
          5.18,
          0,
          0,
          0,
          14.29,
          0,
          0,
          1.58,
          0,
          0,
          3.78,
          0,
          4.41,
          34.36,
          7.21,
          1.01,
          2.18,
          4.42,
          0,
          0,
          0,
          0,
          3.33,
          6.58,
          15.64,
          11.22,
          2.13,
          0,
          0,
          0,
          56.04,
          7.48,
          1.47,
          3.93,
          0,
          0,
          2.18,
          6.1,
          5.83,
          28.19,
          0,
          0,
          1.64,
          3.71,
          7.31,
          2.03,
          1.72,
          5.97,
          13.06,
          1.26,
          0,
          0,
          8.12,
          1.09,
          3.94,
          0.52,
          2.93,
          5.65,
          20.03,
          1.75,
          0,
          12.64,
          0,
          11.06,
          0,
          0,
          0,
          18.3,
          39.35,
          0,
          174.63,
          0,
          0,
          7.73,
          16.33,
          5.86,
          42.87,
          12.18,
          16,
          24.59,
          0,
          28.74,
          0,
          9.96,
          30.18,
          70.76,
          0,
          0,
          51.78,
          3.64,
          3.63,
          0,
          0,
          8.16,
          4.95,
          0,
          0,
          6.04,
          0,
          3.95,
          0,
          7.8,
          0,
          0,
          4.62,
          1.63,
          0,
          0,
          746.28,
          7.02,
          0,
          2.44,
          3.05,
          185.76,
          0,
          6.3,
          0.72,
          4.96,
          0,
          0,
          2.35,
          0,
          3.2,
          0,
          6.36,
          0,
          15.34,
          0,
          0,
          0.54,
          0,
          6.43,
          0.33,
          0,
          1.23,
          3.35,
          0,
          9.96,
          0,
          0,
          0,
          0,
          0,
          6.43,
          9.71,
          0,
          0,
          0,
          0,
          0,
          82.75,
          3.32,
          1.94,
          0,
          0,
          3.71,
          5.39,
          2.14,
          6.84,
          3.18,
          5.55,
          6.61,
          61.13,
          0,
          38.48,
          1.94,
          70.32,
          10.08,
          3.19,
          1.76,
          7.36,
          2.21,
          278.53,
          2.75,
          0,
          1.29,
          0,
          26.43,
          2.07,
          2,
          16.4,
          46.7,
          0,
          0,
          0,
          0,
          43.32,
          8.59,
          0,
          2.77,
          14.68,
          40.54,
          10.82,
          0,
          0,
          0,
          1.95,
          49.59,
          5.8,
          0,
          0,
          0,
          2.17,
          0.43,
          0,
          6.44,
          54.29,
          11.16,
          0,
          0
         ]
        }
       ],
       "layout": {
        "legend": {
         "bgcolor": "#151516",
         "font": {
          "color": "#D9D9D9"
         }
        },
        "paper_bgcolor": "#151516",
        "plot_bgcolor": "#151516",
        "template": {
         "data": {
          "bar": [
           {
            "error_x": {
             "color": "#2a3f5f"
            },
            "error_y": {
             "color": "#2a3f5f"
            },
            "marker": {
             "line": {
              "color": "#E5ECF6",
              "width": 0.5
             }
            },
            "type": "bar"
           }
          ],
          "barpolar": [
           {
            "marker": {
             "line": {
              "color": "#E5ECF6",
              "width": 0.5
             }
            },
            "type": "barpolar"
           }
          ],
          "carpet": [
           {
            "aaxis": {
             "endlinecolor": "#2a3f5f",
             "gridcolor": "white",
             "linecolor": "white",
             "minorgridcolor": "white",
             "startlinecolor": "#2a3f5f"
            },
            "baxis": {
             "endlinecolor": "#2a3f5f",
             "gridcolor": "white",
             "linecolor": "white",
             "minorgridcolor": "white",
             "startlinecolor": "#2a3f5f"
            },
            "type": "carpet"
           }
          ],
          "choropleth": [
           {
            "colorbar": {
             "outlinewidth": 0,
             "ticks": ""
            },
            "type": "choropleth"
           }
          ],
          "contour": [
           {
            "colorbar": {
             "outlinewidth": 0,
             "ticks": ""
            },
            "colorscale": [
             [
              0,
              "#0d0887"
             ],
             [
              0.1111111111111111,
              "#46039f"
             ],
             [
              0.2222222222222222,
              "#7201a8"
             ],
             [
              0.3333333333333333,
              "#9c179e"
             ],
             [
              0.4444444444444444,
              "#bd3786"
             ],
             [
              0.5555555555555556,
              "#d8576b"
             ],
             [
              0.6666666666666666,
              "#ed7953"
             ],
             [
              0.7777777777777778,
              "#fb9f3a"
             ],
             [
              0.8888888888888888,
              "#fdca26"
             ],
             [
              1,
              "#f0f921"
             ]
            ],
            "type": "contour"
           }
          ],
          "contourcarpet": [
           {
            "colorbar": {
             "outlinewidth": 0,
             "ticks": ""
            },
            "type": "contourcarpet"
           }
          ],
          "heatmap": [
           {
            "colorbar": {
             "outlinewidth": 0,
             "ticks": ""
            },
            "colorscale": [
             [
              0,
              "#0d0887"
             ],
             [
              0.1111111111111111,
              "#46039f"
             ],
             [
              0.2222222222222222,
              "#7201a8"
             ],
             [
              0.3333333333333333,
              "#9c179e"
             ],
             [
              0.4444444444444444,
              "#bd3786"
             ],
             [
              0.5555555555555556,
              "#d8576b"
             ],
             [
              0.6666666666666666,
              "#ed7953"
             ],
             [
              0.7777777777777778,
              "#fb9f3a"
             ],
             [
              0.8888888888888888,
              "#fdca26"
             ],
             [
              1,
              "#f0f921"
             ]
            ],
            "type": "heatmap"
           }
          ],
          "heatmapgl": [
           {
            "colorbar": {
             "outlinewidth": 0,
             "ticks": ""
            },
            "colorscale": [
             [
              0,
              "#0d0887"
             ],
             [
              0.1111111111111111,
              "#46039f"
             ],
             [
              0.2222222222222222,
              "#7201a8"
             ],
             [
              0.3333333333333333,
              "#9c179e"
             ],
             [
              0.4444444444444444,
              "#bd3786"
             ],
             [
              0.5555555555555556,
              "#d8576b"
             ],
             [
              0.6666666666666666,
              "#ed7953"
             ],
             [
              0.7777777777777778,
              "#fb9f3a"
             ],
             [
              0.8888888888888888,
              "#fdca26"
             ],
             [
              1,
              "#f0f921"
             ]
            ],
            "type": "heatmapgl"
           }
          ],
          "histogram": [
           {
            "marker": {
             "colorbar": {
              "outlinewidth": 0,
              "ticks": ""
             }
            },
            "type": "histogram"
           }
          ],
          "histogram2d": [
           {
            "colorbar": {
             "outlinewidth": 0,
             "ticks": ""
            },
            "colorscale": [
             [
              0,
              "#0d0887"
             ],
             [
              0.1111111111111111,
              "#46039f"
             ],
             [
              0.2222222222222222,
              "#7201a8"
             ],
             [
              0.3333333333333333,
              "#9c179e"
             ],
             [
              0.4444444444444444,
              "#bd3786"
             ],
             [
              0.5555555555555556,
              "#d8576b"
             ],
             [
              0.6666666666666666,
              "#ed7953"
             ],
             [
              0.7777777777777778,
              "#fb9f3a"
             ],
             [
              0.8888888888888888,
              "#fdca26"
             ],
             [
              1,
              "#f0f921"
             ]
            ],
            "type": "histogram2d"
           }
          ],
          "histogram2dcontour": [
           {
            "colorbar": {
             "outlinewidth": 0,
             "ticks": ""
            },
            "colorscale": [
             [
              0,
              "#0d0887"
             ],
             [
              0.1111111111111111,
              "#46039f"
             ],
             [
              0.2222222222222222,
              "#7201a8"
             ],
             [
              0.3333333333333333,
              "#9c179e"
             ],
             [
              0.4444444444444444,
              "#bd3786"
             ],
             [
              0.5555555555555556,
              "#d8576b"
             ],
             [
              0.6666666666666666,
              "#ed7953"
             ],
             [
              0.7777777777777778,
              "#fb9f3a"
             ],
             [
              0.8888888888888888,
              "#fdca26"
             ],
             [
              1,
              "#f0f921"
             ]
            ],
            "type": "histogram2dcontour"
           }
          ],
          "mesh3d": [
           {
            "colorbar": {
             "outlinewidth": 0,
             "ticks": ""
            },
            "type": "mesh3d"
           }
          ],
          "parcoords": [
           {
            "line": {
             "colorbar": {
              "outlinewidth": 0,
              "ticks": ""
             }
            },
            "type": "parcoords"
           }
          ],
          "pie": [
           {
            "automargin": true,
            "type": "pie"
           }
          ],
          "scatter": [
           {
            "marker": {
             "colorbar": {
              "outlinewidth": 0,
              "ticks": ""
             }
            },
            "type": "scatter"
           }
          ],
          "scatter3d": [
           {
            "line": {
             "colorbar": {
              "outlinewidth": 0,
              "ticks": ""
             }
            },
            "marker": {
             "colorbar": {
              "outlinewidth": 0,
              "ticks": ""
             }
            },
            "type": "scatter3d"
           }
          ],
          "scattercarpet": [
           {
            "marker": {
             "colorbar": {
              "outlinewidth": 0,
              "ticks": ""
             }
            },
            "type": "scattercarpet"
           }
          ],
          "scattergeo": [
           {
            "marker": {
             "colorbar": {
              "outlinewidth": 0,
              "ticks": ""
             }
            },
            "type": "scattergeo"
           }
          ],
          "scattergl": [
           {
            "marker": {
             "colorbar": {
              "outlinewidth": 0,
              "ticks": ""
             }
            },
            "type": "scattergl"
           }
          ],
          "scattermapbox": [
           {
            "marker": {
             "colorbar": {
              "outlinewidth": 0,
              "ticks": ""
             }
            },
            "type": "scattermapbox"
           }
          ],
          "scatterpolar": [
           {
            "marker": {
             "colorbar": {
              "outlinewidth": 0,
              "ticks": ""
             }
            },
            "type": "scatterpolar"
           }
          ],
          "scatterpolargl": [
           {
            "marker": {
             "colorbar": {
              "outlinewidth": 0,
              "ticks": ""
             }
            },
            "type": "scatterpolargl"
           }
          ],
          "scatterternary": [
           {
            "marker": {
             "colorbar": {
              "outlinewidth": 0,
              "ticks": ""
             }
            },
            "type": "scatterternary"
           }
          ],
          "surface": [
           {
            "colorbar": {
             "outlinewidth": 0,
             "ticks": ""
            },
            "colorscale": [
             [
              0,
              "#0d0887"
             ],
             [
              0.1111111111111111,
              "#46039f"
             ],
             [
              0.2222222222222222,
              "#7201a8"
             ],
             [
              0.3333333333333333,
              "#9c179e"
             ],
             [
              0.4444444444444444,
              "#bd3786"
             ],
             [
              0.5555555555555556,
              "#d8576b"
             ],
             [
              0.6666666666666666,
              "#ed7953"
             ],
             [
              0.7777777777777778,
              "#fb9f3a"
             ],
             [
              0.8888888888888888,
              "#fdca26"
             ],
             [
              1,
              "#f0f921"
             ]
            ],
            "type": "surface"
           }
          ],
          "table": [
           {
            "cells": {
             "fill": {
              "color": "#EBF0F8"
             },
             "line": {
              "color": "white"
             }
            },
            "header": {
             "fill": {
              "color": "#C8D4E3"
             },
             "line": {
              "color": "white"
             }
            },
            "type": "table"
           }
          ]
         },
         "layout": {
          "annotationdefaults": {
           "arrowcolor": "#2a3f5f",
           "arrowhead": 0,
           "arrowwidth": 1
          },
          "coloraxis": {
           "colorbar": {
            "outlinewidth": 0,
            "ticks": ""
           }
          },
          "colorscale": {
           "diverging": [
            [
             0,
             "#8e0152"
            ],
            [
             0.1,
             "#c51b7d"
            ],
            [
             0.2,
             "#de77ae"
            ],
            [
             0.3,
             "#f1b6da"
            ],
            [
             0.4,
             "#fde0ef"
            ],
            [
             0.5,
             "#f7f7f7"
            ],
            [
             0.6,
             "#e6f5d0"
            ],
            [
             0.7,
             "#b8e186"
            ],
            [
             0.8,
             "#7fbc41"
            ],
            [
             0.9,
             "#4d9221"
            ],
            [
             1,
             "#276419"
            ]
           ],
           "sequential": [
            [
             0,
             "#0d0887"
            ],
            [
             0.1111111111111111,
             "#46039f"
            ],
            [
             0.2222222222222222,
             "#7201a8"
            ],
            [
             0.3333333333333333,
             "#9c179e"
            ],
            [
             0.4444444444444444,
             "#bd3786"
            ],
            [
             0.5555555555555556,
             "#d8576b"
            ],
            [
             0.6666666666666666,
             "#ed7953"
            ],
            [
             0.7777777777777778,
             "#fb9f3a"
            ],
            [
             0.8888888888888888,
             "#fdca26"
            ],
            [
             1,
             "#f0f921"
            ]
           ],
           "sequentialminus": [
            [
             0,
             "#0d0887"
            ],
            [
             0.1111111111111111,
             "#46039f"
            ],
            [
             0.2222222222222222,
             "#7201a8"
            ],
            [
             0.3333333333333333,
             "#9c179e"
            ],
            [
             0.4444444444444444,
             "#bd3786"
            ],
            [
             0.5555555555555556,
             "#d8576b"
            ],
            [
             0.6666666666666666,
             "#ed7953"
            ],
            [
             0.7777777777777778,
             "#fb9f3a"
            ],
            [
             0.8888888888888888,
             "#fdca26"
            ],
            [
             1,
             "#f0f921"
            ]
           ]
          },
          "colorway": [
           "#636efa",
           "#EF553B",
           "#00cc96",
           "#ab63fa",
           "#FFA15A",
           "#19d3f3",
           "#FF6692",
           "#B6E880",
           "#FF97FF",
           "#FECB52"
          ],
          "font": {
           "color": "#2a3f5f"
          },
          "geo": {
           "bgcolor": "white",
           "lakecolor": "white",
           "landcolor": "#E5ECF6",
           "showlakes": true,
           "showland": true,
           "subunitcolor": "white"
          },
          "hoverlabel": {
           "align": "left"
          },
          "hovermode": "closest",
          "mapbox": {
           "style": "light"
          },
          "paper_bgcolor": "white",
          "plot_bgcolor": "#E5ECF6",
          "polar": {
           "angularaxis": {
            "gridcolor": "white",
            "linecolor": "white",
            "ticks": ""
           },
           "bgcolor": "#E5ECF6",
           "radialaxis": {
            "gridcolor": "white",
            "linecolor": "white",
            "ticks": ""
           }
          },
          "scene": {
           "xaxis": {
            "backgroundcolor": "#E5ECF6",
            "gridcolor": "white",
            "gridwidth": 2,
            "linecolor": "white",
            "showbackground": true,
            "ticks": "",
            "zerolinecolor": "white"
           },
           "yaxis": {
            "backgroundcolor": "#E5ECF6",
            "gridcolor": "white",
            "gridwidth": 2,
            "linecolor": "white",
            "showbackground": true,
            "ticks": "",
            "zerolinecolor": "white"
           },
           "zaxis": {
            "backgroundcolor": "#E5ECF6",
            "gridcolor": "white",
            "gridwidth": 2,
            "linecolor": "white",
            "showbackground": true,
            "ticks": "",
            "zerolinecolor": "white"
           }
          },
          "shapedefaults": {
           "line": {
            "color": "#2a3f5f"
           }
          },
          "ternary": {
           "aaxis": {
            "gridcolor": "white",
            "linecolor": "white",
            "ticks": ""
           },
           "baxis": {
            "gridcolor": "white",
            "linecolor": "white",
            "ticks": ""
           },
           "bgcolor": "#E5ECF6",
           "caxis": {
            "gridcolor": "white",
            "linecolor": "white",
            "ticks": ""
           }
          },
          "title": {
           "x": 0.05
          },
          "xaxis": {
           "automargin": true,
           "gridcolor": "white",
           "linecolor": "white",
           "ticks": "",
           "title": {
            "standoff": 15
           },
           "zerolinecolor": "white",
           "zerolinewidth": 2
          },
          "yaxis": {
           "automargin": true,
           "gridcolor": "white",
           "linecolor": "white",
           "ticks": "",
           "title": {
            "standoff": 15
           },
           "zerolinecolor": "white",
           "zerolinewidth": 2
          }
         }
        },
        "title": {
         "font": {
          "color": "#D9D9D9"
         },
         "text": "Scatter plot of area"
        },
        "xaxis": {
         "gridcolor": "#434343",
         "showgrid": true,
         "tickfont": {
          "color": "#C2C2C2"
         },
         "title": {
          "font": {
           "color": "#D9D9D9"
          },
          "text": "id"
         },
         "zerolinecolor": "#666570"
        },
        "yaxis": {
         "gridcolor": "#434343",
         "showgrid": true,
         "tickfont": {
          "color": "#C2C2C2"
         },
         "title": {
          "font": {
           "color": "#D9D9D9"
          },
          "text": "area"
         },
         "zerolinecolor": "#666570"
        }
       }
      },
      "text/html": [
       "<div>                            <div id=\"b4ba1a58-6746-4c6b-a72f-a8ad6870e8aa\" class=\"plotly-graph-div\" style=\"height:525px; width:100%;\"></div>            <script type=\"text/javascript\">                require([\"plotly\"], function(Plotly) {                    window.PLOTLYENV=window.PLOTLYENV || {};\n",
       "                    window.PLOTLYENV.BASE_URL='https://plot.ly';                                    if (document.getElementById(\"b4ba1a58-6746-4c6b-a72f-a8ad6870e8aa\")) {                    Plotly.newPlot(                        \"b4ba1a58-6746-4c6b-a72f-a8ad6870e8aa\",                        [{\"line\": {\"color\": \"rgba(255, 153, 51, 1.0)\", \"dash\": \"solid\", \"shape\": \"linear\", \"width\": 1.3}, \"marker\": {\"size\": 12, \"symbol\": \"circle\"}, \"mode\": \"markers\", \"name\": \"area\", \"text\": \"\", \"type\": \"scatter\", \"x\": [0, 1, 2, 3, 4, 5, 6, 7, 8, 9, 10, 11, 12, 13, 14, 15, 16, 17, 18, 19, 20, 21, 22, 23, 24, 25, 26, 27, 28, 29, 30, 31, 32, 33, 34, 35, 36, 37, 38, 39, 40, 41, 42, 43, 44, 45, 46, 47, 48, 49, 50, 51, 52, 53, 54, 55, 56, 57, 58, 59, 60, 61, 62, 63, 64, 65, 66, 67, 68, 69, 70, 71, 72, 73, 74, 75, 76, 77, 78, 79, 80, 81, 82, 83, 84, 85, 86, 87, 88, 89, 90, 91, 92, 93, 94, 95, 96, 97, 98, 99, 100, 101, 102, 103, 104, 105, 106, 107, 108, 109, 110, 111, 112, 113, 114, 115, 116, 117, 118, 119, 120, 121, 122, 123, 124, 125, 126, 127, 128, 129, 130, 131, 132, 133, 134, 135, 136, 137, 138, 139, 140, 141, 142, 143, 144, 145, 146, 147, 148, 149, 150, 151, 152, 153, 154, 155, 156, 157, 158, 159, 160, 161, 162, 163, 164, 165, 166, 167, 168, 169, 170, 171, 172, 173, 174, 175, 176, 177, 178, 179, 180, 181, 182, 183, 184, 185, 186, 187, 188, 189, 190, 191, 192, 193, 194, 195, 196, 197, 198, 199, 200, 201, 202, 203, 204, 205, 206, 207, 208, 209, 210, 211, 212, 213, 214, 215, 216, 217, 218, 219, 220, 221, 222, 223, 224, 225, 226, 227, 228, 229, 230, 231, 232, 233, 234, 235, 236, 237, 238, 239, 240, 241, 242, 243, 244, 245, 246, 247, 248, 249, 250, 251, 252, 253, 254, 255, 256, 257, 258, 259, 260, 261, 262, 263, 264, 265, 266, 267, 268, 269, 270, 271, 272, 273, 274, 275, 276, 277, 278, 279, 280, 281, 282, 283, 284, 285, 286, 287, 288, 289, 290, 291, 292, 293, 294, 295, 296, 297, 298, 299, 300, 301, 302, 303, 304, 305, 306, 307, 308, 309, 310, 311, 312, 313, 314, 315, 316, 317, 318, 319, 320, 321, 322, 323, 324, 325, 326, 327, 328, 329, 330, 331, 332, 333, 334, 335, 336, 337, 338, 339, 340, 341, 342, 343, 344, 345, 346, 347, 348, 349, 350, 351, 352, 353, 354, 355, 356, 357, 358, 359, 360, 361, 362, 363, 364, 365, 366, 367, 368, 369, 370, 371, 372, 373, 374, 375, 376, 377, 378, 379, 380, 381, 382, 383, 384, 385, 386, 387, 388, 389, 390, 391, 392, 393, 394, 395, 396, 397, 398, 399, 400, 401, 402, 403, 404, 405, 406, 407, 408, 409, 410, 411, 412, 413, 414, 415, 416, 417, 418, 419, 420, 421, 422, 423, 424, 425, 426, 427, 428, 429, 430, 431, 432, 433, 434, 435, 436, 437, 438, 439, 440, 441, 442, 443, 444, 445, 446, 447, 448, 449, 450, 451, 452, 453, 454, 455, 456, 457, 458, 459, 460, 461, 462, 463, 464, 465, 466, 467, 468, 469, 470, 471, 472, 473, 474, 475, 476, 477, 478, 479, 480, 481, 482, 483, 484, 485, 486, 487, 488, 489, 490, 491, 492, 493, 494, 495, 496, 497, 498, 499, 500, 501, 502, 503, 504, 505, 506, 507, 508, 509, 510, 511, 512, 513, 514, 515, 516], \"y\": [0.0, 0.0, 0.0, 0.0, 0.0, 0.0, 0.0, 0.0, 0.0, 0.0, 0.0, 0.0, 0.0, 0.0, 0.0, 0.0, 0.0, 0.0, 0.0, 0.0, 0.0, 0.0, 0.0, 0.0, 0.0, 0.0, 0.0, 0.0, 0.0, 0.0, 0.0, 0.0, 0.0, 0.0, 0.0, 0.0, 0.0, 0.0, 0.0, 0.0, 0.0, 0.0, 0.0, 0.0, 0.0, 0.0, 0.0, 0.0, 0.0, 0.0, 0.0, 0.0, 0.0, 0.0, 0.0, 0.0, 0.0, 0.0, 0.0, 0.0, 0.0, 0.0, 0.0, 0.0, 0.0, 0.0, 0.0, 0.0, 0.0, 0.0, 0.0, 0.0, 0.0, 0.0, 0.0, 0.0, 0.0, 0.0, 0.0, 0.0, 0.0, 0.0, 0.0, 0.0, 0.0, 0.0, 0.0, 0.0, 0.0, 0.0, 0.0, 0.0, 0.0, 0.0, 0.0, 0.0, 0.0, 0.0, 0.0, 0.0, 0.0, 0.0, 0.0, 0.0, 0.0, 0.0, 0.0, 0.0, 0.0, 0.0, 0.0, 0.0, 0.0, 0.0, 0.0, 0.0, 0.0, 0.0, 0.0, 0.0, 0.0, 0.0, 0.0, 0.0, 0.0, 0.0, 0.0, 0.0, 0.0, 0.0, 0.0, 0.0, 0.0, 0.0, 0.0, 0.0, 0.0, 0.0, 0.36, 0.43, 0.47, 0.55, 0.61, 0.71, 0.77, 0.9, 0.95, 0.96, 1.07, 1.12, 1.19, 1.36, 1.43, 1.46, 1.46, 1.56, 1.61, 1.63, 1.64, 1.69, 1.75, 1.9, 1.94, 1.95, 2.01, 2.14, 2.29, 2.51, 2.53, 2.55, 2.57, 2.69, 2.74, 3.07, 3.5, 4.53, 4.61, 4.69, 4.88, 5.23, 5.33, 5.44, 6.38, 6.83, 6.96, 7.04, 7.19, 7.3, 7.4, 8.24, 8.31, 8.68, 8.71, 9.41, 10.01, 10.02, 10.93, 11.06, 11.24, 11.32, 11.53, 12.1, 13.05, 13.7, 13.99, 14.57, 15.45, 17.2, 19.23, 23.41, 24.23, 26.0, 26.13, 27.35, 28.66, 28.66, 29.48, 30.32, 31.72, 31.86, 32.07, 35.88, 36.85, 37.02, 37.71, 48.55, 49.37, 58.3, 64.1, 71.3, 88.49, 95.18, 103.39, 105.66, 154.88, 196.48, 200.94, 212.88, 1090.84, 0.0, 0.0, 0.0, 10.13, 0.0, 2.87, 0.76, 0.09, 0.75, 0.0, 2.47, 0.68, 0.24, 0.21, 1.52, 10.34, 0.0, 8.02, 0.68, 0.0, 1.38, 8.85, 3.3, 4.25, 1.56, 6.54, 0.79, 0.17, 0.0, 0.0, 4.4, 0.52, 9.27, 3.09, 8.98, 11.19, 5.38, 17.85, 10.73, 22.03, 9.77, 9.27, 24.77, 0.0, 1.1, 24.24, 0.0, 0.0, 0.0, 0.0, 0.0, 0.0, 8.0, 2.64, 86.45, 6.57, 0.0, 0.9, 0.0, 0.0, 0.0, 0.0, 3.52, 0.0, 0.0, 0.0, 0.0, 0.41, 5.18, 0.0, 0.0, 0.0, 14.29, 0.0, 0.0, 1.58, 0.0, 0.0, 3.78, 0.0, 4.41, 34.36, 7.21, 1.01, 2.18, 4.42, 0.0, 0.0, 0.0, 0.0, 3.33, 6.58, 15.64, 11.22, 2.13, 0.0, 0.0, 0.0, 56.04, 7.48, 1.47, 3.93, 0.0, 0.0, 2.18, 6.1, 5.83, 28.19, 0.0, 0.0, 1.64, 3.71, 7.31, 2.03, 1.72, 5.97, 13.06, 1.26, 0.0, 0.0, 8.12, 1.09, 3.94, 0.52, 2.93, 5.65, 20.03, 1.75, 0.0, 12.64, 0.0, 11.06, 0.0, 0.0, 0.0, 18.3, 39.35, 0.0, 174.63, 0.0, 0.0, 7.73, 16.33, 5.86, 42.87, 12.18, 16.0, 24.59, 0.0, 28.74, 0.0, 9.96, 30.18, 70.76, 0.0, 0.0, 51.78, 3.64, 3.63, 0.0, 0.0, 8.16, 4.95, 0.0, 0.0, 6.04, 0.0, 3.95, 0.0, 7.8, 0.0, 0.0, 4.62, 1.63, 0.0, 0.0, 746.28, 7.02, 0.0, 2.44, 3.05, 185.76, 0.0, 6.3, 0.72, 4.96, 0.0, 0.0, 2.35, 0.0, 3.2, 0.0, 6.36, 0.0, 15.34, 0.0, 0.0, 0.54, 0.0, 6.43, 0.33, 0.0, 1.23, 3.35, 0.0, 9.96, 0.0, 0.0, 0.0, 0.0, 0.0, 6.43, 9.71, 0.0, 0.0, 0.0, 0.0, 0.0, 82.75, 3.32, 1.94, 0.0, 0.0, 3.71, 5.39, 2.14, 6.84, 3.18, 5.55, 6.61, 61.13, 0.0, 38.48, 1.94, 70.32, 10.08, 3.19, 1.76, 7.36, 2.21, 278.53, 2.75, 0.0, 1.29, 0.0, 26.43, 2.07, 2.0, 16.4, 46.7, 0.0, 0.0, 0.0, 0.0, 43.32, 8.59, 0.0, 2.77, 14.68, 40.54, 10.82, 0.0, 0.0, 0.0, 1.95, 49.59, 5.8, 0.0, 0.0, 0.0, 2.17, 0.43, 0.0, 6.44, 54.29, 11.16, 0.0, 0.0]}],                        {\"legend\": {\"bgcolor\": \"#151516\", \"font\": {\"color\": \"#D9D9D9\"}}, \"paper_bgcolor\": \"#151516\", \"plot_bgcolor\": \"#151516\", \"template\": {\"data\": {\"bar\": [{\"error_x\": {\"color\": \"#2a3f5f\"}, \"error_y\": {\"color\": \"#2a3f5f\"}, \"marker\": {\"line\": {\"color\": \"#E5ECF6\", \"width\": 0.5}}, \"type\": \"bar\"}], \"barpolar\": [{\"marker\": {\"line\": {\"color\": \"#E5ECF6\", \"width\": 0.5}}, \"type\": \"barpolar\"}], \"carpet\": [{\"aaxis\": {\"endlinecolor\": \"#2a3f5f\", \"gridcolor\": \"white\", \"linecolor\": \"white\", \"minorgridcolor\": \"white\", \"startlinecolor\": \"#2a3f5f\"}, \"baxis\": {\"endlinecolor\": \"#2a3f5f\", \"gridcolor\": \"white\", \"linecolor\": \"white\", \"minorgridcolor\": \"white\", \"startlinecolor\": \"#2a3f5f\"}, \"type\": \"carpet\"}], \"choropleth\": [{\"colorbar\": {\"outlinewidth\": 0, \"ticks\": \"\"}, \"type\": \"choropleth\"}], \"contour\": [{\"colorbar\": {\"outlinewidth\": 0, \"ticks\": \"\"}, \"colorscale\": [[0.0, \"#0d0887\"], [0.1111111111111111, \"#46039f\"], [0.2222222222222222, \"#7201a8\"], [0.3333333333333333, \"#9c179e\"], [0.4444444444444444, \"#bd3786\"], [0.5555555555555556, \"#d8576b\"], [0.6666666666666666, \"#ed7953\"], [0.7777777777777778, \"#fb9f3a\"], [0.8888888888888888, \"#fdca26\"], [1.0, \"#f0f921\"]], \"type\": \"contour\"}], \"contourcarpet\": [{\"colorbar\": {\"outlinewidth\": 0, \"ticks\": \"\"}, \"type\": \"contourcarpet\"}], \"heatmap\": [{\"colorbar\": {\"outlinewidth\": 0, \"ticks\": \"\"}, \"colorscale\": [[0.0, \"#0d0887\"], [0.1111111111111111, \"#46039f\"], [0.2222222222222222, \"#7201a8\"], [0.3333333333333333, \"#9c179e\"], [0.4444444444444444, \"#bd3786\"], [0.5555555555555556, \"#d8576b\"], [0.6666666666666666, \"#ed7953\"], [0.7777777777777778, \"#fb9f3a\"], [0.8888888888888888, \"#fdca26\"], [1.0, \"#f0f921\"]], \"type\": \"heatmap\"}], \"heatmapgl\": [{\"colorbar\": {\"outlinewidth\": 0, \"ticks\": \"\"}, \"colorscale\": [[0.0, \"#0d0887\"], [0.1111111111111111, \"#46039f\"], [0.2222222222222222, \"#7201a8\"], [0.3333333333333333, \"#9c179e\"], [0.4444444444444444, \"#bd3786\"], [0.5555555555555556, \"#d8576b\"], [0.6666666666666666, \"#ed7953\"], [0.7777777777777778, \"#fb9f3a\"], [0.8888888888888888, \"#fdca26\"], [1.0, \"#f0f921\"]], \"type\": \"heatmapgl\"}], \"histogram\": [{\"marker\": {\"colorbar\": {\"outlinewidth\": 0, \"ticks\": \"\"}}, \"type\": \"histogram\"}], \"histogram2d\": [{\"colorbar\": {\"outlinewidth\": 0, \"ticks\": \"\"}, \"colorscale\": [[0.0, \"#0d0887\"], [0.1111111111111111, \"#46039f\"], [0.2222222222222222, \"#7201a8\"], [0.3333333333333333, \"#9c179e\"], [0.4444444444444444, \"#bd3786\"], [0.5555555555555556, \"#d8576b\"], [0.6666666666666666, \"#ed7953\"], [0.7777777777777778, \"#fb9f3a\"], [0.8888888888888888, \"#fdca26\"], [1.0, \"#f0f921\"]], \"type\": \"histogram2d\"}], \"histogram2dcontour\": [{\"colorbar\": {\"outlinewidth\": 0, \"ticks\": \"\"}, \"colorscale\": [[0.0, \"#0d0887\"], [0.1111111111111111, \"#46039f\"], [0.2222222222222222, \"#7201a8\"], [0.3333333333333333, \"#9c179e\"], [0.4444444444444444, \"#bd3786\"], [0.5555555555555556, \"#d8576b\"], [0.6666666666666666, \"#ed7953\"], [0.7777777777777778, \"#fb9f3a\"], [0.8888888888888888, \"#fdca26\"], [1.0, \"#f0f921\"]], \"type\": \"histogram2dcontour\"}], \"mesh3d\": [{\"colorbar\": {\"outlinewidth\": 0, \"ticks\": \"\"}, \"type\": \"mesh3d\"}], \"parcoords\": [{\"line\": {\"colorbar\": {\"outlinewidth\": 0, \"ticks\": \"\"}}, \"type\": \"parcoords\"}], \"pie\": [{\"automargin\": true, \"type\": \"pie\"}], \"scatter\": [{\"marker\": {\"colorbar\": {\"outlinewidth\": 0, \"ticks\": \"\"}}, \"type\": \"scatter\"}], \"scatter3d\": [{\"line\": {\"colorbar\": {\"outlinewidth\": 0, \"ticks\": \"\"}}, \"marker\": {\"colorbar\": {\"outlinewidth\": 0, \"ticks\": \"\"}}, \"type\": \"scatter3d\"}], \"scattercarpet\": [{\"marker\": {\"colorbar\": {\"outlinewidth\": 0, \"ticks\": \"\"}}, \"type\": \"scattercarpet\"}], \"scattergeo\": [{\"marker\": {\"colorbar\": {\"outlinewidth\": 0, \"ticks\": \"\"}}, \"type\": \"scattergeo\"}], \"scattergl\": [{\"marker\": {\"colorbar\": {\"outlinewidth\": 0, \"ticks\": \"\"}}, \"type\": \"scattergl\"}], \"scattermapbox\": [{\"marker\": {\"colorbar\": {\"outlinewidth\": 0, \"ticks\": \"\"}}, \"type\": \"scattermapbox\"}], \"scatterpolar\": [{\"marker\": {\"colorbar\": {\"outlinewidth\": 0, \"ticks\": \"\"}}, \"type\": \"scatterpolar\"}], \"scatterpolargl\": [{\"marker\": {\"colorbar\": {\"outlinewidth\": 0, \"ticks\": \"\"}}, \"type\": \"scatterpolargl\"}], \"scatterternary\": [{\"marker\": {\"colorbar\": {\"outlinewidth\": 0, \"ticks\": \"\"}}, \"type\": \"scatterternary\"}], \"surface\": [{\"colorbar\": {\"outlinewidth\": 0, \"ticks\": \"\"}, \"colorscale\": [[0.0, \"#0d0887\"], [0.1111111111111111, \"#46039f\"], [0.2222222222222222, \"#7201a8\"], [0.3333333333333333, \"#9c179e\"], [0.4444444444444444, \"#bd3786\"], [0.5555555555555556, \"#d8576b\"], [0.6666666666666666, \"#ed7953\"], [0.7777777777777778, \"#fb9f3a\"], [0.8888888888888888, \"#fdca26\"], [1.0, \"#f0f921\"]], \"type\": \"surface\"}], \"table\": [{\"cells\": {\"fill\": {\"color\": \"#EBF0F8\"}, \"line\": {\"color\": \"white\"}}, \"header\": {\"fill\": {\"color\": \"#C8D4E3\"}, \"line\": {\"color\": \"white\"}}, \"type\": \"table\"}]}, \"layout\": {\"annotationdefaults\": {\"arrowcolor\": \"#2a3f5f\", \"arrowhead\": 0, \"arrowwidth\": 1}, \"coloraxis\": {\"colorbar\": {\"outlinewidth\": 0, \"ticks\": \"\"}}, \"colorscale\": {\"diverging\": [[0, \"#8e0152\"], [0.1, \"#c51b7d\"], [0.2, \"#de77ae\"], [0.3, \"#f1b6da\"], [0.4, \"#fde0ef\"], [0.5, \"#f7f7f7\"], [0.6, \"#e6f5d0\"], [0.7, \"#b8e186\"], [0.8, \"#7fbc41\"], [0.9, \"#4d9221\"], [1, \"#276419\"]], \"sequential\": [[0.0, \"#0d0887\"], [0.1111111111111111, \"#46039f\"], [0.2222222222222222, \"#7201a8\"], [0.3333333333333333, \"#9c179e\"], [0.4444444444444444, \"#bd3786\"], [0.5555555555555556, \"#d8576b\"], [0.6666666666666666, \"#ed7953\"], [0.7777777777777778, \"#fb9f3a\"], [0.8888888888888888, \"#fdca26\"], [1.0, \"#f0f921\"]], \"sequentialminus\": [[0.0, \"#0d0887\"], [0.1111111111111111, \"#46039f\"], [0.2222222222222222, \"#7201a8\"], [0.3333333333333333, \"#9c179e\"], [0.4444444444444444, \"#bd3786\"], [0.5555555555555556, \"#d8576b\"], [0.6666666666666666, \"#ed7953\"], [0.7777777777777778, \"#fb9f3a\"], [0.8888888888888888, \"#fdca26\"], [1.0, \"#f0f921\"]]}, \"colorway\": [\"#636efa\", \"#EF553B\", \"#00cc96\", \"#ab63fa\", \"#FFA15A\", \"#19d3f3\", \"#FF6692\", \"#B6E880\", \"#FF97FF\", \"#FECB52\"], \"font\": {\"color\": \"#2a3f5f\"}, \"geo\": {\"bgcolor\": \"white\", \"lakecolor\": \"white\", \"landcolor\": \"#E5ECF6\", \"showlakes\": true, \"showland\": true, \"subunitcolor\": \"white\"}, \"hoverlabel\": {\"align\": \"left\"}, \"hovermode\": \"closest\", \"mapbox\": {\"style\": \"light\"}, \"paper_bgcolor\": \"white\", \"plot_bgcolor\": \"#E5ECF6\", \"polar\": {\"angularaxis\": {\"gridcolor\": \"white\", \"linecolor\": \"white\", \"ticks\": \"\"}, \"bgcolor\": \"#E5ECF6\", \"radialaxis\": {\"gridcolor\": \"white\", \"linecolor\": \"white\", \"ticks\": \"\"}}, \"scene\": {\"xaxis\": {\"backgroundcolor\": \"#E5ECF6\", \"gridcolor\": \"white\", \"gridwidth\": 2, \"linecolor\": \"white\", \"showbackground\": true, \"ticks\": \"\", \"zerolinecolor\": \"white\"}, \"yaxis\": {\"backgroundcolor\": \"#E5ECF6\", \"gridcolor\": \"white\", \"gridwidth\": 2, \"linecolor\": \"white\", \"showbackground\": true, \"ticks\": \"\", \"zerolinecolor\": \"white\"}, \"zaxis\": {\"backgroundcolor\": \"#E5ECF6\", \"gridcolor\": \"white\", \"gridwidth\": 2, \"linecolor\": \"white\", \"showbackground\": true, \"ticks\": \"\", \"zerolinecolor\": \"white\"}}, \"shapedefaults\": {\"line\": {\"color\": \"#2a3f5f\"}}, \"ternary\": {\"aaxis\": {\"gridcolor\": \"white\", \"linecolor\": \"white\", \"ticks\": \"\"}, \"baxis\": {\"gridcolor\": \"white\", \"linecolor\": \"white\", \"ticks\": \"\"}, \"bgcolor\": \"#E5ECF6\", \"caxis\": {\"gridcolor\": \"white\", \"linecolor\": \"white\", \"ticks\": \"\"}}, \"title\": {\"x\": 0.05}, \"xaxis\": {\"automargin\": true, \"gridcolor\": \"white\", \"linecolor\": \"white\", \"ticks\": \"\", \"title\": {\"standoff\": 15}, \"zerolinecolor\": \"white\", \"zerolinewidth\": 2}, \"yaxis\": {\"automargin\": true, \"gridcolor\": \"white\", \"linecolor\": \"white\", \"ticks\": \"\", \"title\": {\"standoff\": 15}, \"zerolinecolor\": \"white\", \"zerolinewidth\": 2}}}, \"title\": {\"font\": {\"color\": \"#D9D9D9\"}, \"text\": \"Scatter plot of area\"}, \"xaxis\": {\"gridcolor\": \"#434343\", \"showgrid\": true, \"tickfont\": {\"color\": \"#C2C2C2\"}, \"title\": {\"font\": {\"color\": \"#D9D9D9\"}, \"text\": \"id\"}, \"zerolinecolor\": \"#666570\"}, \"yaxis\": {\"gridcolor\": \"#434343\", \"showgrid\": true, \"tickfont\": {\"color\": \"#C2C2C2\"}, \"title\": {\"font\": {\"color\": \"#D9D9D9\"}, \"text\": \"area\"}, \"zerolinecolor\": \"#666570\"}},                        {\"showLink\": true, \"linkText\": \"Export to plot.ly\", \"plotlyServerURL\": \"https://plot.ly\", \"responsive\": true}                    ).then(function(){\n",
       "                            \n",
       "var gd = document.getElementById('b4ba1a58-6746-4c6b-a72f-a8ad6870e8aa');\n",
       "var x = new MutationObserver(function (mutations, observer) {{\n",
       "        var display = window.getComputedStyle(gd).display;\n",
       "        if (!display || display === 'none') {{\n",
       "            console.log([gd, 'removed!']);\n",
       "            Plotly.purge(gd);\n",
       "            observer.disconnect();\n",
       "        }}\n",
       "}});\n",
       "\n",
       "// Listen for the removal of the full notebook cells\n",
       "var notebookContainer = gd.closest('#notebook-container');\n",
       "if (notebookContainer) {{\n",
       "    x.observe(notebookContainer, {childList: true});\n",
       "}}\n",
       "\n",
       "// Listen for the clearing of the current output cell\n",
       "var outputEl = gd.closest('.output');\n",
       "if (outputEl) {{\n",
       "    x.observe(outputEl, {childList: true});\n",
       "}}\n",
       "\n",
       "                        })                };                });            </script>        </div>"
      ]
     },
     "metadata": {},
     "output_type": "display_data"
    }
   ],
   "source": [
    "df['area'].iplot(kind = 'scatter' , mode = 'markers',title=\"Scatter plot of area\",\n",
    "                            yTitle='area',xTitle = 'id')"
   ]
  },
  {
   "cell_type": "markdown",
   "metadata": {},
   "source": [
    "### **Few observations:**\n",
    "- This shows the different values of the target variable in the form of dots/bubbles so hoover over to get a closer look at the data points.\n",
    "- It shows that there are some extreme values in the area column and most of the values are near to zero.And this really makes sense, because we can see forests are getting burned-out but most of the cases the fire can't spread large enough. And from the statistical table we can also verify that, the Huge fire spread outs are really few in number as the total average of the area column is 12.84.\n",
    "- And the interesting thing is the areas where fire spreading was large,they don't really follow any pattern. Like-> we can't say if FFDM is around this much then there will be a high probability of having a huge burn of area. But this kind of pattern makes no sense in this data for any value of an area."
   ]
  },
  {
   "cell_type": "markdown",
   "metadata": {},
   "source": [
    "## Line plot of Area:"
   ]
  },
  {
   "cell_type": "code",
   "execution_count": 21,
   "metadata": {},
   "outputs": [
    {
     "data": {
      "application/vnd.plotly.v1+json": {
       "config": {
        "linkText": "Export to plot.ly",
        "plotlyServerURL": "https://plot.ly",
        "showLink": true
       },
       "data": [
        {
         "line": {
          "color": "rgba(255, 153, 51, 1.0)",
          "dash": "solid",
          "shape": "linear",
          "width": 1.3
         },
         "mode": "lines",
         "name": "area",
         "text": "",
         "type": "scatter",
         "x": [
          0,
          1,
          2,
          3,
          4,
          5,
          6,
          7,
          8,
          9,
          10,
          11,
          12,
          13,
          14,
          15,
          16,
          17,
          18,
          19,
          20,
          21,
          22,
          23,
          24,
          25,
          26,
          27,
          28,
          29,
          30,
          31,
          32,
          33,
          34,
          35,
          36,
          37,
          38,
          39,
          40,
          41,
          42,
          43,
          44,
          45,
          46,
          47,
          48,
          49,
          50,
          51,
          52,
          53,
          54,
          55,
          56,
          57,
          58,
          59,
          60,
          61,
          62,
          63,
          64,
          65,
          66,
          67,
          68,
          69,
          70,
          71,
          72,
          73,
          74,
          75,
          76,
          77,
          78,
          79,
          80,
          81,
          82,
          83,
          84,
          85,
          86,
          87,
          88,
          89,
          90,
          91,
          92,
          93,
          94,
          95,
          96,
          97,
          98,
          99,
          100,
          101,
          102,
          103,
          104,
          105,
          106,
          107,
          108,
          109,
          110,
          111,
          112,
          113,
          114,
          115,
          116,
          117,
          118,
          119,
          120,
          121,
          122,
          123,
          124,
          125,
          126,
          127,
          128,
          129,
          130,
          131,
          132,
          133,
          134,
          135,
          136,
          137,
          138,
          139,
          140,
          141,
          142,
          143,
          144,
          145,
          146,
          147,
          148,
          149,
          150,
          151,
          152,
          153,
          154,
          155,
          156,
          157,
          158,
          159,
          160,
          161,
          162,
          163,
          164,
          165,
          166,
          167,
          168,
          169,
          170,
          171,
          172,
          173,
          174,
          175,
          176,
          177,
          178,
          179,
          180,
          181,
          182,
          183,
          184,
          185,
          186,
          187,
          188,
          189,
          190,
          191,
          192,
          193,
          194,
          195,
          196,
          197,
          198,
          199,
          200,
          201,
          202,
          203,
          204,
          205,
          206,
          207,
          208,
          209,
          210,
          211,
          212,
          213,
          214,
          215,
          216,
          217,
          218,
          219,
          220,
          221,
          222,
          223,
          224,
          225,
          226,
          227,
          228,
          229,
          230,
          231,
          232,
          233,
          234,
          235,
          236,
          237,
          238,
          239,
          240,
          241,
          242,
          243,
          244,
          245,
          246,
          247,
          248,
          249,
          250,
          251,
          252,
          253,
          254,
          255,
          256,
          257,
          258,
          259,
          260,
          261,
          262,
          263,
          264,
          265,
          266,
          267,
          268,
          269,
          270,
          271,
          272,
          273,
          274,
          275,
          276,
          277,
          278,
          279,
          280,
          281,
          282,
          283,
          284,
          285,
          286,
          287,
          288,
          289,
          290,
          291,
          292,
          293,
          294,
          295,
          296,
          297,
          298,
          299,
          300,
          301,
          302,
          303,
          304,
          305,
          306,
          307,
          308,
          309,
          310,
          311,
          312,
          313,
          314,
          315,
          316,
          317,
          318,
          319,
          320,
          321,
          322,
          323,
          324,
          325,
          326,
          327,
          328,
          329,
          330,
          331,
          332,
          333,
          334,
          335,
          336,
          337,
          338,
          339,
          340,
          341,
          342,
          343,
          344,
          345,
          346,
          347,
          348,
          349,
          350,
          351,
          352,
          353,
          354,
          355,
          356,
          357,
          358,
          359,
          360,
          361,
          362,
          363,
          364,
          365,
          366,
          367,
          368,
          369,
          370,
          371,
          372,
          373,
          374,
          375,
          376,
          377,
          378,
          379,
          380,
          381,
          382,
          383,
          384,
          385,
          386,
          387,
          388,
          389,
          390,
          391,
          392,
          393,
          394,
          395,
          396,
          397,
          398,
          399,
          400,
          401,
          402,
          403,
          404,
          405,
          406,
          407,
          408,
          409,
          410,
          411,
          412,
          413,
          414,
          415,
          416,
          417,
          418,
          419,
          420,
          421,
          422,
          423,
          424,
          425,
          426,
          427,
          428,
          429,
          430,
          431,
          432,
          433,
          434,
          435,
          436,
          437,
          438,
          439,
          440,
          441,
          442,
          443,
          444,
          445,
          446,
          447,
          448,
          449,
          450,
          451,
          452,
          453,
          454,
          455,
          456,
          457,
          458,
          459,
          460,
          461,
          462,
          463,
          464,
          465,
          466,
          467,
          468,
          469,
          470,
          471,
          472,
          473,
          474,
          475,
          476,
          477,
          478,
          479,
          480,
          481,
          482,
          483,
          484,
          485,
          486,
          487,
          488,
          489,
          490,
          491,
          492,
          493,
          494,
          495,
          496,
          497,
          498,
          499,
          500,
          501,
          502,
          503,
          504,
          505,
          506,
          507,
          508,
          509,
          510,
          511,
          512,
          513,
          514,
          515,
          516
         ],
         "y": [
          0,
          0,
          0,
          0,
          0,
          0,
          0,
          0,
          0,
          0,
          0,
          0,
          0,
          0,
          0,
          0,
          0,
          0,
          0,
          0,
          0,
          0,
          0,
          0,
          0,
          0,
          0,
          0,
          0,
          0,
          0,
          0,
          0,
          0,
          0,
          0,
          0,
          0,
          0,
          0,
          0,
          0,
          0,
          0,
          0,
          0,
          0,
          0,
          0,
          0,
          0,
          0,
          0,
          0,
          0,
          0,
          0,
          0,
          0,
          0,
          0,
          0,
          0,
          0,
          0,
          0,
          0,
          0,
          0,
          0,
          0,
          0,
          0,
          0,
          0,
          0,
          0,
          0,
          0,
          0,
          0,
          0,
          0,
          0,
          0,
          0,
          0,
          0,
          0,
          0,
          0,
          0,
          0,
          0,
          0,
          0,
          0,
          0,
          0,
          0,
          0,
          0,
          0,
          0,
          0,
          0,
          0,
          0,
          0,
          0,
          0,
          0,
          0,
          0,
          0,
          0,
          0,
          0,
          0,
          0,
          0,
          0,
          0,
          0,
          0,
          0,
          0,
          0,
          0,
          0,
          0,
          0,
          0,
          0,
          0,
          0,
          0,
          0,
          0.36,
          0.43,
          0.47,
          0.55,
          0.61,
          0.71,
          0.77,
          0.9,
          0.95,
          0.96,
          1.07,
          1.12,
          1.19,
          1.36,
          1.43,
          1.46,
          1.46,
          1.56,
          1.61,
          1.63,
          1.64,
          1.69,
          1.75,
          1.9,
          1.94,
          1.95,
          2.01,
          2.14,
          2.29,
          2.51,
          2.53,
          2.55,
          2.57,
          2.69,
          2.74,
          3.07,
          3.5,
          4.53,
          4.61,
          4.69,
          4.88,
          5.23,
          5.33,
          5.44,
          6.38,
          6.83,
          6.96,
          7.04,
          7.19,
          7.3,
          7.4,
          8.24,
          8.31,
          8.68,
          8.71,
          9.41,
          10.01,
          10.02,
          10.93,
          11.06,
          11.24,
          11.32,
          11.53,
          12.1,
          13.05,
          13.7,
          13.99,
          14.57,
          15.45,
          17.2,
          19.23,
          23.41,
          24.23,
          26,
          26.13,
          27.35,
          28.66,
          28.66,
          29.48,
          30.32,
          31.72,
          31.86,
          32.07,
          35.88,
          36.85,
          37.02,
          37.71,
          48.55,
          49.37,
          58.3,
          64.1,
          71.3,
          88.49,
          95.18,
          103.39,
          105.66,
          154.88,
          196.48,
          200.94,
          212.88,
          1090.84,
          0,
          0,
          0,
          10.13,
          0,
          2.87,
          0.76,
          0.09,
          0.75,
          0,
          2.47,
          0.68,
          0.24,
          0.21,
          1.52,
          10.34,
          0,
          8.02,
          0.68,
          0,
          1.38,
          8.85,
          3.3,
          4.25,
          1.56,
          6.54,
          0.79,
          0.17,
          0,
          0,
          4.4,
          0.52,
          9.27,
          3.09,
          8.98,
          11.19,
          5.38,
          17.85,
          10.73,
          22.03,
          9.77,
          9.27,
          24.77,
          0,
          1.1,
          24.24,
          0,
          0,
          0,
          0,
          0,
          0,
          8,
          2.64,
          86.45,
          6.57,
          0,
          0.9,
          0,
          0,
          0,
          0,
          3.52,
          0,
          0,
          0,
          0,
          0.41,
          5.18,
          0,
          0,
          0,
          14.29,
          0,
          0,
          1.58,
          0,
          0,
          3.78,
          0,
          4.41,
          34.36,
          7.21,
          1.01,
          2.18,
          4.42,
          0,
          0,
          0,
          0,
          3.33,
          6.58,
          15.64,
          11.22,
          2.13,
          0,
          0,
          0,
          56.04,
          7.48,
          1.47,
          3.93,
          0,
          0,
          2.18,
          6.1,
          5.83,
          28.19,
          0,
          0,
          1.64,
          3.71,
          7.31,
          2.03,
          1.72,
          5.97,
          13.06,
          1.26,
          0,
          0,
          8.12,
          1.09,
          3.94,
          0.52,
          2.93,
          5.65,
          20.03,
          1.75,
          0,
          12.64,
          0,
          11.06,
          0,
          0,
          0,
          18.3,
          39.35,
          0,
          174.63,
          0,
          0,
          7.73,
          16.33,
          5.86,
          42.87,
          12.18,
          16,
          24.59,
          0,
          28.74,
          0,
          9.96,
          30.18,
          70.76,
          0,
          0,
          51.78,
          3.64,
          3.63,
          0,
          0,
          8.16,
          4.95,
          0,
          0,
          6.04,
          0,
          3.95,
          0,
          7.8,
          0,
          0,
          4.62,
          1.63,
          0,
          0,
          746.28,
          7.02,
          0,
          2.44,
          3.05,
          185.76,
          0,
          6.3,
          0.72,
          4.96,
          0,
          0,
          2.35,
          0,
          3.2,
          0,
          6.36,
          0,
          15.34,
          0,
          0,
          0.54,
          0,
          6.43,
          0.33,
          0,
          1.23,
          3.35,
          0,
          9.96,
          0,
          0,
          0,
          0,
          0,
          6.43,
          9.71,
          0,
          0,
          0,
          0,
          0,
          82.75,
          3.32,
          1.94,
          0,
          0,
          3.71,
          5.39,
          2.14,
          6.84,
          3.18,
          5.55,
          6.61,
          61.13,
          0,
          38.48,
          1.94,
          70.32,
          10.08,
          3.19,
          1.76,
          7.36,
          2.21,
          278.53,
          2.75,
          0,
          1.29,
          0,
          26.43,
          2.07,
          2,
          16.4,
          46.7,
          0,
          0,
          0,
          0,
          43.32,
          8.59,
          0,
          2.77,
          14.68,
          40.54,
          10.82,
          0,
          0,
          0,
          1.95,
          49.59,
          5.8,
          0,
          0,
          0,
          2.17,
          0.43,
          0,
          6.44,
          54.29,
          11.16,
          0,
          0
         ]
        }
       ],
       "layout": {
        "legend": {
         "bgcolor": "#151516",
         "font": {
          "color": "#D9D9D9"
         }
        },
        "paper_bgcolor": "#151516",
        "plot_bgcolor": "#151516",
        "template": {
         "data": {
          "bar": [
           {
            "error_x": {
             "color": "#2a3f5f"
            },
            "error_y": {
             "color": "#2a3f5f"
            },
            "marker": {
             "line": {
              "color": "#E5ECF6",
              "width": 0.5
             }
            },
            "type": "bar"
           }
          ],
          "barpolar": [
           {
            "marker": {
             "line": {
              "color": "#E5ECF6",
              "width": 0.5
             }
            },
            "type": "barpolar"
           }
          ],
          "carpet": [
           {
            "aaxis": {
             "endlinecolor": "#2a3f5f",
             "gridcolor": "white",
             "linecolor": "white",
             "minorgridcolor": "white",
             "startlinecolor": "#2a3f5f"
            },
            "baxis": {
             "endlinecolor": "#2a3f5f",
             "gridcolor": "white",
             "linecolor": "white",
             "minorgridcolor": "white",
             "startlinecolor": "#2a3f5f"
            },
            "type": "carpet"
           }
          ],
          "choropleth": [
           {
            "colorbar": {
             "outlinewidth": 0,
             "ticks": ""
            },
            "type": "choropleth"
           }
          ],
          "contour": [
           {
            "colorbar": {
             "outlinewidth": 0,
             "ticks": ""
            },
            "colorscale": [
             [
              0,
              "#0d0887"
             ],
             [
              0.1111111111111111,
              "#46039f"
             ],
             [
              0.2222222222222222,
              "#7201a8"
             ],
             [
              0.3333333333333333,
              "#9c179e"
             ],
             [
              0.4444444444444444,
              "#bd3786"
             ],
             [
              0.5555555555555556,
              "#d8576b"
             ],
             [
              0.6666666666666666,
              "#ed7953"
             ],
             [
              0.7777777777777778,
              "#fb9f3a"
             ],
             [
              0.8888888888888888,
              "#fdca26"
             ],
             [
              1,
              "#f0f921"
             ]
            ],
            "type": "contour"
           }
          ],
          "contourcarpet": [
           {
            "colorbar": {
             "outlinewidth": 0,
             "ticks": ""
            },
            "type": "contourcarpet"
           }
          ],
          "heatmap": [
           {
            "colorbar": {
             "outlinewidth": 0,
             "ticks": ""
            },
            "colorscale": [
             [
              0,
              "#0d0887"
             ],
             [
              0.1111111111111111,
              "#46039f"
             ],
             [
              0.2222222222222222,
              "#7201a8"
             ],
             [
              0.3333333333333333,
              "#9c179e"
             ],
             [
              0.4444444444444444,
              "#bd3786"
             ],
             [
              0.5555555555555556,
              "#d8576b"
             ],
             [
              0.6666666666666666,
              "#ed7953"
             ],
             [
              0.7777777777777778,
              "#fb9f3a"
             ],
             [
              0.8888888888888888,
              "#fdca26"
             ],
             [
              1,
              "#f0f921"
             ]
            ],
            "type": "heatmap"
           }
          ],
          "heatmapgl": [
           {
            "colorbar": {
             "outlinewidth": 0,
             "ticks": ""
            },
            "colorscale": [
             [
              0,
              "#0d0887"
             ],
             [
              0.1111111111111111,
              "#46039f"
             ],
             [
              0.2222222222222222,
              "#7201a8"
             ],
             [
              0.3333333333333333,
              "#9c179e"
             ],
             [
              0.4444444444444444,
              "#bd3786"
             ],
             [
              0.5555555555555556,
              "#d8576b"
             ],
             [
              0.6666666666666666,
              "#ed7953"
             ],
             [
              0.7777777777777778,
              "#fb9f3a"
             ],
             [
              0.8888888888888888,
              "#fdca26"
             ],
             [
              1,
              "#f0f921"
             ]
            ],
            "type": "heatmapgl"
           }
          ],
          "histogram": [
           {
            "marker": {
             "colorbar": {
              "outlinewidth": 0,
              "ticks": ""
             }
            },
            "type": "histogram"
           }
          ],
          "histogram2d": [
           {
            "colorbar": {
             "outlinewidth": 0,
             "ticks": ""
            },
            "colorscale": [
             [
              0,
              "#0d0887"
             ],
             [
              0.1111111111111111,
              "#46039f"
             ],
             [
              0.2222222222222222,
              "#7201a8"
             ],
             [
              0.3333333333333333,
              "#9c179e"
             ],
             [
              0.4444444444444444,
              "#bd3786"
             ],
             [
              0.5555555555555556,
              "#d8576b"
             ],
             [
              0.6666666666666666,
              "#ed7953"
             ],
             [
              0.7777777777777778,
              "#fb9f3a"
             ],
             [
              0.8888888888888888,
              "#fdca26"
             ],
             [
              1,
              "#f0f921"
             ]
            ],
            "type": "histogram2d"
           }
          ],
          "histogram2dcontour": [
           {
            "colorbar": {
             "outlinewidth": 0,
             "ticks": ""
            },
            "colorscale": [
             [
              0,
              "#0d0887"
             ],
             [
              0.1111111111111111,
              "#46039f"
             ],
             [
              0.2222222222222222,
              "#7201a8"
             ],
             [
              0.3333333333333333,
              "#9c179e"
             ],
             [
              0.4444444444444444,
              "#bd3786"
             ],
             [
              0.5555555555555556,
              "#d8576b"
             ],
             [
              0.6666666666666666,
              "#ed7953"
             ],
             [
              0.7777777777777778,
              "#fb9f3a"
             ],
             [
              0.8888888888888888,
              "#fdca26"
             ],
             [
              1,
              "#f0f921"
             ]
            ],
            "type": "histogram2dcontour"
           }
          ],
          "mesh3d": [
           {
            "colorbar": {
             "outlinewidth": 0,
             "ticks": ""
            },
            "type": "mesh3d"
           }
          ],
          "parcoords": [
           {
            "line": {
             "colorbar": {
              "outlinewidth": 0,
              "ticks": ""
             }
            },
            "type": "parcoords"
           }
          ],
          "pie": [
           {
            "automargin": true,
            "type": "pie"
           }
          ],
          "scatter": [
           {
            "marker": {
             "colorbar": {
              "outlinewidth": 0,
              "ticks": ""
             }
            },
            "type": "scatter"
           }
          ],
          "scatter3d": [
           {
            "line": {
             "colorbar": {
              "outlinewidth": 0,
              "ticks": ""
             }
            },
            "marker": {
             "colorbar": {
              "outlinewidth": 0,
              "ticks": ""
             }
            },
            "type": "scatter3d"
           }
          ],
          "scattercarpet": [
           {
            "marker": {
             "colorbar": {
              "outlinewidth": 0,
              "ticks": ""
             }
            },
            "type": "scattercarpet"
           }
          ],
          "scattergeo": [
           {
            "marker": {
             "colorbar": {
              "outlinewidth": 0,
              "ticks": ""
             }
            },
            "type": "scattergeo"
           }
          ],
          "scattergl": [
           {
            "marker": {
             "colorbar": {
              "outlinewidth": 0,
              "ticks": ""
             }
            },
            "type": "scattergl"
           }
          ],
          "scattermapbox": [
           {
            "marker": {
             "colorbar": {
              "outlinewidth": 0,
              "ticks": ""
             }
            },
            "type": "scattermapbox"
           }
          ],
          "scatterpolar": [
           {
            "marker": {
             "colorbar": {
              "outlinewidth": 0,
              "ticks": ""
             }
            },
            "type": "scatterpolar"
           }
          ],
          "scatterpolargl": [
           {
            "marker": {
             "colorbar": {
              "outlinewidth": 0,
              "ticks": ""
             }
            },
            "type": "scatterpolargl"
           }
          ],
          "scatterternary": [
           {
            "marker": {
             "colorbar": {
              "outlinewidth": 0,
              "ticks": ""
             }
            },
            "type": "scatterternary"
           }
          ],
          "surface": [
           {
            "colorbar": {
             "outlinewidth": 0,
             "ticks": ""
            },
            "colorscale": [
             [
              0,
              "#0d0887"
             ],
             [
              0.1111111111111111,
              "#46039f"
             ],
             [
              0.2222222222222222,
              "#7201a8"
             ],
             [
              0.3333333333333333,
              "#9c179e"
             ],
             [
              0.4444444444444444,
              "#bd3786"
             ],
             [
              0.5555555555555556,
              "#d8576b"
             ],
             [
              0.6666666666666666,
              "#ed7953"
             ],
             [
              0.7777777777777778,
              "#fb9f3a"
             ],
             [
              0.8888888888888888,
              "#fdca26"
             ],
             [
              1,
              "#f0f921"
             ]
            ],
            "type": "surface"
           }
          ],
          "table": [
           {
            "cells": {
             "fill": {
              "color": "#EBF0F8"
             },
             "line": {
              "color": "white"
             }
            },
            "header": {
             "fill": {
              "color": "#C8D4E3"
             },
             "line": {
              "color": "white"
             }
            },
            "type": "table"
           }
          ]
         },
         "layout": {
          "annotationdefaults": {
           "arrowcolor": "#2a3f5f",
           "arrowhead": 0,
           "arrowwidth": 1
          },
          "coloraxis": {
           "colorbar": {
            "outlinewidth": 0,
            "ticks": ""
           }
          },
          "colorscale": {
           "diverging": [
            [
             0,
             "#8e0152"
            ],
            [
             0.1,
             "#c51b7d"
            ],
            [
             0.2,
             "#de77ae"
            ],
            [
             0.3,
             "#f1b6da"
            ],
            [
             0.4,
             "#fde0ef"
            ],
            [
             0.5,
             "#f7f7f7"
            ],
            [
             0.6,
             "#e6f5d0"
            ],
            [
             0.7,
             "#b8e186"
            ],
            [
             0.8,
             "#7fbc41"
            ],
            [
             0.9,
             "#4d9221"
            ],
            [
             1,
             "#276419"
            ]
           ],
           "sequential": [
            [
             0,
             "#0d0887"
            ],
            [
             0.1111111111111111,
             "#46039f"
            ],
            [
             0.2222222222222222,
             "#7201a8"
            ],
            [
             0.3333333333333333,
             "#9c179e"
            ],
            [
             0.4444444444444444,
             "#bd3786"
            ],
            [
             0.5555555555555556,
             "#d8576b"
            ],
            [
             0.6666666666666666,
             "#ed7953"
            ],
            [
             0.7777777777777778,
             "#fb9f3a"
            ],
            [
             0.8888888888888888,
             "#fdca26"
            ],
            [
             1,
             "#f0f921"
            ]
           ],
           "sequentialminus": [
            [
             0,
             "#0d0887"
            ],
            [
             0.1111111111111111,
             "#46039f"
            ],
            [
             0.2222222222222222,
             "#7201a8"
            ],
            [
             0.3333333333333333,
             "#9c179e"
            ],
            [
             0.4444444444444444,
             "#bd3786"
            ],
            [
             0.5555555555555556,
             "#d8576b"
            ],
            [
             0.6666666666666666,
             "#ed7953"
            ],
            [
             0.7777777777777778,
             "#fb9f3a"
            ],
            [
             0.8888888888888888,
             "#fdca26"
            ],
            [
             1,
             "#f0f921"
            ]
           ]
          },
          "colorway": [
           "#636efa",
           "#EF553B",
           "#00cc96",
           "#ab63fa",
           "#FFA15A",
           "#19d3f3",
           "#FF6692",
           "#B6E880",
           "#FF97FF",
           "#FECB52"
          ],
          "font": {
           "color": "#2a3f5f"
          },
          "geo": {
           "bgcolor": "white",
           "lakecolor": "white",
           "landcolor": "#E5ECF6",
           "showlakes": true,
           "showland": true,
           "subunitcolor": "white"
          },
          "hoverlabel": {
           "align": "left"
          },
          "hovermode": "closest",
          "mapbox": {
           "style": "light"
          },
          "paper_bgcolor": "white",
          "plot_bgcolor": "#E5ECF6",
          "polar": {
           "angularaxis": {
            "gridcolor": "white",
            "linecolor": "white",
            "ticks": ""
           },
           "bgcolor": "#E5ECF6",
           "radialaxis": {
            "gridcolor": "white",
            "linecolor": "white",
            "ticks": ""
           }
          },
          "scene": {
           "xaxis": {
            "backgroundcolor": "#E5ECF6",
            "gridcolor": "white",
            "gridwidth": 2,
            "linecolor": "white",
            "showbackground": true,
            "ticks": "",
            "zerolinecolor": "white"
           },
           "yaxis": {
            "backgroundcolor": "#E5ECF6",
            "gridcolor": "white",
            "gridwidth": 2,
            "linecolor": "white",
            "showbackground": true,
            "ticks": "",
            "zerolinecolor": "white"
           },
           "zaxis": {
            "backgroundcolor": "#E5ECF6",
            "gridcolor": "white",
            "gridwidth": 2,
            "linecolor": "white",
            "showbackground": true,
            "ticks": "",
            "zerolinecolor": "white"
           }
          },
          "shapedefaults": {
           "line": {
            "color": "#2a3f5f"
           }
          },
          "ternary": {
           "aaxis": {
            "gridcolor": "white",
            "linecolor": "white",
            "ticks": ""
           },
           "baxis": {
            "gridcolor": "white",
            "linecolor": "white",
            "ticks": ""
           },
           "bgcolor": "#E5ECF6",
           "caxis": {
            "gridcolor": "white",
            "linecolor": "white",
            "ticks": ""
           }
          },
          "title": {
           "x": 0.05
          },
          "xaxis": {
           "automargin": true,
           "gridcolor": "white",
           "linecolor": "white",
           "ticks": "",
           "title": {
            "standoff": 15
           },
           "zerolinecolor": "white",
           "zerolinewidth": 2
          },
          "yaxis": {
           "automargin": true,
           "gridcolor": "white",
           "linecolor": "white",
           "ticks": "",
           "title": {
            "standoff": 15
           },
           "zerolinecolor": "white",
           "zerolinewidth": 2
          }
         }
        },
        "title": {
         "font": {
          "color": "#D9D9D9"
         },
         "text": "Line plot of area"
        },
        "xaxis": {
         "gridcolor": "#434343",
         "showgrid": true,
         "tickfont": {
          "color": "#C2C2C2"
         },
         "title": {
          "font": {
           "color": "#D9D9D9"
          },
          "text": "id"
         },
         "zerolinecolor": "#666570"
        },
        "yaxis": {
         "gridcolor": "#434343",
         "showgrid": true,
         "tickfont": {
          "color": "#C2C2C2"
         },
         "title": {
          "font": {
           "color": "#D9D9D9"
          },
          "text": "area"
         },
         "zerolinecolor": "#666570"
        }
       }
      },
      "text/html": [
       "<div>                            <div id=\"61f32ab0-5141-4c83-addf-3f31cc395447\" class=\"plotly-graph-div\" style=\"height:525px; width:100%;\"></div>            <script type=\"text/javascript\">                require([\"plotly\"], function(Plotly) {                    window.PLOTLYENV=window.PLOTLYENV || {};\n",
       "                    window.PLOTLYENV.BASE_URL='https://plot.ly';                                    if (document.getElementById(\"61f32ab0-5141-4c83-addf-3f31cc395447\")) {                    Plotly.newPlot(                        \"61f32ab0-5141-4c83-addf-3f31cc395447\",                        [{\"line\": {\"color\": \"rgba(255, 153, 51, 1.0)\", \"dash\": \"solid\", \"shape\": \"linear\", \"width\": 1.3}, \"mode\": \"lines\", \"name\": \"area\", \"text\": \"\", \"type\": \"scatter\", \"x\": [0, 1, 2, 3, 4, 5, 6, 7, 8, 9, 10, 11, 12, 13, 14, 15, 16, 17, 18, 19, 20, 21, 22, 23, 24, 25, 26, 27, 28, 29, 30, 31, 32, 33, 34, 35, 36, 37, 38, 39, 40, 41, 42, 43, 44, 45, 46, 47, 48, 49, 50, 51, 52, 53, 54, 55, 56, 57, 58, 59, 60, 61, 62, 63, 64, 65, 66, 67, 68, 69, 70, 71, 72, 73, 74, 75, 76, 77, 78, 79, 80, 81, 82, 83, 84, 85, 86, 87, 88, 89, 90, 91, 92, 93, 94, 95, 96, 97, 98, 99, 100, 101, 102, 103, 104, 105, 106, 107, 108, 109, 110, 111, 112, 113, 114, 115, 116, 117, 118, 119, 120, 121, 122, 123, 124, 125, 126, 127, 128, 129, 130, 131, 132, 133, 134, 135, 136, 137, 138, 139, 140, 141, 142, 143, 144, 145, 146, 147, 148, 149, 150, 151, 152, 153, 154, 155, 156, 157, 158, 159, 160, 161, 162, 163, 164, 165, 166, 167, 168, 169, 170, 171, 172, 173, 174, 175, 176, 177, 178, 179, 180, 181, 182, 183, 184, 185, 186, 187, 188, 189, 190, 191, 192, 193, 194, 195, 196, 197, 198, 199, 200, 201, 202, 203, 204, 205, 206, 207, 208, 209, 210, 211, 212, 213, 214, 215, 216, 217, 218, 219, 220, 221, 222, 223, 224, 225, 226, 227, 228, 229, 230, 231, 232, 233, 234, 235, 236, 237, 238, 239, 240, 241, 242, 243, 244, 245, 246, 247, 248, 249, 250, 251, 252, 253, 254, 255, 256, 257, 258, 259, 260, 261, 262, 263, 264, 265, 266, 267, 268, 269, 270, 271, 272, 273, 274, 275, 276, 277, 278, 279, 280, 281, 282, 283, 284, 285, 286, 287, 288, 289, 290, 291, 292, 293, 294, 295, 296, 297, 298, 299, 300, 301, 302, 303, 304, 305, 306, 307, 308, 309, 310, 311, 312, 313, 314, 315, 316, 317, 318, 319, 320, 321, 322, 323, 324, 325, 326, 327, 328, 329, 330, 331, 332, 333, 334, 335, 336, 337, 338, 339, 340, 341, 342, 343, 344, 345, 346, 347, 348, 349, 350, 351, 352, 353, 354, 355, 356, 357, 358, 359, 360, 361, 362, 363, 364, 365, 366, 367, 368, 369, 370, 371, 372, 373, 374, 375, 376, 377, 378, 379, 380, 381, 382, 383, 384, 385, 386, 387, 388, 389, 390, 391, 392, 393, 394, 395, 396, 397, 398, 399, 400, 401, 402, 403, 404, 405, 406, 407, 408, 409, 410, 411, 412, 413, 414, 415, 416, 417, 418, 419, 420, 421, 422, 423, 424, 425, 426, 427, 428, 429, 430, 431, 432, 433, 434, 435, 436, 437, 438, 439, 440, 441, 442, 443, 444, 445, 446, 447, 448, 449, 450, 451, 452, 453, 454, 455, 456, 457, 458, 459, 460, 461, 462, 463, 464, 465, 466, 467, 468, 469, 470, 471, 472, 473, 474, 475, 476, 477, 478, 479, 480, 481, 482, 483, 484, 485, 486, 487, 488, 489, 490, 491, 492, 493, 494, 495, 496, 497, 498, 499, 500, 501, 502, 503, 504, 505, 506, 507, 508, 509, 510, 511, 512, 513, 514, 515, 516], \"y\": [0.0, 0.0, 0.0, 0.0, 0.0, 0.0, 0.0, 0.0, 0.0, 0.0, 0.0, 0.0, 0.0, 0.0, 0.0, 0.0, 0.0, 0.0, 0.0, 0.0, 0.0, 0.0, 0.0, 0.0, 0.0, 0.0, 0.0, 0.0, 0.0, 0.0, 0.0, 0.0, 0.0, 0.0, 0.0, 0.0, 0.0, 0.0, 0.0, 0.0, 0.0, 0.0, 0.0, 0.0, 0.0, 0.0, 0.0, 0.0, 0.0, 0.0, 0.0, 0.0, 0.0, 0.0, 0.0, 0.0, 0.0, 0.0, 0.0, 0.0, 0.0, 0.0, 0.0, 0.0, 0.0, 0.0, 0.0, 0.0, 0.0, 0.0, 0.0, 0.0, 0.0, 0.0, 0.0, 0.0, 0.0, 0.0, 0.0, 0.0, 0.0, 0.0, 0.0, 0.0, 0.0, 0.0, 0.0, 0.0, 0.0, 0.0, 0.0, 0.0, 0.0, 0.0, 0.0, 0.0, 0.0, 0.0, 0.0, 0.0, 0.0, 0.0, 0.0, 0.0, 0.0, 0.0, 0.0, 0.0, 0.0, 0.0, 0.0, 0.0, 0.0, 0.0, 0.0, 0.0, 0.0, 0.0, 0.0, 0.0, 0.0, 0.0, 0.0, 0.0, 0.0, 0.0, 0.0, 0.0, 0.0, 0.0, 0.0, 0.0, 0.0, 0.0, 0.0, 0.0, 0.0, 0.0, 0.36, 0.43, 0.47, 0.55, 0.61, 0.71, 0.77, 0.9, 0.95, 0.96, 1.07, 1.12, 1.19, 1.36, 1.43, 1.46, 1.46, 1.56, 1.61, 1.63, 1.64, 1.69, 1.75, 1.9, 1.94, 1.95, 2.01, 2.14, 2.29, 2.51, 2.53, 2.55, 2.57, 2.69, 2.74, 3.07, 3.5, 4.53, 4.61, 4.69, 4.88, 5.23, 5.33, 5.44, 6.38, 6.83, 6.96, 7.04, 7.19, 7.3, 7.4, 8.24, 8.31, 8.68, 8.71, 9.41, 10.01, 10.02, 10.93, 11.06, 11.24, 11.32, 11.53, 12.1, 13.05, 13.7, 13.99, 14.57, 15.45, 17.2, 19.23, 23.41, 24.23, 26.0, 26.13, 27.35, 28.66, 28.66, 29.48, 30.32, 31.72, 31.86, 32.07, 35.88, 36.85, 37.02, 37.71, 48.55, 49.37, 58.3, 64.1, 71.3, 88.49, 95.18, 103.39, 105.66, 154.88, 196.48, 200.94, 212.88, 1090.84, 0.0, 0.0, 0.0, 10.13, 0.0, 2.87, 0.76, 0.09, 0.75, 0.0, 2.47, 0.68, 0.24, 0.21, 1.52, 10.34, 0.0, 8.02, 0.68, 0.0, 1.38, 8.85, 3.3, 4.25, 1.56, 6.54, 0.79, 0.17, 0.0, 0.0, 4.4, 0.52, 9.27, 3.09, 8.98, 11.19, 5.38, 17.85, 10.73, 22.03, 9.77, 9.27, 24.77, 0.0, 1.1, 24.24, 0.0, 0.0, 0.0, 0.0, 0.0, 0.0, 8.0, 2.64, 86.45, 6.57, 0.0, 0.9, 0.0, 0.0, 0.0, 0.0, 3.52, 0.0, 0.0, 0.0, 0.0, 0.41, 5.18, 0.0, 0.0, 0.0, 14.29, 0.0, 0.0, 1.58, 0.0, 0.0, 3.78, 0.0, 4.41, 34.36, 7.21, 1.01, 2.18, 4.42, 0.0, 0.0, 0.0, 0.0, 3.33, 6.58, 15.64, 11.22, 2.13, 0.0, 0.0, 0.0, 56.04, 7.48, 1.47, 3.93, 0.0, 0.0, 2.18, 6.1, 5.83, 28.19, 0.0, 0.0, 1.64, 3.71, 7.31, 2.03, 1.72, 5.97, 13.06, 1.26, 0.0, 0.0, 8.12, 1.09, 3.94, 0.52, 2.93, 5.65, 20.03, 1.75, 0.0, 12.64, 0.0, 11.06, 0.0, 0.0, 0.0, 18.3, 39.35, 0.0, 174.63, 0.0, 0.0, 7.73, 16.33, 5.86, 42.87, 12.18, 16.0, 24.59, 0.0, 28.74, 0.0, 9.96, 30.18, 70.76, 0.0, 0.0, 51.78, 3.64, 3.63, 0.0, 0.0, 8.16, 4.95, 0.0, 0.0, 6.04, 0.0, 3.95, 0.0, 7.8, 0.0, 0.0, 4.62, 1.63, 0.0, 0.0, 746.28, 7.02, 0.0, 2.44, 3.05, 185.76, 0.0, 6.3, 0.72, 4.96, 0.0, 0.0, 2.35, 0.0, 3.2, 0.0, 6.36, 0.0, 15.34, 0.0, 0.0, 0.54, 0.0, 6.43, 0.33, 0.0, 1.23, 3.35, 0.0, 9.96, 0.0, 0.0, 0.0, 0.0, 0.0, 6.43, 9.71, 0.0, 0.0, 0.0, 0.0, 0.0, 82.75, 3.32, 1.94, 0.0, 0.0, 3.71, 5.39, 2.14, 6.84, 3.18, 5.55, 6.61, 61.13, 0.0, 38.48, 1.94, 70.32, 10.08, 3.19, 1.76, 7.36, 2.21, 278.53, 2.75, 0.0, 1.29, 0.0, 26.43, 2.07, 2.0, 16.4, 46.7, 0.0, 0.0, 0.0, 0.0, 43.32, 8.59, 0.0, 2.77, 14.68, 40.54, 10.82, 0.0, 0.0, 0.0, 1.95, 49.59, 5.8, 0.0, 0.0, 0.0, 2.17, 0.43, 0.0, 6.44, 54.29, 11.16, 0.0, 0.0]}],                        {\"legend\": {\"bgcolor\": \"#151516\", \"font\": {\"color\": \"#D9D9D9\"}}, \"paper_bgcolor\": \"#151516\", \"plot_bgcolor\": \"#151516\", \"template\": {\"data\": {\"bar\": [{\"error_x\": {\"color\": \"#2a3f5f\"}, \"error_y\": {\"color\": \"#2a3f5f\"}, \"marker\": {\"line\": {\"color\": \"#E5ECF6\", \"width\": 0.5}}, \"type\": \"bar\"}], \"barpolar\": [{\"marker\": {\"line\": {\"color\": \"#E5ECF6\", \"width\": 0.5}}, \"type\": \"barpolar\"}], \"carpet\": [{\"aaxis\": {\"endlinecolor\": \"#2a3f5f\", \"gridcolor\": \"white\", \"linecolor\": \"white\", \"minorgridcolor\": \"white\", \"startlinecolor\": \"#2a3f5f\"}, \"baxis\": {\"endlinecolor\": \"#2a3f5f\", \"gridcolor\": \"white\", \"linecolor\": \"white\", \"minorgridcolor\": \"white\", \"startlinecolor\": \"#2a3f5f\"}, \"type\": \"carpet\"}], \"choropleth\": [{\"colorbar\": {\"outlinewidth\": 0, \"ticks\": \"\"}, \"type\": \"choropleth\"}], \"contour\": [{\"colorbar\": {\"outlinewidth\": 0, \"ticks\": \"\"}, \"colorscale\": [[0.0, \"#0d0887\"], [0.1111111111111111, \"#46039f\"], [0.2222222222222222, \"#7201a8\"], [0.3333333333333333, \"#9c179e\"], [0.4444444444444444, \"#bd3786\"], [0.5555555555555556, \"#d8576b\"], [0.6666666666666666, \"#ed7953\"], [0.7777777777777778, \"#fb9f3a\"], [0.8888888888888888, \"#fdca26\"], [1.0, \"#f0f921\"]], \"type\": \"contour\"}], \"contourcarpet\": [{\"colorbar\": {\"outlinewidth\": 0, \"ticks\": \"\"}, \"type\": \"contourcarpet\"}], \"heatmap\": [{\"colorbar\": {\"outlinewidth\": 0, \"ticks\": \"\"}, \"colorscale\": [[0.0, \"#0d0887\"], [0.1111111111111111, \"#46039f\"], [0.2222222222222222, \"#7201a8\"], [0.3333333333333333, \"#9c179e\"], [0.4444444444444444, \"#bd3786\"], [0.5555555555555556, \"#d8576b\"], [0.6666666666666666, \"#ed7953\"], [0.7777777777777778, \"#fb9f3a\"], [0.8888888888888888, \"#fdca26\"], [1.0, \"#f0f921\"]], \"type\": \"heatmap\"}], \"heatmapgl\": [{\"colorbar\": {\"outlinewidth\": 0, \"ticks\": \"\"}, \"colorscale\": [[0.0, \"#0d0887\"], [0.1111111111111111, \"#46039f\"], [0.2222222222222222, \"#7201a8\"], [0.3333333333333333, \"#9c179e\"], [0.4444444444444444, \"#bd3786\"], [0.5555555555555556, \"#d8576b\"], [0.6666666666666666, \"#ed7953\"], [0.7777777777777778, \"#fb9f3a\"], [0.8888888888888888, \"#fdca26\"], [1.0, \"#f0f921\"]], \"type\": \"heatmapgl\"}], \"histogram\": [{\"marker\": {\"colorbar\": {\"outlinewidth\": 0, \"ticks\": \"\"}}, \"type\": \"histogram\"}], \"histogram2d\": [{\"colorbar\": {\"outlinewidth\": 0, \"ticks\": \"\"}, \"colorscale\": [[0.0, \"#0d0887\"], [0.1111111111111111, \"#46039f\"], [0.2222222222222222, \"#7201a8\"], [0.3333333333333333, \"#9c179e\"], [0.4444444444444444, \"#bd3786\"], [0.5555555555555556, \"#d8576b\"], [0.6666666666666666, \"#ed7953\"], [0.7777777777777778, \"#fb9f3a\"], [0.8888888888888888, \"#fdca26\"], [1.0, \"#f0f921\"]], \"type\": \"histogram2d\"}], \"histogram2dcontour\": [{\"colorbar\": {\"outlinewidth\": 0, \"ticks\": \"\"}, \"colorscale\": [[0.0, \"#0d0887\"], [0.1111111111111111, \"#46039f\"], [0.2222222222222222, \"#7201a8\"], [0.3333333333333333, \"#9c179e\"], [0.4444444444444444, \"#bd3786\"], [0.5555555555555556, \"#d8576b\"], [0.6666666666666666, \"#ed7953\"], [0.7777777777777778, \"#fb9f3a\"], [0.8888888888888888, \"#fdca26\"], [1.0, \"#f0f921\"]], \"type\": \"histogram2dcontour\"}], \"mesh3d\": [{\"colorbar\": {\"outlinewidth\": 0, \"ticks\": \"\"}, \"type\": \"mesh3d\"}], \"parcoords\": [{\"line\": {\"colorbar\": {\"outlinewidth\": 0, \"ticks\": \"\"}}, \"type\": \"parcoords\"}], \"pie\": [{\"automargin\": true, \"type\": \"pie\"}], \"scatter\": [{\"marker\": {\"colorbar\": {\"outlinewidth\": 0, \"ticks\": \"\"}}, \"type\": \"scatter\"}], \"scatter3d\": [{\"line\": {\"colorbar\": {\"outlinewidth\": 0, \"ticks\": \"\"}}, \"marker\": {\"colorbar\": {\"outlinewidth\": 0, \"ticks\": \"\"}}, \"type\": \"scatter3d\"}], \"scattercarpet\": [{\"marker\": {\"colorbar\": {\"outlinewidth\": 0, \"ticks\": \"\"}}, \"type\": \"scattercarpet\"}], \"scattergeo\": [{\"marker\": {\"colorbar\": {\"outlinewidth\": 0, \"ticks\": \"\"}}, \"type\": \"scattergeo\"}], \"scattergl\": [{\"marker\": {\"colorbar\": {\"outlinewidth\": 0, \"ticks\": \"\"}}, \"type\": \"scattergl\"}], \"scattermapbox\": [{\"marker\": {\"colorbar\": {\"outlinewidth\": 0, \"ticks\": \"\"}}, \"type\": \"scattermapbox\"}], \"scatterpolar\": [{\"marker\": {\"colorbar\": {\"outlinewidth\": 0, \"ticks\": \"\"}}, \"type\": \"scatterpolar\"}], \"scatterpolargl\": [{\"marker\": {\"colorbar\": {\"outlinewidth\": 0, \"ticks\": \"\"}}, \"type\": \"scatterpolargl\"}], \"scatterternary\": [{\"marker\": {\"colorbar\": {\"outlinewidth\": 0, \"ticks\": \"\"}}, \"type\": \"scatterternary\"}], \"surface\": [{\"colorbar\": {\"outlinewidth\": 0, \"ticks\": \"\"}, \"colorscale\": [[0.0, \"#0d0887\"], [0.1111111111111111, \"#46039f\"], [0.2222222222222222, \"#7201a8\"], [0.3333333333333333, \"#9c179e\"], [0.4444444444444444, \"#bd3786\"], [0.5555555555555556, \"#d8576b\"], [0.6666666666666666, \"#ed7953\"], [0.7777777777777778, \"#fb9f3a\"], [0.8888888888888888, \"#fdca26\"], [1.0, \"#f0f921\"]], \"type\": \"surface\"}], \"table\": [{\"cells\": {\"fill\": {\"color\": \"#EBF0F8\"}, \"line\": {\"color\": \"white\"}}, \"header\": {\"fill\": {\"color\": \"#C8D4E3\"}, \"line\": {\"color\": \"white\"}}, \"type\": \"table\"}]}, \"layout\": {\"annotationdefaults\": {\"arrowcolor\": \"#2a3f5f\", \"arrowhead\": 0, \"arrowwidth\": 1}, \"coloraxis\": {\"colorbar\": {\"outlinewidth\": 0, \"ticks\": \"\"}}, \"colorscale\": {\"diverging\": [[0, \"#8e0152\"], [0.1, \"#c51b7d\"], [0.2, \"#de77ae\"], [0.3, \"#f1b6da\"], [0.4, \"#fde0ef\"], [0.5, \"#f7f7f7\"], [0.6, \"#e6f5d0\"], [0.7, \"#b8e186\"], [0.8, \"#7fbc41\"], [0.9, \"#4d9221\"], [1, \"#276419\"]], \"sequential\": [[0.0, \"#0d0887\"], [0.1111111111111111, \"#46039f\"], [0.2222222222222222, \"#7201a8\"], [0.3333333333333333, \"#9c179e\"], [0.4444444444444444, \"#bd3786\"], [0.5555555555555556, \"#d8576b\"], [0.6666666666666666, \"#ed7953\"], [0.7777777777777778, \"#fb9f3a\"], [0.8888888888888888, \"#fdca26\"], [1.0, \"#f0f921\"]], \"sequentialminus\": [[0.0, \"#0d0887\"], [0.1111111111111111, \"#46039f\"], [0.2222222222222222, \"#7201a8\"], [0.3333333333333333, \"#9c179e\"], [0.4444444444444444, \"#bd3786\"], [0.5555555555555556, \"#d8576b\"], [0.6666666666666666, \"#ed7953\"], [0.7777777777777778, \"#fb9f3a\"], [0.8888888888888888, \"#fdca26\"], [1.0, \"#f0f921\"]]}, \"colorway\": [\"#636efa\", \"#EF553B\", \"#00cc96\", \"#ab63fa\", \"#FFA15A\", \"#19d3f3\", \"#FF6692\", \"#B6E880\", \"#FF97FF\", \"#FECB52\"], \"font\": {\"color\": \"#2a3f5f\"}, \"geo\": {\"bgcolor\": \"white\", \"lakecolor\": \"white\", \"landcolor\": \"#E5ECF6\", \"showlakes\": true, \"showland\": true, \"subunitcolor\": \"white\"}, \"hoverlabel\": {\"align\": \"left\"}, \"hovermode\": \"closest\", \"mapbox\": {\"style\": \"light\"}, \"paper_bgcolor\": \"white\", \"plot_bgcolor\": \"#E5ECF6\", \"polar\": {\"angularaxis\": {\"gridcolor\": \"white\", \"linecolor\": \"white\", \"ticks\": \"\"}, \"bgcolor\": \"#E5ECF6\", \"radialaxis\": {\"gridcolor\": \"white\", \"linecolor\": \"white\", \"ticks\": \"\"}}, \"scene\": {\"xaxis\": {\"backgroundcolor\": \"#E5ECF6\", \"gridcolor\": \"white\", \"gridwidth\": 2, \"linecolor\": \"white\", \"showbackground\": true, \"ticks\": \"\", \"zerolinecolor\": \"white\"}, \"yaxis\": {\"backgroundcolor\": \"#E5ECF6\", \"gridcolor\": \"white\", \"gridwidth\": 2, \"linecolor\": \"white\", \"showbackground\": true, \"ticks\": \"\", \"zerolinecolor\": \"white\"}, \"zaxis\": {\"backgroundcolor\": \"#E5ECF6\", \"gridcolor\": \"white\", \"gridwidth\": 2, \"linecolor\": \"white\", \"showbackground\": true, \"ticks\": \"\", \"zerolinecolor\": \"white\"}}, \"shapedefaults\": {\"line\": {\"color\": \"#2a3f5f\"}}, \"ternary\": {\"aaxis\": {\"gridcolor\": \"white\", \"linecolor\": \"white\", \"ticks\": \"\"}, \"baxis\": {\"gridcolor\": \"white\", \"linecolor\": \"white\", \"ticks\": \"\"}, \"bgcolor\": \"#E5ECF6\", \"caxis\": {\"gridcolor\": \"white\", \"linecolor\": \"white\", \"ticks\": \"\"}}, \"title\": {\"x\": 0.05}, \"xaxis\": {\"automargin\": true, \"gridcolor\": \"white\", \"linecolor\": \"white\", \"ticks\": \"\", \"title\": {\"standoff\": 15}, \"zerolinecolor\": \"white\", \"zerolinewidth\": 2}, \"yaxis\": {\"automargin\": true, \"gridcolor\": \"white\", \"linecolor\": \"white\", \"ticks\": \"\", \"title\": {\"standoff\": 15}, \"zerolinecolor\": \"white\", \"zerolinewidth\": 2}}}, \"title\": {\"font\": {\"color\": \"#D9D9D9\"}, \"text\": \"Line plot of area\"}, \"xaxis\": {\"gridcolor\": \"#434343\", \"showgrid\": true, \"tickfont\": {\"color\": \"#C2C2C2\"}, \"title\": {\"font\": {\"color\": \"#D9D9D9\"}, \"text\": \"id\"}, \"zerolinecolor\": \"#666570\"}, \"yaxis\": {\"gridcolor\": \"#434343\", \"showgrid\": true, \"tickfont\": {\"color\": \"#C2C2C2\"}, \"title\": {\"font\": {\"color\": \"#D9D9D9\"}, \"text\": \"area\"}, \"zerolinecolor\": \"#666570\"}},                        {\"showLink\": true, \"linkText\": \"Export to plot.ly\", \"plotlyServerURL\": \"https://plot.ly\", \"responsive\": true}                    ).then(function(){\n",
       "                            \n",
       "var gd = document.getElementById('61f32ab0-5141-4c83-addf-3f31cc395447');\n",
       "var x = new MutationObserver(function (mutations, observer) {{\n",
       "        var display = window.getComputedStyle(gd).display;\n",
       "        if (!display || display === 'none') {{\n",
       "            console.log([gd, 'removed!']);\n",
       "            Plotly.purge(gd);\n",
       "            observer.disconnect();\n",
       "        }}\n",
       "}});\n",
       "\n",
       "// Listen for the removal of the full notebook cells\n",
       "var notebookContainer = gd.closest('#notebook-container');\n",
       "if (notebookContainer) {{\n",
       "    x.observe(notebookContainer, {childList: true});\n",
       "}}\n",
       "\n",
       "// Listen for the clearing of the current output cell\n",
       "var outputEl = gd.closest('.output');\n",
       "if (outputEl) {{\n",
       "    x.observe(outputEl, {childList: true});\n",
       "}}\n",
       "\n",
       "                        })                };                });            </script>        </div>"
      ]
     },
     "metadata": {},
     "output_type": "display_data"
    }
   ],
   "source": [
    "df['area'].iplot(title=\"Line plot of area\",\n",
    "                            yTitle='area',xTitle = 'id')"
   ]
  },
  {
   "cell_type": "markdown",
   "metadata": {},
   "source": [
    "### Few observations:\n",
    "- In this plot how the area is changing row-wise.\n",
    "- Its a normal line plot to make you understand how the area is changing(Scatter plot could be enough but sometimes line plot makes more sense to people and sometimes scatter plot, both shows kind of same things but in different ways).\n",
    "- This plot also shows that the target variable is continuous in nature."
   ]
  },
  {
   "cell_type": "markdown",
   "metadata": {},
   "source": [
    "## Density(PDF) Plot of Area:"
   ]
  },
  {
   "cell_type": "code",
   "execution_count": 22,
   "metadata": {},
   "outputs": [
    {
     "data": {
      "application/vnd.plotly.v1+json": {
       "config": {
        "plotlyServerURL": "https://plot.ly"
       },
       "data": [
        {
         "autobinx": false,
         "histnorm": "probability density",
         "legendgroup": "area",
         "marker": {
          "color": "rgb(31, 119, 180)"
         },
         "name": "area",
         "opacity": 0.7,
         "type": "histogram",
         "x": [
          0,
          0,
          0,
          0,
          0,
          0,
          0,
          0,
          0,
          0,
          0,
          0,
          0,
          0,
          0,
          0,
          0,
          0,
          0,
          0,
          0,
          0,
          0,
          0,
          0,
          0,
          0,
          0,
          0,
          0,
          0,
          0,
          0,
          0,
          0,
          0,
          0,
          0,
          0,
          0,
          0,
          0,
          0,
          0,
          0,
          0,
          0,
          0,
          0,
          0,
          0,
          0,
          0,
          0,
          0,
          0,
          0,
          0,
          0,
          0,
          0,
          0,
          0,
          0,
          0,
          0,
          0,
          0,
          0,
          0,
          0,
          0,
          0,
          0,
          0,
          0,
          0,
          0,
          0,
          0,
          0,
          0,
          0,
          0,
          0,
          0,
          0,
          0,
          0,
          0,
          0,
          0,
          0,
          0,
          0,
          0,
          0,
          0,
          0,
          0,
          0,
          0,
          0,
          0,
          0,
          0,
          0,
          0,
          0,
          0,
          0,
          0,
          0,
          0,
          0,
          0,
          0,
          0,
          0,
          0,
          0,
          0,
          0,
          0,
          0,
          0,
          0,
          0,
          0,
          0,
          0,
          0,
          0,
          0,
          0,
          0,
          0,
          0,
          0.36,
          0.43,
          0.47,
          0.55,
          0.61,
          0.71,
          0.77,
          0.9,
          0.95,
          0.96,
          1.07,
          1.12,
          1.19,
          1.36,
          1.43,
          1.46,
          1.46,
          1.56,
          1.61,
          1.63,
          1.64,
          1.69,
          1.75,
          1.9,
          1.94,
          1.95,
          2.01,
          2.14,
          2.29,
          2.51,
          2.53,
          2.55,
          2.57,
          2.69,
          2.74,
          3.07,
          3.5,
          4.53,
          4.61,
          4.69,
          4.88,
          5.23,
          5.33,
          5.44,
          6.38,
          6.83,
          6.96,
          7.04,
          7.19,
          7.3,
          7.4,
          8.24,
          8.31,
          8.68,
          8.71,
          9.41,
          10.01,
          10.02,
          10.93,
          11.06,
          11.24,
          11.32,
          11.53,
          12.1,
          13.05,
          13.7,
          13.99,
          14.57,
          15.45,
          17.2,
          19.23,
          23.41,
          24.23,
          26,
          26.13,
          27.35,
          28.66,
          28.66,
          29.48,
          30.32,
          31.72,
          31.86,
          32.07,
          35.88,
          36.85,
          37.02,
          37.71,
          48.55,
          49.37,
          58.3,
          64.1,
          71.3,
          88.49,
          95.18,
          103.39,
          105.66,
          154.88,
          196.48,
          200.94,
          212.88,
          1090.84,
          0,
          0,
          0,
          10.13,
          0,
          2.87,
          0.76,
          0.09,
          0.75,
          0,
          2.47,
          0.68,
          0.24,
          0.21,
          1.52,
          10.34,
          0,
          8.02,
          0.68,
          0,
          1.38,
          8.85,
          3.3,
          4.25,
          1.56,
          6.54,
          0.79,
          0.17,
          0,
          0,
          4.4,
          0.52,
          9.27,
          3.09,
          8.98,
          11.19,
          5.38,
          17.85,
          10.73,
          22.03,
          9.77,
          9.27,
          24.77,
          0,
          1.1,
          24.24,
          0,
          0,
          0,
          0,
          0,
          0,
          8,
          2.64,
          86.45,
          6.57,
          0,
          0.9,
          0,
          0,
          0,
          0,
          3.52,
          0,
          0,
          0,
          0,
          0.41,
          5.18,
          0,
          0,
          0,
          14.29,
          0,
          0,
          1.58,
          0,
          0,
          3.78,
          0,
          4.41,
          34.36,
          7.21,
          1.01,
          2.18,
          4.42,
          0,
          0,
          0,
          0,
          3.33,
          6.58,
          15.64,
          11.22,
          2.13,
          0,
          0,
          0,
          56.04,
          7.48,
          1.47,
          3.93,
          0,
          0,
          2.18,
          6.1,
          5.83,
          28.19,
          0,
          0,
          1.64,
          3.71,
          7.31,
          2.03,
          1.72,
          5.97,
          13.06,
          1.26,
          0,
          0,
          8.12,
          1.09,
          3.94,
          0.52,
          2.93,
          5.65,
          20.03,
          1.75,
          0,
          12.64,
          0,
          11.06,
          0,
          0,
          0,
          18.3,
          39.35,
          0,
          174.63,
          0,
          0,
          7.73,
          16.33,
          5.86,
          42.87,
          12.18,
          16,
          24.59,
          0,
          28.74,
          0,
          9.96,
          30.18,
          70.76,
          0,
          0,
          51.78,
          3.64,
          3.63,
          0,
          0,
          8.16,
          4.95,
          0,
          0,
          6.04,
          0,
          3.95,
          0,
          7.8,
          0,
          0,
          4.62,
          1.63,
          0,
          0,
          746.28,
          7.02,
          0,
          2.44,
          3.05,
          185.76,
          0,
          6.3,
          0.72,
          4.96,
          0,
          0,
          2.35,
          0,
          3.2,
          0,
          6.36,
          0,
          15.34,
          0,
          0,
          0.54,
          0,
          6.43,
          0.33,
          0,
          1.23,
          3.35,
          0,
          9.96,
          0,
          0,
          0,
          0,
          0,
          6.43,
          9.71,
          0,
          0,
          0,
          0,
          0,
          82.75,
          3.32,
          1.94,
          0,
          0,
          3.71,
          5.39,
          2.14,
          6.84,
          3.18,
          5.55,
          6.61,
          61.13,
          0,
          38.48,
          1.94,
          70.32,
          10.08,
          3.19,
          1.76,
          7.36,
          2.21,
          278.53,
          2.75,
          0,
          1.29,
          0,
          26.43,
          2.07,
          2,
          16.4,
          46.7,
          0,
          0,
          0,
          0,
          43.32,
          8.59,
          0,
          2.77,
          14.68,
          40.54,
          10.82,
          0,
          0,
          0,
          1.95,
          49.59,
          5.8,
          0,
          0,
          0,
          2.17,
          0.43,
          0,
          6.44,
          54.29,
          11.16,
          0,
          0
         ],
         "xaxis": "x",
         "xbins": {
          "end": 1090.84,
          "size": 1,
          "start": 0
         },
         "yaxis": "y"
        },
        {
         "legendgroup": "area",
         "marker": {
          "color": "rgb(31, 119, 180)"
         },
         "mode": "lines",
         "name": "area",
         "showlegend": false,
         "type": "scatter",
         "x": [
          0,
          2.1816799999999996,
          4.363359999999999,
          6.545039999999999,
          8.726719999999998,
          10.9084,
          13.090079999999999,
          15.271759999999999,
          17.453439999999997,
          19.63512,
          21.8168,
          23.99848,
          26.180159999999997,
          28.361839999999997,
          30.543519999999997,
          32.725199999999994,
          34.906879999999994,
          37.08856,
          39.27024,
          41.45192,
          43.6336,
          45.81528,
          47.99696,
          50.17864,
          52.360319999999994,
          54.541999999999994,
          56.723679999999995,
          58.905359999999995,
          61.087039999999995,
          63.268719999999995,
          65.45039999999999,
          67.63208,
          69.81375999999999,
          71.99543999999999,
          74.17712,
          76.35879999999999,
          78.54048,
          80.72215999999999,
          82.90384,
          85.08551999999999,
          87.2672,
          89.44887999999999,
          91.63056,
          93.81223999999999,
          95.99392,
          98.17559999999999,
          100.35728,
          102.53895999999999,
          104.72063999999999,
          106.90231999999999,
          109.08399999999999,
          111.26567999999999,
          113.44735999999999,
          115.62903999999999,
          117.81071999999999,
          119.99239999999999,
          122.17407999999999,
          124.35575999999999,
          126.53743999999999,
          128.71912,
          130.90079999999998,
          133.08247999999998,
          135.26416,
          137.44584,
          139.62751999999998,
          141.80919999999998,
          143.99087999999998,
          146.17256,
          148.35424,
          150.53591999999998,
          152.71759999999998,
          154.89928,
          157.08096,
          159.26263999999998,
          161.44431999999998,
          163.626,
          165.80768,
          167.98935999999998,
          170.17103999999998,
          172.35272,
          174.5344,
          176.71607999999998,
          178.89775999999998,
          181.07943999999998,
          183.26112,
          185.44279999999998,
          187.62447999999998,
          189.80615999999998,
          191.98784,
          194.16951999999998,
          196.35119999999998,
          198.53287999999998,
          200.71456,
          202.89623999999998,
          205.07791999999998,
          207.25959999999998,
          209.44127999999998,
          211.62295999999998,
          213.80463999999998,
          215.98631999999998,
          218.16799999999998,
          220.34968,
          222.53135999999998,
          224.71303999999998,
          226.89471999999998,
          229.0764,
          231.25807999999998,
          233.43975999999998,
          235.62143999999998,
          237.80312,
          239.98479999999998,
          242.16647999999998,
          244.34815999999998,
          246.52983999999998,
          248.71151999999998,
          250.89319999999998,
          253.07487999999998,
          255.25655999999998,
          257.43824,
          259.61992,
          261.80159999999995,
          263.98328,
          266.16495999999995,
          268.34664,
          270.52832,
          272.71,
          274.89168,
          277.07336,
          279.25503999999995,
          281.43672,
          283.61839999999995,
          285.80008,
          287.98175999999995,
          290.16344,
          292.34512,
          294.5268,
          296.70848,
          298.89016,
          301.07183999999995,
          303.25352,
          305.43519999999995,
          307.61688,
          309.79856,
          311.98024,
          314.16192,
          316.3436,
          318.52527999999995,
          320.70696,
          322.88863999999995,
          325.0703199999999,
          327.252,
          329.43368,
          331.61536,
          333.79704,
          335.97871999999995,
          338.1604,
          340.34207999999995,
          342.5237599999999,
          344.70544,
          346.88712,
          349.0688,
          351.25048,
          353.43215999999995,
          355.61384,
          357.79551999999995,
          359.9771999999999,
          362.15887999999995,
          364.34056,
          366.52224,
          368.70392,
          370.88559999999995,
          373.06728,
          375.24895999999995,
          377.43064,
          379.61231999999995,
          381.794,
          383.97568,
          386.15736,
          388.33903999999995,
          390.52072,
          392.70239999999995,
          394.88408,
          397.06575999999995,
          399.2474399999999,
          401.42912,
          403.6108,
          405.79247999999995,
          407.97416,
          410.15583999999996,
          412.33752,
          414.51919999999996,
          416.7008799999999,
          418.88255999999996,
          421.06424,
          423.24591999999996,
          425.4276,
          427.60927999999996,
          429.79096,
          431.97263999999996,
          434.1543199999999,
          436.33599999999996,
          438.51768,
          440.69936,
          442.88104,
          445.06271999999996,
          447.2444,
          449.42607999999996,
          451.6077599999999,
          453.78943999999996,
          455.9711199999999,
          458.1528,
          460.33448,
          462.51615999999996,
          464.69784,
          466.87951999999996,
          469.06119999999993,
          471.24287999999996,
          473.42455999999993,
          475.60624,
          477.78792,
          479.96959999999996,
          482.15128,
          484.33295999999996,
          486.51463999999993,
          488.69631999999996,
          490.87799999999993,
          493.05967999999996,
          495.24136,
          497.42303999999996,
          499.60472,
          501.78639999999996,
          503.96808,
          506.14975999999996,
          508.33143999999993,
          510.51311999999996,
          512.6948,
          514.87648,
          517.0581599999999,
          519.23984,
          521.42152,
          523.6031999999999,
          525.78488,
          527.96656,
          530.14824,
          532.3299199999999,
          534.5115999999999,
          536.69328,
          538.87496,
          541.05664,
          543.2383199999999,
          545.42,
          547.60168,
          549.78336,
          551.9650399999999,
          554.14672,
          556.3283999999999,
          558.5100799999999,
          560.69176,
          562.87344,
          565.05512,
          567.2367999999999,
          569.4184799999999,
          571.60016,
          573.78184,
          575.9635199999999,
          578.1451999999999,
          580.32688,
          582.50856,
          584.69024,
          586.8719199999999,
          589.0536,
          591.2352799999999,
          593.41696,
          595.5986399999999,
          597.78032,
          599.962,
          602.1436799999999,
          604.3253599999999,
          606.50704,
          608.68872,
          610.8703999999999,
          613.0520799999999,
          615.23376,
          617.41544,
          619.59712,
          621.7787999999999,
          623.96048,
          626.1421599999999,
          628.32384,
          630.5055199999999,
          632.6872,
          634.86888,
          637.0505599999999,
          639.23224,
          641.41392,
          643.5956,
          645.7772799999999,
          647.9589599999999,
          650.1406399999998,
          652.32232,
          654.504,
          656.6856799999999,
          658.86736,
          661.0490399999999,
          663.23072,
          665.4123999999999,
          667.59408,
          669.7757599999999,
          671.9574399999999,
          674.13912,
          676.3208,
          678.50248,
          680.6841599999999,
          682.8658399999999,
          685.0475199999998,
          687.2292,
          689.41088,
          691.5925599999999,
          693.77424,
          695.9559199999999,
          698.1376,
          700.3192799999999,
          702.50096,
          704.6826399999999,
          706.8643199999999,
          709.046,
          711.22768,
          713.40936,
          715.5910399999999,
          717.7727199999999,
          719.9543999999999,
          722.13608,
          724.3177599999999,
          726.4994399999999,
          728.68112,
          730.8627999999999,
          733.04448,
          735.2261599999999,
          737.40784,
          739.5895199999999,
          741.7711999999999,
          743.9528799999999,
          746.13456,
          748.31624,
          750.4979199999999,
          752.6795999999999,
          754.86128,
          757.04296,
          759.2246399999999,
          761.4063199999999,
          763.588,
          765.7696799999999,
          767.95136,
          770.1330399999999,
          772.31472,
          774.4963999999999,
          776.6780799999999,
          778.8597599999999,
          781.04144,
          783.22312,
          785.4047999999999,
          787.5864799999999,
          789.76816,
          791.94984,
          794.1315199999999,
          796.3131999999999,
          798.4948799999999,
          800.67656,
          802.85824,
          805.0399199999999,
          807.2216,
          809.4032799999999,
          811.5849599999999,
          813.7666399999999,
          815.94832,
          818.1299999999999,
          820.3116799999999,
          822.4933599999999,
          824.67504,
          826.85672,
          829.0383999999999,
          831.2200799999999,
          833.4017599999999,
          835.58344,
          837.7651199999999,
          839.9467999999999,
          842.12848,
          844.3101599999999,
          846.4918399999999,
          848.6735199999999,
          850.8552,
          853.0368799999999,
          855.2185599999999,
          857.4002399999999,
          859.58192,
          861.7636,
          863.9452799999999,
          866.1269599999999,
          868.3086399999999,
          870.49032,
          872.6719999999999,
          874.8536799999999,
          877.03536,
          879.2170399999999,
          881.39872,
          883.5803999999999,
          885.76208,
          887.9437599999999,
          890.1254399999999,
          892.3071199999998,
          894.4888,
          896.67048,
          898.8521599999999,
          901.0338399999999,
          903.2155199999999,
          905.3972,
          907.5788799999999,
          909.7605599999999,
          911.9422399999999,
          914.1239199999999,
          916.3056,
          918.4872799999999,
          920.66896,
          922.8506399999999,
          925.0323199999999,
          927.2139999999998,
          929.39568,
          931.57736,
          933.7590399999999,
          935.9407199999999,
          938.1223999999999,
          940.30408,
          942.4857599999999,
          944.6674399999999,
          946.8491199999999,
          949.0307999999999,
          951.21248,
          953.3941599999999,
          955.57584,
          957.7575199999999,
          959.9391999999999,
          962.1208799999999,
          964.30256,
          966.4842399999999,
          968.6659199999999,
          970.8475999999999,
          973.0292799999999,
          975.21096,
          977.3926399999999,
          979.57432,
          981.7559999999999,
          983.9376799999999,
          986.1193599999999,
          988.30104,
          990.48272,
          992.6643999999999,
          994.8460799999999,
          997.02776,
          999.20944,
          1001.3911199999999,
          1003.5727999999999,
          1005.75448,
          1007.93616,
          1010.11784,
          1012.2995199999999,
          1014.4812,
          1016.6628799999999,
          1018.8445599999999,
          1021.0262399999999,
          1023.20792,
          1025.3896,
          1027.57128,
          1029.75296,
          1031.93464,
          1034.1163199999999,
          1036.2979999999998,
          1038.47968,
          1040.6613599999998,
          1042.84304,
          1045.02472,
          1047.2063999999998,
          1049.38808,
          1051.56976,
          1053.75144,
          1055.93312,
          1058.1147999999998,
          1060.29648,
          1062.47816,
          1064.6598399999998,
          1066.84152,
          1069.0231999999999,
          1071.2048799999998,
          1073.38656,
          1075.56824,
          1077.74992,
          1079.9316,
          1082.11328,
          1084.29496,
          1086.4766399999999,
          1088.6583199999998
         ],
         "xaxis": "x",
         "y": [
          0.0191400444077827,
          0.019351677028626658,
          0.019312498594629805,
          0.019027053590648876,
          0.018509666331583706,
          0.01778338105397627,
          0.016878355361137003,
          0.015829859973401906,
          0.01467606691415874,
          0.013455816405206877,
          0.012206540203578567,
          0.01096248893909256,
          0.009753368317656547,
          0.008603440093655974,
          0.00753109487891118,
          0.0065488607591827576,
          0.0056637784756154485,
          0.004878052895287943,
          0.00418988205031691,
          0.003594367934969535,
          0.0030844250908444617,
          0.0026516207151139727,
          0.0022869004272761677,
          0.001981174101480718,
          0.0017257541370065761,
          0.001512652810563835,
          0.001334755326488814,
          0.0011858909181050536,
          0.001060826404551667,
          0.0009552058034480723,
          0.0008654568666497109,
          0.0007886816167545417,
          0.000722543838933229,
          0.0006651625533052806,
          0.000615017085012241,
          0.0005708666157363887,
          0.0005316850624839817,
          0.0004966107211612994,
          0.00046490922316247743,
          0.0004359478601076689,
          0.00040917912202302566,
          0.00038413127598005886,
          0.0003604039185275356,
          0.0003376666215851906,
          0.0003156590303745172,
          0.0002941910468907521,
          0.0002731420320803282,
          0.0002524582740200075,
          0.0002321482863003259,
          0.00021227580658883153,
          0.00019295064448407445,
          0.00017431776472848925,
          0.0001565451730518152,
          0.00013981128771666594,
          0.0001242925260047691,
          0.00011015181332985088,
          9.752864124786208e-05,
          8.653117206546356e-05,
          7.72307278081716e-05,
          6.965882674907228e-05,
          6.380675718967574e-05,
          5.962751873241689e-05,
          5.703982535036296e-05,
          5.5933757965672616e-05,
          5.617757974595531e-05,
          5.7625185547917984e-05,
          6.012364736445837e-05,
          6.352033927361131e-05,
          6.766917695286336e-05,
          7.243558637878686e-05,
          7.769992063553812e-05,
          8.335916754349595e-05,
          8.93269264061459e-05,
          9.553176961031743e-05,
          0.00010191423270399664,
          0.00010842278343637963,
          0.00011500919615098239,
          0.00012162379603565964,
          0.0001282110353594578,
          0.00013470582274911942,
          0.00014103095257937074,
          0.00014709588337089564,
          0.00015279700181689817,
          0.0001580193927102151,
          0.00016264002335803908,
          0.000166532150852208,
          0.0001695706765772571,
          0.00017163810767015269,
          0.00017263074176522596,
          0.0001724646706521467,
          0.00017108120152993172,
          0.00016845132207696958,
          0.0001645788875498728,
          0.00015950228323959219,
          0.0001532944106735562,
          0.0001460609556178573,
          0.00013793701275012363,
          0.00012908225673974126,
          0.00011967495247596334,
          0.00010990517869340096,
          9.996769107280411e-05,
          9.005486737418015e-05,
          8.035015595360245e-05,
          7.102239157352534e-05,
          6.222125399989089e-05,
          5.40740341548329e-05,
          4.668375083190544e-05,
          4.0128540927864613e-05,
          3.446214067402386e-05,
          2.971519601723603e-05,
          2.5897095954693125e-05,
          2.2998018229842117e-05,
          2.099091260835877e-05,
          1.9833218216095616e-05,
          1.9468208643729224e-05,
          1.9825968394969612e-05,
          2.0824111153243584e-05,
          2.2368438294845394e-05,
          2.4353790971575186e-05,
          2.666536082066942e-05,
          2.9180688613350862e-05,
          3.177249945270604e-05,
          3.431240696453409e-05,
          3.66753827737301e-05,
          3.874475090504689e-05,
          4.041735028291933e-05,
          4.160843096005715e-05,
          4.225582480514208e-05,
          4.232296547941993e-05,
          4.180042336344863e-05,
          4.070575791740226e-05,
          3.908165511269254e-05,
          3.699248920702649e-05,
          3.451960362076675e-05,
          3.1755725109719295e-05,
          2.8798994619899894e-05,
          2.5747110588988195e-05,
          2.2692037691224727e-05,
          1.9715645223701914e-05,
          1.6886519146517188e-05,
          1.4258057738417922e-05,
          1.1867830454930041e-05,
          9.738067885433115e-06,
          7.877068322124784e-06,
          6.281258690943937e-06,
          4.937634487284932e-06,
          3.826320502483041e-06,
          2.923034052767491e-06,
          2.2012861980452397e-06,
          1.6342151827322108e-06,
          1.1960024212954587e-06,
          8.628691847798838e-07,
          6.136884362076263e-07,
          4.302699321608171e-07,
          2.973884742183381e-07,
          2.0262701330025357e-07,
          1.3610078447770704e-07,
          9.011850711404692e-08,
          5.88243887981503e-08,
          3.785218313299518e-08,
          2.4011235984399438e-08,
          1.5015098092348535e-08,
          9.256182432631917e-09,
          5.625041251779953e-09,
          3.3698424124751806e-09,
          1.9901396225803125e-09,
          1.1586374847475533e-09,
          6.649694256705497e-10,
          3.762234436721447e-10,
          2.098360513686214e-10,
          1.1537306500927723e-10,
          6.253437727635338e-11,
          3.341360257470874e-11,
          1.7600210019246568e-11,
          9.139079847281885e-12,
          4.678182579709375e-12,
          2.3607061814273438e-12,
          1.1743479152572878e-12,
          5.758928667405026e-13,
          2.784047824833997e-13,
          1.3267886805425906e-13,
          6.233283763476743e-14,
          2.88683600133659e-14,
          1.3180060426609614e-14,
          5.932022152470371e-15,
          2.6319534333498977e-15,
          1.1511812627755699e-15,
          4.963628818380799e-16,
          2.109817822568322e-16,
          8.840578607931801e-17,
          3.651795908454696e-17,
          1.487039070671193e-17,
          5.969367753564541e-18,
          2.3622418818068922e-18,
          9.215321031612456e-19,
          3.5439423409594817e-19,
          1.3435471119764877e-19,
          5.021219724679859e-20,
          1.849931411743843e-20,
          6.718806001183484e-21,
          2.4055736073533447e-21,
          8.49053923538411e-22,
          2.9542141249829905e-22,
          1.0133016305697033e-22,
          3.426301582426016e-23,
          1.1420957259557648e-23,
          3.752921668592907e-24,
          1.2157004223278412e-24,
          3.882162493020958e-25,
          1.222111766070554e-25,
          3.792610258658555e-26,
          1.1602606931766495e-26,
          3.499153689810039e-27,
          1.0403046277727741e-27,
          3.0489346577725624e-28,
          8.80898311915787e-29,
          2.508958700751226e-29,
          7.04451862245627e-30,
          1.9498410287976163e-30,
          5.320312739851989e-31,
          1.4310842207644964e-31,
          3.7947511272702933e-32,
          9.919538748602942e-33,
          2.5561699907893452e-33,
          6.493488261874492e-34,
          1.626134492099907e-34,
          4.014439690861726e-35,
          9.76975084337651e-36,
          2.3438624031010767e-36,
          5.543331075578007e-37,
          1.2924082667398466e-37,
          2.9704449872465137e-38,
          6.731215292789191e-39,
          1.508143107734421e-39,
          3.541786753986117e-40,
          1.7980127414511796e-40,
          5.108465296533068e-40,
          2.244963290955363e-39,
          9.999124606087369e-39,
          4.396178971915274e-38,
          1.9054846063825385e-37,
          8.14192017294828e-37,
          3.429559701695331e-36,
          1.4240983120368598e-35,
          5.829504611003818e-35,
          2.3524120900683804e-34,
          9.35804716012361e-34,
          3.669840002891153e-33,
          1.4187278866416008e-32,
          5.406810573992957e-32,
          2.031296301175663e-31,
          7.523076448225507e-31,
          2.7466779847831325e-30,
          9.885760670145571e-30,
          3.5075390267487646e-29,
          1.2268317469893965e-28,
          4.230167592605343e-28,
          1.4378719643132637e-27,
          4.8180680777667045e-27,
          1.591533272989601e-26,
          5.182610696061708e-26,
          1.6636866268062682e-25,
          5.264832253604241e-25,
          1.6424328597248659e-24,
          5.051039749858463e-24,
          1.531313183126526e-23,
          4.5765407176145567e-23,
          1.348344022058509e-22,
          3.9161035913658444e-22,
          1.1212377291715935e-21,
          3.164690977738416e-21,
          8.805519614095037e-21,
          2.4152869942952483e-20,
          6.53089303692027e-20,
          1.7408705288844991e-19,
          4.574571812063229e-19,
          1.1850167800874711e-18,
          3.026137272526067e-18,
          7.618032541692515e-18,
          1.890545336030314e-17,
          4.625103368151816e-17,
          1.1154391015030272e-16,
          2.6519196406563525e-16,
          6.215340546589542e-16,
          1.4360169717656596e-15,
          3.270726956809052e-15,
          7.343770260550864e-15,
          1.6254886748449828e-14,
          3.5468178709873316e-14,
          7.629286114666992e-14,
          1.6177782430914202e-13,
          3.381770667321943e-13,
          6.968822282541233e-13,
          1.4156787072152771e-12,
          2.8350458359736334e-12,
          5.596874177411394e-12,
          1.0892337178942666e-11,
          2.0897131897326997e-11,
          3.952231408210536e-11,
          7.36865325590518e-11,
          1.3543282891781965e-10,
          2.453860409308758e-10,
          4.382943089041139e-10,
          7.717415508217266e-10,
          1.3395780092536112e-09,
          2.2922089801830103e-09,
          3.8666110160046975e-09,
          6.429790643082602e-09,
          1.054030686453874e-08,
          1.703333749513525e-08,
          2.7135405902331226e-08,
          4.2615046555423554e-08,
          6.597504365650701e-08,
          1.0069003212925927e-07,
          1.5148978412961253e-07,
          2.2468303835631754e-07,
          3.285090238098621e-07,
          4.7349390542771015e-07,
          6.727776524738254e-07,
          9.423642346595068e-07,
          1.301236111314029e-06,
          1.771264805001663e-06,
          2.3768455055176007e-06,
          3.1441878708522584e-06,
          4.100209962835254e-06,
          5.2710092607965635e-06,
          6.679924225638339e-06,
          8.345250298413517e-06,
          1.0277731600021072e-05,
          1.247800775489138e-05,
          1.4934246126084879e-05,
          1.7620224275320606e-05,
          2.0494136925671072e-05,
          2.349837927141961e-05,
          2.6560500773065024e-05,
          2.95954319477644e-05,
          3.2508967848677444e-05,
          3.5202357826877564e-05,
          3.757771769864546e-05,
          3.954386546503981e-05,
          4.10221024091513e-05,
          4.195143134593706e-05,
          4.229273060117647e-05,
          4.203148584510577e-05,
          4.117881397462421e-05,
          3.977067840200966e-05,
          3.786537293137566e-05,
          3.553951951309687e-05,
          3.2882962674970516e-05,
          2.9993034094721433e-05,
          2.6968695330893388e-05,
          2.3905043976280373e-05,
          2.0888595068106472e-05,
          1.7993638424421814e-05,
          1.5279840525527716e-05,
          1.2791124557051957e-05,
          1.055574058539677e-05,
          8.58734207540046e-06,
          6.886822538660196e-06,
          5.444639067491552e-06,
          4.243355055672921e-06,
          3.2601660711168363e-06,
          2.4692220622573652e-06,
          1.8436167624690312e-06,
          1.3569730476200172e-06,
          9.846046204167007e-07,
          7.042755172657472e-07,
          4.966076292652271e-07,
          3.452027583677939e-07,
          2.3655122506003866e-07,
          1.5979611626171646e-07,
          1.0641364327037435e-07,
          6.985837496401808e-08,
          4.5209501635101064e-08,
          2.884237602001058e-08,
          1.8139379354859854e-08,
          1.1246150381882503e-08,
          6.873460223341996e-09,
          4.1413032680673265e-09,
          2.459737264019308e-09,
          1.440225447211983e-09,
          8.313086775681035e-10,
          4.730251387026749e-10,
          2.653360158478084e-10,
          1.4672302077749857e-10,
          7.99816556646996e-11,
          4.2980611927648607e-11,
          2.276904801100216e-11,
          1.1890694616409325e-11,
          6.1215253483681615e-12,
          3.1067202844849486e-12,
          1.554299574149755e-12,
          7.665798107077792e-13,
          3.7270918909205083e-13,
          1.786376091992366e-13,
          8.440453258731375e-14,
          3.931413410904512e-14,
          1.805185076481509e-14,
          8.171180957224355e-15,
          3.646179091889699e-15,
          1.6039145919664607e-15,
          6.955278984321846e-16,
          2.973294620477439e-16,
          1.253000976887079e-16,
          5.205410073676324e-17,
          2.1318103232613647e-17,
          8.606612457804064e-18,
          3.4253583192560874e-18,
          1.3439089429204337e-18,
          5.197850128391075e-19,
          1.9818361069971756e-19,
          7.449065517669977e-20,
          2.760107049162335e-20,
          1.008184780675602e-20,
          3.630316304791607e-21,
          1.288662796748192e-21,
          4.509498227129206e-22,
          1.5557714066925728e-22,
          5.295684529849322e-23,
          1.7914146071708111e-23,
          6.4290843222379865e-24,
          3.680346025933101e-24,
          6.054305870607798e-24,
          1.6674038062495243e-23,
          4.9266090067287944e-23,
          1.4485013555575396e-22,
          4.20250583542621e-22,
          1.202077986120518e-21,
          3.389625535818236e-21,
          9.422396281774992e-21,
          2.582029107150901e-20,
          6.975108721558612e-20,
          1.857508901693931e-19,
          4.876417713848743e-19,
          1.2620046956534395e-18,
          3.219668180815738e-18,
          8.097507043984189e-18,
          2.0076205269490364e-17,
          4.906841103683667e-17,
          1.182258474867258e-16,
          2.8081024684226393e-16,
          6.575117841189819e-16,
          1.5176939553309967e-15,
          3.4534640719409634e-15,
          7.746682454219094e-15,
          1.7130365924484493e-14,
          3.7342862044967145e-14,
          8.024881618762825e-14,
          1.7000423602537058e-13,
          3.550348011150085e-13,
          7.309239323908732e-13,
          1.4834178918809193e-12,
          2.9678702998908608e-12,
          5.8535104331323196e-12,
          1.138093518223943e-11,
          2.1813712111238513e-11,
          4.121651601623356e-11,
          7.677203526416405e-11,
          1.409694170370968e-10,
          2.5517423858333954e-10,
          4.5534316871037394e-10,
          8.009970147076385e-10,
          1.3890345352617373e-09,
          2.374571570524471e-09,
          4.001727929042332e-09,
          6.648136485175721e-09,
          1.0887856029018585e-08,
          1.7578219624816078e-08,
          2.7976763863354796e-08,
          4.389450362771736e-08,
          6.789110563805292e-08,
          1.0351557401187996e-07,
          1.555924724814108e-07,
          2.3054809798903385e-07,
          3.367631625436254e-07,
          4.849284777718969e-07,
          6.883683167770665e-07,
          9.632835215645907e-07,
          1.32885459736789e-06,
          1.8071361330088552e-06,
          2.4226704937172596e-06,
          3.2017535852650375e-06,
          4.171301034859609e-06,
          5.357290984507135e-06,
          6.782800022019776e-06,
          8.465699799008307e-06,
          1.0416139536022907e-05,
          1.2633997552708415e-05,
          1.5106535021842561e-05,
          1.780651826068136e-05,
          2.0691083393307693e-05,
          2.3701592491441243e-05,
          2.676467023355086e-05,
          2.9794516412015892e-05,
          3.2696469359337285e-05,
          3.5371660777203425e-05,
          3.772246965115757e-05,
          3.965836982496867e-05,
          4.110168940308613e-05,
          4.1992773731778795e-05
         ],
         "yaxis": "y"
        },
        {
         "legendgroup": "area",
         "marker": {
          "color": "rgb(31, 119, 180)",
          "symbol": "line-ns-open"
         },
         "mode": "markers",
         "name": "area",
         "showlegend": false,
         "type": "scatter",
         "x": [
          0,
          0,
          0,
          0,
          0,
          0,
          0,
          0,
          0,
          0,
          0,
          0,
          0,
          0,
          0,
          0,
          0,
          0,
          0,
          0,
          0,
          0,
          0,
          0,
          0,
          0,
          0,
          0,
          0,
          0,
          0,
          0,
          0,
          0,
          0,
          0,
          0,
          0,
          0,
          0,
          0,
          0,
          0,
          0,
          0,
          0,
          0,
          0,
          0,
          0,
          0,
          0,
          0,
          0,
          0,
          0,
          0,
          0,
          0,
          0,
          0,
          0,
          0,
          0,
          0,
          0,
          0,
          0,
          0,
          0,
          0,
          0,
          0,
          0,
          0,
          0,
          0,
          0,
          0,
          0,
          0,
          0,
          0,
          0,
          0,
          0,
          0,
          0,
          0,
          0,
          0,
          0,
          0,
          0,
          0,
          0,
          0,
          0,
          0,
          0,
          0,
          0,
          0,
          0,
          0,
          0,
          0,
          0,
          0,
          0,
          0,
          0,
          0,
          0,
          0,
          0,
          0,
          0,
          0,
          0,
          0,
          0,
          0,
          0,
          0,
          0,
          0,
          0,
          0,
          0,
          0,
          0,
          0,
          0,
          0,
          0,
          0,
          0,
          0.36,
          0.43,
          0.47,
          0.55,
          0.61,
          0.71,
          0.77,
          0.9,
          0.95,
          0.96,
          1.07,
          1.12,
          1.19,
          1.36,
          1.43,
          1.46,
          1.46,
          1.56,
          1.61,
          1.63,
          1.64,
          1.69,
          1.75,
          1.9,
          1.94,
          1.95,
          2.01,
          2.14,
          2.29,
          2.51,
          2.53,
          2.55,
          2.57,
          2.69,
          2.74,
          3.07,
          3.5,
          4.53,
          4.61,
          4.69,
          4.88,
          5.23,
          5.33,
          5.44,
          6.38,
          6.83,
          6.96,
          7.04,
          7.19,
          7.3,
          7.4,
          8.24,
          8.31,
          8.68,
          8.71,
          9.41,
          10.01,
          10.02,
          10.93,
          11.06,
          11.24,
          11.32,
          11.53,
          12.1,
          13.05,
          13.7,
          13.99,
          14.57,
          15.45,
          17.2,
          19.23,
          23.41,
          24.23,
          26,
          26.13,
          27.35,
          28.66,
          28.66,
          29.48,
          30.32,
          31.72,
          31.86,
          32.07,
          35.88,
          36.85,
          37.02,
          37.71,
          48.55,
          49.37,
          58.3,
          64.1,
          71.3,
          88.49,
          95.18,
          103.39,
          105.66,
          154.88,
          196.48,
          200.94,
          212.88,
          1090.84,
          0,
          0,
          0,
          10.13,
          0,
          2.87,
          0.76,
          0.09,
          0.75,
          0,
          2.47,
          0.68,
          0.24,
          0.21,
          1.52,
          10.34,
          0,
          8.02,
          0.68,
          0,
          1.38,
          8.85,
          3.3,
          4.25,
          1.56,
          6.54,
          0.79,
          0.17,
          0,
          0,
          4.4,
          0.52,
          9.27,
          3.09,
          8.98,
          11.19,
          5.38,
          17.85,
          10.73,
          22.03,
          9.77,
          9.27,
          24.77,
          0,
          1.1,
          24.24,
          0,
          0,
          0,
          0,
          0,
          0,
          8,
          2.64,
          86.45,
          6.57,
          0,
          0.9,
          0,
          0,
          0,
          0,
          3.52,
          0,
          0,
          0,
          0,
          0.41,
          5.18,
          0,
          0,
          0,
          14.29,
          0,
          0,
          1.58,
          0,
          0,
          3.78,
          0,
          4.41,
          34.36,
          7.21,
          1.01,
          2.18,
          4.42,
          0,
          0,
          0,
          0,
          3.33,
          6.58,
          15.64,
          11.22,
          2.13,
          0,
          0,
          0,
          56.04,
          7.48,
          1.47,
          3.93,
          0,
          0,
          2.18,
          6.1,
          5.83,
          28.19,
          0,
          0,
          1.64,
          3.71,
          7.31,
          2.03,
          1.72,
          5.97,
          13.06,
          1.26,
          0,
          0,
          8.12,
          1.09,
          3.94,
          0.52,
          2.93,
          5.65,
          20.03,
          1.75,
          0,
          12.64,
          0,
          11.06,
          0,
          0,
          0,
          18.3,
          39.35,
          0,
          174.63,
          0,
          0,
          7.73,
          16.33,
          5.86,
          42.87,
          12.18,
          16,
          24.59,
          0,
          28.74,
          0,
          9.96,
          30.18,
          70.76,
          0,
          0,
          51.78,
          3.64,
          3.63,
          0,
          0,
          8.16,
          4.95,
          0,
          0,
          6.04,
          0,
          3.95,
          0,
          7.8,
          0,
          0,
          4.62,
          1.63,
          0,
          0,
          746.28,
          7.02,
          0,
          2.44,
          3.05,
          185.76,
          0,
          6.3,
          0.72,
          4.96,
          0,
          0,
          2.35,
          0,
          3.2,
          0,
          6.36,
          0,
          15.34,
          0,
          0,
          0.54,
          0,
          6.43,
          0.33,
          0,
          1.23,
          3.35,
          0,
          9.96,
          0,
          0,
          0,
          0,
          0,
          6.43,
          9.71,
          0,
          0,
          0,
          0,
          0,
          82.75,
          3.32,
          1.94,
          0,
          0,
          3.71,
          5.39,
          2.14,
          6.84,
          3.18,
          5.55,
          6.61,
          61.13,
          0,
          38.48,
          1.94,
          70.32,
          10.08,
          3.19,
          1.76,
          7.36,
          2.21,
          278.53,
          2.75,
          0,
          1.29,
          0,
          26.43,
          2.07,
          2,
          16.4,
          46.7,
          0,
          0,
          0,
          0,
          43.32,
          8.59,
          0,
          2.77,
          14.68,
          40.54,
          10.82,
          0,
          0,
          0,
          1.95,
          49.59,
          5.8,
          0,
          0,
          0,
          2.17,
          0.43,
          0,
          6.44,
          54.29,
          11.16,
          0,
          0
         ],
         "xaxis": "x",
         "y": [
          "area",
          "area",
          "area",
          "area",
          "area",
          "area",
          "area",
          "area",
          "area",
          "area",
          "area",
          "area",
          "area",
          "area",
          "area",
          "area",
          "area",
          "area",
          "area",
          "area",
          "area",
          "area",
          "area",
          "area",
          "area",
          "area",
          "area",
          "area",
          "area",
          "area",
          "area",
          "area",
          "area",
          "area",
          "area",
          "area",
          "area",
          "area",
          "area",
          "area",
          "area",
          "area",
          "area",
          "area",
          "area",
          "area",
          "area",
          "area",
          "area",
          "area",
          "area",
          "area",
          "area",
          "area",
          "area",
          "area",
          "area",
          "area",
          "area",
          "area",
          "area",
          "area",
          "area",
          "area",
          "area",
          "area",
          "area",
          "area",
          "area",
          "area",
          "area",
          "area",
          "area",
          "area",
          "area",
          "area",
          "area",
          "area",
          "area",
          "area",
          "area",
          "area",
          "area",
          "area",
          "area",
          "area",
          "area",
          "area",
          "area",
          "area",
          "area",
          "area",
          "area",
          "area",
          "area",
          "area",
          "area",
          "area",
          "area",
          "area",
          "area",
          "area",
          "area",
          "area",
          "area",
          "area",
          "area",
          "area",
          "area",
          "area",
          "area",
          "area",
          "area",
          "area",
          "area",
          "area",
          "area",
          "area",
          "area",
          "area",
          "area",
          "area",
          "area",
          "area",
          "area",
          "area",
          "area",
          "area",
          "area",
          "area",
          "area",
          "area",
          "area",
          "area",
          "area",
          "area",
          "area",
          "area",
          "area",
          "area",
          "area",
          "area",
          "area",
          "area",
          "area",
          "area",
          "area",
          "area",
          "area",
          "area",
          "area",
          "area",
          "area",
          "area",
          "area",
          "area",
          "area",
          "area",
          "area",
          "area",
          "area",
          "area",
          "area",
          "area",
          "area",
          "area",
          "area",
          "area",
          "area",
          "area",
          "area",
          "area",
          "area",
          "area",
          "area",
          "area",
          "area",
          "area",
          "area",
          "area",
          "area",
          "area",
          "area",
          "area",
          "area",
          "area",
          "area",
          "area",
          "area",
          "area",
          "area",
          "area",
          "area",
          "area",
          "area",
          "area",
          "area",
          "area",
          "area",
          "area",
          "area",
          "area",
          "area",
          "area",
          "area",
          "area",
          "area",
          "area",
          "area",
          "area",
          "area",
          "area",
          "area",
          "area",
          "area",
          "area",
          "area",
          "area",
          "area",
          "area",
          "area",
          "area",
          "area",
          "area",
          "area",
          "area",
          "area",
          "area",
          "area",
          "area",
          "area",
          "area",
          "area",
          "area",
          "area",
          "area",
          "area",
          "area",
          "area",
          "area",
          "area",
          "area",
          "area",
          "area",
          "area",
          "area",
          "area",
          "area",
          "area",
          "area",
          "area",
          "area",
          "area",
          "area",
          "area",
          "area",
          "area",
          "area",
          "area",
          "area",
          "area",
          "area",
          "area",
          "area",
          "area",
          "area",
          "area",
          "area",
          "area",
          "area",
          "area",
          "area",
          "area",
          "area",
          "area",
          "area",
          "area",
          "area",
          "area",
          "area",
          "area",
          "area",
          "area",
          "area",
          "area",
          "area",
          "area",
          "area",
          "area",
          "area",
          "area",
          "area",
          "area",
          "area",
          "area",
          "area",
          "area",
          "area",
          "area",
          "area",
          "area",
          "area",
          "area",
          "area",
          "area",
          "area",
          "area",
          "area",
          "area",
          "area",
          "area",
          "area",
          "area",
          "area",
          "area",
          "area",
          "area",
          "area",
          "area",
          "area",
          "area",
          "area",
          "area",
          "area",
          "area",
          "area",
          "area",
          "area",
          "area",
          "area",
          "area",
          "area",
          "area",
          "area",
          "area",
          "area",
          "area",
          "area",
          "area",
          "area",
          "area",
          "area",
          "area",
          "area",
          "area",
          "area",
          "area",
          "area",
          "area",
          "area",
          "area",
          "area",
          "area",
          "area",
          "area",
          "area",
          "area",
          "area",
          "area",
          "area",
          "area",
          "area",
          "area",
          "area",
          "area",
          "area",
          "area",
          "area",
          "area",
          "area",
          "area",
          "area",
          "area",
          "area",
          "area",
          "area",
          "area",
          "area",
          "area",
          "area",
          "area",
          "area",
          "area",
          "area",
          "area",
          "area",
          "area",
          "area",
          "area",
          "area",
          "area",
          "area",
          "area",
          "area",
          "area",
          "area",
          "area",
          "area",
          "area",
          "area",
          "area",
          "area",
          "area",
          "area",
          "area",
          "area",
          "area",
          "area",
          "area",
          "area",
          "area",
          "area",
          "area",
          "area",
          "area",
          "area",
          "area",
          "area",
          "area",
          "area",
          "area",
          "area",
          "area",
          "area",
          "area",
          "area",
          "area",
          "area",
          "area",
          "area",
          "area",
          "area",
          "area",
          "area",
          "area",
          "area",
          "area",
          "area",
          "area",
          "area",
          "area",
          "area",
          "area",
          "area",
          "area",
          "area",
          "area",
          "area",
          "area",
          "area",
          "area",
          "area",
          "area",
          "area",
          "area",
          "area",
          "area",
          "area",
          "area",
          "area",
          "area",
          "area",
          "area",
          "area",
          "area",
          "area",
          "area",
          "area",
          "area",
          "area",
          "area",
          "area",
          "area",
          "area",
          "area",
          "area",
          "area",
          "area",
          "area",
          "area",
          "area",
          "area",
          "area",
          "area",
          "area",
          "area",
          "area",
          "area",
          "area",
          "area",
          "area",
          "area",
          "area",
          "area",
          "area",
          "area",
          "area",
          "area",
          "area",
          "area",
          "area",
          "area",
          "area",
          "area",
          "area",
          "area",
          "area",
          "area",
          "area",
          "area",
          "area",
          "area",
          "area",
          "area",
          "area",
          "area",
          "area"
         ],
         "yaxis": "y2"
        }
       ],
       "layout": {
        "barmode": "overlay",
        "hovermode": "closest",
        "legend": {
         "traceorder": "reversed"
        },
        "template": {
         "data": {
          "bar": [
           {
            "error_x": {
             "color": "#2a3f5f"
            },
            "error_y": {
             "color": "#2a3f5f"
            },
            "marker": {
             "line": {
              "color": "#E5ECF6",
              "width": 0.5
             }
            },
            "type": "bar"
           }
          ],
          "barpolar": [
           {
            "marker": {
             "line": {
              "color": "#E5ECF6",
              "width": 0.5
             }
            },
            "type": "barpolar"
           }
          ],
          "carpet": [
           {
            "aaxis": {
             "endlinecolor": "#2a3f5f",
             "gridcolor": "white",
             "linecolor": "white",
             "minorgridcolor": "white",
             "startlinecolor": "#2a3f5f"
            },
            "baxis": {
             "endlinecolor": "#2a3f5f",
             "gridcolor": "white",
             "linecolor": "white",
             "minorgridcolor": "white",
             "startlinecolor": "#2a3f5f"
            },
            "type": "carpet"
           }
          ],
          "choropleth": [
           {
            "colorbar": {
             "outlinewidth": 0,
             "ticks": ""
            },
            "type": "choropleth"
           }
          ],
          "contour": [
           {
            "colorbar": {
             "outlinewidth": 0,
             "ticks": ""
            },
            "colorscale": [
             [
              0,
              "#0d0887"
             ],
             [
              0.1111111111111111,
              "#46039f"
             ],
             [
              0.2222222222222222,
              "#7201a8"
             ],
             [
              0.3333333333333333,
              "#9c179e"
             ],
             [
              0.4444444444444444,
              "#bd3786"
             ],
             [
              0.5555555555555556,
              "#d8576b"
             ],
             [
              0.6666666666666666,
              "#ed7953"
             ],
             [
              0.7777777777777778,
              "#fb9f3a"
             ],
             [
              0.8888888888888888,
              "#fdca26"
             ],
             [
              1,
              "#f0f921"
             ]
            ],
            "type": "contour"
           }
          ],
          "contourcarpet": [
           {
            "colorbar": {
             "outlinewidth": 0,
             "ticks": ""
            },
            "type": "contourcarpet"
           }
          ],
          "heatmap": [
           {
            "colorbar": {
             "outlinewidth": 0,
             "ticks": ""
            },
            "colorscale": [
             [
              0,
              "#0d0887"
             ],
             [
              0.1111111111111111,
              "#46039f"
             ],
             [
              0.2222222222222222,
              "#7201a8"
             ],
             [
              0.3333333333333333,
              "#9c179e"
             ],
             [
              0.4444444444444444,
              "#bd3786"
             ],
             [
              0.5555555555555556,
              "#d8576b"
             ],
             [
              0.6666666666666666,
              "#ed7953"
             ],
             [
              0.7777777777777778,
              "#fb9f3a"
             ],
             [
              0.8888888888888888,
              "#fdca26"
             ],
             [
              1,
              "#f0f921"
             ]
            ],
            "type": "heatmap"
           }
          ],
          "heatmapgl": [
           {
            "colorbar": {
             "outlinewidth": 0,
             "ticks": ""
            },
            "colorscale": [
             [
              0,
              "#0d0887"
             ],
             [
              0.1111111111111111,
              "#46039f"
             ],
             [
              0.2222222222222222,
              "#7201a8"
             ],
             [
              0.3333333333333333,
              "#9c179e"
             ],
             [
              0.4444444444444444,
              "#bd3786"
             ],
             [
              0.5555555555555556,
              "#d8576b"
             ],
             [
              0.6666666666666666,
              "#ed7953"
             ],
             [
              0.7777777777777778,
              "#fb9f3a"
             ],
             [
              0.8888888888888888,
              "#fdca26"
             ],
             [
              1,
              "#f0f921"
             ]
            ],
            "type": "heatmapgl"
           }
          ],
          "histogram": [
           {
            "marker": {
             "colorbar": {
              "outlinewidth": 0,
              "ticks": ""
             }
            },
            "type": "histogram"
           }
          ],
          "histogram2d": [
           {
            "colorbar": {
             "outlinewidth": 0,
             "ticks": ""
            },
            "colorscale": [
             [
              0,
              "#0d0887"
             ],
             [
              0.1111111111111111,
              "#46039f"
             ],
             [
              0.2222222222222222,
              "#7201a8"
             ],
             [
              0.3333333333333333,
              "#9c179e"
             ],
             [
              0.4444444444444444,
              "#bd3786"
             ],
             [
              0.5555555555555556,
              "#d8576b"
             ],
             [
              0.6666666666666666,
              "#ed7953"
             ],
             [
              0.7777777777777778,
              "#fb9f3a"
             ],
             [
              0.8888888888888888,
              "#fdca26"
             ],
             [
              1,
              "#f0f921"
             ]
            ],
            "type": "histogram2d"
           }
          ],
          "histogram2dcontour": [
           {
            "colorbar": {
             "outlinewidth": 0,
             "ticks": ""
            },
            "colorscale": [
             [
              0,
              "#0d0887"
             ],
             [
              0.1111111111111111,
              "#46039f"
             ],
             [
              0.2222222222222222,
              "#7201a8"
             ],
             [
              0.3333333333333333,
              "#9c179e"
             ],
             [
              0.4444444444444444,
              "#bd3786"
             ],
             [
              0.5555555555555556,
              "#d8576b"
             ],
             [
              0.6666666666666666,
              "#ed7953"
             ],
             [
              0.7777777777777778,
              "#fb9f3a"
             ],
             [
              0.8888888888888888,
              "#fdca26"
             ],
             [
              1,
              "#f0f921"
             ]
            ],
            "type": "histogram2dcontour"
           }
          ],
          "mesh3d": [
           {
            "colorbar": {
             "outlinewidth": 0,
             "ticks": ""
            },
            "type": "mesh3d"
           }
          ],
          "parcoords": [
           {
            "line": {
             "colorbar": {
              "outlinewidth": 0,
              "ticks": ""
             }
            },
            "type": "parcoords"
           }
          ],
          "pie": [
           {
            "automargin": true,
            "type": "pie"
           }
          ],
          "scatter": [
           {
            "marker": {
             "colorbar": {
              "outlinewidth": 0,
              "ticks": ""
             }
            },
            "type": "scatter"
           }
          ],
          "scatter3d": [
           {
            "line": {
             "colorbar": {
              "outlinewidth": 0,
              "ticks": ""
             }
            },
            "marker": {
             "colorbar": {
              "outlinewidth": 0,
              "ticks": ""
             }
            },
            "type": "scatter3d"
           }
          ],
          "scattercarpet": [
           {
            "marker": {
             "colorbar": {
              "outlinewidth": 0,
              "ticks": ""
             }
            },
            "type": "scattercarpet"
           }
          ],
          "scattergeo": [
           {
            "marker": {
             "colorbar": {
              "outlinewidth": 0,
              "ticks": ""
             }
            },
            "type": "scattergeo"
           }
          ],
          "scattergl": [
           {
            "marker": {
             "colorbar": {
              "outlinewidth": 0,
              "ticks": ""
             }
            },
            "type": "scattergl"
           }
          ],
          "scattermapbox": [
           {
            "marker": {
             "colorbar": {
              "outlinewidth": 0,
              "ticks": ""
             }
            },
            "type": "scattermapbox"
           }
          ],
          "scatterpolar": [
           {
            "marker": {
             "colorbar": {
              "outlinewidth": 0,
              "ticks": ""
             }
            },
            "type": "scatterpolar"
           }
          ],
          "scatterpolargl": [
           {
            "marker": {
             "colorbar": {
              "outlinewidth": 0,
              "ticks": ""
             }
            },
            "type": "scatterpolargl"
           }
          ],
          "scatterternary": [
           {
            "marker": {
             "colorbar": {
              "outlinewidth": 0,
              "ticks": ""
             }
            },
            "type": "scatterternary"
           }
          ],
          "surface": [
           {
            "colorbar": {
             "outlinewidth": 0,
             "ticks": ""
            },
            "colorscale": [
             [
              0,
              "#0d0887"
             ],
             [
              0.1111111111111111,
              "#46039f"
             ],
             [
              0.2222222222222222,
              "#7201a8"
             ],
             [
              0.3333333333333333,
              "#9c179e"
             ],
             [
              0.4444444444444444,
              "#bd3786"
             ],
             [
              0.5555555555555556,
              "#d8576b"
             ],
             [
              0.6666666666666666,
              "#ed7953"
             ],
             [
              0.7777777777777778,
              "#fb9f3a"
             ],
             [
              0.8888888888888888,
              "#fdca26"
             ],
             [
              1,
              "#f0f921"
             ]
            ],
            "type": "surface"
           }
          ],
          "table": [
           {
            "cells": {
             "fill": {
              "color": "#EBF0F8"
             },
             "line": {
              "color": "white"
             }
            },
            "header": {
             "fill": {
              "color": "#C8D4E3"
             },
             "line": {
              "color": "white"
             }
            },
            "type": "table"
           }
          ]
         },
         "layout": {
          "annotationdefaults": {
           "arrowcolor": "#2a3f5f",
           "arrowhead": 0,
           "arrowwidth": 1
          },
          "coloraxis": {
           "colorbar": {
            "outlinewidth": 0,
            "ticks": ""
           }
          },
          "colorscale": {
           "diverging": [
            [
             0,
             "#8e0152"
            ],
            [
             0.1,
             "#c51b7d"
            ],
            [
             0.2,
             "#de77ae"
            ],
            [
             0.3,
             "#f1b6da"
            ],
            [
             0.4,
             "#fde0ef"
            ],
            [
             0.5,
             "#f7f7f7"
            ],
            [
             0.6,
             "#e6f5d0"
            ],
            [
             0.7,
             "#b8e186"
            ],
            [
             0.8,
             "#7fbc41"
            ],
            [
             0.9,
             "#4d9221"
            ],
            [
             1,
             "#276419"
            ]
           ],
           "sequential": [
            [
             0,
             "#0d0887"
            ],
            [
             0.1111111111111111,
             "#46039f"
            ],
            [
             0.2222222222222222,
             "#7201a8"
            ],
            [
             0.3333333333333333,
             "#9c179e"
            ],
            [
             0.4444444444444444,
             "#bd3786"
            ],
            [
             0.5555555555555556,
             "#d8576b"
            ],
            [
             0.6666666666666666,
             "#ed7953"
            ],
            [
             0.7777777777777778,
             "#fb9f3a"
            ],
            [
             0.8888888888888888,
             "#fdca26"
            ],
            [
             1,
             "#f0f921"
            ]
           ],
           "sequentialminus": [
            [
             0,
             "#0d0887"
            ],
            [
             0.1111111111111111,
             "#46039f"
            ],
            [
             0.2222222222222222,
             "#7201a8"
            ],
            [
             0.3333333333333333,
             "#9c179e"
            ],
            [
             0.4444444444444444,
             "#bd3786"
            ],
            [
             0.5555555555555556,
             "#d8576b"
            ],
            [
             0.6666666666666666,
             "#ed7953"
            ],
            [
             0.7777777777777778,
             "#fb9f3a"
            ],
            [
             0.8888888888888888,
             "#fdca26"
            ],
            [
             1,
             "#f0f921"
            ]
           ]
          },
          "colorway": [
           "#636efa",
           "#EF553B",
           "#00cc96",
           "#ab63fa",
           "#FFA15A",
           "#19d3f3",
           "#FF6692",
           "#B6E880",
           "#FF97FF",
           "#FECB52"
          ],
          "font": {
           "color": "#2a3f5f"
          },
          "geo": {
           "bgcolor": "white",
           "lakecolor": "white",
           "landcolor": "#E5ECF6",
           "showlakes": true,
           "showland": true,
           "subunitcolor": "white"
          },
          "hoverlabel": {
           "align": "left"
          },
          "hovermode": "closest",
          "mapbox": {
           "style": "light"
          },
          "paper_bgcolor": "white",
          "plot_bgcolor": "#E5ECF6",
          "polar": {
           "angularaxis": {
            "gridcolor": "white",
            "linecolor": "white",
            "ticks": ""
           },
           "bgcolor": "#E5ECF6",
           "radialaxis": {
            "gridcolor": "white",
            "linecolor": "white",
            "ticks": ""
           }
          },
          "scene": {
           "xaxis": {
            "backgroundcolor": "#E5ECF6",
            "gridcolor": "white",
            "gridwidth": 2,
            "linecolor": "white",
            "showbackground": true,
            "ticks": "",
            "zerolinecolor": "white"
           },
           "yaxis": {
            "backgroundcolor": "#E5ECF6",
            "gridcolor": "white",
            "gridwidth": 2,
            "linecolor": "white",
            "showbackground": true,
            "ticks": "",
            "zerolinecolor": "white"
           },
           "zaxis": {
            "backgroundcolor": "#E5ECF6",
            "gridcolor": "white",
            "gridwidth": 2,
            "linecolor": "white",
            "showbackground": true,
            "ticks": "",
            "zerolinecolor": "white"
           }
          },
          "shapedefaults": {
           "line": {
            "color": "#2a3f5f"
           }
          },
          "ternary": {
           "aaxis": {
            "gridcolor": "white",
            "linecolor": "white",
            "ticks": ""
           },
           "baxis": {
            "gridcolor": "white",
            "linecolor": "white",
            "ticks": ""
           },
           "bgcolor": "#E5ECF6",
           "caxis": {
            "gridcolor": "white",
            "linecolor": "white",
            "ticks": ""
           }
          },
          "title": {
           "x": 0.05
          },
          "xaxis": {
           "automargin": true,
           "gridcolor": "white",
           "linecolor": "white",
           "ticks": "",
           "title": {
            "standoff": 15
           },
           "zerolinecolor": "white",
           "zerolinewidth": 2
          },
          "yaxis": {
           "automargin": true,
           "gridcolor": "white",
           "linecolor": "white",
           "ticks": "",
           "title": {
            "standoff": 15
           },
           "zerolinecolor": "white",
           "zerolinewidth": 2
          }
         }
        },
        "xaxis": {
         "anchor": "y2",
         "domain": [
          0,
          1
         ],
         "zeroline": false
        },
        "yaxis": {
         "anchor": "free",
         "domain": [
          0.35,
          1
         ],
         "position": 0
        },
        "yaxis2": {
         "anchor": "x",
         "domain": [
          0,
          0.25
         ],
         "dtick": 1,
         "showticklabels": false
        }
       }
      },
      "text/html": [
       "<div>                            <div id=\"a0fa223f-ea17-45b6-ab59-5de912fe9f13\" class=\"plotly-graph-div\" style=\"height:525px; width:100%;\"></div>            <script type=\"text/javascript\">                require([\"plotly\"], function(Plotly) {                    window.PLOTLYENV=window.PLOTLYENV || {};                                    if (document.getElementById(\"a0fa223f-ea17-45b6-ab59-5de912fe9f13\")) {                    Plotly.newPlot(                        \"a0fa223f-ea17-45b6-ab59-5de912fe9f13\",                        [{\"autobinx\": false, \"histnorm\": \"probability density\", \"legendgroup\": \"area\", \"marker\": {\"color\": \"rgb(31, 119, 180)\"}, \"name\": \"area\", \"opacity\": 0.7, \"type\": \"histogram\", \"x\": [0.0, 0.0, 0.0, 0.0, 0.0, 0.0, 0.0, 0.0, 0.0, 0.0, 0.0, 0.0, 0.0, 0.0, 0.0, 0.0, 0.0, 0.0, 0.0, 0.0, 0.0, 0.0, 0.0, 0.0, 0.0, 0.0, 0.0, 0.0, 0.0, 0.0, 0.0, 0.0, 0.0, 0.0, 0.0, 0.0, 0.0, 0.0, 0.0, 0.0, 0.0, 0.0, 0.0, 0.0, 0.0, 0.0, 0.0, 0.0, 0.0, 0.0, 0.0, 0.0, 0.0, 0.0, 0.0, 0.0, 0.0, 0.0, 0.0, 0.0, 0.0, 0.0, 0.0, 0.0, 0.0, 0.0, 0.0, 0.0, 0.0, 0.0, 0.0, 0.0, 0.0, 0.0, 0.0, 0.0, 0.0, 0.0, 0.0, 0.0, 0.0, 0.0, 0.0, 0.0, 0.0, 0.0, 0.0, 0.0, 0.0, 0.0, 0.0, 0.0, 0.0, 0.0, 0.0, 0.0, 0.0, 0.0, 0.0, 0.0, 0.0, 0.0, 0.0, 0.0, 0.0, 0.0, 0.0, 0.0, 0.0, 0.0, 0.0, 0.0, 0.0, 0.0, 0.0, 0.0, 0.0, 0.0, 0.0, 0.0, 0.0, 0.0, 0.0, 0.0, 0.0, 0.0, 0.0, 0.0, 0.0, 0.0, 0.0, 0.0, 0.0, 0.0, 0.0, 0.0, 0.0, 0.0, 0.36, 0.43, 0.47, 0.55, 0.61, 0.71, 0.77, 0.9, 0.95, 0.96, 1.07, 1.12, 1.19, 1.36, 1.43, 1.46, 1.46, 1.56, 1.61, 1.63, 1.64, 1.69, 1.75, 1.9, 1.94, 1.95, 2.01, 2.14, 2.29, 2.51, 2.53, 2.55, 2.57, 2.69, 2.74, 3.07, 3.5, 4.53, 4.61, 4.69, 4.88, 5.23, 5.33, 5.44, 6.38, 6.83, 6.96, 7.04, 7.19, 7.3, 7.4, 8.24, 8.31, 8.68, 8.71, 9.41, 10.01, 10.02, 10.93, 11.06, 11.24, 11.32, 11.53, 12.1, 13.05, 13.7, 13.99, 14.57, 15.45, 17.2, 19.23, 23.41, 24.23, 26.0, 26.13, 27.35, 28.66, 28.66, 29.48, 30.32, 31.72, 31.86, 32.07, 35.88, 36.85, 37.02, 37.71, 48.55, 49.37, 58.3, 64.1, 71.3, 88.49, 95.18, 103.39, 105.66, 154.88, 196.48, 200.94, 212.88, 1090.84, 0.0, 0.0, 0.0, 10.13, 0.0, 2.87, 0.76, 0.09, 0.75, 0.0, 2.47, 0.68, 0.24, 0.21, 1.52, 10.34, 0.0, 8.02, 0.68, 0.0, 1.38, 8.85, 3.3, 4.25, 1.56, 6.54, 0.79, 0.17, 0.0, 0.0, 4.4, 0.52, 9.27, 3.09, 8.98, 11.19, 5.38, 17.85, 10.73, 22.03, 9.77, 9.27, 24.77, 0.0, 1.1, 24.24, 0.0, 0.0, 0.0, 0.0, 0.0, 0.0, 8.0, 2.64, 86.45, 6.57, 0.0, 0.9, 0.0, 0.0, 0.0, 0.0, 3.52, 0.0, 0.0, 0.0, 0.0, 0.41, 5.18, 0.0, 0.0, 0.0, 14.29, 0.0, 0.0, 1.58, 0.0, 0.0, 3.78, 0.0, 4.41, 34.36, 7.21, 1.01, 2.18, 4.42, 0.0, 0.0, 0.0, 0.0, 3.33, 6.58, 15.64, 11.22, 2.13, 0.0, 0.0, 0.0, 56.04, 7.48, 1.47, 3.93, 0.0, 0.0, 2.18, 6.1, 5.83, 28.19, 0.0, 0.0, 1.64, 3.71, 7.31, 2.03, 1.72, 5.97, 13.06, 1.26, 0.0, 0.0, 8.12, 1.09, 3.94, 0.52, 2.93, 5.65, 20.03, 1.75, 0.0, 12.64, 0.0, 11.06, 0.0, 0.0, 0.0, 18.3, 39.35, 0.0, 174.63, 0.0, 0.0, 7.73, 16.33, 5.86, 42.87, 12.18, 16.0, 24.59, 0.0, 28.74, 0.0, 9.96, 30.18, 70.76, 0.0, 0.0, 51.78, 3.64, 3.63, 0.0, 0.0, 8.16, 4.95, 0.0, 0.0, 6.04, 0.0, 3.95, 0.0, 7.8, 0.0, 0.0, 4.62, 1.63, 0.0, 0.0, 746.28, 7.02, 0.0, 2.44, 3.05, 185.76, 0.0, 6.3, 0.72, 4.96, 0.0, 0.0, 2.35, 0.0, 3.2, 0.0, 6.36, 0.0, 15.34, 0.0, 0.0, 0.54, 0.0, 6.43, 0.33, 0.0, 1.23, 3.35, 0.0, 9.96, 0.0, 0.0, 0.0, 0.0, 0.0, 6.43, 9.71, 0.0, 0.0, 0.0, 0.0, 0.0, 82.75, 3.32, 1.94, 0.0, 0.0, 3.71, 5.39, 2.14, 6.84, 3.18, 5.55, 6.61, 61.13, 0.0, 38.48, 1.94, 70.32, 10.08, 3.19, 1.76, 7.36, 2.21, 278.53, 2.75, 0.0, 1.29, 0.0, 26.43, 2.07, 2.0, 16.4, 46.7, 0.0, 0.0, 0.0, 0.0, 43.32, 8.59, 0.0, 2.77, 14.68, 40.54, 10.82, 0.0, 0.0, 0.0, 1.95, 49.59, 5.8, 0.0, 0.0, 0.0, 2.17, 0.43, 0.0, 6.44, 54.29, 11.16, 0.0, 0.0], \"xaxis\": \"x\", \"xbins\": {\"end\": 1090.84, \"size\": 1.0, \"start\": 0.0}, \"yaxis\": \"y\"}, {\"legendgroup\": \"area\", \"marker\": {\"color\": \"rgb(31, 119, 180)\"}, \"mode\": \"lines\", \"name\": \"area\", \"showlegend\": false, \"type\": \"scatter\", \"x\": [0.0, 2.1816799999999996, 4.363359999999999, 6.545039999999999, 8.726719999999998, 10.9084, 13.090079999999999, 15.271759999999999, 17.453439999999997, 19.63512, 21.8168, 23.99848, 26.180159999999997, 28.361839999999997, 30.543519999999997, 32.725199999999994, 34.906879999999994, 37.08856, 39.27024, 41.45192, 43.6336, 45.81528, 47.99696, 50.17864, 52.360319999999994, 54.541999999999994, 56.723679999999995, 58.905359999999995, 61.087039999999995, 63.268719999999995, 65.45039999999999, 67.63208, 69.81375999999999, 71.99543999999999, 74.17712, 76.35879999999999, 78.54048, 80.72215999999999, 82.90384, 85.08551999999999, 87.2672, 89.44887999999999, 91.63056, 93.81223999999999, 95.99392, 98.17559999999999, 100.35728, 102.53895999999999, 104.72063999999999, 106.90231999999999, 109.08399999999999, 111.26567999999999, 113.44735999999999, 115.62903999999999, 117.81071999999999, 119.99239999999999, 122.17407999999999, 124.35575999999999, 126.53743999999999, 128.71912, 130.90079999999998, 133.08247999999998, 135.26416, 137.44584, 139.62751999999998, 141.80919999999998, 143.99087999999998, 146.17256, 148.35424, 150.53591999999998, 152.71759999999998, 154.89928, 157.08096, 159.26263999999998, 161.44431999999998, 163.626, 165.80768, 167.98935999999998, 170.17103999999998, 172.35272, 174.5344, 176.71607999999998, 178.89775999999998, 181.07943999999998, 183.26112, 185.44279999999998, 187.62447999999998, 189.80615999999998, 191.98784, 194.16951999999998, 196.35119999999998, 198.53287999999998, 200.71456, 202.89623999999998, 205.07791999999998, 207.25959999999998, 209.44127999999998, 211.62295999999998, 213.80463999999998, 215.98631999999998, 218.16799999999998, 220.34968, 222.53135999999998, 224.71303999999998, 226.89471999999998, 229.0764, 231.25807999999998, 233.43975999999998, 235.62143999999998, 237.80312, 239.98479999999998, 242.16647999999998, 244.34815999999998, 246.52983999999998, 248.71151999999998, 250.89319999999998, 253.07487999999998, 255.25655999999998, 257.43824, 259.61992, 261.80159999999995, 263.98328, 266.16495999999995, 268.34664, 270.52832, 272.71, 274.89168, 277.07336, 279.25503999999995, 281.43672, 283.61839999999995, 285.80008, 287.98175999999995, 290.16344, 292.34512, 294.5268, 296.70848, 298.89016, 301.07183999999995, 303.25352, 305.43519999999995, 307.61688, 309.79856, 311.98024, 314.16192, 316.3436, 318.52527999999995, 320.70696, 322.88863999999995, 325.0703199999999, 327.252, 329.43368, 331.61536, 333.79704, 335.97871999999995, 338.1604, 340.34207999999995, 342.5237599999999, 344.70544, 346.88712, 349.0688, 351.25048, 353.43215999999995, 355.61384, 357.79551999999995, 359.9771999999999, 362.15887999999995, 364.34056, 366.52224, 368.70392, 370.88559999999995, 373.06728, 375.24895999999995, 377.43064, 379.61231999999995, 381.794, 383.97568, 386.15736, 388.33903999999995, 390.52072, 392.70239999999995, 394.88408, 397.06575999999995, 399.2474399999999, 401.42912, 403.6108, 405.79247999999995, 407.97416, 410.15583999999996, 412.33752, 414.51919999999996, 416.7008799999999, 418.88255999999996, 421.06424, 423.24591999999996, 425.4276, 427.60927999999996, 429.79096, 431.97263999999996, 434.1543199999999, 436.33599999999996, 438.51768, 440.69936, 442.88104, 445.06271999999996, 447.2444, 449.42607999999996, 451.6077599999999, 453.78943999999996, 455.9711199999999, 458.1528, 460.33448, 462.51615999999996, 464.69784, 466.87951999999996, 469.06119999999993, 471.24287999999996, 473.42455999999993, 475.60624, 477.78792, 479.96959999999996, 482.15128, 484.33295999999996, 486.51463999999993, 488.69631999999996, 490.87799999999993, 493.05967999999996, 495.24136, 497.42303999999996, 499.60472, 501.78639999999996, 503.96808, 506.14975999999996, 508.33143999999993, 510.51311999999996, 512.6948, 514.87648, 517.0581599999999, 519.23984, 521.42152, 523.6031999999999, 525.78488, 527.96656, 530.14824, 532.3299199999999, 534.5115999999999, 536.69328, 538.87496, 541.05664, 543.2383199999999, 545.42, 547.60168, 549.78336, 551.9650399999999, 554.14672, 556.3283999999999, 558.5100799999999, 560.69176, 562.87344, 565.05512, 567.2367999999999, 569.4184799999999, 571.60016, 573.78184, 575.9635199999999, 578.1451999999999, 580.32688, 582.50856, 584.69024, 586.8719199999999, 589.0536, 591.2352799999999, 593.41696, 595.5986399999999, 597.78032, 599.962, 602.1436799999999, 604.3253599999999, 606.50704, 608.68872, 610.8703999999999, 613.0520799999999, 615.23376, 617.41544, 619.59712, 621.7787999999999, 623.96048, 626.1421599999999, 628.32384, 630.5055199999999, 632.6872, 634.86888, 637.0505599999999, 639.23224, 641.41392, 643.5956, 645.7772799999999, 647.9589599999999, 650.1406399999998, 652.32232, 654.504, 656.6856799999999, 658.86736, 661.0490399999999, 663.23072, 665.4123999999999, 667.59408, 669.7757599999999, 671.9574399999999, 674.13912, 676.3208, 678.50248, 680.6841599999999, 682.8658399999999, 685.0475199999998, 687.2292, 689.41088, 691.5925599999999, 693.77424, 695.9559199999999, 698.1376, 700.3192799999999, 702.50096, 704.6826399999999, 706.8643199999999, 709.046, 711.22768, 713.40936, 715.5910399999999, 717.7727199999999, 719.9543999999999, 722.13608, 724.3177599999999, 726.4994399999999, 728.68112, 730.8627999999999, 733.04448, 735.2261599999999, 737.40784, 739.5895199999999, 741.7711999999999, 743.9528799999999, 746.13456, 748.31624, 750.4979199999999, 752.6795999999999, 754.86128, 757.04296, 759.2246399999999, 761.4063199999999, 763.588, 765.7696799999999, 767.95136, 770.1330399999999, 772.31472, 774.4963999999999, 776.6780799999999, 778.8597599999999, 781.04144, 783.22312, 785.4047999999999, 787.5864799999999, 789.76816, 791.94984, 794.1315199999999, 796.3131999999999, 798.4948799999999, 800.67656, 802.85824, 805.0399199999999, 807.2216, 809.4032799999999, 811.5849599999999, 813.7666399999999, 815.94832, 818.1299999999999, 820.3116799999999, 822.4933599999999, 824.67504, 826.85672, 829.0383999999999, 831.2200799999999, 833.4017599999999, 835.58344, 837.7651199999999, 839.9467999999999, 842.12848, 844.3101599999999, 846.4918399999999, 848.6735199999999, 850.8552, 853.0368799999999, 855.2185599999999, 857.4002399999999, 859.58192, 861.7636, 863.9452799999999, 866.1269599999999, 868.3086399999999, 870.49032, 872.6719999999999, 874.8536799999999, 877.03536, 879.2170399999999, 881.39872, 883.5803999999999, 885.76208, 887.9437599999999, 890.1254399999999, 892.3071199999998, 894.4888, 896.67048, 898.8521599999999, 901.0338399999999, 903.2155199999999, 905.3972, 907.5788799999999, 909.7605599999999, 911.9422399999999, 914.1239199999999, 916.3056, 918.4872799999999, 920.66896, 922.8506399999999, 925.0323199999999, 927.2139999999998, 929.39568, 931.57736, 933.7590399999999, 935.9407199999999, 938.1223999999999, 940.30408, 942.4857599999999, 944.6674399999999, 946.8491199999999, 949.0307999999999, 951.21248, 953.3941599999999, 955.57584, 957.7575199999999, 959.9391999999999, 962.1208799999999, 964.30256, 966.4842399999999, 968.6659199999999, 970.8475999999999, 973.0292799999999, 975.21096, 977.3926399999999, 979.57432, 981.7559999999999, 983.9376799999999, 986.1193599999999, 988.30104, 990.48272, 992.6643999999999, 994.8460799999999, 997.02776, 999.20944, 1001.3911199999999, 1003.5727999999999, 1005.75448, 1007.93616, 1010.11784, 1012.2995199999999, 1014.4812, 1016.6628799999999, 1018.8445599999999, 1021.0262399999999, 1023.20792, 1025.3896, 1027.57128, 1029.75296, 1031.93464, 1034.1163199999999, 1036.2979999999998, 1038.47968, 1040.6613599999998, 1042.84304, 1045.02472, 1047.2063999999998, 1049.38808, 1051.56976, 1053.75144, 1055.93312, 1058.1147999999998, 1060.29648, 1062.47816, 1064.6598399999998, 1066.84152, 1069.0231999999999, 1071.2048799999998, 1073.38656, 1075.56824, 1077.74992, 1079.9316, 1082.11328, 1084.29496, 1086.4766399999999, 1088.6583199999998], \"xaxis\": \"x\", \"y\": [0.0191400444077827, 0.019351677028626658, 0.019312498594629805, 0.019027053590648876, 0.018509666331583706, 0.01778338105397627, 0.016878355361137003, 0.015829859973401906, 0.01467606691415874, 0.013455816405206877, 0.012206540203578567, 0.01096248893909256, 0.009753368317656547, 0.008603440093655974, 0.00753109487891118, 0.0065488607591827576, 0.0056637784756154485, 0.004878052895287943, 0.00418988205031691, 0.003594367934969535, 0.0030844250908444617, 0.0026516207151139727, 0.0022869004272761677, 0.001981174101480718, 0.0017257541370065761, 0.001512652810563835, 0.001334755326488814, 0.0011858909181050536, 0.001060826404551667, 0.0009552058034480723, 0.0008654568666497109, 0.0007886816167545417, 0.000722543838933229, 0.0006651625533052806, 0.000615017085012241, 0.0005708666157363887, 0.0005316850624839817, 0.0004966107211612994, 0.00046490922316247743, 0.0004359478601076689, 0.00040917912202302566, 0.00038413127598005886, 0.0003604039185275356, 0.0003376666215851906, 0.0003156590303745172, 0.0002941910468907521, 0.0002731420320803282, 0.0002524582740200075, 0.0002321482863003259, 0.00021227580658883153, 0.00019295064448407445, 0.00017431776472848925, 0.0001565451730518152, 0.00013981128771666594, 0.0001242925260047691, 0.00011015181332985088, 9.752864124786208e-05, 8.653117206546356e-05, 7.72307278081716e-05, 6.965882674907228e-05, 6.380675718967574e-05, 5.962751873241689e-05, 5.703982535036296e-05, 5.5933757965672616e-05, 5.617757974595531e-05, 5.7625185547917984e-05, 6.012364736445837e-05, 6.352033927361131e-05, 6.766917695286336e-05, 7.243558637878686e-05, 7.769992063553812e-05, 8.335916754349595e-05, 8.93269264061459e-05, 9.553176961031743e-05, 0.00010191423270399664, 0.00010842278343637963, 0.00011500919615098239, 0.00012162379603565964, 0.0001282110353594578, 0.00013470582274911942, 0.00014103095257937074, 0.00014709588337089564, 0.00015279700181689817, 0.0001580193927102151, 0.00016264002335803908, 0.000166532150852208, 0.0001695706765772571, 0.00017163810767015269, 0.00017263074176522596, 0.0001724646706521467, 0.00017108120152993172, 0.00016845132207696958, 0.0001645788875498728, 0.00015950228323959219, 0.0001532944106735562, 0.0001460609556178573, 0.00013793701275012363, 0.00012908225673974126, 0.00011967495247596334, 0.00010990517869340096, 9.996769107280411e-05, 9.005486737418015e-05, 8.035015595360245e-05, 7.102239157352534e-05, 6.222125399989089e-05, 5.40740341548329e-05, 4.668375083190544e-05, 4.0128540927864613e-05, 3.446214067402386e-05, 2.971519601723603e-05, 2.5897095954693125e-05, 2.2998018229842117e-05, 2.099091260835877e-05, 1.9833218216095616e-05, 1.9468208643729224e-05, 1.9825968394969612e-05, 2.0824111153243584e-05, 2.2368438294845394e-05, 2.4353790971575186e-05, 2.666536082066942e-05, 2.9180688613350862e-05, 3.177249945270604e-05, 3.431240696453409e-05, 3.66753827737301e-05, 3.874475090504689e-05, 4.041735028291933e-05, 4.160843096005715e-05, 4.225582480514208e-05, 4.232296547941993e-05, 4.180042336344863e-05, 4.070575791740226e-05, 3.908165511269254e-05, 3.699248920702649e-05, 3.451960362076675e-05, 3.1755725109719295e-05, 2.8798994619899894e-05, 2.5747110588988195e-05, 2.2692037691224727e-05, 1.9715645223701914e-05, 1.6886519146517188e-05, 1.4258057738417922e-05, 1.1867830454930041e-05, 9.738067885433115e-06, 7.877068322124784e-06, 6.281258690943937e-06, 4.937634487284932e-06, 3.826320502483041e-06, 2.923034052767491e-06, 2.2012861980452397e-06, 1.6342151827322108e-06, 1.1960024212954587e-06, 8.628691847798838e-07, 6.136884362076263e-07, 4.302699321608171e-07, 2.973884742183381e-07, 2.0262701330025357e-07, 1.3610078447770704e-07, 9.011850711404692e-08, 5.88243887981503e-08, 3.785218313299518e-08, 2.4011235984399438e-08, 1.5015098092348535e-08, 9.256182432631917e-09, 5.625041251779953e-09, 3.3698424124751806e-09, 1.9901396225803125e-09, 1.1586374847475533e-09, 6.649694256705497e-10, 3.762234436721447e-10, 2.098360513686214e-10, 1.1537306500927723e-10, 6.253437727635338e-11, 3.341360257470874e-11, 1.7600210019246568e-11, 9.139079847281885e-12, 4.678182579709375e-12, 2.3607061814273438e-12, 1.1743479152572878e-12, 5.758928667405026e-13, 2.784047824833997e-13, 1.3267886805425906e-13, 6.233283763476743e-14, 2.88683600133659e-14, 1.3180060426609614e-14, 5.932022152470371e-15, 2.6319534333498977e-15, 1.1511812627755699e-15, 4.963628818380799e-16, 2.109817822568322e-16, 8.840578607931801e-17, 3.651795908454696e-17, 1.487039070671193e-17, 5.969367753564541e-18, 2.3622418818068922e-18, 9.215321031612456e-19, 3.5439423409594817e-19, 1.3435471119764877e-19, 5.021219724679859e-20, 1.849931411743843e-20, 6.718806001183484e-21, 2.4055736073533447e-21, 8.49053923538411e-22, 2.9542141249829905e-22, 1.0133016305697033e-22, 3.426301582426016e-23, 1.1420957259557648e-23, 3.752921668592907e-24, 1.2157004223278412e-24, 3.882162493020958e-25, 1.222111766070554e-25, 3.792610258658555e-26, 1.1602606931766495e-26, 3.499153689810039e-27, 1.0403046277727741e-27, 3.0489346577725624e-28, 8.80898311915787e-29, 2.508958700751226e-29, 7.04451862245627e-30, 1.9498410287976163e-30, 5.320312739851989e-31, 1.4310842207644964e-31, 3.7947511272702933e-32, 9.919538748602942e-33, 2.5561699907893452e-33, 6.493488261874492e-34, 1.626134492099907e-34, 4.014439690861726e-35, 9.76975084337651e-36, 2.3438624031010767e-36, 5.543331075578007e-37, 1.2924082667398466e-37, 2.9704449872465137e-38, 6.731215292789191e-39, 1.508143107734421e-39, 3.541786753986117e-40, 1.7980127414511796e-40, 5.108465296533068e-40, 2.244963290955363e-39, 9.999124606087369e-39, 4.396178971915274e-38, 1.9054846063825385e-37, 8.14192017294828e-37, 3.429559701695331e-36, 1.4240983120368598e-35, 5.829504611003818e-35, 2.3524120900683804e-34, 9.35804716012361e-34, 3.669840002891153e-33, 1.4187278866416008e-32, 5.406810573992957e-32, 2.031296301175663e-31, 7.523076448225507e-31, 2.7466779847831325e-30, 9.885760670145571e-30, 3.5075390267487646e-29, 1.2268317469893965e-28, 4.230167592605343e-28, 1.4378719643132637e-27, 4.8180680777667045e-27, 1.591533272989601e-26, 5.182610696061708e-26, 1.6636866268062682e-25, 5.264832253604241e-25, 1.6424328597248659e-24, 5.051039749858463e-24, 1.531313183126526e-23, 4.5765407176145567e-23, 1.348344022058509e-22, 3.9161035913658444e-22, 1.1212377291715935e-21, 3.164690977738416e-21, 8.805519614095037e-21, 2.4152869942952483e-20, 6.53089303692027e-20, 1.7408705288844991e-19, 4.574571812063229e-19, 1.1850167800874711e-18, 3.026137272526067e-18, 7.618032541692515e-18, 1.890545336030314e-17, 4.625103368151816e-17, 1.1154391015030272e-16, 2.6519196406563525e-16, 6.215340546589542e-16, 1.4360169717656596e-15, 3.270726956809052e-15, 7.343770260550864e-15, 1.6254886748449828e-14, 3.5468178709873316e-14, 7.629286114666992e-14, 1.6177782430914202e-13, 3.381770667321943e-13, 6.968822282541233e-13, 1.4156787072152771e-12, 2.8350458359736334e-12, 5.596874177411394e-12, 1.0892337178942666e-11, 2.0897131897326997e-11, 3.952231408210536e-11, 7.36865325590518e-11, 1.3543282891781965e-10, 2.453860409308758e-10, 4.382943089041139e-10, 7.717415508217266e-10, 1.3395780092536112e-09, 2.2922089801830103e-09, 3.8666110160046975e-09, 6.429790643082602e-09, 1.054030686453874e-08, 1.703333749513525e-08, 2.7135405902331226e-08, 4.2615046555423554e-08, 6.597504365650701e-08, 1.0069003212925927e-07, 1.5148978412961253e-07, 2.2468303835631754e-07, 3.285090238098621e-07, 4.7349390542771015e-07, 6.727776524738254e-07, 9.423642346595068e-07, 1.301236111314029e-06, 1.771264805001663e-06, 2.3768455055176007e-06, 3.1441878708522584e-06, 4.100209962835254e-06, 5.2710092607965635e-06, 6.679924225638339e-06, 8.345250298413517e-06, 1.0277731600021072e-05, 1.247800775489138e-05, 1.4934246126084879e-05, 1.7620224275320606e-05, 2.0494136925671072e-05, 2.349837927141961e-05, 2.6560500773065024e-05, 2.95954319477644e-05, 3.2508967848677444e-05, 3.5202357826877564e-05, 3.757771769864546e-05, 3.954386546503981e-05, 4.10221024091513e-05, 4.195143134593706e-05, 4.229273060117647e-05, 4.203148584510577e-05, 4.117881397462421e-05, 3.977067840200966e-05, 3.786537293137566e-05, 3.553951951309687e-05, 3.2882962674970516e-05, 2.9993034094721433e-05, 2.6968695330893388e-05, 2.3905043976280373e-05, 2.0888595068106472e-05, 1.7993638424421814e-05, 1.5279840525527716e-05, 1.2791124557051957e-05, 1.055574058539677e-05, 8.58734207540046e-06, 6.886822538660196e-06, 5.444639067491552e-06, 4.243355055672921e-06, 3.2601660711168363e-06, 2.4692220622573652e-06, 1.8436167624690312e-06, 1.3569730476200172e-06, 9.846046204167007e-07, 7.042755172657472e-07, 4.966076292652271e-07, 3.452027583677939e-07, 2.3655122506003866e-07, 1.5979611626171646e-07, 1.0641364327037435e-07, 6.985837496401808e-08, 4.5209501635101064e-08, 2.884237602001058e-08, 1.8139379354859854e-08, 1.1246150381882503e-08, 6.873460223341996e-09, 4.1413032680673265e-09, 2.459737264019308e-09, 1.440225447211983e-09, 8.313086775681035e-10, 4.730251387026749e-10, 2.653360158478084e-10, 1.4672302077749857e-10, 7.99816556646996e-11, 4.2980611927648607e-11, 2.276904801100216e-11, 1.1890694616409325e-11, 6.1215253483681615e-12, 3.1067202844849486e-12, 1.554299574149755e-12, 7.665798107077792e-13, 3.7270918909205083e-13, 1.786376091992366e-13, 8.440453258731375e-14, 3.931413410904512e-14, 1.805185076481509e-14, 8.171180957224355e-15, 3.646179091889699e-15, 1.6039145919664607e-15, 6.955278984321846e-16, 2.973294620477439e-16, 1.253000976887079e-16, 5.205410073676324e-17, 2.1318103232613647e-17, 8.606612457804064e-18, 3.4253583192560874e-18, 1.3439089429204337e-18, 5.197850128391075e-19, 1.9818361069971756e-19, 7.449065517669977e-20, 2.760107049162335e-20, 1.008184780675602e-20, 3.630316304791607e-21, 1.288662796748192e-21, 4.509498227129206e-22, 1.5557714066925728e-22, 5.295684529849322e-23, 1.7914146071708111e-23, 6.4290843222379865e-24, 3.680346025933101e-24, 6.054305870607798e-24, 1.6674038062495243e-23, 4.9266090067287944e-23, 1.4485013555575396e-22, 4.20250583542621e-22, 1.202077986120518e-21, 3.389625535818236e-21, 9.422396281774992e-21, 2.582029107150901e-20, 6.975108721558612e-20, 1.857508901693931e-19, 4.876417713848743e-19, 1.2620046956534395e-18, 3.219668180815738e-18, 8.097507043984189e-18, 2.0076205269490364e-17, 4.906841103683667e-17, 1.182258474867258e-16, 2.8081024684226393e-16, 6.575117841189819e-16, 1.5176939553309967e-15, 3.4534640719409634e-15, 7.746682454219094e-15, 1.7130365924484493e-14, 3.7342862044967145e-14, 8.024881618762825e-14, 1.7000423602537058e-13, 3.550348011150085e-13, 7.309239323908732e-13, 1.4834178918809193e-12, 2.9678702998908608e-12, 5.8535104331323196e-12, 1.138093518223943e-11, 2.1813712111238513e-11, 4.121651601623356e-11, 7.677203526416405e-11, 1.409694170370968e-10, 2.5517423858333954e-10, 4.5534316871037394e-10, 8.009970147076385e-10, 1.3890345352617373e-09, 2.374571570524471e-09, 4.001727929042332e-09, 6.648136485175721e-09, 1.0887856029018585e-08, 1.7578219624816078e-08, 2.7976763863354796e-08, 4.389450362771736e-08, 6.789110563805292e-08, 1.0351557401187996e-07, 1.555924724814108e-07, 2.3054809798903385e-07, 3.367631625436254e-07, 4.849284777718969e-07, 6.883683167770665e-07, 9.632835215645907e-07, 1.32885459736789e-06, 1.8071361330088552e-06, 2.4226704937172596e-06, 3.2017535852650375e-06, 4.171301034859609e-06, 5.357290984507135e-06, 6.782800022019776e-06, 8.465699799008307e-06, 1.0416139536022907e-05, 1.2633997552708415e-05, 1.5106535021842561e-05, 1.780651826068136e-05, 2.0691083393307693e-05, 2.3701592491441243e-05, 2.676467023355086e-05, 2.9794516412015892e-05, 3.2696469359337285e-05, 3.5371660777203425e-05, 3.772246965115757e-05, 3.965836982496867e-05, 4.110168940308613e-05, 4.1992773731778795e-05], \"yaxis\": \"y\"}, {\"legendgroup\": \"area\", \"marker\": {\"color\": \"rgb(31, 119, 180)\", \"symbol\": \"line-ns-open\"}, \"mode\": \"markers\", \"name\": \"area\", \"showlegend\": false, \"type\": \"scatter\", \"x\": [0.0, 0.0, 0.0, 0.0, 0.0, 0.0, 0.0, 0.0, 0.0, 0.0, 0.0, 0.0, 0.0, 0.0, 0.0, 0.0, 0.0, 0.0, 0.0, 0.0, 0.0, 0.0, 0.0, 0.0, 0.0, 0.0, 0.0, 0.0, 0.0, 0.0, 0.0, 0.0, 0.0, 0.0, 0.0, 0.0, 0.0, 0.0, 0.0, 0.0, 0.0, 0.0, 0.0, 0.0, 0.0, 0.0, 0.0, 0.0, 0.0, 0.0, 0.0, 0.0, 0.0, 0.0, 0.0, 0.0, 0.0, 0.0, 0.0, 0.0, 0.0, 0.0, 0.0, 0.0, 0.0, 0.0, 0.0, 0.0, 0.0, 0.0, 0.0, 0.0, 0.0, 0.0, 0.0, 0.0, 0.0, 0.0, 0.0, 0.0, 0.0, 0.0, 0.0, 0.0, 0.0, 0.0, 0.0, 0.0, 0.0, 0.0, 0.0, 0.0, 0.0, 0.0, 0.0, 0.0, 0.0, 0.0, 0.0, 0.0, 0.0, 0.0, 0.0, 0.0, 0.0, 0.0, 0.0, 0.0, 0.0, 0.0, 0.0, 0.0, 0.0, 0.0, 0.0, 0.0, 0.0, 0.0, 0.0, 0.0, 0.0, 0.0, 0.0, 0.0, 0.0, 0.0, 0.0, 0.0, 0.0, 0.0, 0.0, 0.0, 0.0, 0.0, 0.0, 0.0, 0.0, 0.0, 0.36, 0.43, 0.47, 0.55, 0.61, 0.71, 0.77, 0.9, 0.95, 0.96, 1.07, 1.12, 1.19, 1.36, 1.43, 1.46, 1.46, 1.56, 1.61, 1.63, 1.64, 1.69, 1.75, 1.9, 1.94, 1.95, 2.01, 2.14, 2.29, 2.51, 2.53, 2.55, 2.57, 2.69, 2.74, 3.07, 3.5, 4.53, 4.61, 4.69, 4.88, 5.23, 5.33, 5.44, 6.38, 6.83, 6.96, 7.04, 7.19, 7.3, 7.4, 8.24, 8.31, 8.68, 8.71, 9.41, 10.01, 10.02, 10.93, 11.06, 11.24, 11.32, 11.53, 12.1, 13.05, 13.7, 13.99, 14.57, 15.45, 17.2, 19.23, 23.41, 24.23, 26.0, 26.13, 27.35, 28.66, 28.66, 29.48, 30.32, 31.72, 31.86, 32.07, 35.88, 36.85, 37.02, 37.71, 48.55, 49.37, 58.3, 64.1, 71.3, 88.49, 95.18, 103.39, 105.66, 154.88, 196.48, 200.94, 212.88, 1090.84, 0.0, 0.0, 0.0, 10.13, 0.0, 2.87, 0.76, 0.09, 0.75, 0.0, 2.47, 0.68, 0.24, 0.21, 1.52, 10.34, 0.0, 8.02, 0.68, 0.0, 1.38, 8.85, 3.3, 4.25, 1.56, 6.54, 0.79, 0.17, 0.0, 0.0, 4.4, 0.52, 9.27, 3.09, 8.98, 11.19, 5.38, 17.85, 10.73, 22.03, 9.77, 9.27, 24.77, 0.0, 1.1, 24.24, 0.0, 0.0, 0.0, 0.0, 0.0, 0.0, 8.0, 2.64, 86.45, 6.57, 0.0, 0.9, 0.0, 0.0, 0.0, 0.0, 3.52, 0.0, 0.0, 0.0, 0.0, 0.41, 5.18, 0.0, 0.0, 0.0, 14.29, 0.0, 0.0, 1.58, 0.0, 0.0, 3.78, 0.0, 4.41, 34.36, 7.21, 1.01, 2.18, 4.42, 0.0, 0.0, 0.0, 0.0, 3.33, 6.58, 15.64, 11.22, 2.13, 0.0, 0.0, 0.0, 56.04, 7.48, 1.47, 3.93, 0.0, 0.0, 2.18, 6.1, 5.83, 28.19, 0.0, 0.0, 1.64, 3.71, 7.31, 2.03, 1.72, 5.97, 13.06, 1.26, 0.0, 0.0, 8.12, 1.09, 3.94, 0.52, 2.93, 5.65, 20.03, 1.75, 0.0, 12.64, 0.0, 11.06, 0.0, 0.0, 0.0, 18.3, 39.35, 0.0, 174.63, 0.0, 0.0, 7.73, 16.33, 5.86, 42.87, 12.18, 16.0, 24.59, 0.0, 28.74, 0.0, 9.96, 30.18, 70.76, 0.0, 0.0, 51.78, 3.64, 3.63, 0.0, 0.0, 8.16, 4.95, 0.0, 0.0, 6.04, 0.0, 3.95, 0.0, 7.8, 0.0, 0.0, 4.62, 1.63, 0.0, 0.0, 746.28, 7.02, 0.0, 2.44, 3.05, 185.76, 0.0, 6.3, 0.72, 4.96, 0.0, 0.0, 2.35, 0.0, 3.2, 0.0, 6.36, 0.0, 15.34, 0.0, 0.0, 0.54, 0.0, 6.43, 0.33, 0.0, 1.23, 3.35, 0.0, 9.96, 0.0, 0.0, 0.0, 0.0, 0.0, 6.43, 9.71, 0.0, 0.0, 0.0, 0.0, 0.0, 82.75, 3.32, 1.94, 0.0, 0.0, 3.71, 5.39, 2.14, 6.84, 3.18, 5.55, 6.61, 61.13, 0.0, 38.48, 1.94, 70.32, 10.08, 3.19, 1.76, 7.36, 2.21, 278.53, 2.75, 0.0, 1.29, 0.0, 26.43, 2.07, 2.0, 16.4, 46.7, 0.0, 0.0, 0.0, 0.0, 43.32, 8.59, 0.0, 2.77, 14.68, 40.54, 10.82, 0.0, 0.0, 0.0, 1.95, 49.59, 5.8, 0.0, 0.0, 0.0, 2.17, 0.43, 0.0, 6.44, 54.29, 11.16, 0.0, 0.0], \"xaxis\": \"x\", \"y\": [\"area\", \"area\", \"area\", \"area\", \"area\", \"area\", \"area\", \"area\", \"area\", \"area\", \"area\", \"area\", \"area\", \"area\", \"area\", \"area\", \"area\", \"area\", \"area\", \"area\", \"area\", \"area\", \"area\", \"area\", \"area\", \"area\", \"area\", \"area\", \"area\", \"area\", \"area\", \"area\", \"area\", \"area\", \"area\", \"area\", \"area\", \"area\", \"area\", \"area\", \"area\", \"area\", \"area\", \"area\", \"area\", \"area\", \"area\", \"area\", \"area\", \"area\", \"area\", \"area\", \"area\", \"area\", \"area\", \"area\", \"area\", \"area\", \"area\", \"area\", \"area\", \"area\", \"area\", \"area\", \"area\", \"area\", \"area\", \"area\", \"area\", \"area\", \"area\", \"area\", \"area\", \"area\", \"area\", \"area\", \"area\", \"area\", \"area\", \"area\", \"area\", \"area\", \"area\", \"area\", \"area\", \"area\", \"area\", \"area\", \"area\", \"area\", \"area\", \"area\", \"area\", \"area\", \"area\", \"area\", \"area\", \"area\", \"area\", \"area\", \"area\", \"area\", \"area\", \"area\", \"area\", \"area\", \"area\", \"area\", \"area\", \"area\", \"area\", \"area\", \"area\", \"area\", \"area\", \"area\", \"area\", \"area\", \"area\", \"area\", \"area\", \"area\", \"area\", \"area\", \"area\", \"area\", \"area\", \"area\", \"area\", \"area\", \"area\", \"area\", \"area\", \"area\", \"area\", \"area\", \"area\", \"area\", \"area\", \"area\", \"area\", \"area\", \"area\", \"area\", \"area\", \"area\", \"area\", \"area\", \"area\", \"area\", \"area\", \"area\", \"area\", \"area\", \"area\", \"area\", \"area\", \"area\", \"area\", \"area\", \"area\", \"area\", \"area\", \"area\", \"area\", \"area\", \"area\", \"area\", \"area\", \"area\", \"area\", \"area\", \"area\", \"area\", \"area\", \"area\", \"area\", \"area\", \"area\", \"area\", \"area\", \"area\", \"area\", \"area\", \"area\", \"area\", \"area\", \"area\", \"area\", \"area\", \"area\", \"area\", \"area\", \"area\", \"area\", \"area\", \"area\", \"area\", \"area\", \"area\", \"area\", \"area\", \"area\", \"area\", \"area\", \"area\", \"area\", \"area\", \"area\", \"area\", \"area\", \"area\", \"area\", \"area\", \"area\", \"area\", \"area\", \"area\", \"area\", \"area\", \"area\", \"area\", \"area\", \"area\", \"area\", \"area\", \"area\", \"area\", \"area\", \"area\", \"area\", \"area\", \"area\", \"area\", \"area\", \"area\", \"area\", \"area\", \"area\", \"area\", \"area\", \"area\", \"area\", \"area\", \"area\", \"area\", \"area\", \"area\", \"area\", \"area\", \"area\", \"area\", \"area\", \"area\", \"area\", \"area\", \"area\", \"area\", \"area\", \"area\", \"area\", \"area\", \"area\", \"area\", \"area\", \"area\", \"area\", \"area\", \"area\", \"area\", \"area\", \"area\", \"area\", \"area\", \"area\", \"area\", \"area\", \"area\", \"area\", \"area\", \"area\", \"area\", \"area\", \"area\", \"area\", \"area\", \"area\", \"area\", \"area\", \"area\", \"area\", \"area\", \"area\", \"area\", \"area\", \"area\", \"area\", \"area\", \"area\", \"area\", \"area\", \"area\", \"area\", \"area\", \"area\", \"area\", \"area\", \"area\", \"area\", \"area\", \"area\", \"area\", \"area\", \"area\", \"area\", \"area\", \"area\", \"area\", \"area\", \"area\", \"area\", \"area\", \"area\", \"area\", \"area\", \"area\", \"area\", \"area\", \"area\", \"area\", \"area\", \"area\", \"area\", \"area\", \"area\", \"area\", \"area\", \"area\", \"area\", \"area\", \"area\", \"area\", \"area\", \"area\", \"area\", \"area\", \"area\", \"area\", \"area\", \"area\", \"area\", \"area\", \"area\", \"area\", \"area\", \"area\", \"area\", \"area\", \"area\", \"area\", \"area\", \"area\", \"area\", \"area\", \"area\", \"area\", \"area\", \"area\", \"area\", \"area\", \"area\", \"area\", \"area\", \"area\", \"area\", \"area\", \"area\", \"area\", \"area\", \"area\", \"area\", \"area\", \"area\", \"area\", \"area\", \"area\", \"area\", \"area\", \"area\", \"area\", \"area\", \"area\", \"area\", \"area\", \"area\", \"area\", \"area\", \"area\", \"area\", \"area\", \"area\", \"area\", \"area\", \"area\", \"area\", \"area\", \"area\", \"area\", \"area\", \"area\", \"area\", \"area\", \"area\", \"area\", \"area\", \"area\", \"area\", \"area\", \"area\", \"area\", \"area\", \"area\", \"area\", \"area\", \"area\", \"area\", \"area\", \"area\", \"area\", \"area\", \"area\", \"area\", \"area\", \"area\", \"area\", \"area\", \"area\", \"area\", \"area\", \"area\", \"area\", \"area\", \"area\", \"area\", \"area\", \"area\", \"area\", \"area\", \"area\", \"area\", \"area\", \"area\", \"area\", \"area\", \"area\", \"area\", \"area\", \"area\", \"area\", \"area\", \"area\", \"area\", \"area\", \"area\", \"area\", \"area\", \"area\", \"area\", \"area\", \"area\", \"area\", \"area\", \"area\", \"area\", \"area\", \"area\", \"area\", \"area\", \"area\", \"area\", \"area\", \"area\", \"area\", \"area\", \"area\", \"area\", \"area\", \"area\", \"area\", \"area\", \"area\", \"area\", \"area\", \"area\", \"area\", \"area\", \"area\", \"area\", \"area\", \"area\", \"area\", \"area\", \"area\", \"area\", \"area\", \"area\", \"area\", \"area\", \"area\", \"area\", \"area\", \"area\", \"area\", \"area\", \"area\", \"area\", \"area\"], \"yaxis\": \"y2\"}],                        {\"barmode\": \"overlay\", \"hovermode\": \"closest\", \"legend\": {\"traceorder\": \"reversed\"}, \"template\": {\"data\": {\"bar\": [{\"error_x\": {\"color\": \"#2a3f5f\"}, \"error_y\": {\"color\": \"#2a3f5f\"}, \"marker\": {\"line\": {\"color\": \"#E5ECF6\", \"width\": 0.5}}, \"type\": \"bar\"}], \"barpolar\": [{\"marker\": {\"line\": {\"color\": \"#E5ECF6\", \"width\": 0.5}}, \"type\": \"barpolar\"}], \"carpet\": [{\"aaxis\": {\"endlinecolor\": \"#2a3f5f\", \"gridcolor\": \"white\", \"linecolor\": \"white\", \"minorgridcolor\": \"white\", \"startlinecolor\": \"#2a3f5f\"}, \"baxis\": {\"endlinecolor\": \"#2a3f5f\", \"gridcolor\": \"white\", \"linecolor\": \"white\", \"minorgridcolor\": \"white\", \"startlinecolor\": \"#2a3f5f\"}, \"type\": \"carpet\"}], \"choropleth\": [{\"colorbar\": {\"outlinewidth\": 0, \"ticks\": \"\"}, \"type\": \"choropleth\"}], \"contour\": [{\"colorbar\": {\"outlinewidth\": 0, \"ticks\": \"\"}, \"colorscale\": [[0.0, \"#0d0887\"], [0.1111111111111111, \"#46039f\"], [0.2222222222222222, \"#7201a8\"], [0.3333333333333333, \"#9c179e\"], [0.4444444444444444, \"#bd3786\"], [0.5555555555555556, \"#d8576b\"], [0.6666666666666666, \"#ed7953\"], [0.7777777777777778, \"#fb9f3a\"], [0.8888888888888888, \"#fdca26\"], [1.0, \"#f0f921\"]], \"type\": \"contour\"}], \"contourcarpet\": [{\"colorbar\": {\"outlinewidth\": 0, \"ticks\": \"\"}, \"type\": \"contourcarpet\"}], \"heatmap\": [{\"colorbar\": {\"outlinewidth\": 0, \"ticks\": \"\"}, \"colorscale\": [[0.0, \"#0d0887\"], [0.1111111111111111, \"#46039f\"], [0.2222222222222222, \"#7201a8\"], [0.3333333333333333, \"#9c179e\"], [0.4444444444444444, \"#bd3786\"], [0.5555555555555556, \"#d8576b\"], [0.6666666666666666, \"#ed7953\"], [0.7777777777777778, \"#fb9f3a\"], [0.8888888888888888, \"#fdca26\"], [1.0, \"#f0f921\"]], \"type\": \"heatmap\"}], \"heatmapgl\": [{\"colorbar\": {\"outlinewidth\": 0, \"ticks\": \"\"}, \"colorscale\": [[0.0, \"#0d0887\"], [0.1111111111111111, \"#46039f\"], [0.2222222222222222, \"#7201a8\"], [0.3333333333333333, \"#9c179e\"], [0.4444444444444444, \"#bd3786\"], [0.5555555555555556, \"#d8576b\"], [0.6666666666666666, \"#ed7953\"], [0.7777777777777778, \"#fb9f3a\"], [0.8888888888888888, \"#fdca26\"], [1.0, \"#f0f921\"]], \"type\": \"heatmapgl\"}], \"histogram\": [{\"marker\": {\"colorbar\": {\"outlinewidth\": 0, \"ticks\": \"\"}}, \"type\": \"histogram\"}], \"histogram2d\": [{\"colorbar\": {\"outlinewidth\": 0, \"ticks\": \"\"}, \"colorscale\": [[0.0, \"#0d0887\"], [0.1111111111111111, \"#46039f\"], [0.2222222222222222, \"#7201a8\"], [0.3333333333333333, \"#9c179e\"], [0.4444444444444444, \"#bd3786\"], [0.5555555555555556, \"#d8576b\"], [0.6666666666666666, \"#ed7953\"], [0.7777777777777778, \"#fb9f3a\"], [0.8888888888888888, \"#fdca26\"], [1.0, \"#f0f921\"]], \"type\": \"histogram2d\"}], \"histogram2dcontour\": [{\"colorbar\": {\"outlinewidth\": 0, \"ticks\": \"\"}, \"colorscale\": [[0.0, \"#0d0887\"], [0.1111111111111111, \"#46039f\"], [0.2222222222222222, \"#7201a8\"], [0.3333333333333333, \"#9c179e\"], [0.4444444444444444, \"#bd3786\"], [0.5555555555555556, \"#d8576b\"], [0.6666666666666666, \"#ed7953\"], [0.7777777777777778, \"#fb9f3a\"], [0.8888888888888888, \"#fdca26\"], [1.0, \"#f0f921\"]], \"type\": \"histogram2dcontour\"}], \"mesh3d\": [{\"colorbar\": {\"outlinewidth\": 0, \"ticks\": \"\"}, \"type\": \"mesh3d\"}], \"parcoords\": [{\"line\": {\"colorbar\": {\"outlinewidth\": 0, \"ticks\": \"\"}}, \"type\": \"parcoords\"}], \"pie\": [{\"automargin\": true, \"type\": \"pie\"}], \"scatter\": [{\"marker\": {\"colorbar\": {\"outlinewidth\": 0, \"ticks\": \"\"}}, \"type\": \"scatter\"}], \"scatter3d\": [{\"line\": {\"colorbar\": {\"outlinewidth\": 0, \"ticks\": \"\"}}, \"marker\": {\"colorbar\": {\"outlinewidth\": 0, \"ticks\": \"\"}}, \"type\": \"scatter3d\"}], \"scattercarpet\": [{\"marker\": {\"colorbar\": {\"outlinewidth\": 0, \"ticks\": \"\"}}, \"type\": \"scattercarpet\"}], \"scattergeo\": [{\"marker\": {\"colorbar\": {\"outlinewidth\": 0, \"ticks\": \"\"}}, \"type\": \"scattergeo\"}], \"scattergl\": [{\"marker\": {\"colorbar\": {\"outlinewidth\": 0, \"ticks\": \"\"}}, \"type\": \"scattergl\"}], \"scattermapbox\": [{\"marker\": {\"colorbar\": {\"outlinewidth\": 0, \"ticks\": \"\"}}, \"type\": \"scattermapbox\"}], \"scatterpolar\": [{\"marker\": {\"colorbar\": {\"outlinewidth\": 0, \"ticks\": \"\"}}, \"type\": \"scatterpolar\"}], \"scatterpolargl\": [{\"marker\": {\"colorbar\": {\"outlinewidth\": 0, \"ticks\": \"\"}}, \"type\": \"scatterpolargl\"}], \"scatterternary\": [{\"marker\": {\"colorbar\": {\"outlinewidth\": 0, \"ticks\": \"\"}}, \"type\": \"scatterternary\"}], \"surface\": [{\"colorbar\": {\"outlinewidth\": 0, \"ticks\": \"\"}, \"colorscale\": [[0.0, \"#0d0887\"], [0.1111111111111111, \"#46039f\"], [0.2222222222222222, \"#7201a8\"], [0.3333333333333333, \"#9c179e\"], [0.4444444444444444, \"#bd3786\"], [0.5555555555555556, \"#d8576b\"], [0.6666666666666666, \"#ed7953\"], [0.7777777777777778, \"#fb9f3a\"], [0.8888888888888888, \"#fdca26\"], [1.0, \"#f0f921\"]], \"type\": \"surface\"}], \"table\": [{\"cells\": {\"fill\": {\"color\": \"#EBF0F8\"}, \"line\": {\"color\": \"white\"}}, \"header\": {\"fill\": {\"color\": \"#C8D4E3\"}, \"line\": {\"color\": \"white\"}}, \"type\": \"table\"}]}, \"layout\": {\"annotationdefaults\": {\"arrowcolor\": \"#2a3f5f\", \"arrowhead\": 0, \"arrowwidth\": 1}, \"coloraxis\": {\"colorbar\": {\"outlinewidth\": 0, \"ticks\": \"\"}}, \"colorscale\": {\"diverging\": [[0, \"#8e0152\"], [0.1, \"#c51b7d\"], [0.2, \"#de77ae\"], [0.3, \"#f1b6da\"], [0.4, \"#fde0ef\"], [0.5, \"#f7f7f7\"], [0.6, \"#e6f5d0\"], [0.7, \"#b8e186\"], [0.8, \"#7fbc41\"], [0.9, \"#4d9221\"], [1, \"#276419\"]], \"sequential\": [[0.0, \"#0d0887\"], [0.1111111111111111, \"#46039f\"], [0.2222222222222222, \"#7201a8\"], [0.3333333333333333, \"#9c179e\"], [0.4444444444444444, \"#bd3786\"], [0.5555555555555556, \"#d8576b\"], [0.6666666666666666, \"#ed7953\"], [0.7777777777777778, \"#fb9f3a\"], [0.8888888888888888, \"#fdca26\"], [1.0, \"#f0f921\"]], \"sequentialminus\": [[0.0, \"#0d0887\"], [0.1111111111111111, \"#46039f\"], [0.2222222222222222, \"#7201a8\"], [0.3333333333333333, \"#9c179e\"], [0.4444444444444444, \"#bd3786\"], [0.5555555555555556, \"#d8576b\"], [0.6666666666666666, \"#ed7953\"], [0.7777777777777778, \"#fb9f3a\"], [0.8888888888888888, \"#fdca26\"], [1.0, \"#f0f921\"]]}, \"colorway\": [\"#636efa\", \"#EF553B\", \"#00cc96\", \"#ab63fa\", \"#FFA15A\", \"#19d3f3\", \"#FF6692\", \"#B6E880\", \"#FF97FF\", \"#FECB52\"], \"font\": {\"color\": \"#2a3f5f\"}, \"geo\": {\"bgcolor\": \"white\", \"lakecolor\": \"white\", \"landcolor\": \"#E5ECF6\", \"showlakes\": true, \"showland\": true, \"subunitcolor\": \"white\"}, \"hoverlabel\": {\"align\": \"left\"}, \"hovermode\": \"closest\", \"mapbox\": {\"style\": \"light\"}, \"paper_bgcolor\": \"white\", \"plot_bgcolor\": \"#E5ECF6\", \"polar\": {\"angularaxis\": {\"gridcolor\": \"white\", \"linecolor\": \"white\", \"ticks\": \"\"}, \"bgcolor\": \"#E5ECF6\", \"radialaxis\": {\"gridcolor\": \"white\", \"linecolor\": \"white\", \"ticks\": \"\"}}, \"scene\": {\"xaxis\": {\"backgroundcolor\": \"#E5ECF6\", \"gridcolor\": \"white\", \"gridwidth\": 2, \"linecolor\": \"white\", \"showbackground\": true, \"ticks\": \"\", \"zerolinecolor\": \"white\"}, \"yaxis\": {\"backgroundcolor\": \"#E5ECF6\", \"gridcolor\": \"white\", \"gridwidth\": 2, \"linecolor\": \"white\", \"showbackground\": true, \"ticks\": \"\", \"zerolinecolor\": \"white\"}, \"zaxis\": {\"backgroundcolor\": \"#E5ECF6\", \"gridcolor\": \"white\", \"gridwidth\": 2, \"linecolor\": \"white\", \"showbackground\": true, \"ticks\": \"\", \"zerolinecolor\": \"white\"}}, \"shapedefaults\": {\"line\": {\"color\": \"#2a3f5f\"}}, \"ternary\": {\"aaxis\": {\"gridcolor\": \"white\", \"linecolor\": \"white\", \"ticks\": \"\"}, \"baxis\": {\"gridcolor\": \"white\", \"linecolor\": \"white\", \"ticks\": \"\"}, \"bgcolor\": \"#E5ECF6\", \"caxis\": {\"gridcolor\": \"white\", \"linecolor\": \"white\", \"ticks\": \"\"}}, \"title\": {\"x\": 0.05}, \"xaxis\": {\"automargin\": true, \"gridcolor\": \"white\", \"linecolor\": \"white\", \"ticks\": \"\", \"title\": {\"standoff\": 15}, \"zerolinecolor\": \"white\", \"zerolinewidth\": 2}, \"yaxis\": {\"automargin\": true, \"gridcolor\": \"white\", \"linecolor\": \"white\", \"ticks\": \"\", \"title\": {\"standoff\": 15}, \"zerolinecolor\": \"white\", \"zerolinewidth\": 2}}}, \"xaxis\": {\"anchor\": \"y2\", \"domain\": [0.0, 1.0], \"zeroline\": false}, \"yaxis\": {\"anchor\": \"free\", \"domain\": [0.35, 1], \"position\": 0.0}, \"yaxis2\": {\"anchor\": \"x\", \"domain\": [0, 0.25], \"dtick\": 1, \"showticklabels\": false}},                        {\"responsive\": true}                    ).then(function(){\n",
       "                            \n",
       "var gd = document.getElementById('a0fa223f-ea17-45b6-ab59-5de912fe9f13');\n",
       "var x = new MutationObserver(function (mutations, observer) {{\n",
       "        var display = window.getComputedStyle(gd).display;\n",
       "        if (!display || display === 'none') {{\n",
       "            console.log([gd, 'removed!']);\n",
       "            Plotly.purge(gd);\n",
       "            observer.disconnect();\n",
       "        }}\n",
       "}});\n",
       "\n",
       "// Listen for the removal of the full notebook cells\n",
       "var notebookContainer = gd.closest('#notebook-container');\n",
       "if (notebookContainer) {{\n",
       "    x.observe(notebookContainer, {childList: true});\n",
       "}}\n",
       "\n",
       "// Listen for the clearing of the current output cell\n",
       "var outputEl = gd.closest('.output');\n",
       "if (outputEl) {{\n",
       "    x.observe(outputEl, {childList: true});\n",
       "}}\n",
       "\n",
       "                        })                };                });            </script>        </div>"
      ]
     },
     "metadata": {},
     "output_type": "display_data"
    }
   ],
   "source": [
    "import plotly.figure_factory as ff\n",
    "import numpy as np\n",
    "np.random.seed(1)\n",
    "\n",
    "\n",
    "x = np.array(df['area'])\n",
    "hist_data = [x]\n",
    "group_labels = ['area'] \n",
    "\n",
    "fig = ff.create_distplot(hist_data, group_labels)\n",
    "fig.show()"
   ]
  },
  {
   "cell_type": "markdown",
   "metadata": {},
   "source": [
    "### Few observations:\n",
    "- Now, this is the density aka PDF plot, for some places you might need to zoom in a bit to see the details.\n",
    "- This plot shows that the mean value for the area is near to zero(but not zero) and there are fewer huge burned areas."
   ]
  },
  {
   "cell_type": "markdown",
   "metadata": {},
   "source": [
    "## Histogram of Area:"
   ]
  },
  {
   "cell_type": "code",
   "execution_count": 23,
   "metadata": {},
   "outputs": [
    {
     "data": {
      "application/vnd.plotly.v1+json": {
       "config": {
        "plotlyServerURL": "https://plot.ly"
       },
       "data": [
        {
         "histfunc": "count",
         "histnorm": "",
         "marker": {
          "color": "rgba(255, 153, 51, 1.0)",
          "line": {
           "color": "#D9D9D9",
           "width": 1.3
          }
         },
         "name": "area",
         "nbinsx": 40,
         "opacity": 0.8,
         "orientation": "v",
         "type": "histogram",
         "x": [
          0,
          0,
          0,
          0,
          0,
          0,
          0,
          0,
          0,
          0,
          0,
          0,
          0,
          0,
          0,
          0,
          0,
          0,
          0,
          0,
          0,
          0,
          0,
          0,
          0,
          0,
          0,
          0,
          0,
          0,
          0,
          0,
          0,
          0,
          0,
          0,
          0,
          0,
          0,
          0,
          0,
          0,
          0,
          0,
          0,
          0,
          0,
          0,
          0,
          0,
          0,
          0,
          0,
          0,
          0,
          0,
          0,
          0,
          0,
          0,
          0,
          0,
          0,
          0,
          0,
          0,
          0,
          0,
          0,
          0,
          0,
          0,
          0,
          0,
          0,
          0,
          0,
          0,
          0,
          0,
          0,
          0,
          0,
          0,
          0,
          0,
          0,
          0,
          0,
          0,
          0,
          0,
          0,
          0,
          0,
          0,
          0,
          0,
          0,
          0,
          0,
          0,
          0,
          0,
          0,
          0,
          0,
          0,
          0,
          0,
          0,
          0,
          0,
          0,
          0,
          0,
          0,
          0,
          0,
          0,
          0,
          0,
          0,
          0,
          0,
          0,
          0,
          0,
          0,
          0,
          0,
          0,
          0,
          0,
          0,
          0,
          0,
          0,
          0.36,
          0.43,
          0.47,
          0.55,
          0.61,
          0.71,
          0.77,
          0.9,
          0.95,
          0.96,
          1.07,
          1.12,
          1.19,
          1.36,
          1.43,
          1.46,
          1.46,
          1.56,
          1.61,
          1.63,
          1.64,
          1.69,
          1.75,
          1.9,
          1.94,
          1.95,
          2.01,
          2.14,
          2.29,
          2.51,
          2.53,
          2.55,
          2.57,
          2.69,
          2.74,
          3.07,
          3.5,
          4.53,
          4.61,
          4.69,
          4.88,
          5.23,
          5.33,
          5.44,
          6.38,
          6.83,
          6.96,
          7.04,
          7.19,
          7.3,
          7.4,
          8.24,
          8.31,
          8.68,
          8.71,
          9.41,
          10.01,
          10.02,
          10.93,
          11.06,
          11.24,
          11.32,
          11.53,
          12.1,
          13.05,
          13.7,
          13.99,
          14.57,
          15.45,
          17.2,
          19.23,
          23.41,
          24.23,
          26,
          26.13,
          27.35,
          28.66,
          28.66,
          29.48,
          30.32,
          31.72,
          31.86,
          32.07,
          35.88,
          36.85,
          37.02,
          37.71,
          48.55,
          49.37,
          58.3,
          64.1,
          71.3,
          88.49,
          95.18,
          103.39,
          105.66,
          154.88,
          196.48,
          200.94,
          212.88,
          1090.84,
          0,
          0,
          0,
          10.13,
          0,
          2.87,
          0.76,
          0.09,
          0.75,
          0,
          2.47,
          0.68,
          0.24,
          0.21,
          1.52,
          10.34,
          0,
          8.02,
          0.68,
          0,
          1.38,
          8.85,
          3.3,
          4.25,
          1.56,
          6.54,
          0.79,
          0.17,
          0,
          0,
          4.4,
          0.52,
          9.27,
          3.09,
          8.98,
          11.19,
          5.38,
          17.85,
          10.73,
          22.03,
          9.77,
          9.27,
          24.77,
          0,
          1.1,
          24.24,
          0,
          0,
          0,
          0,
          0,
          0,
          8,
          2.64,
          86.45,
          6.57,
          0,
          0.9,
          0,
          0,
          0,
          0,
          3.52,
          0,
          0,
          0,
          0,
          0.41,
          5.18,
          0,
          0,
          0,
          14.29,
          0,
          0,
          1.58,
          0,
          0,
          3.78,
          0,
          4.41,
          34.36,
          7.21,
          1.01,
          2.18,
          4.42,
          0,
          0,
          0,
          0,
          3.33,
          6.58,
          15.64,
          11.22,
          2.13,
          0,
          0,
          0,
          56.04,
          7.48,
          1.47,
          3.93,
          0,
          0,
          2.18,
          6.1,
          5.83,
          28.19,
          0,
          0,
          1.64,
          3.71,
          7.31,
          2.03,
          1.72,
          5.97,
          13.06,
          1.26,
          0,
          0,
          8.12,
          1.09,
          3.94,
          0.52,
          2.93,
          5.65,
          20.03,
          1.75,
          0,
          12.64,
          0,
          11.06,
          0,
          0,
          0,
          18.3,
          39.35,
          0,
          174.63,
          0,
          0,
          7.73,
          16.33,
          5.86,
          42.87,
          12.18,
          16,
          24.59,
          0,
          28.74,
          0,
          9.96,
          30.18,
          70.76,
          0,
          0,
          51.78,
          3.64,
          3.63,
          0,
          0,
          8.16,
          4.95,
          0,
          0,
          6.04,
          0,
          3.95,
          0,
          7.8,
          0,
          0,
          4.62,
          1.63,
          0,
          0,
          746.28,
          7.02,
          0,
          2.44,
          3.05,
          185.76,
          0,
          6.3,
          0.72,
          4.96,
          0,
          0,
          2.35,
          0,
          3.2,
          0,
          6.36,
          0,
          15.34,
          0,
          0,
          0.54,
          0,
          6.43,
          0.33,
          0,
          1.23,
          3.35,
          0,
          9.96,
          0,
          0,
          0,
          0,
          0,
          6.43,
          9.71,
          0,
          0,
          0,
          0,
          0,
          82.75,
          3.32,
          1.94,
          0,
          0,
          3.71,
          5.39,
          2.14,
          6.84,
          3.18,
          5.55,
          6.61,
          61.13,
          0,
          38.48,
          1.94,
          70.32,
          10.08,
          3.19,
          1.76,
          7.36,
          2.21,
          278.53,
          2.75,
          0,
          1.29,
          0,
          26.43,
          2.07,
          2,
          16.4,
          46.7,
          0,
          0,
          0,
          0,
          43.32,
          8.59,
          0,
          2.77,
          14.68,
          40.54,
          10.82,
          0,
          0,
          0,
          1.95,
          49.59,
          5.8,
          0,
          0,
          0,
          2.17,
          0.43,
          0,
          6.44,
          54.29,
          11.16,
          0,
          0
         ]
        }
       ],
       "layout": {
        "barmode": "overlay",
        "legend": {
         "bgcolor": "#151516",
         "font": {
          "color": "#D9D9D9"
         }
        },
        "paper_bgcolor": "#151516",
        "plot_bgcolor": "#151516",
        "template": {
         "data": {
          "bar": [
           {
            "error_x": {
             "color": "#2a3f5f"
            },
            "error_y": {
             "color": "#2a3f5f"
            },
            "marker": {
             "line": {
              "color": "#E5ECF6",
              "width": 0.5
             }
            },
            "type": "bar"
           }
          ],
          "barpolar": [
           {
            "marker": {
             "line": {
              "color": "#E5ECF6",
              "width": 0.5
             }
            },
            "type": "barpolar"
           }
          ],
          "carpet": [
           {
            "aaxis": {
             "endlinecolor": "#2a3f5f",
             "gridcolor": "white",
             "linecolor": "white",
             "minorgridcolor": "white",
             "startlinecolor": "#2a3f5f"
            },
            "baxis": {
             "endlinecolor": "#2a3f5f",
             "gridcolor": "white",
             "linecolor": "white",
             "minorgridcolor": "white",
             "startlinecolor": "#2a3f5f"
            },
            "type": "carpet"
           }
          ],
          "choropleth": [
           {
            "colorbar": {
             "outlinewidth": 0,
             "ticks": ""
            },
            "type": "choropleth"
           }
          ],
          "contour": [
           {
            "colorbar": {
             "outlinewidth": 0,
             "ticks": ""
            },
            "colorscale": [
             [
              0,
              "#0d0887"
             ],
             [
              0.1111111111111111,
              "#46039f"
             ],
             [
              0.2222222222222222,
              "#7201a8"
             ],
             [
              0.3333333333333333,
              "#9c179e"
             ],
             [
              0.4444444444444444,
              "#bd3786"
             ],
             [
              0.5555555555555556,
              "#d8576b"
             ],
             [
              0.6666666666666666,
              "#ed7953"
             ],
             [
              0.7777777777777778,
              "#fb9f3a"
             ],
             [
              0.8888888888888888,
              "#fdca26"
             ],
             [
              1,
              "#f0f921"
             ]
            ],
            "type": "contour"
           }
          ],
          "contourcarpet": [
           {
            "colorbar": {
             "outlinewidth": 0,
             "ticks": ""
            },
            "type": "contourcarpet"
           }
          ],
          "heatmap": [
           {
            "colorbar": {
             "outlinewidth": 0,
             "ticks": ""
            },
            "colorscale": [
             [
              0,
              "#0d0887"
             ],
             [
              0.1111111111111111,
              "#46039f"
             ],
             [
              0.2222222222222222,
              "#7201a8"
             ],
             [
              0.3333333333333333,
              "#9c179e"
             ],
             [
              0.4444444444444444,
              "#bd3786"
             ],
             [
              0.5555555555555556,
              "#d8576b"
             ],
             [
              0.6666666666666666,
              "#ed7953"
             ],
             [
              0.7777777777777778,
              "#fb9f3a"
             ],
             [
              0.8888888888888888,
              "#fdca26"
             ],
             [
              1,
              "#f0f921"
             ]
            ],
            "type": "heatmap"
           }
          ],
          "heatmapgl": [
           {
            "colorbar": {
             "outlinewidth": 0,
             "ticks": ""
            },
            "colorscale": [
             [
              0,
              "#0d0887"
             ],
             [
              0.1111111111111111,
              "#46039f"
             ],
             [
              0.2222222222222222,
              "#7201a8"
             ],
             [
              0.3333333333333333,
              "#9c179e"
             ],
             [
              0.4444444444444444,
              "#bd3786"
             ],
             [
              0.5555555555555556,
              "#d8576b"
             ],
             [
              0.6666666666666666,
              "#ed7953"
             ],
             [
              0.7777777777777778,
              "#fb9f3a"
             ],
             [
              0.8888888888888888,
              "#fdca26"
             ],
             [
              1,
              "#f0f921"
             ]
            ],
            "type": "heatmapgl"
           }
          ],
          "histogram": [
           {
            "marker": {
             "colorbar": {
              "outlinewidth": 0,
              "ticks": ""
             }
            },
            "type": "histogram"
           }
          ],
          "histogram2d": [
           {
            "colorbar": {
             "outlinewidth": 0,
             "ticks": ""
            },
            "colorscale": [
             [
              0,
              "#0d0887"
             ],
             [
              0.1111111111111111,
              "#46039f"
             ],
             [
              0.2222222222222222,
              "#7201a8"
             ],
             [
              0.3333333333333333,
              "#9c179e"
             ],
             [
              0.4444444444444444,
              "#bd3786"
             ],
             [
              0.5555555555555556,
              "#d8576b"
             ],
             [
              0.6666666666666666,
              "#ed7953"
             ],
             [
              0.7777777777777778,
              "#fb9f3a"
             ],
             [
              0.8888888888888888,
              "#fdca26"
             ],
             [
              1,
              "#f0f921"
             ]
            ],
            "type": "histogram2d"
           }
          ],
          "histogram2dcontour": [
           {
            "colorbar": {
             "outlinewidth": 0,
             "ticks": ""
            },
            "colorscale": [
             [
              0,
              "#0d0887"
             ],
             [
              0.1111111111111111,
              "#46039f"
             ],
             [
              0.2222222222222222,
              "#7201a8"
             ],
             [
              0.3333333333333333,
              "#9c179e"
             ],
             [
              0.4444444444444444,
              "#bd3786"
             ],
             [
              0.5555555555555556,
              "#d8576b"
             ],
             [
              0.6666666666666666,
              "#ed7953"
             ],
             [
              0.7777777777777778,
              "#fb9f3a"
             ],
             [
              0.8888888888888888,
              "#fdca26"
             ],
             [
              1,
              "#f0f921"
             ]
            ],
            "type": "histogram2dcontour"
           }
          ],
          "mesh3d": [
           {
            "colorbar": {
             "outlinewidth": 0,
             "ticks": ""
            },
            "type": "mesh3d"
           }
          ],
          "parcoords": [
           {
            "line": {
             "colorbar": {
              "outlinewidth": 0,
              "ticks": ""
             }
            },
            "type": "parcoords"
           }
          ],
          "pie": [
           {
            "automargin": true,
            "type": "pie"
           }
          ],
          "scatter": [
           {
            "marker": {
             "colorbar": {
              "outlinewidth": 0,
              "ticks": ""
             }
            },
            "type": "scatter"
           }
          ],
          "scatter3d": [
           {
            "line": {
             "colorbar": {
              "outlinewidth": 0,
              "ticks": ""
             }
            },
            "marker": {
             "colorbar": {
              "outlinewidth": 0,
              "ticks": ""
             }
            },
            "type": "scatter3d"
           }
          ],
          "scattercarpet": [
           {
            "marker": {
             "colorbar": {
              "outlinewidth": 0,
              "ticks": ""
             }
            },
            "type": "scattercarpet"
           }
          ],
          "scattergeo": [
           {
            "marker": {
             "colorbar": {
              "outlinewidth": 0,
              "ticks": ""
             }
            },
            "type": "scattergeo"
           }
          ],
          "scattergl": [
           {
            "marker": {
             "colorbar": {
              "outlinewidth": 0,
              "ticks": ""
             }
            },
            "type": "scattergl"
           }
          ],
          "scattermapbox": [
           {
            "marker": {
             "colorbar": {
              "outlinewidth": 0,
              "ticks": ""
             }
            },
            "type": "scattermapbox"
           }
          ],
          "scatterpolar": [
           {
            "marker": {
             "colorbar": {
              "outlinewidth": 0,
              "ticks": ""
             }
            },
            "type": "scatterpolar"
           }
          ],
          "scatterpolargl": [
           {
            "marker": {
             "colorbar": {
              "outlinewidth": 0,
              "ticks": ""
             }
            },
            "type": "scatterpolargl"
           }
          ],
          "scatterternary": [
           {
            "marker": {
             "colorbar": {
              "outlinewidth": 0,
              "ticks": ""
             }
            },
            "type": "scatterternary"
           }
          ],
          "surface": [
           {
            "colorbar": {
             "outlinewidth": 0,
             "ticks": ""
            },
            "colorscale": [
             [
              0,
              "#0d0887"
             ],
             [
              0.1111111111111111,
              "#46039f"
             ],
             [
              0.2222222222222222,
              "#7201a8"
             ],
             [
              0.3333333333333333,
              "#9c179e"
             ],
             [
              0.4444444444444444,
              "#bd3786"
             ],
             [
              0.5555555555555556,
              "#d8576b"
             ],
             [
              0.6666666666666666,
              "#ed7953"
             ],
             [
              0.7777777777777778,
              "#fb9f3a"
             ],
             [
              0.8888888888888888,
              "#fdca26"
             ],
             [
              1,
              "#f0f921"
             ]
            ],
            "type": "surface"
           }
          ],
          "table": [
           {
            "cells": {
             "fill": {
              "color": "#EBF0F8"
             },
             "line": {
              "color": "white"
             }
            },
            "header": {
             "fill": {
              "color": "#C8D4E3"
             },
             "line": {
              "color": "white"
             }
            },
            "type": "table"
           }
          ]
         },
         "layout": {
          "annotationdefaults": {
           "arrowcolor": "#2a3f5f",
           "arrowhead": 0,
           "arrowwidth": 1
          },
          "coloraxis": {
           "colorbar": {
            "outlinewidth": 0,
            "ticks": ""
           }
          },
          "colorscale": {
           "diverging": [
            [
             0,
             "#8e0152"
            ],
            [
             0.1,
             "#c51b7d"
            ],
            [
             0.2,
             "#de77ae"
            ],
            [
             0.3,
             "#f1b6da"
            ],
            [
             0.4,
             "#fde0ef"
            ],
            [
             0.5,
             "#f7f7f7"
            ],
            [
             0.6,
             "#e6f5d0"
            ],
            [
             0.7,
             "#b8e186"
            ],
            [
             0.8,
             "#7fbc41"
            ],
            [
             0.9,
             "#4d9221"
            ],
            [
             1,
             "#276419"
            ]
           ],
           "sequential": [
            [
             0,
             "#0d0887"
            ],
            [
             0.1111111111111111,
             "#46039f"
            ],
            [
             0.2222222222222222,
             "#7201a8"
            ],
            [
             0.3333333333333333,
             "#9c179e"
            ],
            [
             0.4444444444444444,
             "#bd3786"
            ],
            [
             0.5555555555555556,
             "#d8576b"
            ],
            [
             0.6666666666666666,
             "#ed7953"
            ],
            [
             0.7777777777777778,
             "#fb9f3a"
            ],
            [
             0.8888888888888888,
             "#fdca26"
            ],
            [
             1,
             "#f0f921"
            ]
           ],
           "sequentialminus": [
            [
             0,
             "#0d0887"
            ],
            [
             0.1111111111111111,
             "#46039f"
            ],
            [
             0.2222222222222222,
             "#7201a8"
            ],
            [
             0.3333333333333333,
             "#9c179e"
            ],
            [
             0.4444444444444444,
             "#bd3786"
            ],
            [
             0.5555555555555556,
             "#d8576b"
            ],
            [
             0.6666666666666666,
             "#ed7953"
            ],
            [
             0.7777777777777778,
             "#fb9f3a"
            ],
            [
             0.8888888888888888,
             "#fdca26"
            ],
            [
             1,
             "#f0f921"
            ]
           ]
          },
          "colorway": [
           "#636efa",
           "#EF553B",
           "#00cc96",
           "#ab63fa",
           "#FFA15A",
           "#19d3f3",
           "#FF6692",
           "#B6E880",
           "#FF97FF",
           "#FECB52"
          ],
          "font": {
           "color": "#2a3f5f"
          },
          "geo": {
           "bgcolor": "white",
           "lakecolor": "white",
           "landcolor": "#E5ECF6",
           "showlakes": true,
           "showland": true,
           "subunitcolor": "white"
          },
          "hoverlabel": {
           "align": "left"
          },
          "hovermode": "closest",
          "mapbox": {
           "style": "light"
          },
          "paper_bgcolor": "white",
          "plot_bgcolor": "#E5ECF6",
          "polar": {
           "angularaxis": {
            "gridcolor": "white",
            "linecolor": "white",
            "ticks": ""
           },
           "bgcolor": "#E5ECF6",
           "radialaxis": {
            "gridcolor": "white",
            "linecolor": "white",
            "ticks": ""
           }
          },
          "scene": {
           "xaxis": {
            "backgroundcolor": "#E5ECF6",
            "gridcolor": "white",
            "gridwidth": 2,
            "linecolor": "white",
            "showbackground": true,
            "ticks": "",
            "zerolinecolor": "white"
           },
           "yaxis": {
            "backgroundcolor": "#E5ECF6",
            "gridcolor": "white",
            "gridwidth": 2,
            "linecolor": "white",
            "showbackground": true,
            "ticks": "",
            "zerolinecolor": "white"
           },
           "zaxis": {
            "backgroundcolor": "#E5ECF6",
            "gridcolor": "white",
            "gridwidth": 2,
            "linecolor": "white",
            "showbackground": true,
            "ticks": "",
            "zerolinecolor": "white"
           }
          },
          "shapedefaults": {
           "line": {
            "color": "#2a3f5f"
           }
          },
          "ternary": {
           "aaxis": {
            "gridcolor": "white",
            "linecolor": "white",
            "ticks": ""
           },
           "baxis": {
            "gridcolor": "white",
            "linecolor": "white",
            "ticks": ""
           },
           "bgcolor": "#E5ECF6",
           "caxis": {
            "gridcolor": "white",
            "linecolor": "white",
            "ticks": ""
           }
          },
          "title": {
           "x": 0.05
          },
          "xaxis": {
           "automargin": true,
           "gridcolor": "white",
           "linecolor": "white",
           "ticks": "",
           "title": {
            "standoff": 15
           },
           "zerolinecolor": "white",
           "zerolinewidth": 2
          },
          "yaxis": {
           "automargin": true,
           "gridcolor": "white",
           "linecolor": "white",
           "ticks": "",
           "title": {
            "standoff": 15
           },
           "zerolinecolor": "white",
           "zerolinewidth": 2
          }
         }
        },
        "title": {
         "font": {
          "color": "#D9D9D9"
         },
         "text": "Histogram of area"
        },
        "xaxis": {
         "gridcolor": "#434343",
         "showgrid": true,
         "tickfont": {
          "color": "#C2C2C2"
         },
         "title": {
          "font": {
           "color": "#D9D9D9"
          },
          "text": "area"
         },
         "zerolinecolor": "#666570"
        },
        "yaxis": {
         "gridcolor": "#434343",
         "showgrid": true,
         "tickfont": {
          "color": "#C2C2C2"
         },
         "title": {
          "font": {
           "color": "#D9D9D9"
          },
          "text": "Count"
         },
         "zerolinecolor": "#666570"
        }
       }
      },
      "text/html": [
       "<div>                            <div id=\"3b7f951b-a8c4-43de-a3ec-8bdaeba58b58\" class=\"plotly-graph-div\" style=\"height:525px; width:100%;\"></div>            <script type=\"text/javascript\">                require([\"plotly\"], function(Plotly) {                    window.PLOTLYENV=window.PLOTLYENV || {};                                    if (document.getElementById(\"3b7f951b-a8c4-43de-a3ec-8bdaeba58b58\")) {                    Plotly.newPlot(                        \"3b7f951b-a8c4-43de-a3ec-8bdaeba58b58\",                        [{\"histfunc\": \"count\", \"histnorm\": \"\", \"marker\": {\"color\": \"rgba(255, 153, 51, 1.0)\", \"line\": {\"color\": \"#D9D9D9\", \"width\": 1.3}}, \"name\": \"area\", \"nbinsx\": 40, \"opacity\": 0.8, \"orientation\": \"v\", \"type\": \"histogram\", \"x\": [0.0, 0.0, 0.0, 0.0, 0.0, 0.0, 0.0, 0.0, 0.0, 0.0, 0.0, 0.0, 0.0, 0.0, 0.0, 0.0, 0.0, 0.0, 0.0, 0.0, 0.0, 0.0, 0.0, 0.0, 0.0, 0.0, 0.0, 0.0, 0.0, 0.0, 0.0, 0.0, 0.0, 0.0, 0.0, 0.0, 0.0, 0.0, 0.0, 0.0, 0.0, 0.0, 0.0, 0.0, 0.0, 0.0, 0.0, 0.0, 0.0, 0.0, 0.0, 0.0, 0.0, 0.0, 0.0, 0.0, 0.0, 0.0, 0.0, 0.0, 0.0, 0.0, 0.0, 0.0, 0.0, 0.0, 0.0, 0.0, 0.0, 0.0, 0.0, 0.0, 0.0, 0.0, 0.0, 0.0, 0.0, 0.0, 0.0, 0.0, 0.0, 0.0, 0.0, 0.0, 0.0, 0.0, 0.0, 0.0, 0.0, 0.0, 0.0, 0.0, 0.0, 0.0, 0.0, 0.0, 0.0, 0.0, 0.0, 0.0, 0.0, 0.0, 0.0, 0.0, 0.0, 0.0, 0.0, 0.0, 0.0, 0.0, 0.0, 0.0, 0.0, 0.0, 0.0, 0.0, 0.0, 0.0, 0.0, 0.0, 0.0, 0.0, 0.0, 0.0, 0.0, 0.0, 0.0, 0.0, 0.0, 0.0, 0.0, 0.0, 0.0, 0.0, 0.0, 0.0, 0.0, 0.0, 0.36, 0.43, 0.47, 0.55, 0.61, 0.71, 0.77, 0.9, 0.95, 0.96, 1.07, 1.12, 1.19, 1.36, 1.43, 1.46, 1.46, 1.56, 1.61, 1.63, 1.64, 1.69, 1.75, 1.9, 1.94, 1.95, 2.01, 2.14, 2.29, 2.51, 2.53, 2.55, 2.57, 2.69, 2.74, 3.07, 3.5, 4.53, 4.61, 4.69, 4.88, 5.23, 5.33, 5.44, 6.38, 6.83, 6.96, 7.04, 7.19, 7.3, 7.4, 8.24, 8.31, 8.68, 8.71, 9.41, 10.01, 10.02, 10.93, 11.06, 11.24, 11.32, 11.53, 12.1, 13.05, 13.7, 13.99, 14.57, 15.45, 17.2, 19.23, 23.41, 24.23, 26.0, 26.13, 27.35, 28.66, 28.66, 29.48, 30.32, 31.72, 31.86, 32.07, 35.88, 36.85, 37.02, 37.71, 48.55, 49.37, 58.3, 64.1, 71.3, 88.49, 95.18, 103.39, 105.66, 154.88, 196.48, 200.94, 212.88, 1090.84, 0.0, 0.0, 0.0, 10.13, 0.0, 2.87, 0.76, 0.09, 0.75, 0.0, 2.47, 0.68, 0.24, 0.21, 1.52, 10.34, 0.0, 8.02, 0.68, 0.0, 1.38, 8.85, 3.3, 4.25, 1.56, 6.54, 0.79, 0.17, 0.0, 0.0, 4.4, 0.52, 9.27, 3.09, 8.98, 11.19, 5.38, 17.85, 10.73, 22.03, 9.77, 9.27, 24.77, 0.0, 1.1, 24.24, 0.0, 0.0, 0.0, 0.0, 0.0, 0.0, 8.0, 2.64, 86.45, 6.57, 0.0, 0.9, 0.0, 0.0, 0.0, 0.0, 3.52, 0.0, 0.0, 0.0, 0.0, 0.41, 5.18, 0.0, 0.0, 0.0, 14.29, 0.0, 0.0, 1.58, 0.0, 0.0, 3.78, 0.0, 4.41, 34.36, 7.21, 1.01, 2.18, 4.42, 0.0, 0.0, 0.0, 0.0, 3.33, 6.58, 15.64, 11.22, 2.13, 0.0, 0.0, 0.0, 56.04, 7.48, 1.47, 3.93, 0.0, 0.0, 2.18, 6.1, 5.83, 28.19, 0.0, 0.0, 1.64, 3.71, 7.31, 2.03, 1.72, 5.97, 13.06, 1.26, 0.0, 0.0, 8.12, 1.09, 3.94, 0.52, 2.93, 5.65, 20.03, 1.75, 0.0, 12.64, 0.0, 11.06, 0.0, 0.0, 0.0, 18.3, 39.35, 0.0, 174.63, 0.0, 0.0, 7.73, 16.33, 5.86, 42.87, 12.18, 16.0, 24.59, 0.0, 28.74, 0.0, 9.96, 30.18, 70.76, 0.0, 0.0, 51.78, 3.64, 3.63, 0.0, 0.0, 8.16, 4.95, 0.0, 0.0, 6.04, 0.0, 3.95, 0.0, 7.8, 0.0, 0.0, 4.62, 1.63, 0.0, 0.0, 746.28, 7.02, 0.0, 2.44, 3.05, 185.76, 0.0, 6.3, 0.72, 4.96, 0.0, 0.0, 2.35, 0.0, 3.2, 0.0, 6.36, 0.0, 15.34, 0.0, 0.0, 0.54, 0.0, 6.43, 0.33, 0.0, 1.23, 3.35, 0.0, 9.96, 0.0, 0.0, 0.0, 0.0, 0.0, 6.43, 9.71, 0.0, 0.0, 0.0, 0.0, 0.0, 82.75, 3.32, 1.94, 0.0, 0.0, 3.71, 5.39, 2.14, 6.84, 3.18, 5.55, 6.61, 61.13, 0.0, 38.48, 1.94, 70.32, 10.08, 3.19, 1.76, 7.36, 2.21, 278.53, 2.75, 0.0, 1.29, 0.0, 26.43, 2.07, 2.0, 16.4, 46.7, 0.0, 0.0, 0.0, 0.0, 43.32, 8.59, 0.0, 2.77, 14.68, 40.54, 10.82, 0.0, 0.0, 0.0, 1.95, 49.59, 5.8, 0.0, 0.0, 0.0, 2.17, 0.43, 0.0, 6.44, 54.29, 11.16, 0.0, 0.0]}],                        {\"barmode\": \"overlay\", \"legend\": {\"bgcolor\": \"#151516\", \"font\": {\"color\": \"#D9D9D9\"}}, \"paper_bgcolor\": \"#151516\", \"plot_bgcolor\": \"#151516\", \"template\": {\"data\": {\"bar\": [{\"error_x\": {\"color\": \"#2a3f5f\"}, \"error_y\": {\"color\": \"#2a3f5f\"}, \"marker\": {\"line\": {\"color\": \"#E5ECF6\", \"width\": 0.5}}, \"type\": \"bar\"}], \"barpolar\": [{\"marker\": {\"line\": {\"color\": \"#E5ECF6\", \"width\": 0.5}}, \"type\": \"barpolar\"}], \"carpet\": [{\"aaxis\": {\"endlinecolor\": \"#2a3f5f\", \"gridcolor\": \"white\", \"linecolor\": \"white\", \"minorgridcolor\": \"white\", \"startlinecolor\": \"#2a3f5f\"}, \"baxis\": {\"endlinecolor\": \"#2a3f5f\", \"gridcolor\": \"white\", \"linecolor\": \"white\", \"minorgridcolor\": \"white\", \"startlinecolor\": \"#2a3f5f\"}, \"type\": \"carpet\"}], \"choropleth\": [{\"colorbar\": {\"outlinewidth\": 0, \"ticks\": \"\"}, \"type\": \"choropleth\"}], \"contour\": [{\"colorbar\": {\"outlinewidth\": 0, \"ticks\": \"\"}, \"colorscale\": [[0.0, \"#0d0887\"], [0.1111111111111111, \"#46039f\"], [0.2222222222222222, \"#7201a8\"], [0.3333333333333333, \"#9c179e\"], [0.4444444444444444, \"#bd3786\"], [0.5555555555555556, \"#d8576b\"], [0.6666666666666666, \"#ed7953\"], [0.7777777777777778, \"#fb9f3a\"], [0.8888888888888888, \"#fdca26\"], [1.0, \"#f0f921\"]], \"type\": \"contour\"}], \"contourcarpet\": [{\"colorbar\": {\"outlinewidth\": 0, \"ticks\": \"\"}, \"type\": \"contourcarpet\"}], \"heatmap\": [{\"colorbar\": {\"outlinewidth\": 0, \"ticks\": \"\"}, \"colorscale\": [[0.0, \"#0d0887\"], [0.1111111111111111, \"#46039f\"], [0.2222222222222222, \"#7201a8\"], [0.3333333333333333, \"#9c179e\"], [0.4444444444444444, \"#bd3786\"], [0.5555555555555556, \"#d8576b\"], [0.6666666666666666, \"#ed7953\"], [0.7777777777777778, \"#fb9f3a\"], [0.8888888888888888, \"#fdca26\"], [1.0, \"#f0f921\"]], \"type\": \"heatmap\"}], \"heatmapgl\": [{\"colorbar\": {\"outlinewidth\": 0, \"ticks\": \"\"}, \"colorscale\": [[0.0, \"#0d0887\"], [0.1111111111111111, \"#46039f\"], [0.2222222222222222, \"#7201a8\"], [0.3333333333333333, \"#9c179e\"], [0.4444444444444444, \"#bd3786\"], [0.5555555555555556, \"#d8576b\"], [0.6666666666666666, \"#ed7953\"], [0.7777777777777778, \"#fb9f3a\"], [0.8888888888888888, \"#fdca26\"], [1.0, \"#f0f921\"]], \"type\": \"heatmapgl\"}], \"histogram\": [{\"marker\": {\"colorbar\": {\"outlinewidth\": 0, \"ticks\": \"\"}}, \"type\": \"histogram\"}], \"histogram2d\": [{\"colorbar\": {\"outlinewidth\": 0, \"ticks\": \"\"}, \"colorscale\": [[0.0, \"#0d0887\"], [0.1111111111111111, \"#46039f\"], [0.2222222222222222, \"#7201a8\"], [0.3333333333333333, \"#9c179e\"], [0.4444444444444444, \"#bd3786\"], [0.5555555555555556, \"#d8576b\"], [0.6666666666666666, \"#ed7953\"], [0.7777777777777778, \"#fb9f3a\"], [0.8888888888888888, \"#fdca26\"], [1.0, \"#f0f921\"]], \"type\": \"histogram2d\"}], \"histogram2dcontour\": [{\"colorbar\": {\"outlinewidth\": 0, \"ticks\": \"\"}, \"colorscale\": [[0.0, \"#0d0887\"], [0.1111111111111111, \"#46039f\"], [0.2222222222222222, \"#7201a8\"], [0.3333333333333333, \"#9c179e\"], [0.4444444444444444, \"#bd3786\"], [0.5555555555555556, \"#d8576b\"], [0.6666666666666666, \"#ed7953\"], [0.7777777777777778, \"#fb9f3a\"], [0.8888888888888888, \"#fdca26\"], [1.0, \"#f0f921\"]], \"type\": \"histogram2dcontour\"}], \"mesh3d\": [{\"colorbar\": {\"outlinewidth\": 0, \"ticks\": \"\"}, \"type\": \"mesh3d\"}], \"parcoords\": [{\"line\": {\"colorbar\": {\"outlinewidth\": 0, \"ticks\": \"\"}}, \"type\": \"parcoords\"}], \"pie\": [{\"automargin\": true, \"type\": \"pie\"}], \"scatter\": [{\"marker\": {\"colorbar\": {\"outlinewidth\": 0, \"ticks\": \"\"}}, \"type\": \"scatter\"}], \"scatter3d\": [{\"line\": {\"colorbar\": {\"outlinewidth\": 0, \"ticks\": \"\"}}, \"marker\": {\"colorbar\": {\"outlinewidth\": 0, \"ticks\": \"\"}}, \"type\": \"scatter3d\"}], \"scattercarpet\": [{\"marker\": {\"colorbar\": {\"outlinewidth\": 0, \"ticks\": \"\"}}, \"type\": \"scattercarpet\"}], \"scattergeo\": [{\"marker\": {\"colorbar\": {\"outlinewidth\": 0, \"ticks\": \"\"}}, \"type\": \"scattergeo\"}], \"scattergl\": [{\"marker\": {\"colorbar\": {\"outlinewidth\": 0, \"ticks\": \"\"}}, \"type\": \"scattergl\"}], \"scattermapbox\": [{\"marker\": {\"colorbar\": {\"outlinewidth\": 0, \"ticks\": \"\"}}, \"type\": \"scattermapbox\"}], \"scatterpolar\": [{\"marker\": {\"colorbar\": {\"outlinewidth\": 0, \"ticks\": \"\"}}, \"type\": \"scatterpolar\"}], \"scatterpolargl\": [{\"marker\": {\"colorbar\": {\"outlinewidth\": 0, \"ticks\": \"\"}}, \"type\": \"scatterpolargl\"}], \"scatterternary\": [{\"marker\": {\"colorbar\": {\"outlinewidth\": 0, \"ticks\": \"\"}}, \"type\": \"scatterternary\"}], \"surface\": [{\"colorbar\": {\"outlinewidth\": 0, \"ticks\": \"\"}, \"colorscale\": [[0.0, \"#0d0887\"], [0.1111111111111111, \"#46039f\"], [0.2222222222222222, \"#7201a8\"], [0.3333333333333333, \"#9c179e\"], [0.4444444444444444, \"#bd3786\"], [0.5555555555555556, \"#d8576b\"], [0.6666666666666666, \"#ed7953\"], [0.7777777777777778, \"#fb9f3a\"], [0.8888888888888888, \"#fdca26\"], [1.0, \"#f0f921\"]], \"type\": \"surface\"}], \"table\": [{\"cells\": {\"fill\": {\"color\": \"#EBF0F8\"}, \"line\": {\"color\": \"white\"}}, \"header\": {\"fill\": {\"color\": \"#C8D4E3\"}, \"line\": {\"color\": \"white\"}}, \"type\": \"table\"}]}, \"layout\": {\"annotationdefaults\": {\"arrowcolor\": \"#2a3f5f\", \"arrowhead\": 0, \"arrowwidth\": 1}, \"coloraxis\": {\"colorbar\": {\"outlinewidth\": 0, \"ticks\": \"\"}}, \"colorscale\": {\"diverging\": [[0, \"#8e0152\"], [0.1, \"#c51b7d\"], [0.2, \"#de77ae\"], [0.3, \"#f1b6da\"], [0.4, \"#fde0ef\"], [0.5, \"#f7f7f7\"], [0.6, \"#e6f5d0\"], [0.7, \"#b8e186\"], [0.8, \"#7fbc41\"], [0.9, \"#4d9221\"], [1, \"#276419\"]], \"sequential\": [[0.0, \"#0d0887\"], [0.1111111111111111, \"#46039f\"], [0.2222222222222222, \"#7201a8\"], [0.3333333333333333, \"#9c179e\"], [0.4444444444444444, \"#bd3786\"], [0.5555555555555556, \"#d8576b\"], [0.6666666666666666, \"#ed7953\"], [0.7777777777777778, \"#fb9f3a\"], [0.8888888888888888, \"#fdca26\"], [1.0, \"#f0f921\"]], \"sequentialminus\": [[0.0, \"#0d0887\"], [0.1111111111111111, \"#46039f\"], [0.2222222222222222, \"#7201a8\"], [0.3333333333333333, \"#9c179e\"], [0.4444444444444444, \"#bd3786\"], [0.5555555555555556, \"#d8576b\"], [0.6666666666666666, \"#ed7953\"], [0.7777777777777778, \"#fb9f3a\"], [0.8888888888888888, \"#fdca26\"], [1.0, \"#f0f921\"]]}, \"colorway\": [\"#636efa\", \"#EF553B\", \"#00cc96\", \"#ab63fa\", \"#FFA15A\", \"#19d3f3\", \"#FF6692\", \"#B6E880\", \"#FF97FF\", \"#FECB52\"], \"font\": {\"color\": \"#2a3f5f\"}, \"geo\": {\"bgcolor\": \"white\", \"lakecolor\": \"white\", \"landcolor\": \"#E5ECF6\", \"showlakes\": true, \"showland\": true, \"subunitcolor\": \"white\"}, \"hoverlabel\": {\"align\": \"left\"}, \"hovermode\": \"closest\", \"mapbox\": {\"style\": \"light\"}, \"paper_bgcolor\": \"white\", \"plot_bgcolor\": \"#E5ECF6\", \"polar\": {\"angularaxis\": {\"gridcolor\": \"white\", \"linecolor\": \"white\", \"ticks\": \"\"}, \"bgcolor\": \"#E5ECF6\", \"radialaxis\": {\"gridcolor\": \"white\", \"linecolor\": \"white\", \"ticks\": \"\"}}, \"scene\": {\"xaxis\": {\"backgroundcolor\": \"#E5ECF6\", \"gridcolor\": \"white\", \"gridwidth\": 2, \"linecolor\": \"white\", \"showbackground\": true, \"ticks\": \"\", \"zerolinecolor\": \"white\"}, \"yaxis\": {\"backgroundcolor\": \"#E5ECF6\", \"gridcolor\": \"white\", \"gridwidth\": 2, \"linecolor\": \"white\", \"showbackground\": true, \"ticks\": \"\", \"zerolinecolor\": \"white\"}, \"zaxis\": {\"backgroundcolor\": \"#E5ECF6\", \"gridcolor\": \"white\", \"gridwidth\": 2, \"linecolor\": \"white\", \"showbackground\": true, \"ticks\": \"\", \"zerolinecolor\": \"white\"}}, \"shapedefaults\": {\"line\": {\"color\": \"#2a3f5f\"}}, \"ternary\": {\"aaxis\": {\"gridcolor\": \"white\", \"linecolor\": \"white\", \"ticks\": \"\"}, \"baxis\": {\"gridcolor\": \"white\", \"linecolor\": \"white\", \"ticks\": \"\"}, \"bgcolor\": \"#E5ECF6\", \"caxis\": {\"gridcolor\": \"white\", \"linecolor\": \"white\", \"ticks\": \"\"}}, \"title\": {\"x\": 0.05}, \"xaxis\": {\"automargin\": true, \"gridcolor\": \"white\", \"linecolor\": \"white\", \"ticks\": \"\", \"title\": {\"standoff\": 15}, \"zerolinecolor\": \"white\", \"zerolinewidth\": 2}, \"yaxis\": {\"automargin\": true, \"gridcolor\": \"white\", \"linecolor\": \"white\", \"ticks\": \"\", \"title\": {\"standoff\": 15}, \"zerolinecolor\": \"white\", \"zerolinewidth\": 2}}}, \"title\": {\"font\": {\"color\": \"#D9D9D9\"}, \"text\": \"Histogram of area\"}, \"xaxis\": {\"gridcolor\": \"#434343\", \"showgrid\": true, \"tickfont\": {\"color\": \"#C2C2C2\"}, \"title\": {\"font\": {\"color\": \"#D9D9D9\"}, \"text\": \"area\"}, \"zerolinecolor\": \"#666570\"}, \"yaxis\": {\"gridcolor\": \"#434343\", \"showgrid\": true, \"tickfont\": {\"color\": \"#C2C2C2\"}, \"title\": {\"font\": {\"color\": \"#D9D9D9\"}, \"text\": \"Count\"}, \"zerolinecolor\": \"#666570\"}},                        {\"responsive\": true}                    ).then(function(){\n",
       "                            \n",
       "var gd = document.getElementById('3b7f951b-a8c4-43de-a3ec-8bdaeba58b58');\n",
       "var x = new MutationObserver(function (mutations, observer) {{\n",
       "        var display = window.getComputedStyle(gd).display;\n",
       "        if (!display || display === 'none') {{\n",
       "            console.log([gd, 'removed!']);\n",
       "            Plotly.purge(gd);\n",
       "            observer.disconnect();\n",
       "        }}\n",
       "}});\n",
       "\n",
       "// Listen for the removal of the full notebook cells\n",
       "var notebookContainer = gd.closest('#notebook-container');\n",
       "if (notebookContainer) {{\n",
       "    x.observe(notebookContainer, {childList: true});\n",
       "}}\n",
       "\n",
       "// Listen for the clearing of the current output cell\n",
       "var outputEl = gd.closest('.output');\n",
       "if (outputEl) {{\n",
       "    x.observe(outputEl, {childList: true});\n",
       "}}\n",
       "\n",
       "                        })                };                });            </script>        </div>"
      ]
     },
     "metadata": {},
     "output_type": "display_data"
    }
   ],
   "source": [
    "pd.DataFrame(df[\"area\"]).iplot(kind=\"histogram\", \n",
    "                bins=40, \n",
    "                theme=\"solar\",\n",
    "                title=\"Histogram of area\",\n",
    "                xTitle='area', \n",
    "                yTitle='Count',\n",
    "                asFigure=True)"
   ]
  },
  {
   "cell_type": "markdown",
   "metadata": {},
   "source": [
    "### Few observations:\n",
    "- Histograms are often called a Distribution plot, as this shows the distribution of a particular feature. By distribution, I mean how many points of a feature lies in a particular range.\n",
    "- If you observe the plot you will understand that 465 points which are having values from -25(actually 0, but mentioned in the plot) to 24.9, then there are 37 points which range from 25 to 74.9, and so on.\n",
    "- This thing again shows that there are few burnouts that cover less area. \n",
    "- Just think, the area is in hector so can you imagine how huge 1090.84 hectors of area is."
   ]
  },
  {
   "cell_type": "markdown",
   "metadata": {},
   "source": [
    "## Violin Plot of Area:"
   ]
  },
  {
   "cell_type": "code",
   "execution_count": 24,
   "metadata": {},
   "outputs": [
    {
     "data": {
      "application/vnd.plotly.v1+json": {
       "config": {
        "plotlyServerURL": "https://plot.ly"
       },
       "data": [
        {
         "alignmentgroup": "True",
         "box": {
          "visible": true
         },
         "hovertemplate": "area=%{y}<extra></extra>",
         "legendgroup": "",
         "marker": {
          "color": "#636efa"
         },
         "name": "",
         "offsetgroup": "",
         "orientation": "v",
         "points": "all",
         "scalegroup": "True",
         "showlegend": false,
         "type": "violin",
         "x0": " ",
         "xaxis": "x",
         "y": [
          0,
          0,
          0,
          0,
          0,
          0,
          0,
          0,
          0,
          0,
          0,
          0,
          0,
          0,
          0,
          0,
          0,
          0,
          0,
          0,
          0,
          0,
          0,
          0,
          0,
          0,
          0,
          0,
          0,
          0,
          0,
          0,
          0,
          0,
          0,
          0,
          0,
          0,
          0,
          0,
          0,
          0,
          0,
          0,
          0,
          0,
          0,
          0,
          0,
          0,
          0,
          0,
          0,
          0,
          0,
          0,
          0,
          0,
          0,
          0,
          0,
          0,
          0,
          0,
          0,
          0,
          0,
          0,
          0,
          0,
          0,
          0,
          0,
          0,
          0,
          0,
          0,
          0,
          0,
          0,
          0,
          0,
          0,
          0,
          0,
          0,
          0,
          0,
          0,
          0,
          0,
          0,
          0,
          0,
          0,
          0,
          0,
          0,
          0,
          0,
          0,
          0,
          0,
          0,
          0,
          0,
          0,
          0,
          0,
          0,
          0,
          0,
          0,
          0,
          0,
          0,
          0,
          0,
          0,
          0,
          0,
          0,
          0,
          0,
          0,
          0,
          0,
          0,
          0,
          0,
          0,
          0,
          0,
          0,
          0,
          0,
          0,
          0,
          0.36,
          0.43,
          0.47,
          0.55,
          0.61,
          0.71,
          0.77,
          0.9,
          0.95,
          0.96,
          1.07,
          1.12,
          1.19,
          1.36,
          1.43,
          1.46,
          1.46,
          1.56,
          1.61,
          1.63,
          1.64,
          1.69,
          1.75,
          1.9,
          1.94,
          1.95,
          2.01,
          2.14,
          2.29,
          2.51,
          2.53,
          2.55,
          2.57,
          2.69,
          2.74,
          3.07,
          3.5,
          4.53,
          4.61,
          4.69,
          4.88,
          5.23,
          5.33,
          5.44,
          6.38,
          6.83,
          6.96,
          7.04,
          7.19,
          7.3,
          7.4,
          8.24,
          8.31,
          8.68,
          8.71,
          9.41,
          10.01,
          10.02,
          10.93,
          11.06,
          11.24,
          11.32,
          11.53,
          12.1,
          13.05,
          13.7,
          13.99,
          14.57,
          15.45,
          17.2,
          19.23,
          23.41,
          24.23,
          26,
          26.13,
          27.35,
          28.66,
          28.66,
          29.48,
          30.32,
          31.72,
          31.86,
          32.07,
          35.88,
          36.85,
          37.02,
          37.71,
          48.55,
          49.37,
          58.3,
          64.1,
          71.3,
          88.49,
          95.18,
          103.39,
          105.66,
          154.88,
          196.48,
          200.94,
          212.88,
          1090.84,
          0,
          0,
          0,
          10.13,
          0,
          2.87,
          0.76,
          0.09,
          0.75,
          0,
          2.47,
          0.68,
          0.24,
          0.21,
          1.52,
          10.34,
          0,
          8.02,
          0.68,
          0,
          1.38,
          8.85,
          3.3,
          4.25,
          1.56,
          6.54,
          0.79,
          0.17,
          0,
          0,
          4.4,
          0.52,
          9.27,
          3.09,
          8.98,
          11.19,
          5.38,
          17.85,
          10.73,
          22.03,
          9.77,
          9.27,
          24.77,
          0,
          1.1,
          24.24,
          0,
          0,
          0,
          0,
          0,
          0,
          8,
          2.64,
          86.45,
          6.57,
          0,
          0.9,
          0,
          0,
          0,
          0,
          3.52,
          0,
          0,
          0,
          0,
          0.41,
          5.18,
          0,
          0,
          0,
          14.29,
          0,
          0,
          1.58,
          0,
          0,
          3.78,
          0,
          4.41,
          34.36,
          7.21,
          1.01,
          2.18,
          4.42,
          0,
          0,
          0,
          0,
          3.33,
          6.58,
          15.64,
          11.22,
          2.13,
          0,
          0,
          0,
          56.04,
          7.48,
          1.47,
          3.93,
          0,
          0,
          2.18,
          6.1,
          5.83,
          28.19,
          0,
          0,
          1.64,
          3.71,
          7.31,
          2.03,
          1.72,
          5.97,
          13.06,
          1.26,
          0,
          0,
          8.12,
          1.09,
          3.94,
          0.52,
          2.93,
          5.65,
          20.03,
          1.75,
          0,
          12.64,
          0,
          11.06,
          0,
          0,
          0,
          18.3,
          39.35,
          0,
          174.63,
          0,
          0,
          7.73,
          16.33,
          5.86,
          42.87,
          12.18,
          16,
          24.59,
          0,
          28.74,
          0,
          9.96,
          30.18,
          70.76,
          0,
          0,
          51.78,
          3.64,
          3.63,
          0,
          0,
          8.16,
          4.95,
          0,
          0,
          6.04,
          0,
          3.95,
          0,
          7.8,
          0,
          0,
          4.62,
          1.63,
          0,
          0,
          746.28,
          7.02,
          0,
          2.44,
          3.05,
          185.76,
          0,
          6.3,
          0.72,
          4.96,
          0,
          0,
          2.35,
          0,
          3.2,
          0,
          6.36,
          0,
          15.34,
          0,
          0,
          0.54,
          0,
          6.43,
          0.33,
          0,
          1.23,
          3.35,
          0,
          9.96,
          0,
          0,
          0,
          0,
          0,
          6.43,
          9.71,
          0,
          0,
          0,
          0,
          0,
          82.75,
          3.32,
          1.94,
          0,
          0,
          3.71,
          5.39,
          2.14,
          6.84,
          3.18,
          5.55,
          6.61,
          61.13,
          0,
          38.48,
          1.94,
          70.32,
          10.08,
          3.19,
          1.76,
          7.36,
          2.21,
          278.53,
          2.75,
          0,
          1.29,
          0,
          26.43,
          2.07,
          2,
          16.4,
          46.7,
          0,
          0,
          0,
          0,
          43.32,
          8.59,
          0,
          2.77,
          14.68,
          40.54,
          10.82,
          0,
          0,
          0,
          1.95,
          49.59,
          5.8,
          0,
          0,
          0,
          2.17,
          0.43,
          0,
          6.44,
          54.29,
          11.16,
          0,
          0
         ],
         "y0": " ",
         "yaxis": "y"
        }
       ],
       "layout": {
        "legend": {
         "tracegroupgap": 0
        },
        "margin": {
         "t": 60
        },
        "template": {
         "data": {
          "bar": [
           {
            "error_x": {
             "color": "#2a3f5f"
            },
            "error_y": {
             "color": "#2a3f5f"
            },
            "marker": {
             "line": {
              "color": "#E5ECF6",
              "width": 0.5
             }
            },
            "type": "bar"
           }
          ],
          "barpolar": [
           {
            "marker": {
             "line": {
              "color": "#E5ECF6",
              "width": 0.5
             }
            },
            "type": "barpolar"
           }
          ],
          "carpet": [
           {
            "aaxis": {
             "endlinecolor": "#2a3f5f",
             "gridcolor": "white",
             "linecolor": "white",
             "minorgridcolor": "white",
             "startlinecolor": "#2a3f5f"
            },
            "baxis": {
             "endlinecolor": "#2a3f5f",
             "gridcolor": "white",
             "linecolor": "white",
             "minorgridcolor": "white",
             "startlinecolor": "#2a3f5f"
            },
            "type": "carpet"
           }
          ],
          "choropleth": [
           {
            "colorbar": {
             "outlinewidth": 0,
             "ticks": ""
            },
            "type": "choropleth"
           }
          ],
          "contour": [
           {
            "colorbar": {
             "outlinewidth": 0,
             "ticks": ""
            },
            "colorscale": [
             [
              0,
              "#0d0887"
             ],
             [
              0.1111111111111111,
              "#46039f"
             ],
             [
              0.2222222222222222,
              "#7201a8"
             ],
             [
              0.3333333333333333,
              "#9c179e"
             ],
             [
              0.4444444444444444,
              "#bd3786"
             ],
             [
              0.5555555555555556,
              "#d8576b"
             ],
             [
              0.6666666666666666,
              "#ed7953"
             ],
             [
              0.7777777777777778,
              "#fb9f3a"
             ],
             [
              0.8888888888888888,
              "#fdca26"
             ],
             [
              1,
              "#f0f921"
             ]
            ],
            "type": "contour"
           }
          ],
          "contourcarpet": [
           {
            "colorbar": {
             "outlinewidth": 0,
             "ticks": ""
            },
            "type": "contourcarpet"
           }
          ],
          "heatmap": [
           {
            "colorbar": {
             "outlinewidth": 0,
             "ticks": ""
            },
            "colorscale": [
             [
              0,
              "#0d0887"
             ],
             [
              0.1111111111111111,
              "#46039f"
             ],
             [
              0.2222222222222222,
              "#7201a8"
             ],
             [
              0.3333333333333333,
              "#9c179e"
             ],
             [
              0.4444444444444444,
              "#bd3786"
             ],
             [
              0.5555555555555556,
              "#d8576b"
             ],
             [
              0.6666666666666666,
              "#ed7953"
             ],
             [
              0.7777777777777778,
              "#fb9f3a"
             ],
             [
              0.8888888888888888,
              "#fdca26"
             ],
             [
              1,
              "#f0f921"
             ]
            ],
            "type": "heatmap"
           }
          ],
          "heatmapgl": [
           {
            "colorbar": {
             "outlinewidth": 0,
             "ticks": ""
            },
            "colorscale": [
             [
              0,
              "#0d0887"
             ],
             [
              0.1111111111111111,
              "#46039f"
             ],
             [
              0.2222222222222222,
              "#7201a8"
             ],
             [
              0.3333333333333333,
              "#9c179e"
             ],
             [
              0.4444444444444444,
              "#bd3786"
             ],
             [
              0.5555555555555556,
              "#d8576b"
             ],
             [
              0.6666666666666666,
              "#ed7953"
             ],
             [
              0.7777777777777778,
              "#fb9f3a"
             ],
             [
              0.8888888888888888,
              "#fdca26"
             ],
             [
              1,
              "#f0f921"
             ]
            ],
            "type": "heatmapgl"
           }
          ],
          "histogram": [
           {
            "marker": {
             "colorbar": {
              "outlinewidth": 0,
              "ticks": ""
             }
            },
            "type": "histogram"
           }
          ],
          "histogram2d": [
           {
            "colorbar": {
             "outlinewidth": 0,
             "ticks": ""
            },
            "colorscale": [
             [
              0,
              "#0d0887"
             ],
             [
              0.1111111111111111,
              "#46039f"
             ],
             [
              0.2222222222222222,
              "#7201a8"
             ],
             [
              0.3333333333333333,
              "#9c179e"
             ],
             [
              0.4444444444444444,
              "#bd3786"
             ],
             [
              0.5555555555555556,
              "#d8576b"
             ],
             [
              0.6666666666666666,
              "#ed7953"
             ],
             [
              0.7777777777777778,
              "#fb9f3a"
             ],
             [
              0.8888888888888888,
              "#fdca26"
             ],
             [
              1,
              "#f0f921"
             ]
            ],
            "type": "histogram2d"
           }
          ],
          "histogram2dcontour": [
           {
            "colorbar": {
             "outlinewidth": 0,
             "ticks": ""
            },
            "colorscale": [
             [
              0,
              "#0d0887"
             ],
             [
              0.1111111111111111,
              "#46039f"
             ],
             [
              0.2222222222222222,
              "#7201a8"
             ],
             [
              0.3333333333333333,
              "#9c179e"
             ],
             [
              0.4444444444444444,
              "#bd3786"
             ],
             [
              0.5555555555555556,
              "#d8576b"
             ],
             [
              0.6666666666666666,
              "#ed7953"
             ],
             [
              0.7777777777777778,
              "#fb9f3a"
             ],
             [
              0.8888888888888888,
              "#fdca26"
             ],
             [
              1,
              "#f0f921"
             ]
            ],
            "type": "histogram2dcontour"
           }
          ],
          "mesh3d": [
           {
            "colorbar": {
             "outlinewidth": 0,
             "ticks": ""
            },
            "type": "mesh3d"
           }
          ],
          "parcoords": [
           {
            "line": {
             "colorbar": {
              "outlinewidth": 0,
              "ticks": ""
             }
            },
            "type": "parcoords"
           }
          ],
          "pie": [
           {
            "automargin": true,
            "type": "pie"
           }
          ],
          "scatter": [
           {
            "marker": {
             "colorbar": {
              "outlinewidth": 0,
              "ticks": ""
             }
            },
            "type": "scatter"
           }
          ],
          "scatter3d": [
           {
            "line": {
             "colorbar": {
              "outlinewidth": 0,
              "ticks": ""
             }
            },
            "marker": {
             "colorbar": {
              "outlinewidth": 0,
              "ticks": ""
             }
            },
            "type": "scatter3d"
           }
          ],
          "scattercarpet": [
           {
            "marker": {
             "colorbar": {
              "outlinewidth": 0,
              "ticks": ""
             }
            },
            "type": "scattercarpet"
           }
          ],
          "scattergeo": [
           {
            "marker": {
             "colorbar": {
              "outlinewidth": 0,
              "ticks": ""
             }
            },
            "type": "scattergeo"
           }
          ],
          "scattergl": [
           {
            "marker": {
             "colorbar": {
              "outlinewidth": 0,
              "ticks": ""
             }
            },
            "type": "scattergl"
           }
          ],
          "scattermapbox": [
           {
            "marker": {
             "colorbar": {
              "outlinewidth": 0,
              "ticks": ""
             }
            },
            "type": "scattermapbox"
           }
          ],
          "scatterpolar": [
           {
            "marker": {
             "colorbar": {
              "outlinewidth": 0,
              "ticks": ""
             }
            },
            "type": "scatterpolar"
           }
          ],
          "scatterpolargl": [
           {
            "marker": {
             "colorbar": {
              "outlinewidth": 0,
              "ticks": ""
             }
            },
            "type": "scatterpolargl"
           }
          ],
          "scatterternary": [
           {
            "marker": {
             "colorbar": {
              "outlinewidth": 0,
              "ticks": ""
             }
            },
            "type": "scatterternary"
           }
          ],
          "surface": [
           {
            "colorbar": {
             "outlinewidth": 0,
             "ticks": ""
            },
            "colorscale": [
             [
              0,
              "#0d0887"
             ],
             [
              0.1111111111111111,
              "#46039f"
             ],
             [
              0.2222222222222222,
              "#7201a8"
             ],
             [
              0.3333333333333333,
              "#9c179e"
             ],
             [
              0.4444444444444444,
              "#bd3786"
             ],
             [
              0.5555555555555556,
              "#d8576b"
             ],
             [
              0.6666666666666666,
              "#ed7953"
             ],
             [
              0.7777777777777778,
              "#fb9f3a"
             ],
             [
              0.8888888888888888,
              "#fdca26"
             ],
             [
              1,
              "#f0f921"
             ]
            ],
            "type": "surface"
           }
          ],
          "table": [
           {
            "cells": {
             "fill": {
              "color": "#EBF0F8"
             },
             "line": {
              "color": "white"
             }
            },
            "header": {
             "fill": {
              "color": "#C8D4E3"
             },
             "line": {
              "color": "white"
             }
            },
            "type": "table"
           }
          ]
         },
         "layout": {
          "annotationdefaults": {
           "arrowcolor": "#2a3f5f",
           "arrowhead": 0,
           "arrowwidth": 1
          },
          "coloraxis": {
           "colorbar": {
            "outlinewidth": 0,
            "ticks": ""
           }
          },
          "colorscale": {
           "diverging": [
            [
             0,
             "#8e0152"
            ],
            [
             0.1,
             "#c51b7d"
            ],
            [
             0.2,
             "#de77ae"
            ],
            [
             0.3,
             "#f1b6da"
            ],
            [
             0.4,
             "#fde0ef"
            ],
            [
             0.5,
             "#f7f7f7"
            ],
            [
             0.6,
             "#e6f5d0"
            ],
            [
             0.7,
             "#b8e186"
            ],
            [
             0.8,
             "#7fbc41"
            ],
            [
             0.9,
             "#4d9221"
            ],
            [
             1,
             "#276419"
            ]
           ],
           "sequential": [
            [
             0,
             "#0d0887"
            ],
            [
             0.1111111111111111,
             "#46039f"
            ],
            [
             0.2222222222222222,
             "#7201a8"
            ],
            [
             0.3333333333333333,
             "#9c179e"
            ],
            [
             0.4444444444444444,
             "#bd3786"
            ],
            [
             0.5555555555555556,
             "#d8576b"
            ],
            [
             0.6666666666666666,
             "#ed7953"
            ],
            [
             0.7777777777777778,
             "#fb9f3a"
            ],
            [
             0.8888888888888888,
             "#fdca26"
            ],
            [
             1,
             "#f0f921"
            ]
           ],
           "sequentialminus": [
            [
             0,
             "#0d0887"
            ],
            [
             0.1111111111111111,
             "#46039f"
            ],
            [
             0.2222222222222222,
             "#7201a8"
            ],
            [
             0.3333333333333333,
             "#9c179e"
            ],
            [
             0.4444444444444444,
             "#bd3786"
            ],
            [
             0.5555555555555556,
             "#d8576b"
            ],
            [
             0.6666666666666666,
             "#ed7953"
            ],
            [
             0.7777777777777778,
             "#fb9f3a"
            ],
            [
             0.8888888888888888,
             "#fdca26"
            ],
            [
             1,
             "#f0f921"
            ]
           ]
          },
          "colorway": [
           "#636efa",
           "#EF553B",
           "#00cc96",
           "#ab63fa",
           "#FFA15A",
           "#19d3f3",
           "#FF6692",
           "#B6E880",
           "#FF97FF",
           "#FECB52"
          ],
          "font": {
           "color": "#2a3f5f"
          },
          "geo": {
           "bgcolor": "white",
           "lakecolor": "white",
           "landcolor": "#E5ECF6",
           "showlakes": true,
           "showland": true,
           "subunitcolor": "white"
          },
          "hoverlabel": {
           "align": "left"
          },
          "hovermode": "closest",
          "mapbox": {
           "style": "light"
          },
          "paper_bgcolor": "white",
          "plot_bgcolor": "#E5ECF6",
          "polar": {
           "angularaxis": {
            "gridcolor": "white",
            "linecolor": "white",
            "ticks": ""
           },
           "bgcolor": "#E5ECF6",
           "radialaxis": {
            "gridcolor": "white",
            "linecolor": "white",
            "ticks": ""
           }
          },
          "scene": {
           "xaxis": {
            "backgroundcolor": "#E5ECF6",
            "gridcolor": "white",
            "gridwidth": 2,
            "linecolor": "white",
            "showbackground": true,
            "ticks": "",
            "zerolinecolor": "white"
           },
           "yaxis": {
            "backgroundcolor": "#E5ECF6",
            "gridcolor": "white",
            "gridwidth": 2,
            "linecolor": "white",
            "showbackground": true,
            "ticks": "",
            "zerolinecolor": "white"
           },
           "zaxis": {
            "backgroundcolor": "#E5ECF6",
            "gridcolor": "white",
            "gridwidth": 2,
            "linecolor": "white",
            "showbackground": true,
            "ticks": "",
            "zerolinecolor": "white"
           }
          },
          "shapedefaults": {
           "line": {
            "color": "#2a3f5f"
           }
          },
          "ternary": {
           "aaxis": {
            "gridcolor": "white",
            "linecolor": "white",
            "ticks": ""
           },
           "baxis": {
            "gridcolor": "white",
            "linecolor": "white",
            "ticks": ""
           },
           "bgcolor": "#E5ECF6",
           "caxis": {
            "gridcolor": "white",
            "linecolor": "white",
            "ticks": ""
           }
          },
          "title": {
           "x": 0.05
          },
          "xaxis": {
           "automargin": true,
           "gridcolor": "white",
           "linecolor": "white",
           "ticks": "",
           "title": {
            "standoff": 15
           },
           "zerolinecolor": "white",
           "zerolinewidth": 2
          },
          "yaxis": {
           "automargin": true,
           "gridcolor": "white",
           "linecolor": "white",
           "ticks": "",
           "title": {
            "standoff": 15
           },
           "zerolinecolor": "white",
           "zerolinewidth": 2
          }
         }
        },
        "violinmode": "group",
        "xaxis": {
         "anchor": "y",
         "domain": [
          0,
          1
         ]
        },
        "yaxis": {
         "anchor": "x",
         "domain": [
          0,
          1
         ],
         "title": {
          "text": "area"
         }
        }
       }
      },
      "text/html": [
       "<div>                            <div id=\"f1c2770c-638f-4c0d-9f7d-d384d56bc044\" class=\"plotly-graph-div\" style=\"height:525px; width:100%;\"></div>            <script type=\"text/javascript\">                require([\"plotly\"], function(Plotly) {                    window.PLOTLYENV=window.PLOTLYENV || {};                                    if (document.getElementById(\"f1c2770c-638f-4c0d-9f7d-d384d56bc044\")) {                    Plotly.newPlot(                        \"f1c2770c-638f-4c0d-9f7d-d384d56bc044\",                        [{\"alignmentgroup\": \"True\", \"box\": {\"visible\": true}, \"hovertemplate\": \"area=%{y}<extra></extra>\", \"legendgroup\": \"\", \"marker\": {\"color\": \"#636efa\"}, \"name\": \"\", \"offsetgroup\": \"\", \"orientation\": \"v\", \"points\": \"all\", \"scalegroup\": \"True\", \"showlegend\": false, \"type\": \"violin\", \"x0\": \" \", \"xaxis\": \"x\", \"y\": [0.0, 0.0, 0.0, 0.0, 0.0, 0.0, 0.0, 0.0, 0.0, 0.0, 0.0, 0.0, 0.0, 0.0, 0.0, 0.0, 0.0, 0.0, 0.0, 0.0, 0.0, 0.0, 0.0, 0.0, 0.0, 0.0, 0.0, 0.0, 0.0, 0.0, 0.0, 0.0, 0.0, 0.0, 0.0, 0.0, 0.0, 0.0, 0.0, 0.0, 0.0, 0.0, 0.0, 0.0, 0.0, 0.0, 0.0, 0.0, 0.0, 0.0, 0.0, 0.0, 0.0, 0.0, 0.0, 0.0, 0.0, 0.0, 0.0, 0.0, 0.0, 0.0, 0.0, 0.0, 0.0, 0.0, 0.0, 0.0, 0.0, 0.0, 0.0, 0.0, 0.0, 0.0, 0.0, 0.0, 0.0, 0.0, 0.0, 0.0, 0.0, 0.0, 0.0, 0.0, 0.0, 0.0, 0.0, 0.0, 0.0, 0.0, 0.0, 0.0, 0.0, 0.0, 0.0, 0.0, 0.0, 0.0, 0.0, 0.0, 0.0, 0.0, 0.0, 0.0, 0.0, 0.0, 0.0, 0.0, 0.0, 0.0, 0.0, 0.0, 0.0, 0.0, 0.0, 0.0, 0.0, 0.0, 0.0, 0.0, 0.0, 0.0, 0.0, 0.0, 0.0, 0.0, 0.0, 0.0, 0.0, 0.0, 0.0, 0.0, 0.0, 0.0, 0.0, 0.0, 0.0, 0.0, 0.36, 0.43, 0.47, 0.55, 0.61, 0.71, 0.77, 0.9, 0.95, 0.96, 1.07, 1.12, 1.19, 1.36, 1.43, 1.46, 1.46, 1.56, 1.61, 1.63, 1.64, 1.69, 1.75, 1.9, 1.94, 1.95, 2.01, 2.14, 2.29, 2.51, 2.53, 2.55, 2.57, 2.69, 2.74, 3.07, 3.5, 4.53, 4.61, 4.69, 4.88, 5.23, 5.33, 5.44, 6.38, 6.83, 6.96, 7.04, 7.19, 7.3, 7.4, 8.24, 8.31, 8.68, 8.71, 9.41, 10.01, 10.02, 10.93, 11.06, 11.24, 11.32, 11.53, 12.1, 13.05, 13.7, 13.99, 14.57, 15.45, 17.2, 19.23, 23.41, 24.23, 26.0, 26.13, 27.35, 28.66, 28.66, 29.48, 30.32, 31.72, 31.86, 32.07, 35.88, 36.85, 37.02, 37.71, 48.55, 49.37, 58.3, 64.1, 71.3, 88.49, 95.18, 103.39, 105.66, 154.88, 196.48, 200.94, 212.88, 1090.84, 0.0, 0.0, 0.0, 10.13, 0.0, 2.87, 0.76, 0.09, 0.75, 0.0, 2.47, 0.68, 0.24, 0.21, 1.52, 10.34, 0.0, 8.02, 0.68, 0.0, 1.38, 8.85, 3.3, 4.25, 1.56, 6.54, 0.79, 0.17, 0.0, 0.0, 4.4, 0.52, 9.27, 3.09, 8.98, 11.19, 5.38, 17.85, 10.73, 22.03, 9.77, 9.27, 24.77, 0.0, 1.1, 24.24, 0.0, 0.0, 0.0, 0.0, 0.0, 0.0, 8.0, 2.64, 86.45, 6.57, 0.0, 0.9, 0.0, 0.0, 0.0, 0.0, 3.52, 0.0, 0.0, 0.0, 0.0, 0.41, 5.18, 0.0, 0.0, 0.0, 14.29, 0.0, 0.0, 1.58, 0.0, 0.0, 3.78, 0.0, 4.41, 34.36, 7.21, 1.01, 2.18, 4.42, 0.0, 0.0, 0.0, 0.0, 3.33, 6.58, 15.64, 11.22, 2.13, 0.0, 0.0, 0.0, 56.04, 7.48, 1.47, 3.93, 0.0, 0.0, 2.18, 6.1, 5.83, 28.19, 0.0, 0.0, 1.64, 3.71, 7.31, 2.03, 1.72, 5.97, 13.06, 1.26, 0.0, 0.0, 8.12, 1.09, 3.94, 0.52, 2.93, 5.65, 20.03, 1.75, 0.0, 12.64, 0.0, 11.06, 0.0, 0.0, 0.0, 18.3, 39.35, 0.0, 174.63, 0.0, 0.0, 7.73, 16.33, 5.86, 42.87, 12.18, 16.0, 24.59, 0.0, 28.74, 0.0, 9.96, 30.18, 70.76, 0.0, 0.0, 51.78, 3.64, 3.63, 0.0, 0.0, 8.16, 4.95, 0.0, 0.0, 6.04, 0.0, 3.95, 0.0, 7.8, 0.0, 0.0, 4.62, 1.63, 0.0, 0.0, 746.28, 7.02, 0.0, 2.44, 3.05, 185.76, 0.0, 6.3, 0.72, 4.96, 0.0, 0.0, 2.35, 0.0, 3.2, 0.0, 6.36, 0.0, 15.34, 0.0, 0.0, 0.54, 0.0, 6.43, 0.33, 0.0, 1.23, 3.35, 0.0, 9.96, 0.0, 0.0, 0.0, 0.0, 0.0, 6.43, 9.71, 0.0, 0.0, 0.0, 0.0, 0.0, 82.75, 3.32, 1.94, 0.0, 0.0, 3.71, 5.39, 2.14, 6.84, 3.18, 5.55, 6.61, 61.13, 0.0, 38.48, 1.94, 70.32, 10.08, 3.19, 1.76, 7.36, 2.21, 278.53, 2.75, 0.0, 1.29, 0.0, 26.43, 2.07, 2.0, 16.4, 46.7, 0.0, 0.0, 0.0, 0.0, 43.32, 8.59, 0.0, 2.77, 14.68, 40.54, 10.82, 0.0, 0.0, 0.0, 1.95, 49.59, 5.8, 0.0, 0.0, 0.0, 2.17, 0.43, 0.0, 6.44, 54.29, 11.16, 0.0, 0.0], \"y0\": \" \", \"yaxis\": \"y\"}],                        {\"legend\": {\"tracegroupgap\": 0}, \"margin\": {\"t\": 60}, \"template\": {\"data\": {\"bar\": [{\"error_x\": {\"color\": \"#2a3f5f\"}, \"error_y\": {\"color\": \"#2a3f5f\"}, \"marker\": {\"line\": {\"color\": \"#E5ECF6\", \"width\": 0.5}}, \"type\": \"bar\"}], \"barpolar\": [{\"marker\": {\"line\": {\"color\": \"#E5ECF6\", \"width\": 0.5}}, \"type\": \"barpolar\"}], \"carpet\": [{\"aaxis\": {\"endlinecolor\": \"#2a3f5f\", \"gridcolor\": \"white\", \"linecolor\": \"white\", \"minorgridcolor\": \"white\", \"startlinecolor\": \"#2a3f5f\"}, \"baxis\": {\"endlinecolor\": \"#2a3f5f\", \"gridcolor\": \"white\", \"linecolor\": \"white\", \"minorgridcolor\": \"white\", \"startlinecolor\": \"#2a3f5f\"}, \"type\": \"carpet\"}], \"choropleth\": [{\"colorbar\": {\"outlinewidth\": 0, \"ticks\": \"\"}, \"type\": \"choropleth\"}], \"contour\": [{\"colorbar\": {\"outlinewidth\": 0, \"ticks\": \"\"}, \"colorscale\": [[0.0, \"#0d0887\"], [0.1111111111111111, \"#46039f\"], [0.2222222222222222, \"#7201a8\"], [0.3333333333333333, \"#9c179e\"], [0.4444444444444444, \"#bd3786\"], [0.5555555555555556, \"#d8576b\"], [0.6666666666666666, \"#ed7953\"], [0.7777777777777778, \"#fb9f3a\"], [0.8888888888888888, \"#fdca26\"], [1.0, \"#f0f921\"]], \"type\": \"contour\"}], \"contourcarpet\": [{\"colorbar\": {\"outlinewidth\": 0, \"ticks\": \"\"}, \"type\": \"contourcarpet\"}], \"heatmap\": [{\"colorbar\": {\"outlinewidth\": 0, \"ticks\": \"\"}, \"colorscale\": [[0.0, \"#0d0887\"], [0.1111111111111111, \"#46039f\"], [0.2222222222222222, \"#7201a8\"], [0.3333333333333333, \"#9c179e\"], [0.4444444444444444, \"#bd3786\"], [0.5555555555555556, \"#d8576b\"], [0.6666666666666666, \"#ed7953\"], [0.7777777777777778, \"#fb9f3a\"], [0.8888888888888888, \"#fdca26\"], [1.0, \"#f0f921\"]], \"type\": \"heatmap\"}], \"heatmapgl\": [{\"colorbar\": {\"outlinewidth\": 0, \"ticks\": \"\"}, \"colorscale\": [[0.0, \"#0d0887\"], [0.1111111111111111, \"#46039f\"], [0.2222222222222222, \"#7201a8\"], [0.3333333333333333, \"#9c179e\"], [0.4444444444444444, \"#bd3786\"], [0.5555555555555556, \"#d8576b\"], [0.6666666666666666, \"#ed7953\"], [0.7777777777777778, \"#fb9f3a\"], [0.8888888888888888, \"#fdca26\"], [1.0, \"#f0f921\"]], \"type\": \"heatmapgl\"}], \"histogram\": [{\"marker\": {\"colorbar\": {\"outlinewidth\": 0, \"ticks\": \"\"}}, \"type\": \"histogram\"}], \"histogram2d\": [{\"colorbar\": {\"outlinewidth\": 0, \"ticks\": \"\"}, \"colorscale\": [[0.0, \"#0d0887\"], [0.1111111111111111, \"#46039f\"], [0.2222222222222222, \"#7201a8\"], [0.3333333333333333, \"#9c179e\"], [0.4444444444444444, \"#bd3786\"], [0.5555555555555556, \"#d8576b\"], [0.6666666666666666, \"#ed7953\"], [0.7777777777777778, \"#fb9f3a\"], [0.8888888888888888, \"#fdca26\"], [1.0, \"#f0f921\"]], \"type\": \"histogram2d\"}], \"histogram2dcontour\": [{\"colorbar\": {\"outlinewidth\": 0, \"ticks\": \"\"}, \"colorscale\": [[0.0, \"#0d0887\"], [0.1111111111111111, \"#46039f\"], [0.2222222222222222, \"#7201a8\"], [0.3333333333333333, \"#9c179e\"], [0.4444444444444444, \"#bd3786\"], [0.5555555555555556, \"#d8576b\"], [0.6666666666666666, \"#ed7953\"], [0.7777777777777778, \"#fb9f3a\"], [0.8888888888888888, \"#fdca26\"], [1.0, \"#f0f921\"]], \"type\": \"histogram2dcontour\"}], \"mesh3d\": [{\"colorbar\": {\"outlinewidth\": 0, \"ticks\": \"\"}, \"type\": \"mesh3d\"}], \"parcoords\": [{\"line\": {\"colorbar\": {\"outlinewidth\": 0, \"ticks\": \"\"}}, \"type\": \"parcoords\"}], \"pie\": [{\"automargin\": true, \"type\": \"pie\"}], \"scatter\": [{\"marker\": {\"colorbar\": {\"outlinewidth\": 0, \"ticks\": \"\"}}, \"type\": \"scatter\"}], \"scatter3d\": [{\"line\": {\"colorbar\": {\"outlinewidth\": 0, \"ticks\": \"\"}}, \"marker\": {\"colorbar\": {\"outlinewidth\": 0, \"ticks\": \"\"}}, \"type\": \"scatter3d\"}], \"scattercarpet\": [{\"marker\": {\"colorbar\": {\"outlinewidth\": 0, \"ticks\": \"\"}}, \"type\": \"scattercarpet\"}], \"scattergeo\": [{\"marker\": {\"colorbar\": {\"outlinewidth\": 0, \"ticks\": \"\"}}, \"type\": \"scattergeo\"}], \"scattergl\": [{\"marker\": {\"colorbar\": {\"outlinewidth\": 0, \"ticks\": \"\"}}, \"type\": \"scattergl\"}], \"scattermapbox\": [{\"marker\": {\"colorbar\": {\"outlinewidth\": 0, \"ticks\": \"\"}}, \"type\": \"scattermapbox\"}], \"scatterpolar\": [{\"marker\": {\"colorbar\": {\"outlinewidth\": 0, \"ticks\": \"\"}}, \"type\": \"scatterpolar\"}], \"scatterpolargl\": [{\"marker\": {\"colorbar\": {\"outlinewidth\": 0, \"ticks\": \"\"}}, \"type\": \"scatterpolargl\"}], \"scatterternary\": [{\"marker\": {\"colorbar\": {\"outlinewidth\": 0, \"ticks\": \"\"}}, \"type\": \"scatterternary\"}], \"surface\": [{\"colorbar\": {\"outlinewidth\": 0, \"ticks\": \"\"}, \"colorscale\": [[0.0, \"#0d0887\"], [0.1111111111111111, \"#46039f\"], [0.2222222222222222, \"#7201a8\"], [0.3333333333333333, \"#9c179e\"], [0.4444444444444444, \"#bd3786\"], [0.5555555555555556, \"#d8576b\"], [0.6666666666666666, \"#ed7953\"], [0.7777777777777778, \"#fb9f3a\"], [0.8888888888888888, \"#fdca26\"], [1.0, \"#f0f921\"]], \"type\": \"surface\"}], \"table\": [{\"cells\": {\"fill\": {\"color\": \"#EBF0F8\"}, \"line\": {\"color\": \"white\"}}, \"header\": {\"fill\": {\"color\": \"#C8D4E3\"}, \"line\": {\"color\": \"white\"}}, \"type\": \"table\"}]}, \"layout\": {\"annotationdefaults\": {\"arrowcolor\": \"#2a3f5f\", \"arrowhead\": 0, \"arrowwidth\": 1}, \"coloraxis\": {\"colorbar\": {\"outlinewidth\": 0, \"ticks\": \"\"}}, \"colorscale\": {\"diverging\": [[0, \"#8e0152\"], [0.1, \"#c51b7d\"], [0.2, \"#de77ae\"], [0.3, \"#f1b6da\"], [0.4, \"#fde0ef\"], [0.5, \"#f7f7f7\"], [0.6, \"#e6f5d0\"], [0.7, \"#b8e186\"], [0.8, \"#7fbc41\"], [0.9, \"#4d9221\"], [1, \"#276419\"]], \"sequential\": [[0.0, \"#0d0887\"], [0.1111111111111111, \"#46039f\"], [0.2222222222222222, \"#7201a8\"], [0.3333333333333333, \"#9c179e\"], [0.4444444444444444, \"#bd3786\"], [0.5555555555555556, \"#d8576b\"], [0.6666666666666666, \"#ed7953\"], [0.7777777777777778, \"#fb9f3a\"], [0.8888888888888888, \"#fdca26\"], [1.0, \"#f0f921\"]], \"sequentialminus\": [[0.0, \"#0d0887\"], [0.1111111111111111, \"#46039f\"], [0.2222222222222222, \"#7201a8\"], [0.3333333333333333, \"#9c179e\"], [0.4444444444444444, \"#bd3786\"], [0.5555555555555556, \"#d8576b\"], [0.6666666666666666, \"#ed7953\"], [0.7777777777777778, \"#fb9f3a\"], [0.8888888888888888, \"#fdca26\"], [1.0, \"#f0f921\"]]}, \"colorway\": [\"#636efa\", \"#EF553B\", \"#00cc96\", \"#ab63fa\", \"#FFA15A\", \"#19d3f3\", \"#FF6692\", \"#B6E880\", \"#FF97FF\", \"#FECB52\"], \"font\": {\"color\": \"#2a3f5f\"}, \"geo\": {\"bgcolor\": \"white\", \"lakecolor\": \"white\", \"landcolor\": \"#E5ECF6\", \"showlakes\": true, \"showland\": true, \"subunitcolor\": \"white\"}, \"hoverlabel\": {\"align\": \"left\"}, \"hovermode\": \"closest\", \"mapbox\": {\"style\": \"light\"}, \"paper_bgcolor\": \"white\", \"plot_bgcolor\": \"#E5ECF6\", \"polar\": {\"angularaxis\": {\"gridcolor\": \"white\", \"linecolor\": \"white\", \"ticks\": \"\"}, \"bgcolor\": \"#E5ECF6\", \"radialaxis\": {\"gridcolor\": \"white\", \"linecolor\": \"white\", \"ticks\": \"\"}}, \"scene\": {\"xaxis\": {\"backgroundcolor\": \"#E5ECF6\", \"gridcolor\": \"white\", \"gridwidth\": 2, \"linecolor\": \"white\", \"showbackground\": true, \"ticks\": \"\", \"zerolinecolor\": \"white\"}, \"yaxis\": {\"backgroundcolor\": \"#E5ECF6\", \"gridcolor\": \"white\", \"gridwidth\": 2, \"linecolor\": \"white\", \"showbackground\": true, \"ticks\": \"\", \"zerolinecolor\": \"white\"}, \"zaxis\": {\"backgroundcolor\": \"#E5ECF6\", \"gridcolor\": \"white\", \"gridwidth\": 2, \"linecolor\": \"white\", \"showbackground\": true, \"ticks\": \"\", \"zerolinecolor\": \"white\"}}, \"shapedefaults\": {\"line\": {\"color\": \"#2a3f5f\"}}, \"ternary\": {\"aaxis\": {\"gridcolor\": \"white\", \"linecolor\": \"white\", \"ticks\": \"\"}, \"baxis\": {\"gridcolor\": \"white\", \"linecolor\": \"white\", \"ticks\": \"\"}, \"bgcolor\": \"#E5ECF6\", \"caxis\": {\"gridcolor\": \"white\", \"linecolor\": \"white\", \"ticks\": \"\"}}, \"title\": {\"x\": 0.05}, \"xaxis\": {\"automargin\": true, \"gridcolor\": \"white\", \"linecolor\": \"white\", \"ticks\": \"\", \"title\": {\"standoff\": 15}, \"zerolinecolor\": \"white\", \"zerolinewidth\": 2}, \"yaxis\": {\"automargin\": true, \"gridcolor\": \"white\", \"linecolor\": \"white\", \"ticks\": \"\", \"title\": {\"standoff\": 15}, \"zerolinecolor\": \"white\", \"zerolinewidth\": 2}}}, \"violinmode\": \"group\", \"xaxis\": {\"anchor\": \"y\", \"domain\": [0.0, 1.0]}, \"yaxis\": {\"anchor\": \"x\", \"domain\": [0.0, 1.0], \"title\": {\"text\": \"area\"}}},                        {\"responsive\": true}                    ).then(function(){\n",
       "                            \n",
       "var gd = document.getElementById('f1c2770c-638f-4c0d-9f7d-d384d56bc044');\n",
       "var x = new MutationObserver(function (mutations, observer) {{\n",
       "        var display = window.getComputedStyle(gd).display;\n",
       "        if (!display || display === 'none') {{\n",
       "            console.log([gd, 'removed!']);\n",
       "            Plotly.purge(gd);\n",
       "            observer.disconnect();\n",
       "        }}\n",
       "}});\n",
       "\n",
       "// Listen for the removal of the full notebook cells\n",
       "var notebookContainer = gd.closest('#notebook-container');\n",
       "if (notebookContainer) {{\n",
       "    x.observe(notebookContainer, {childList: true});\n",
       "}}\n",
       "\n",
       "// Listen for the clearing of the current output cell\n",
       "var outputEl = gd.closest('.output');\n",
       "if (outputEl) {{\n",
       "    x.observe(outputEl, {childList: true});\n",
       "}}\n",
       "\n",
       "                        })                };                });            </script>        </div>"
      ]
     },
     "metadata": {},
     "output_type": "display_data"
    }
   ],
   "source": [
    "import plotly.express as px\n",
    "\n",
    "# df = px.data.tips()\n",
    "fig = px.violin(df, y=\"area\", box=True, # draw box plot inside the violin\n",
    "                points='all', # can be 'outliers', or False\n",
    "               )\n",
    "fig.show()"
   ]
  },
  {
   "cell_type": "markdown",
   "metadata": {},
   "source": [
    "### Few observations:\n",
    "-  Now, this is an interesting plot, why? cause in this one plot you can see that the commonly used statistical terms are plotted in the same chart.\n",
    "- You can see the quantiles, max value, min value, median, KDE, etc. Hoover over the plot and you will get to know what is the max value what is the median and how the KDE is changing."
   ]
  },
  {
   "cell_type": "markdown",
   "metadata": {},
   "source": [
    "### Lable Encoding:\n",
    "Using label encoding to encode the categorical variables."
   ]
  },
  {
   "cell_type": "code",
   "execution_count": 25,
   "metadata": {},
   "outputs": [],
   "source": [
    "from sklearn.preprocessing import LabelEncoder\n",
    "label_encoder = LabelEncoder()\n",
    "\n",
    "for i in categorical_features:\n",
    "    df[i]=label_encoder.fit_transform(df[i])"
   ]
  },
  {
   "cell_type": "markdown",
   "metadata": {},
   "source": [
    "### Model using selected fetures:"
   ]
  },
  {
   "cell_type": "code",
   "execution_count": 26,
   "metadata": {},
   "outputs": [],
   "source": [
    "all_fe = ['X','Y','month','day','FFMC','DMC','DC','ISI','temp','RH','wind','rain','area']"
   ]
  },
  {
   "cell_type": "markdown",
   "metadata": {},
   "source": [
    "### Lets check Corelation of different features with target:"
   ]
  },
  {
   "cell_type": "code",
   "execution_count": 27,
   "metadata": {},
   "outputs": [
    {
     "data": {
      "image/png": "[encoded data removed]",
      "text/plain": [
       "<Figure size 720x1440 with 2 Axes>"
      ]
     },
     "metadata": {},
     "output_type": "display_data"
    }
   ],
   "source": [
    "corr_new_train=df.corr()\n",
    "plt.figure(figsize=(10,20))\n",
    "sns.heatmap(corr_new_train[['area']].sort_values(by=['area'],ascending=False).head(60),vmin=-1, cmap='seismic', annot=True)\n",
    "plt.ylabel('features')\n",
    "plt.xlabel('Target')\n",
    "plt.title(\"Corelation of different fitures with target\")\n",
    "plt.show()"
   ]
  },
  {
   "cell_type": "markdown",
   "metadata": {},
   "source": [
    "### Taking top 6 features for model building."
   ]
  },
  {
   "cell_type": "code",
   "execution_count": 28,
   "metadata": {},
   "outputs": [],
   "source": [
    "fs1 = ['X','Y','month','FFMC','DMC','DC','temp','area'] "
   ]
  },
  {
   "cell_type": "code",
   "execution_count": 29,
   "metadata": {},
   "outputs": [
    {
     "data": {
      "text/html": [
       "<div>\n",
       "<style scoped>\n",
       "    .dataframe tbody tr th:only-of-type {\n",
       "        vertical-align: middle;\n",
       "    }\n",
       "\n",
       "    .dataframe tbody tr th {\n",
       "        vertical-align: top;\n",
       "    }\n",
       "\n",
       "    .dataframe thead th {\n",
       "        text-align: right;\n",
       "    }\n",
       "</style>\n",
       "<table border=\"1\" class=\"dataframe\">\n",
       "  <thead>\n",
       "    <tr style=\"text-align: right;\">\n",
       "      <th></th>\n",
       "      <th>X</th>\n",
       "      <th>Y</th>\n",
       "      <th>month</th>\n",
       "      <th>FFMC</th>\n",
       "      <th>DMC</th>\n",
       "      <th>DC</th>\n",
       "      <th>temp</th>\n",
       "      <th>area</th>\n",
       "    </tr>\n",
       "  </thead>\n",
       "  <tbody>\n",
       "    <tr>\n",
       "      <th>0</th>\n",
       "      <td>7</td>\n",
       "      <td>5</td>\n",
       "      <td>7</td>\n",
       "      <td>86.2</td>\n",
       "      <td>26.2</td>\n",
       "      <td>94.3</td>\n",
       "      <td>8.2</td>\n",
       "      <td>0.0</td>\n",
       "    </tr>\n",
       "    <tr>\n",
       "      <th>1</th>\n",
       "      <td>7</td>\n",
       "      <td>4</td>\n",
       "      <td>10</td>\n",
       "      <td>90.6</td>\n",
       "      <td>35.4</td>\n",
       "      <td>669.1</td>\n",
       "      <td>18.0</td>\n",
       "      <td>0.0</td>\n",
       "    </tr>\n",
       "    <tr>\n",
       "      <th>2</th>\n",
       "      <td>7</td>\n",
       "      <td>4</td>\n",
       "      <td>10</td>\n",
       "      <td>90.6</td>\n",
       "      <td>43.7</td>\n",
       "      <td>686.9</td>\n",
       "      <td>14.6</td>\n",
       "      <td>0.0</td>\n",
       "    </tr>\n",
       "    <tr>\n",
       "      <th>3</th>\n",
       "      <td>8</td>\n",
       "      <td>6</td>\n",
       "      <td>7</td>\n",
       "      <td>91.7</td>\n",
       "      <td>33.3</td>\n",
       "      <td>77.5</td>\n",
       "      <td>8.3</td>\n",
       "      <td>0.0</td>\n",
       "    </tr>\n",
       "    <tr>\n",
       "      <th>4</th>\n",
       "      <td>8</td>\n",
       "      <td>6</td>\n",
       "      <td>7</td>\n",
       "      <td>89.3</td>\n",
       "      <td>51.3</td>\n",
       "      <td>102.2</td>\n",
       "      <td>11.4</td>\n",
       "      <td>0.0</td>\n",
       "    </tr>\n",
       "  </tbody>\n",
       "</table>\n",
       "</div>"
      ],
      "text/plain": [
       "   X  Y  month  FFMC   DMC     DC  temp  area\n",
       "0  7  5      7  86.2  26.2   94.3   8.2   0.0\n",
       "1  7  4     10  90.6  35.4  669.1  18.0   0.0\n",
       "2  7  4     10  90.6  43.7  686.9  14.6   0.0\n",
       "3  8  6      7  91.7  33.3   77.5   8.3   0.0\n",
       "4  8  6      7  89.3  51.3  102.2  11.4   0.0"
      ]
     },
     "execution_count": 29,
     "metadata": {},
     "output_type": "execute_result"
    }
   ],
   "source": [
    "df_fs1 = df[fs1]\n",
    "df_fs1.head()"
   ]
  },
  {
   "cell_type": "markdown",
   "metadata": {},
   "source": [
    "## Tran Test(val) Split:"
   ]
  },
  {
   "cell_type": "code",
   "execution_count": 30,
   "metadata": {},
   "outputs": [],
   "source": [
    "SEED = 42\n",
    "\n",
    "data = df_fs1.copy()\n",
    "y = data['area']\n",
    "x = data.drop(['area'],axis=1)\n",
    "\n",
    "\n",
    "from sklearn.model_selection import train_test_split\n",
    "x_train,x_val,y_train,y_val = train_test_split(x,y,test_size = 0.2,random_state = SEED)"
   ]
  },
  {
   "cell_type": "markdown",
   "metadata": {},
   "source": [
    "#### I have tried normal Random forest, Random forest with no Randomized Search CV,xgboost and stacking of multiple ml models and the results are something like this.\n",
    "\n",
    "|reg      |\trmse\t|\tmse\t| r2\t    |\n",
    "|-|-|-|-|  \n",
    "|simple_rf =|109.5595|12003.2882|-0.0182|\n",
    "|rscv_rf = |108.3183|11732.8603|0.00465|\n",
    "|rscv_xgboost = |108.7711|11831.1615|-0.00368|\n",
    "|stacking = |109.0897|11900.57185|-0.0095|\n",
    "|rf with rscv and feature selection =|106.35|11311.77|0.04|\n",
    "\n",
    "<br>\n",
    "PS: rscv is Randomized Search CV and rf is random forest.\n",
    "\n",
    "So, the improvements in **rf with rscv and feature selection** are better, that's why I am keeping it.\n",
    "\n",
    "\n"
   ]
  },
  {
   "cell_type": "markdown",
   "metadata": {},
   "source": [
    "## Model Building using Selected features:"
   ]
  },
  {
   "cell_type": "code",
   "execution_count": 31,
   "metadata": {},
   "outputs": [],
   "source": [
    "from sklearn.metrics import r2_score\n",
    "from sklearn.metrics import mean_squared_error\n",
    "from sklearn.metrics import mean_absolute_error\n",
    "# from sklearn.metrics import mean_absolute_percentage_error\n",
    "from sklearn.ensemble import RandomForestRegressor"
   ]
  },
  {
   "cell_type": "code",
   "execution_count": 32,
   "metadata": {},
   "outputs": [],
   "source": [
    "# Number of trees in random forest\n",
    "n_estimators = [int(x) for x in np.linspace(start = 200, stop = 2000, num = 10)]\n",
    "# Number of features to consider at every split\n",
    "max_features = ['auto', 'sqrt']\n",
    "# Maximum number of levels in tree\n",
    "max_depth = [int(x) for x in np.linspace(10, 110, num = 11)]\n",
    "max_depth.append(None)\n",
    "# Minimum number of samples required to split a node\n",
    "min_samples_split = [2, 5, 10]\n",
    "# Minimum number of samples required at each leaf node\n",
    "min_samples_leaf = [1, 2, 4]\n",
    "# Method of selecting samples for training each tree\n",
    "bootstrap = [True, False]\n",
    "\n",
    "\n",
    "\n",
    "random_grid = {'n_estimators': n_estimators,\n",
    "               'max_features': max_features,\n",
    "               'max_depth': max_depth,\n",
    "               'min_samples_split': min_samples_split,\n",
    "               'min_samples_leaf': min_samples_leaf,\n",
    "               'bootstrap': bootstrap}"
   ]
  },
  {
   "cell_type": "code",
   "execution_count": 33,
   "metadata": {},
   "outputs": [],
   "source": [
    "reg_rf_rscv = RandomForestRegressor()"
   ]
  },
  {
   "cell_type": "code",
   "execution_count": 34,
   "metadata": {},
   "outputs": [],
   "source": [
    "from sklearn.model_selection import RandomizedSearchCV, GridSearchCV\n",
    "random_search_rf = RandomizedSearchCV(reg_rf_rscv, random_grid,n_iter=5, n_jobs=1, cv=5,verbose=2)"
   ]
  },
  {
   "cell_type": "code",
   "execution_count": 35,
   "metadata": {},
   "outputs": [
    {
     "name": "stdout",
     "output_type": "stream",
     "text": [
      "Fitting 5 folds for each of 5 candidates, totalling 25 fits\n",
      "[CV] n_estimators=1200, min_samples_split=10, min_samples_leaf=2, max_features=auto, max_depth=20, bootstrap=True \n"
     ]
    },
    {
     "name": "stderr",
     "output_type": "stream",
     "text": [
      "[Parallel(n_jobs=1)]: Using backend SequentialBackend with 1 concurrent workers.\n"
     ]
    },
    {
     "name": "stdout",
     "output_type": "stream",
     "text": [
      "[CV]  n_estimators=1200, min_samples_split=10, min_samples_leaf=2, max_features=auto, max_depth=20, bootstrap=True, total=   2.3s\n",
      "[CV] n_estimators=1200, min_samples_split=10, min_samples_leaf=2, max_features=auto, max_depth=20, bootstrap=True \n"
     ]
    },
    {
     "name": "stderr",
     "output_type": "stream",
     "text": [
      "[Parallel(n_jobs=1)]: Done   1 out of   1 | elapsed:    2.3s remaining:    0.0s\n"
     ]
    },
    {
     "name": "stdout",
     "output_type": "stream",
     "text": [
      "[CV]  n_estimators=1200, min_samples_split=10, min_samples_leaf=2, max_features=auto, max_depth=20, bootstrap=True, total=   2.3s\n",
      "[CV] n_estimators=1200, min_samples_split=10, min_samples_leaf=2, max_features=auto, max_depth=20, bootstrap=True \n",
      "[CV]  n_estimators=1200, min_samples_split=10, min_samples_leaf=2, max_features=auto, max_depth=20, bootstrap=True, total=   2.3s\n",
      "[CV] n_estimators=1200, min_samples_split=10, min_samples_leaf=2, max_features=auto, max_depth=20, bootstrap=True \n",
      "[CV]  n_estimators=1200, min_samples_split=10, min_samples_leaf=2, max_features=auto, max_depth=20, bootstrap=True, total=   2.3s\n",
      "[CV] n_estimators=1200, min_samples_split=10, min_samples_leaf=2, max_features=auto, max_depth=20, bootstrap=True \n",
      "[CV]  n_estimators=1200, min_samples_split=10, min_samples_leaf=2, max_features=auto, max_depth=20, bootstrap=True, total=   2.3s\n",
      "[CV] n_estimators=200, min_samples_split=10, min_samples_leaf=1, max_features=auto, max_depth=110, bootstrap=False \n",
      "[CV]  n_estimators=200, min_samples_split=10, min_samples_leaf=1, max_features=auto, max_depth=110, bootstrap=False, total=   0.4s\n",
      "[CV] n_estimators=200, min_samples_split=10, min_samples_leaf=1, max_features=auto, max_depth=110, bootstrap=False \n",
      "[CV]  n_estimators=200, min_samples_split=10, min_samples_leaf=1, max_features=auto, max_depth=110, bootstrap=False, total=   0.4s\n",
      "[CV] n_estimators=200, min_samples_split=10, min_samples_leaf=1, max_features=auto, max_depth=110, bootstrap=False \n",
      "[CV]  n_estimators=200, min_samples_split=10, min_samples_leaf=1, max_features=auto, max_depth=110, bootstrap=False, total=   0.4s\n",
      "[CV] n_estimators=200, min_samples_split=10, min_samples_leaf=1, max_features=auto, max_depth=110, bootstrap=False \n",
      "[CV]  n_estimators=200, min_samples_split=10, min_samples_leaf=1, max_features=auto, max_depth=110, bootstrap=False, total=   0.4s\n",
      "[CV] n_estimators=200, min_samples_split=10, min_samples_leaf=1, max_features=auto, max_depth=110, bootstrap=False \n",
      "[CV]  n_estimators=200, min_samples_split=10, min_samples_leaf=1, max_features=auto, max_depth=110, bootstrap=False, total=   0.4s\n",
      "[CV] n_estimators=1200, min_samples_split=2, min_samples_leaf=1, max_features=auto, max_depth=60, bootstrap=True \n",
      "[CV]  n_estimators=1200, min_samples_split=2, min_samples_leaf=1, max_features=auto, max_depth=60, bootstrap=True, total=   2.6s\n",
      "[CV] n_estimators=1200, min_samples_split=2, min_samples_leaf=1, max_features=auto, max_depth=60, bootstrap=True \n",
      "[CV]  n_estimators=1200, min_samples_split=2, min_samples_leaf=1, max_features=auto, max_depth=60, bootstrap=True, total=   2.6s\n",
      "[CV] n_estimators=1200, min_samples_split=2, min_samples_leaf=1, max_features=auto, max_depth=60, bootstrap=True \n",
      "[CV]  n_estimators=1200, min_samples_split=2, min_samples_leaf=1, max_features=auto, max_depth=60, bootstrap=True, total=   2.6s\n",
      "[CV] n_estimators=1200, min_samples_split=2, min_samples_leaf=1, max_features=auto, max_depth=60, bootstrap=True \n",
      "[CV]  n_estimators=1200, min_samples_split=2, min_samples_leaf=1, max_features=auto, max_depth=60, bootstrap=True, total=   2.6s\n",
      "[CV] n_estimators=1200, min_samples_split=2, min_samples_leaf=1, max_features=auto, max_depth=60, bootstrap=True \n",
      "[CV]  n_estimators=1200, min_samples_split=2, min_samples_leaf=1, max_features=auto, max_depth=60, bootstrap=True, total=   2.6s\n",
      "[CV] n_estimators=800, min_samples_split=2, min_samples_leaf=4, max_features=auto, max_depth=40, bootstrap=False \n",
      "[CV]  n_estimators=800, min_samples_split=2, min_samples_leaf=4, max_features=auto, max_depth=40, bootstrap=False, total=   1.5s\n",
      "[CV] n_estimators=800, min_samples_split=2, min_samples_leaf=4, max_features=auto, max_depth=40, bootstrap=False \n",
      "[CV]  n_estimators=800, min_samples_split=2, min_samples_leaf=4, max_features=auto, max_depth=40, bootstrap=False, total=   1.6s\n",
      "[CV] n_estimators=800, min_samples_split=2, min_samples_leaf=4, max_features=auto, max_depth=40, bootstrap=False \n",
      "[CV]  n_estimators=800, min_samples_split=2, min_samples_leaf=4, max_features=auto, max_depth=40, bootstrap=False, total=   1.5s\n",
      "[CV] n_estimators=800, min_samples_split=2, min_samples_leaf=4, max_features=auto, max_depth=40, bootstrap=False \n",
      "[CV]  n_estimators=800, min_samples_split=2, min_samples_leaf=4, max_features=auto, max_depth=40, bootstrap=False, total=   1.5s\n",
      "[CV] n_estimators=800, min_samples_split=2, min_samples_leaf=4, max_features=auto, max_depth=40, bootstrap=False \n",
      "[CV]  n_estimators=800, min_samples_split=2, min_samples_leaf=4, max_features=auto, max_depth=40, bootstrap=False, total=   1.5s\n",
      "[CV] n_estimators=1200, min_samples_split=5, min_samples_leaf=1, max_features=auto, max_depth=50, bootstrap=False \n",
      "[CV]  n_estimators=1200, min_samples_split=5, min_samples_leaf=1, max_features=auto, max_depth=50, bootstrap=False, total=   2.6s\n",
      "[CV] n_estimators=1200, min_samples_split=5, min_samples_leaf=1, max_features=auto, max_depth=50, bootstrap=False \n",
      "[CV]  n_estimators=1200, min_samples_split=5, min_samples_leaf=1, max_features=auto, max_depth=50, bootstrap=False, total=   2.7s\n",
      "[CV] n_estimators=1200, min_samples_split=5, min_samples_leaf=1, max_features=auto, max_depth=50, bootstrap=False \n",
      "[CV]  n_estimators=1200, min_samples_split=5, min_samples_leaf=1, max_features=auto, max_depth=50, bootstrap=False, total=   2.7s\n",
      "[CV] n_estimators=1200, min_samples_split=5, min_samples_leaf=1, max_features=auto, max_depth=50, bootstrap=False \n",
      "[CV]  n_estimators=1200, min_samples_split=5, min_samples_leaf=1, max_features=auto, max_depth=50, bootstrap=False, total=   2.7s\n",
      "[CV] n_estimators=1200, min_samples_split=5, min_samples_leaf=1, max_features=auto, max_depth=50, bootstrap=False \n",
      "[CV]  n_estimators=1200, min_samples_split=5, min_samples_leaf=1, max_features=auto, max_depth=50, bootstrap=False, total=   2.7s\n"
     ]
    },
    {
     "name": "stderr",
     "output_type": "stream",
     "text": [
      "[Parallel(n_jobs=1)]: Done  25 out of  25 | elapsed:   47.6s finished\n"
     ]
    },
    {
     "data": {
      "text/plain": [
       "RandomizedSearchCV(cv=5, estimator=RandomForestRegressor(), n_iter=5, n_jobs=1,\n",
       "                   param_distributions={'bootstrap': [True, False],\n",
       "                                        'max_depth': [10, 20, 30, 40, 50, 60,\n",
       "                                                      70, 80, 90, 100, 110,\n",
       "                                                      None],\n",
       "                                        'max_features': ['auto', 'sqrt'],\n",
       "                                        'min_samples_leaf': [1, 2, 4],\n",
       "                                        'min_samples_split': [2, 5, 10],\n",
       "                                        'n_estimators': [200, 400, 600, 800,\n",
       "                                                         1000, 1200, 1400, 1600,\n",
       "                                                         1800, 2000]},\n",
       "                   verbose=2)"
      ]
     },
     "execution_count": 35,
     "metadata": {},
     "output_type": "execute_result"
    }
   ],
   "source": [
    "random_search_rf.fit(x_train,y_train)"
   ]
  },
  {
   "cell_type": "code",
   "execution_count": 36,
   "metadata": {},
   "outputs": [
    {
     "data": {
      "text/plain": [
       "{'n_estimators': 1200,\n",
       " 'min_samples_split': 10,\n",
       " 'min_samples_leaf': 2,\n",
       " 'max_features': 'auto',\n",
       " 'max_depth': 20,\n",
       " 'bootstrap': True}"
      ]
     },
     "execution_count": 36,
     "metadata": {},
     "output_type": "execute_result"
    }
   ],
   "source": [
    "random_search_rf.best_params_"
   ]
  },
  {
   "cell_type": "code",
   "execution_count": 37,
   "metadata": {},
   "outputs": [
    {
     "data": {
      "text/plain": [
       "RandomForestRegressor(max_depth=20, min_samples_leaf=2, min_samples_split=10,\n",
       "                      n_estimators=1200, random_state=42)"
      ]
     },
     "execution_count": 37,
     "metadata": {},
     "output_type": "execute_result"
    }
   ],
   "source": [
    "base_model = RandomForestRegressor(n_estimators= 1200,\n",
    "                                     min_samples_split= 10,\n",
    "                                     min_samples_leaf= 2,\n",
    "                                     max_features= 'auto',\n",
    "                                     max_depth= 20,\n",
    "                                     bootstrap= True,\n",
    "                                    random_state = SEED)\n",
    "base_model.fit(x_train, y_train)\n",
    "# base_accuracy = evaluate(base_model, x_val,y_val)"
   ]
  },
  {
   "cell_type": "code",
   "execution_count": 38,
   "metadata": {},
   "outputs": [],
   "source": [
    "y_pred_rf_rscv = base_model.predict(x_val)"
   ]
  },
  {
   "cell_type": "code",
   "execution_count": 39,
   "metadata": {},
   "outputs": [],
   "source": [
    "def MSE(model_preds, ground_truths):\n",
    "  return mean_squared_error(model_preds, ground_truths)\n",
    "\n",
    "def MAE(model_preds, ground_truths):\n",
    "  return mean_absolute_error(model_preds, ground_truths)\n",
    "\n",
    "def Other_Err(model_preds, ground_truths):\n",
    "  return r2_score( ground_truths,model_preds)\n",
    "\n",
    "def RMSE(model_preds, ground_truths):\n",
    "  return np.sqrt(mean_squared_error(model_preds, ground_truths))"
   ]
  },
  {
   "cell_type": "code",
   "execution_count": 40,
   "metadata": {},
   "outputs": [
    {
     "name": "stdout",
     "output_type": "stream",
     "text": [
      "mean squared error: 11311.779343111508\n",
      "mean absolute error: 25.40632198990533\n",
      "r2 error: 0.04037940134220108\n",
      "root mean squared error: 106.35684906535877\n"
     ]
    }
   ],
   "source": [
    "print(f\"mean squared error: {MSE(y_pred_rf_rscv,y_val)}\")\n",
    "print(f\"mean absolute error: {MAE(y_pred_rf_rscv,y_val)}\")\n",
    "print(f\"r2 error: {Other_Err(y_pred_rf_rscv,y_val)}\")\n",
    "print(f\"root mean squared error: {RMSE(y_pred_rf_rscv,y_val)}\")"
   ]
  },
  {
   "cell_type": "markdown",
   "metadata": {},
   "source": [
    "### Cross Validation CV:"
   ]
  },
  {
   "cell_type": "code",
   "execution_count": 41,
   "metadata": {},
   "outputs": [],
   "source": [
    "from sklearn.model_selection import KFold\n",
    "from sklearn.model_selection import cross_val_score\n",
    "k_fold = KFold(n_splits=10, shuffle=True, random_state=0)"
   ]
  },
  {
   "cell_type": "code",
   "execution_count": 42,
   "metadata": {},
   "outputs": [
    {
     "name": "stdout",
     "output_type": "stream",
     "text": [
      "[ -0.42157318  -0.87683634  -0.36623432  -0.06128443  -1.26586351\n",
      "  -0.06139915  -0.25249925 -13.21024059  -5.02628621  -2.04476064]\n"
     ]
    }
   ],
   "source": [
    "score = cross_val_score(reg_rf_rscv, x_train, y_train, cv=k_fold, n_jobs=1, scoring='r2')\n",
    "print(score)"
   ]
  },
  {
   "cell_type": "code",
   "execution_count": 43,
   "metadata": {},
   "outputs": [
    {
     "name": "stdout",
     "output_type": "stream",
     "text": [
      "train r2 -2.358698\n"
     ]
    }
   ],
   "source": [
    "print('train r2 %2f' %(1 * score.mean()))"
   ]
  },
  {
   "cell_type": "code",
   "execution_count": 44,
   "metadata": {},
   "outputs": [
    {
     "name": "stdout",
     "output_type": "stream",
     "text": [
      "[ -0.42157318  -0.87683634  -0.36623432  -0.06128443  -1.26586351\n",
      "  -0.06139915  -0.25249925 -13.21024059  -5.02628621  -2.04476064]\n"
     ]
    }
   ],
   "source": [
    "score_val = cross_val_score(reg_rf_rscv, x_val, y_val, cv=k_fold, n_jobs=1, scoring='r2')\n",
    "print(score)"
   ]
  },
  {
   "cell_type": "code",
   "execution_count": 45,
   "metadata": {},
   "outputs": [
    {
     "name": "stdout",
     "output_type": "stream",
     "text": [
      "train r2 -58.765917\n"
     ]
    }
   ],
   "source": [
    "print('train r2 %2f' %(1 * score_val.mean()))"
   ]
  },
  {
   "cell_type": "code",
   "execution_count": 52,
   "metadata": {},
   "outputs": [
    {
     "data": {
      "application/vnd.plotly.v1+json": {
       "config": {
        "linkText": "Export to plot.ly",
        "plotlyServerURL": "https://plot.ly",
        "showLink": true
       },
       "data": [
        {
         "line": {
          "color": "rgba(255, 153, 51, 1.0)",
          "dash": "solid",
          "shape": "linear",
          "width": 1.3
         },
         "mode": "lines",
         "name": "0",
         "text": "",
         "type": "scatter",
         "x": [
          0,
          1,
          2,
          3,
          4,
          5,
          6,
          7,
          8,
          9
         ],
         "y": [
          -0.42157318001887245,
          -0.8768363370020882,
          -0.36623432147760426,
          -0.06128442968371606,
          -1.2658635055058496,
          -0.06139915458690948,
          -0.2524992470809748,
          -13.210240589470883,
          -5.026286210159838,
          -2.0447606364187974
         ]
        }
       ],
       "layout": {
        "legend": {
         "bgcolor": "#151516",
         "font": {
          "color": "#D9D9D9"
         }
        },
        "paper_bgcolor": "#151516",
        "plot_bgcolor": "#151516",
        "template": {
         "data": {
          "bar": [
           {
            "error_x": {
             "color": "#2a3f5f"
            },
            "error_y": {
             "color": "#2a3f5f"
            },
            "marker": {
             "line": {
              "color": "#E5ECF6",
              "width": 0.5
             }
            },
            "type": "bar"
           }
          ],
          "barpolar": [
           {
            "marker": {
             "line": {
              "color": "#E5ECF6",
              "width": 0.5
             }
            },
            "type": "barpolar"
           }
          ],
          "carpet": [
           {
            "aaxis": {
             "endlinecolor": "#2a3f5f",
             "gridcolor": "white",
             "linecolor": "white",
             "minorgridcolor": "white",
             "startlinecolor": "#2a3f5f"
            },
            "baxis": {
             "endlinecolor": "#2a3f5f",
             "gridcolor": "white",
             "linecolor": "white",
             "minorgridcolor": "white",
             "startlinecolor": "#2a3f5f"
            },
            "type": "carpet"
           }
          ],
          "choropleth": [
           {
            "colorbar": {
             "outlinewidth": 0,
             "ticks": ""
            },
            "type": "choropleth"
           }
          ],
          "contour": [
           {
            "colorbar": {
             "outlinewidth": 0,
             "ticks": ""
            },
            "colorscale": [
             [
              0,
              "#0d0887"
             ],
             [
              0.1111111111111111,
              "#46039f"
             ],
             [
              0.2222222222222222,
              "#7201a8"
             ],
             [
              0.3333333333333333,
              "#9c179e"
             ],
             [
              0.4444444444444444,
              "#bd3786"
             ],
             [
              0.5555555555555556,
              "#d8576b"
             ],
             [
              0.6666666666666666,
              "#ed7953"
             ],
             [
              0.7777777777777778,
              "#fb9f3a"
             ],
             [
              0.8888888888888888,
              "#fdca26"
             ],
             [
              1,
              "#f0f921"
             ]
            ],
            "type": "contour"
           }
          ],
          "contourcarpet": [
           {
            "colorbar": {
             "outlinewidth": 0,
             "ticks": ""
            },
            "type": "contourcarpet"
           }
          ],
          "heatmap": [
           {
            "colorbar": {
             "outlinewidth": 0,
             "ticks": ""
            },
            "colorscale": [
             [
              0,
              "#0d0887"
             ],
             [
              0.1111111111111111,
              "#46039f"
             ],
             [
              0.2222222222222222,
              "#7201a8"
             ],
             [
              0.3333333333333333,
              "#9c179e"
             ],
             [
              0.4444444444444444,
              "#bd3786"
             ],
             [
              0.5555555555555556,
              "#d8576b"
             ],
             [
              0.6666666666666666,
              "#ed7953"
             ],
             [
              0.7777777777777778,
              "#fb9f3a"
             ],
             [
              0.8888888888888888,
              "#fdca26"
             ],
             [
              1,
              "#f0f921"
             ]
            ],
            "type": "heatmap"
           }
          ],
          "heatmapgl": [
           {
            "colorbar": {
             "outlinewidth": 0,
             "ticks": ""
            },
            "colorscale": [
             [
              0,
              "#0d0887"
             ],
             [
              0.1111111111111111,
              "#46039f"
             ],
             [
              0.2222222222222222,
              "#7201a8"
             ],
             [
              0.3333333333333333,
              "#9c179e"
             ],
             [
              0.4444444444444444,
              "#bd3786"
             ],
             [
              0.5555555555555556,
              "#d8576b"
             ],
             [
              0.6666666666666666,
              "#ed7953"
             ],
             [
              0.7777777777777778,
              "#fb9f3a"
             ],
             [
              0.8888888888888888,
              "#fdca26"
             ],
             [
              1,
              "#f0f921"
             ]
            ],
            "type": "heatmapgl"
           }
          ],
          "histogram": [
           {
            "marker": {
             "colorbar": {
              "outlinewidth": 0,
              "ticks": ""
             }
            },
            "type": "histogram"
           }
          ],
          "histogram2d": [
           {
            "colorbar": {
             "outlinewidth": 0,
             "ticks": ""
            },
            "colorscale": [
             [
              0,
              "#0d0887"
             ],
             [
              0.1111111111111111,
              "#46039f"
             ],
             [
              0.2222222222222222,
              "#7201a8"
             ],
             [
              0.3333333333333333,
              "#9c179e"
             ],
             [
              0.4444444444444444,
              "#bd3786"
             ],
             [
              0.5555555555555556,
              "#d8576b"
             ],
             [
              0.6666666666666666,
              "#ed7953"
             ],
             [
              0.7777777777777778,
              "#fb9f3a"
             ],
             [
              0.8888888888888888,
              "#fdca26"
             ],
             [
              1,
              "#f0f921"
             ]
            ],
            "type": "histogram2d"
           }
          ],
          "histogram2dcontour": [
           {
            "colorbar": {
             "outlinewidth": 0,
             "ticks": ""
            },
            "colorscale": [
             [
              0,
              "#0d0887"
             ],
             [
              0.1111111111111111,
              "#46039f"
             ],
             [
              0.2222222222222222,
              "#7201a8"
             ],
             [
              0.3333333333333333,
              "#9c179e"
             ],
             [
              0.4444444444444444,
              "#bd3786"
             ],
             [
              0.5555555555555556,
              "#d8576b"
             ],
             [
              0.6666666666666666,
              "#ed7953"
             ],
             [
              0.7777777777777778,
              "#fb9f3a"
             ],
             [
              0.8888888888888888,
              "#fdca26"
             ],
             [
              1,
              "#f0f921"
             ]
            ],
            "type": "histogram2dcontour"
           }
          ],
          "mesh3d": [
           {
            "colorbar": {
             "outlinewidth": 0,
             "ticks": ""
            },
            "type": "mesh3d"
           }
          ],
          "parcoords": [
           {
            "line": {
             "colorbar": {
              "outlinewidth": 0,
              "ticks": ""
             }
            },
            "type": "parcoords"
           }
          ],
          "pie": [
           {
            "automargin": true,
            "type": "pie"
           }
          ],
          "scatter": [
           {
            "marker": {
             "colorbar": {
              "outlinewidth": 0,
              "ticks": ""
             }
            },
            "type": "scatter"
           }
          ],
          "scatter3d": [
           {
            "line": {
             "colorbar": {
              "outlinewidth": 0,
              "ticks": ""
             }
            },
            "marker": {
             "colorbar": {
              "outlinewidth": 0,
              "ticks": ""
             }
            },
            "type": "scatter3d"
           }
          ],
          "scattercarpet": [
           {
            "marker": {
             "colorbar": {
              "outlinewidth": 0,
              "ticks": ""
             }
            },
            "type": "scattercarpet"
           }
          ],
          "scattergeo": [
           {
            "marker": {
             "colorbar": {
              "outlinewidth": 0,
              "ticks": ""
             }
            },
            "type": "scattergeo"
           }
          ],
          "scattergl": [
           {
            "marker": {
             "colorbar": {
              "outlinewidth": 0,
              "ticks": ""
             }
            },
            "type": "scattergl"
           }
          ],
          "scattermapbox": [
           {
            "marker": {
             "colorbar": {
              "outlinewidth": 0,
              "ticks": ""
             }
            },
            "type": "scattermapbox"
           }
          ],
          "scatterpolar": [
           {
            "marker": {
             "colorbar": {
              "outlinewidth": 0,
              "ticks": ""
             }
            },
            "type": "scatterpolar"
           }
          ],
          "scatterpolargl": [
           {
            "marker": {
             "colorbar": {
              "outlinewidth": 0,
              "ticks": ""
             }
            },
            "type": "scatterpolargl"
           }
          ],
          "scatterternary": [
           {
            "marker": {
             "colorbar": {
              "outlinewidth": 0,
              "ticks": ""
             }
            },
            "type": "scatterternary"
           }
          ],
          "surface": [
           {
            "colorbar": {
             "outlinewidth": 0,
             "ticks": ""
            },
            "colorscale": [
             [
              0,
              "#0d0887"
             ],
             [
              0.1111111111111111,
              "#46039f"
             ],
             [
              0.2222222222222222,
              "#7201a8"
             ],
             [
              0.3333333333333333,
              "#9c179e"
             ],
             [
              0.4444444444444444,
              "#bd3786"
             ],
             [
              0.5555555555555556,
              "#d8576b"
             ],
             [
              0.6666666666666666,
              "#ed7953"
             ],
             [
              0.7777777777777778,
              "#fb9f3a"
             ],
             [
              0.8888888888888888,
              "#fdca26"
             ],
             [
              1,
              "#f0f921"
             ]
            ],
            "type": "surface"
           }
          ],
          "table": [
           {
            "cells": {
             "fill": {
              "color": "#EBF0F8"
             },
             "line": {
              "color": "white"
             }
            },
            "header": {
             "fill": {
              "color": "#C8D4E3"
             },
             "line": {
              "color": "white"
             }
            },
            "type": "table"
           }
          ]
         },
         "layout": {
          "annotationdefaults": {
           "arrowcolor": "#2a3f5f",
           "arrowhead": 0,
           "arrowwidth": 1
          },
          "coloraxis": {
           "colorbar": {
            "outlinewidth": 0,
            "ticks": ""
           }
          },
          "colorscale": {
           "diverging": [
            [
             0,
             "#8e0152"
            ],
            [
             0.1,
             "#c51b7d"
            ],
            [
             0.2,
             "#de77ae"
            ],
            [
             0.3,
             "#f1b6da"
            ],
            [
             0.4,
             "#fde0ef"
            ],
            [
             0.5,
             "#f7f7f7"
            ],
            [
             0.6,
             "#e6f5d0"
            ],
            [
             0.7,
             "#b8e186"
            ],
            [
             0.8,
             "#7fbc41"
            ],
            [
             0.9,
             "#4d9221"
            ],
            [
             1,
             "#276419"
            ]
           ],
           "sequential": [
            [
             0,
             "#0d0887"
            ],
            [
             0.1111111111111111,
             "#46039f"
            ],
            [
             0.2222222222222222,
             "#7201a8"
            ],
            [
             0.3333333333333333,
             "#9c179e"
            ],
            [
             0.4444444444444444,
             "#bd3786"
            ],
            [
             0.5555555555555556,
             "#d8576b"
            ],
            [
             0.6666666666666666,
             "#ed7953"
            ],
            [
             0.7777777777777778,
             "#fb9f3a"
            ],
            [
             0.8888888888888888,
             "#fdca26"
            ],
            [
             1,
             "#f0f921"
            ]
           ],
           "sequentialminus": [
            [
             0,
             "#0d0887"
            ],
            [
             0.1111111111111111,
             "#46039f"
            ],
            [
             0.2222222222222222,
             "#7201a8"
            ],
            [
             0.3333333333333333,
             "#9c179e"
            ],
            [
             0.4444444444444444,
             "#bd3786"
            ],
            [
             0.5555555555555556,
             "#d8576b"
            ],
            [
             0.6666666666666666,
             "#ed7953"
            ],
            [
             0.7777777777777778,
             "#fb9f3a"
            ],
            [
             0.8888888888888888,
             "#fdca26"
            ],
            [
             1,
             "#f0f921"
            ]
           ]
          },
          "colorway": [
           "#636efa",
           "#EF553B",
           "#00cc96",
           "#ab63fa",
           "#FFA15A",
           "#19d3f3",
           "#FF6692",
           "#B6E880",
           "#FF97FF",
           "#FECB52"
          ],
          "font": {
           "color": "#2a3f5f"
          },
          "geo": {
           "bgcolor": "white",
           "lakecolor": "white",
           "landcolor": "#E5ECF6",
           "showlakes": true,
           "showland": true,
           "subunitcolor": "white"
          },
          "hoverlabel": {
           "align": "left"
          },
          "hovermode": "closest",
          "mapbox": {
           "style": "light"
          },
          "paper_bgcolor": "white",
          "plot_bgcolor": "#E5ECF6",
          "polar": {
           "angularaxis": {
            "gridcolor": "white",
            "linecolor": "white",
            "ticks": ""
           },
           "bgcolor": "#E5ECF6",
           "radialaxis": {
            "gridcolor": "white",
            "linecolor": "white",
            "ticks": ""
           }
          },
          "scene": {
           "xaxis": {
            "backgroundcolor": "#E5ECF6",
            "gridcolor": "white",
            "gridwidth": 2,
            "linecolor": "white",
            "showbackground": true,
            "ticks": "",
            "zerolinecolor": "white"
           },
           "yaxis": {
            "backgroundcolor": "#E5ECF6",
            "gridcolor": "white",
            "gridwidth": 2,
            "linecolor": "white",
            "showbackground": true,
            "ticks": "",
            "zerolinecolor": "white"
           },
           "zaxis": {
            "backgroundcolor": "#E5ECF6",
            "gridcolor": "white",
            "gridwidth": 2,
            "linecolor": "white",
            "showbackground": true,
            "ticks": "",
            "zerolinecolor": "white"
           }
          },
          "shapedefaults": {
           "line": {
            "color": "#2a3f5f"
           }
          },
          "ternary": {
           "aaxis": {
            "gridcolor": "white",
            "linecolor": "white",
            "ticks": ""
           },
           "baxis": {
            "gridcolor": "white",
            "linecolor": "white",
            "ticks": ""
           },
           "bgcolor": "#E5ECF6",
           "caxis": {
            "gridcolor": "white",
            "linecolor": "white",
            "ticks": ""
           }
          },
          "title": {
           "x": 0.05
          },
          "xaxis": {
           "automargin": true,
           "gridcolor": "white",
           "linecolor": "white",
           "ticks": "",
           "title": {
            "standoff": 15
           },
           "zerolinecolor": "white",
           "zerolinewidth": 2
          },
          "yaxis": {
           "automargin": true,
           "gridcolor": "white",
           "linecolor": "white",
           "ticks": "",
           "title": {
            "standoff": 15
           },
           "zerolinecolor": "white",
           "zerolinewidth": 2
          }
         }
        },
        "title": {
         "font": {
          "color": "#D9D9D9"
         },
         "text": "R2 score of diferent CV for training data"
        },
        "xaxis": {
         "gridcolor": "#434343",
         "showgrid": true,
         "tickfont": {
          "color": "#C2C2C2"
         },
         "title": {
          "font": {
           "color": "#D9D9D9"
          },
          "text": "count"
         },
         "zerolinecolor": "#666570"
        },
        "yaxis": {
         "gridcolor": "#434343",
         "showgrid": true,
         "tickfont": {
          "color": "#C2C2C2"
         },
         "title": {
          "font": {
           "color": "#D9D9D9"
          },
          "text": "R2 Score"
         },
         "zerolinecolor": "#666570"
        }
       }
      },
      "text/html": [
       "<div>                            <div id=\"a6c066c3-344a-47fb-95ed-39f8477ee24b\" class=\"plotly-graph-div\" style=\"height:525px; width:100%;\"></div>            <script type=\"text/javascript\">                require([\"plotly\"], function(Plotly) {                    window.PLOTLYENV=window.PLOTLYENV || {};\n",
       "                    window.PLOTLYENV.BASE_URL='https://plot.ly';                                    if (document.getElementById(\"a6c066c3-344a-47fb-95ed-39f8477ee24b\")) {                    Plotly.newPlot(                        \"a6c066c3-344a-47fb-95ed-39f8477ee24b\",                        [{\"line\": {\"color\": \"rgba(255, 153, 51, 1.0)\", \"dash\": \"solid\", \"shape\": \"linear\", \"width\": 1.3}, \"mode\": \"lines\", \"name\": \"0\", \"text\": \"\", \"type\": \"scatter\", \"x\": [0, 1, 2, 3, 4, 5, 6, 7, 8, 9], \"y\": [-0.42157318001887245, -0.8768363370020882, -0.36623432147760426, -0.06128442968371606, -1.2658635055058496, -0.06139915458690948, -0.2524992470809748, -13.210240589470883, -5.026286210159838, -2.0447606364187974]}],                        {\"legend\": {\"bgcolor\": \"#151516\", \"font\": {\"color\": \"#D9D9D9\"}}, \"paper_bgcolor\": \"#151516\", \"plot_bgcolor\": \"#151516\", \"template\": {\"data\": {\"bar\": [{\"error_x\": {\"color\": \"#2a3f5f\"}, \"error_y\": {\"color\": \"#2a3f5f\"}, \"marker\": {\"line\": {\"color\": \"#E5ECF6\", \"width\": 0.5}}, \"type\": \"bar\"}], \"barpolar\": [{\"marker\": {\"line\": {\"color\": \"#E5ECF6\", \"width\": 0.5}}, \"type\": \"barpolar\"}], \"carpet\": [{\"aaxis\": {\"endlinecolor\": \"#2a3f5f\", \"gridcolor\": \"white\", \"linecolor\": \"white\", \"minorgridcolor\": \"white\", \"startlinecolor\": \"#2a3f5f\"}, \"baxis\": {\"endlinecolor\": \"#2a3f5f\", \"gridcolor\": \"white\", \"linecolor\": \"white\", \"minorgridcolor\": \"white\", \"startlinecolor\": \"#2a3f5f\"}, \"type\": \"carpet\"}], \"choropleth\": [{\"colorbar\": {\"outlinewidth\": 0, \"ticks\": \"\"}, \"type\": \"choropleth\"}], \"contour\": [{\"colorbar\": {\"outlinewidth\": 0, \"ticks\": \"\"}, \"colorscale\": [[0.0, \"#0d0887\"], [0.1111111111111111, \"#46039f\"], [0.2222222222222222, \"#7201a8\"], [0.3333333333333333, \"#9c179e\"], [0.4444444444444444, \"#bd3786\"], [0.5555555555555556, \"#d8576b\"], [0.6666666666666666, \"#ed7953\"], [0.7777777777777778, \"#fb9f3a\"], [0.8888888888888888, \"#fdca26\"], [1.0, \"#f0f921\"]], \"type\": \"contour\"}], \"contourcarpet\": [{\"colorbar\": {\"outlinewidth\": 0, \"ticks\": \"\"}, \"type\": \"contourcarpet\"}], \"heatmap\": [{\"colorbar\": {\"outlinewidth\": 0, \"ticks\": \"\"}, \"colorscale\": [[0.0, \"#0d0887\"], [0.1111111111111111, \"#46039f\"], [0.2222222222222222, \"#7201a8\"], [0.3333333333333333, \"#9c179e\"], [0.4444444444444444, \"#bd3786\"], [0.5555555555555556, \"#d8576b\"], [0.6666666666666666, \"#ed7953\"], [0.7777777777777778, \"#fb9f3a\"], [0.8888888888888888, \"#fdca26\"], [1.0, \"#f0f921\"]], \"type\": \"heatmap\"}], \"heatmapgl\": [{\"colorbar\": {\"outlinewidth\": 0, \"ticks\": \"\"}, \"colorscale\": [[0.0, \"#0d0887\"], [0.1111111111111111, \"#46039f\"], [0.2222222222222222, \"#7201a8\"], [0.3333333333333333, \"#9c179e\"], [0.4444444444444444, \"#bd3786\"], [0.5555555555555556, \"#d8576b\"], [0.6666666666666666, \"#ed7953\"], [0.7777777777777778, \"#fb9f3a\"], [0.8888888888888888, \"#fdca26\"], [1.0, \"#f0f921\"]], \"type\": \"heatmapgl\"}], \"histogram\": [{\"marker\": {\"colorbar\": {\"outlinewidth\": 0, \"ticks\": \"\"}}, \"type\": \"histogram\"}], \"histogram2d\": [{\"colorbar\": {\"outlinewidth\": 0, \"ticks\": \"\"}, \"colorscale\": [[0.0, \"#0d0887\"], [0.1111111111111111, \"#46039f\"], [0.2222222222222222, \"#7201a8\"], [0.3333333333333333, \"#9c179e\"], [0.4444444444444444, \"#bd3786\"], [0.5555555555555556, \"#d8576b\"], [0.6666666666666666, \"#ed7953\"], [0.7777777777777778, \"#fb9f3a\"], [0.8888888888888888, \"#fdca26\"], [1.0, \"#f0f921\"]], \"type\": \"histogram2d\"}], \"histogram2dcontour\": [{\"colorbar\": {\"outlinewidth\": 0, \"ticks\": \"\"}, \"colorscale\": [[0.0, \"#0d0887\"], [0.1111111111111111, \"#46039f\"], [0.2222222222222222, \"#7201a8\"], [0.3333333333333333, \"#9c179e\"], [0.4444444444444444, \"#bd3786\"], [0.5555555555555556, \"#d8576b\"], [0.6666666666666666, \"#ed7953\"], [0.7777777777777778, \"#fb9f3a\"], [0.8888888888888888, \"#fdca26\"], [1.0, \"#f0f921\"]], \"type\": \"histogram2dcontour\"}], \"mesh3d\": [{\"colorbar\": {\"outlinewidth\": 0, \"ticks\": \"\"}, \"type\": \"mesh3d\"}], \"parcoords\": [{\"line\": {\"colorbar\": {\"outlinewidth\": 0, \"ticks\": \"\"}}, \"type\": \"parcoords\"}], \"pie\": [{\"automargin\": true, \"type\": \"pie\"}], \"scatter\": [{\"marker\": {\"colorbar\": {\"outlinewidth\": 0, \"ticks\": \"\"}}, \"type\": \"scatter\"}], \"scatter3d\": [{\"line\": {\"colorbar\": {\"outlinewidth\": 0, \"ticks\": \"\"}}, \"marker\": {\"colorbar\": {\"outlinewidth\": 0, \"ticks\": \"\"}}, \"type\": \"scatter3d\"}], \"scattercarpet\": [{\"marker\": {\"colorbar\": {\"outlinewidth\": 0, \"ticks\": \"\"}}, \"type\": \"scattercarpet\"}], \"scattergeo\": [{\"marker\": {\"colorbar\": {\"outlinewidth\": 0, \"ticks\": \"\"}}, \"type\": \"scattergeo\"}], \"scattergl\": [{\"marker\": {\"colorbar\": {\"outlinewidth\": 0, \"ticks\": \"\"}}, \"type\": \"scattergl\"}], \"scattermapbox\": [{\"marker\": {\"colorbar\": {\"outlinewidth\": 0, \"ticks\": \"\"}}, \"type\": \"scattermapbox\"}], \"scatterpolar\": [{\"marker\": {\"colorbar\": {\"outlinewidth\": 0, \"ticks\": \"\"}}, \"type\": \"scatterpolar\"}], \"scatterpolargl\": [{\"marker\": {\"colorbar\": {\"outlinewidth\": 0, \"ticks\": \"\"}}, \"type\": \"scatterpolargl\"}], \"scatterternary\": [{\"marker\": {\"colorbar\": {\"outlinewidth\": 0, \"ticks\": \"\"}}, \"type\": \"scatterternary\"}], \"surface\": [{\"colorbar\": {\"outlinewidth\": 0, \"ticks\": \"\"}, \"colorscale\": [[0.0, \"#0d0887\"], [0.1111111111111111, \"#46039f\"], [0.2222222222222222, \"#7201a8\"], [0.3333333333333333, \"#9c179e\"], [0.4444444444444444, \"#bd3786\"], [0.5555555555555556, \"#d8576b\"], [0.6666666666666666, \"#ed7953\"], [0.7777777777777778, \"#fb9f3a\"], [0.8888888888888888, \"#fdca26\"], [1.0, \"#f0f921\"]], \"type\": \"surface\"}], \"table\": [{\"cells\": {\"fill\": {\"color\": \"#EBF0F8\"}, \"line\": {\"color\": \"white\"}}, \"header\": {\"fill\": {\"color\": \"#C8D4E3\"}, \"line\": {\"color\": \"white\"}}, \"type\": \"table\"}]}, \"layout\": {\"annotationdefaults\": {\"arrowcolor\": \"#2a3f5f\", \"arrowhead\": 0, \"arrowwidth\": 1}, \"coloraxis\": {\"colorbar\": {\"outlinewidth\": 0, \"ticks\": \"\"}}, \"colorscale\": {\"diverging\": [[0, \"#8e0152\"], [0.1, \"#c51b7d\"], [0.2, \"#de77ae\"], [0.3, \"#f1b6da\"], [0.4, \"#fde0ef\"], [0.5, \"#f7f7f7\"], [0.6, \"#e6f5d0\"], [0.7, \"#b8e186\"], [0.8, \"#7fbc41\"], [0.9, \"#4d9221\"], [1, \"#276419\"]], \"sequential\": [[0.0, \"#0d0887\"], [0.1111111111111111, \"#46039f\"], [0.2222222222222222, \"#7201a8\"], [0.3333333333333333, \"#9c179e\"], [0.4444444444444444, \"#bd3786\"], [0.5555555555555556, \"#d8576b\"], [0.6666666666666666, \"#ed7953\"], [0.7777777777777778, \"#fb9f3a\"], [0.8888888888888888, \"#fdca26\"], [1.0, \"#f0f921\"]], \"sequentialminus\": [[0.0, \"#0d0887\"], [0.1111111111111111, \"#46039f\"], [0.2222222222222222, \"#7201a8\"], [0.3333333333333333, \"#9c179e\"], [0.4444444444444444, \"#bd3786\"], [0.5555555555555556, \"#d8576b\"], [0.6666666666666666, \"#ed7953\"], [0.7777777777777778, \"#fb9f3a\"], [0.8888888888888888, \"#fdca26\"], [1.0, \"#f0f921\"]]}, \"colorway\": [\"#636efa\", \"#EF553B\", \"#00cc96\", \"#ab63fa\", \"#FFA15A\", \"#19d3f3\", \"#FF6692\", \"#B6E880\", \"#FF97FF\", \"#FECB52\"], \"font\": {\"color\": \"#2a3f5f\"}, \"geo\": {\"bgcolor\": \"white\", \"lakecolor\": \"white\", \"landcolor\": \"#E5ECF6\", \"showlakes\": true, \"showland\": true, \"subunitcolor\": \"white\"}, \"hoverlabel\": {\"align\": \"left\"}, \"hovermode\": \"closest\", \"mapbox\": {\"style\": \"light\"}, \"paper_bgcolor\": \"white\", \"plot_bgcolor\": \"#E5ECF6\", \"polar\": {\"angularaxis\": {\"gridcolor\": \"white\", \"linecolor\": \"white\", \"ticks\": \"\"}, \"bgcolor\": \"#E5ECF6\", \"radialaxis\": {\"gridcolor\": \"white\", \"linecolor\": \"white\", \"ticks\": \"\"}}, \"scene\": {\"xaxis\": {\"backgroundcolor\": \"#E5ECF6\", \"gridcolor\": \"white\", \"gridwidth\": 2, \"linecolor\": \"white\", \"showbackground\": true, \"ticks\": \"\", \"zerolinecolor\": \"white\"}, \"yaxis\": {\"backgroundcolor\": \"#E5ECF6\", \"gridcolor\": \"white\", \"gridwidth\": 2, \"linecolor\": \"white\", \"showbackground\": true, \"ticks\": \"\", \"zerolinecolor\": \"white\"}, \"zaxis\": {\"backgroundcolor\": \"#E5ECF6\", \"gridcolor\": \"white\", \"gridwidth\": 2, \"linecolor\": \"white\", \"showbackground\": true, \"ticks\": \"\", \"zerolinecolor\": \"white\"}}, \"shapedefaults\": {\"line\": {\"color\": \"#2a3f5f\"}}, \"ternary\": {\"aaxis\": {\"gridcolor\": \"white\", \"linecolor\": \"white\", \"ticks\": \"\"}, \"baxis\": {\"gridcolor\": \"white\", \"linecolor\": \"white\", \"ticks\": \"\"}, \"bgcolor\": \"#E5ECF6\", \"caxis\": {\"gridcolor\": \"white\", \"linecolor\": \"white\", \"ticks\": \"\"}}, \"title\": {\"x\": 0.05}, \"xaxis\": {\"automargin\": true, \"gridcolor\": \"white\", \"linecolor\": \"white\", \"ticks\": \"\", \"title\": {\"standoff\": 15}, \"zerolinecolor\": \"white\", \"zerolinewidth\": 2}, \"yaxis\": {\"automargin\": true, \"gridcolor\": \"white\", \"linecolor\": \"white\", \"ticks\": \"\", \"title\": {\"standoff\": 15}, \"zerolinecolor\": \"white\", \"zerolinewidth\": 2}}}, \"title\": {\"font\": {\"color\": \"#D9D9D9\"}, \"text\": \"R2 score of diferent CV for training data\"}, \"xaxis\": {\"gridcolor\": \"#434343\", \"showgrid\": true, \"tickfont\": {\"color\": \"#C2C2C2\"}, \"title\": {\"font\": {\"color\": \"#D9D9D9\"}, \"text\": \"count\"}, \"zerolinecolor\": \"#666570\"}, \"yaxis\": {\"gridcolor\": \"#434343\", \"showgrid\": true, \"tickfont\": {\"color\": \"#C2C2C2\"}, \"title\": {\"font\": {\"color\": \"#D9D9D9\"}, \"text\": \"R2 Score\"}, \"zerolinecolor\": \"#666570\"}},                        {\"showLink\": true, \"linkText\": \"Export to plot.ly\", \"plotlyServerURL\": \"https://plot.ly\", \"responsive\": true}                    ).then(function(){\n",
       "                            \n",
       "var gd = document.getElementById('a6c066c3-344a-47fb-95ed-39f8477ee24b');\n",
       "var x = new MutationObserver(function (mutations, observer) {{\n",
       "        var display = window.getComputedStyle(gd).display;\n",
       "        if (!display || display === 'none') {{\n",
       "            console.log([gd, 'removed!']);\n",
       "            Plotly.purge(gd);\n",
       "            observer.disconnect();\n",
       "        }}\n",
       "}});\n",
       "\n",
       "// Listen for the removal of the full notebook cells\n",
       "var notebookContainer = gd.closest('#notebook-container');\n",
       "if (notebookContainer) {{\n",
       "    x.observe(notebookContainer, {childList: true});\n",
       "}}\n",
       "\n",
       "// Listen for the clearing of the current output cell\n",
       "var outputEl = gd.closest('.output');\n",
       "if (outputEl) {{\n",
       "    x.observe(outputEl, {childList: true});\n",
       "}}\n",
       "\n",
       "                        })                };                });            </script>        </div>"
      ]
     },
     "metadata": {},
     "output_type": "display_data"
    }
   ],
   "source": [
    "pd.DataFrame(score).iplot(title=\"R2 score of diferent CV for training data\",xTitle = \"count\",yTitle=\"R2 Score\")"
   ]
  },
  {
   "cell_type": "code",
   "execution_count": 51,
   "metadata": {},
   "outputs": [
    {
     "data": {
      "application/vnd.plotly.v1+json": {
       "config": {
        "linkText": "Export to plot.ly",
        "plotlyServerURL": "https://plot.ly",
        "showLink": true
       },
       "data": [
        {
         "line": {
          "color": "rgba(255, 153, 51, 1.0)",
          "dash": "solid",
          "shape": "linear",
          "width": 1.3
         },
         "mode": "lines",
         "name": "0",
         "text": "",
         "type": "scatter",
         "x": [
          0,
          1,
          2,
          3,
          4,
          5,
          6,
          7,
          8,
          9
         ],
         "y": [
          -511.54425870055593,
          -0.10623223970060414,
          -22.92278166695942,
          -0.17801840476073938,
          -27.75009102779973,
          -12.534688550116092,
          -10.807914838906447,
          -1.685385435615434,
          0.10799701095739889,
          -0.23779579091186442
         ]
        }
       ],
       "layout": {
        "legend": {
         "bgcolor": "#151516",
         "font": {
          "color": "#D9D9D9"
         }
        },
        "paper_bgcolor": "#151516",
        "plot_bgcolor": "#151516",
        "template": {
         "data": {
          "bar": [
           {
            "error_x": {
             "color": "#2a3f5f"
            },
            "error_y": {
             "color": "#2a3f5f"
            },
            "marker": {
             "line": {
              "color": "#E5ECF6",
              "width": 0.5
             }
            },
            "type": "bar"
           }
          ],
          "barpolar": [
           {
            "marker": {
             "line": {
              "color": "#E5ECF6",
              "width": 0.5
             }
            },
            "type": "barpolar"
           }
          ],
          "carpet": [
           {
            "aaxis": {
             "endlinecolor": "#2a3f5f",
             "gridcolor": "white",
             "linecolor": "white",
             "minorgridcolor": "white",
             "startlinecolor": "#2a3f5f"
            },
            "baxis": {
             "endlinecolor": "#2a3f5f",
             "gridcolor": "white",
             "linecolor": "white",
             "minorgridcolor": "white",
             "startlinecolor": "#2a3f5f"
            },
            "type": "carpet"
           }
          ],
          "choropleth": [
           {
            "colorbar": {
             "outlinewidth": 0,
             "ticks": ""
            },
            "type": "choropleth"
           }
          ],
          "contour": [
           {
            "colorbar": {
             "outlinewidth": 0,
             "ticks": ""
            },
            "colorscale": [
             [
              0,
              "#0d0887"
             ],
             [
              0.1111111111111111,
              "#46039f"
             ],
             [
              0.2222222222222222,
              "#7201a8"
             ],
             [
              0.3333333333333333,
              "#9c179e"
             ],
             [
              0.4444444444444444,
              "#bd3786"
             ],
             [
              0.5555555555555556,
              "#d8576b"
             ],
             [
              0.6666666666666666,
              "#ed7953"
             ],
             [
              0.7777777777777778,
              "#fb9f3a"
             ],
             [
              0.8888888888888888,
              "#fdca26"
             ],
             [
              1,
              "#f0f921"
             ]
            ],
            "type": "contour"
           }
          ],
          "contourcarpet": [
           {
            "colorbar": {
             "outlinewidth": 0,
             "ticks": ""
            },
            "type": "contourcarpet"
           }
          ],
          "heatmap": [
           {
            "colorbar": {
             "outlinewidth": 0,
             "ticks": ""
            },
            "colorscale": [
             [
              0,
              "#0d0887"
             ],
             [
              0.1111111111111111,
              "#46039f"
             ],
             [
              0.2222222222222222,
              "#7201a8"
             ],
             [
              0.3333333333333333,
              "#9c179e"
             ],
             [
              0.4444444444444444,
              "#bd3786"
             ],
             [
              0.5555555555555556,
              "#d8576b"
             ],
             [
              0.6666666666666666,
              "#ed7953"
             ],
             [
              0.7777777777777778,
              "#fb9f3a"
             ],
             [
              0.8888888888888888,
              "#fdca26"
             ],
             [
              1,
              "#f0f921"
             ]
            ],
            "type": "heatmap"
           }
          ],
          "heatmapgl": [
           {
            "colorbar": {
             "outlinewidth": 0,
             "ticks": ""
            },
            "colorscale": [
             [
              0,
              "#0d0887"
             ],
             [
              0.1111111111111111,
              "#46039f"
             ],
             [
              0.2222222222222222,
              "#7201a8"
             ],
             [
              0.3333333333333333,
              "#9c179e"
             ],
             [
              0.4444444444444444,
              "#bd3786"
             ],
             [
              0.5555555555555556,
              "#d8576b"
             ],
             [
              0.6666666666666666,
              "#ed7953"
             ],
             [
              0.7777777777777778,
              "#fb9f3a"
             ],
             [
              0.8888888888888888,
              "#fdca26"
             ],
             [
              1,
              "#f0f921"
             ]
            ],
            "type": "heatmapgl"
           }
          ],
          "histogram": [
           {
            "marker": {
             "colorbar": {
              "outlinewidth": 0,
              "ticks": ""
             }
            },
            "type": "histogram"
           }
          ],
          "histogram2d": [
           {
            "colorbar": {
             "outlinewidth": 0,
             "ticks": ""
            },
            "colorscale": [
             [
              0,
              "#0d0887"
             ],
             [
              0.1111111111111111,
              "#46039f"
             ],
             [
              0.2222222222222222,
              "#7201a8"
             ],
             [
              0.3333333333333333,
              "#9c179e"
             ],
             [
              0.4444444444444444,
              "#bd3786"
             ],
             [
              0.5555555555555556,
              "#d8576b"
             ],
             [
              0.6666666666666666,
              "#ed7953"
             ],
             [
              0.7777777777777778,
              "#fb9f3a"
             ],
             [
              0.8888888888888888,
              "#fdca26"
             ],
             [
              1,
              "#f0f921"
             ]
            ],
            "type": "histogram2d"
           }
          ],
          "histogram2dcontour": [
           {
            "colorbar": {
             "outlinewidth": 0,
             "ticks": ""
            },
            "colorscale": [
             [
              0,
              "#0d0887"
             ],
             [
              0.1111111111111111,
              "#46039f"
             ],
             [
              0.2222222222222222,
              "#7201a8"
             ],
             [
              0.3333333333333333,
              "#9c179e"
             ],
             [
              0.4444444444444444,
              "#bd3786"
             ],
             [
              0.5555555555555556,
              "#d8576b"
             ],
             [
              0.6666666666666666,
              "#ed7953"
             ],
             [
              0.7777777777777778,
              "#fb9f3a"
             ],
             [
              0.8888888888888888,
              "#fdca26"
             ],
             [
              1,
              "#f0f921"
             ]
            ],
            "type": "histogram2dcontour"
           }
          ],
          "mesh3d": [
           {
            "colorbar": {
             "outlinewidth": 0,
             "ticks": ""
            },
            "type": "mesh3d"
           }
          ],
          "parcoords": [
           {
            "line": {
             "colorbar": {
              "outlinewidth": 0,
              "ticks": ""
             }
            },
            "type": "parcoords"
           }
          ],
          "pie": [
           {
            "automargin": true,
            "type": "pie"
           }
          ],
          "scatter": [
           {
            "marker": {
             "colorbar": {
              "outlinewidth": 0,
              "ticks": ""
             }
            },
            "type": "scatter"
           }
          ],
          "scatter3d": [
           {
            "line": {
             "colorbar": {
              "outlinewidth": 0,
              "ticks": ""
             }
            },
            "marker": {
             "colorbar": {
              "outlinewidth": 0,
              "ticks": ""
             }
            },
            "type": "scatter3d"
           }
          ],
          "scattercarpet": [
           {
            "marker": {
             "colorbar": {
              "outlinewidth": 0,
              "ticks": ""
             }
            },
            "type": "scattercarpet"
           }
          ],
          "scattergeo": [
           {
            "marker": {
             "colorbar": {
              "outlinewidth": 0,
              "ticks": ""
             }
            },
            "type": "scattergeo"
           }
          ],
          "scattergl": [
           {
            "marker": {
             "colorbar": {
              "outlinewidth": 0,
              "ticks": ""
             }
            },
            "type": "scattergl"
           }
          ],
          "scattermapbox": [
           {
            "marker": {
             "colorbar": {
              "outlinewidth": 0,
              "ticks": ""
             }
            },
            "type": "scattermapbox"
           }
          ],
          "scatterpolar": [
           {
            "marker": {
             "colorbar": {
              "outlinewidth": 0,
              "ticks": ""
             }
            },
            "type": "scatterpolar"
           }
          ],
          "scatterpolargl": [
           {
            "marker": {
             "colorbar": {
              "outlinewidth": 0,
              "ticks": ""
             }
            },
            "type": "scatterpolargl"
           }
          ],
          "scatterternary": [
           {
            "marker": {
             "colorbar": {
              "outlinewidth": 0,
              "ticks": ""
             }
            },
            "type": "scatterternary"
           }
          ],
          "surface": [
           {
            "colorbar": {
             "outlinewidth": 0,
             "ticks": ""
            },
            "colorscale": [
             [
              0,
              "#0d0887"
             ],
             [
              0.1111111111111111,
              "#46039f"
             ],
             [
              0.2222222222222222,
              "#7201a8"
             ],
             [
              0.3333333333333333,
              "#9c179e"
             ],
             [
              0.4444444444444444,
              "#bd3786"
             ],
             [
              0.5555555555555556,
              "#d8576b"
             ],
             [
              0.6666666666666666,
              "#ed7953"
             ],
             [
              0.7777777777777778,
              "#fb9f3a"
             ],
             [
              0.8888888888888888,
              "#fdca26"
             ],
             [
              1,
              "#f0f921"
             ]
            ],
            "type": "surface"
           }
          ],
          "table": [
           {
            "cells": {
             "fill": {
              "color": "#EBF0F8"
             },
             "line": {
              "color": "white"
             }
            },
            "header": {
             "fill": {
              "color": "#C8D4E3"
             },
             "line": {
              "color": "white"
             }
            },
            "type": "table"
           }
          ]
         },
         "layout": {
          "annotationdefaults": {
           "arrowcolor": "#2a3f5f",
           "arrowhead": 0,
           "arrowwidth": 1
          },
          "coloraxis": {
           "colorbar": {
            "outlinewidth": 0,
            "ticks": ""
           }
          },
          "colorscale": {
           "diverging": [
            [
             0,
             "#8e0152"
            ],
            [
             0.1,
             "#c51b7d"
            ],
            [
             0.2,
             "#de77ae"
            ],
            [
             0.3,
             "#f1b6da"
            ],
            [
             0.4,
             "#fde0ef"
            ],
            [
             0.5,
             "#f7f7f7"
            ],
            [
             0.6,
             "#e6f5d0"
            ],
            [
             0.7,
             "#b8e186"
            ],
            [
             0.8,
             "#7fbc41"
            ],
            [
             0.9,
             "#4d9221"
            ],
            [
             1,
             "#276419"
            ]
           ],
           "sequential": [
            [
             0,
             "#0d0887"
            ],
            [
             0.1111111111111111,
             "#46039f"
            ],
            [
             0.2222222222222222,
             "#7201a8"
            ],
            [
             0.3333333333333333,
             "#9c179e"
            ],
            [
             0.4444444444444444,
             "#bd3786"
            ],
            [
             0.5555555555555556,
             "#d8576b"
            ],
            [
             0.6666666666666666,
             "#ed7953"
            ],
            [
             0.7777777777777778,
             "#fb9f3a"
            ],
            [
             0.8888888888888888,
             "#fdca26"
            ],
            [
             1,
             "#f0f921"
            ]
           ],
           "sequentialminus": [
            [
             0,
             "#0d0887"
            ],
            [
             0.1111111111111111,
             "#46039f"
            ],
            [
             0.2222222222222222,
             "#7201a8"
            ],
            [
             0.3333333333333333,
             "#9c179e"
            ],
            [
             0.4444444444444444,
             "#bd3786"
            ],
            [
             0.5555555555555556,
             "#d8576b"
            ],
            [
             0.6666666666666666,
             "#ed7953"
            ],
            [
             0.7777777777777778,
             "#fb9f3a"
            ],
            [
             0.8888888888888888,
             "#fdca26"
            ],
            [
             1,
             "#f0f921"
            ]
           ]
          },
          "colorway": [
           "#636efa",
           "#EF553B",
           "#00cc96",
           "#ab63fa",
           "#FFA15A",
           "#19d3f3",
           "#FF6692",
           "#B6E880",
           "#FF97FF",
           "#FECB52"
          ],
          "font": {
           "color": "#2a3f5f"
          },
          "geo": {
           "bgcolor": "white",
           "lakecolor": "white",
           "landcolor": "#E5ECF6",
           "showlakes": true,
           "showland": true,
           "subunitcolor": "white"
          },
          "hoverlabel": {
           "align": "left"
          },
          "hovermode": "closest",
          "mapbox": {
           "style": "light"
          },
          "paper_bgcolor": "white",
          "plot_bgcolor": "#E5ECF6",
          "polar": {
           "angularaxis": {
            "gridcolor": "white",
            "linecolor": "white",
            "ticks": ""
           },
           "bgcolor": "#E5ECF6",
           "radialaxis": {
            "gridcolor": "white",
            "linecolor": "white",
            "ticks": ""
           }
          },
          "scene": {
           "xaxis": {
            "backgroundcolor": "#E5ECF6",
            "gridcolor": "white",
            "gridwidth": 2,
            "linecolor": "white",
            "showbackground": true,
            "ticks": "",
            "zerolinecolor": "white"
           },
           "yaxis": {
            "backgroundcolor": "#E5ECF6",
            "gridcolor": "white",
            "gridwidth": 2,
            "linecolor": "white",
            "showbackground": true,
            "ticks": "",
            "zerolinecolor": "white"
           },
           "zaxis": {
            "backgroundcolor": "#E5ECF6",
            "gridcolor": "white",
            "gridwidth": 2,
            "linecolor": "white",
            "showbackground": true,
            "ticks": "",
            "zerolinecolor": "white"
           }
          },
          "shapedefaults": {
           "line": {
            "color": "#2a3f5f"
           }
          },
          "ternary": {
           "aaxis": {
            "gridcolor": "white",
            "linecolor": "white",
            "ticks": ""
           },
           "baxis": {
            "gridcolor": "white",
            "linecolor": "white",
            "ticks": ""
           },
           "bgcolor": "#E5ECF6",
           "caxis": {
            "gridcolor": "white",
            "linecolor": "white",
            "ticks": ""
           }
          },
          "title": {
           "x": 0.05
          },
          "xaxis": {
           "automargin": true,
           "gridcolor": "white",
           "linecolor": "white",
           "ticks": "",
           "title": {
            "standoff": 15
           },
           "zerolinecolor": "white",
           "zerolinewidth": 2
          },
          "yaxis": {
           "automargin": true,
           "gridcolor": "white",
           "linecolor": "white",
           "ticks": "",
           "title": {
            "standoff": 15
           },
           "zerolinecolor": "white",
           "zerolinewidth": 2
          }
         }
        },
        "title": {
         "font": {
          "color": "#D9D9D9"
         },
         "text": "R2 score of diferent CV for validation data"
        },
        "xaxis": {
         "gridcolor": "#434343",
         "showgrid": true,
         "tickfont": {
          "color": "#C2C2C2"
         },
         "title": {
          "font": {
           "color": "#D9D9D9"
          },
          "text": "count"
         },
         "zerolinecolor": "#666570"
        },
        "yaxis": {
         "gridcolor": "#434343",
         "showgrid": true,
         "tickfont": {
          "color": "#C2C2C2"
         },
         "title": {
          "font": {
           "color": "#D9D9D9"
          },
          "text": "R2 Score"
         },
         "zerolinecolor": "#666570"
        }
       }
      },
      "text/html": [
       "<div>                            <div id=\"abcb6e1c-289d-4279-8cdc-66f8f30af2d1\" class=\"plotly-graph-div\" style=\"height:525px; width:100%;\"></div>            <script type=\"text/javascript\">                require([\"plotly\"], function(Plotly) {                    window.PLOTLYENV=window.PLOTLYENV || {};\n",
       "                    window.PLOTLYENV.BASE_URL='https://plot.ly';                                    if (document.getElementById(\"abcb6e1c-289d-4279-8cdc-66f8f30af2d1\")) {                    Plotly.newPlot(                        \"abcb6e1c-289d-4279-8cdc-66f8f30af2d1\",                        [{\"line\": {\"color\": \"rgba(255, 153, 51, 1.0)\", \"dash\": \"solid\", \"shape\": \"linear\", \"width\": 1.3}, \"mode\": \"lines\", \"name\": \"0\", \"text\": \"\", \"type\": \"scatter\", \"x\": [0, 1, 2, 3, 4, 5, 6, 7, 8, 9], \"y\": [-511.54425870055593, -0.10623223970060414, -22.92278166695942, -0.17801840476073938, -27.75009102779973, -12.534688550116092, -10.807914838906447, -1.685385435615434, 0.10799701095739889, -0.23779579091186442]}],                        {\"legend\": {\"bgcolor\": \"#151516\", \"font\": {\"color\": \"#D9D9D9\"}}, \"paper_bgcolor\": \"#151516\", \"plot_bgcolor\": \"#151516\", \"template\": {\"data\": {\"bar\": [{\"error_x\": {\"color\": \"#2a3f5f\"}, \"error_y\": {\"color\": \"#2a3f5f\"}, \"marker\": {\"line\": {\"color\": \"#E5ECF6\", \"width\": 0.5}}, \"type\": \"bar\"}], \"barpolar\": [{\"marker\": {\"line\": {\"color\": \"#E5ECF6\", \"width\": 0.5}}, \"type\": \"barpolar\"}], \"carpet\": [{\"aaxis\": {\"endlinecolor\": \"#2a3f5f\", \"gridcolor\": \"white\", \"linecolor\": \"white\", \"minorgridcolor\": \"white\", \"startlinecolor\": \"#2a3f5f\"}, \"baxis\": {\"endlinecolor\": \"#2a3f5f\", \"gridcolor\": \"white\", \"linecolor\": \"white\", \"minorgridcolor\": \"white\", \"startlinecolor\": \"#2a3f5f\"}, \"type\": \"carpet\"}], \"choropleth\": [{\"colorbar\": {\"outlinewidth\": 0, \"ticks\": \"\"}, \"type\": \"choropleth\"}], \"contour\": [{\"colorbar\": {\"outlinewidth\": 0, \"ticks\": \"\"}, \"colorscale\": [[0.0, \"#0d0887\"], [0.1111111111111111, \"#46039f\"], [0.2222222222222222, \"#7201a8\"], [0.3333333333333333, \"#9c179e\"], [0.4444444444444444, \"#bd3786\"], [0.5555555555555556, \"#d8576b\"], [0.6666666666666666, \"#ed7953\"], [0.7777777777777778, \"#fb9f3a\"], [0.8888888888888888, \"#fdca26\"], [1.0, \"#f0f921\"]], \"type\": \"contour\"}], \"contourcarpet\": [{\"colorbar\": {\"outlinewidth\": 0, \"ticks\": \"\"}, \"type\": \"contourcarpet\"}], \"heatmap\": [{\"colorbar\": {\"outlinewidth\": 0, \"ticks\": \"\"}, \"colorscale\": [[0.0, \"#0d0887\"], [0.1111111111111111, \"#46039f\"], [0.2222222222222222, \"#7201a8\"], [0.3333333333333333, \"#9c179e\"], [0.4444444444444444, \"#bd3786\"], [0.5555555555555556, \"#d8576b\"], [0.6666666666666666, \"#ed7953\"], [0.7777777777777778, \"#fb9f3a\"], [0.8888888888888888, \"#fdca26\"], [1.0, \"#f0f921\"]], \"type\": \"heatmap\"}], \"heatmapgl\": [{\"colorbar\": {\"outlinewidth\": 0, \"ticks\": \"\"}, \"colorscale\": [[0.0, \"#0d0887\"], [0.1111111111111111, \"#46039f\"], [0.2222222222222222, \"#7201a8\"], [0.3333333333333333, \"#9c179e\"], [0.4444444444444444, \"#bd3786\"], [0.5555555555555556, \"#d8576b\"], [0.6666666666666666, \"#ed7953\"], [0.7777777777777778, \"#fb9f3a\"], [0.8888888888888888, \"#fdca26\"], [1.0, \"#f0f921\"]], \"type\": \"heatmapgl\"}], \"histogram\": [{\"marker\": {\"colorbar\": {\"outlinewidth\": 0, \"ticks\": \"\"}}, \"type\": \"histogram\"}], \"histogram2d\": [{\"colorbar\": {\"outlinewidth\": 0, \"ticks\": \"\"}, \"colorscale\": [[0.0, \"#0d0887\"], [0.1111111111111111, \"#46039f\"], [0.2222222222222222, \"#7201a8\"], [0.3333333333333333, \"#9c179e\"], [0.4444444444444444, \"#bd3786\"], [0.5555555555555556, \"#d8576b\"], [0.6666666666666666, \"#ed7953\"], [0.7777777777777778, \"#fb9f3a\"], [0.8888888888888888, \"#fdca26\"], [1.0, \"#f0f921\"]], \"type\": \"histogram2d\"}], \"histogram2dcontour\": [{\"colorbar\": {\"outlinewidth\": 0, \"ticks\": \"\"}, \"colorscale\": [[0.0, \"#0d0887\"], [0.1111111111111111, \"#46039f\"], [0.2222222222222222, \"#7201a8\"], [0.3333333333333333, \"#9c179e\"], [0.4444444444444444, \"#bd3786\"], [0.5555555555555556, \"#d8576b\"], [0.6666666666666666, \"#ed7953\"], [0.7777777777777778, \"#fb9f3a\"], [0.8888888888888888, \"#fdca26\"], [1.0, \"#f0f921\"]], \"type\": \"histogram2dcontour\"}], \"mesh3d\": [{\"colorbar\": {\"outlinewidth\": 0, \"ticks\": \"\"}, \"type\": \"mesh3d\"}], \"parcoords\": [{\"line\": {\"colorbar\": {\"outlinewidth\": 0, \"ticks\": \"\"}}, \"type\": \"parcoords\"}], \"pie\": [{\"automargin\": true, \"type\": \"pie\"}], \"scatter\": [{\"marker\": {\"colorbar\": {\"outlinewidth\": 0, \"ticks\": \"\"}}, \"type\": \"scatter\"}], \"scatter3d\": [{\"line\": {\"colorbar\": {\"outlinewidth\": 0, \"ticks\": \"\"}}, \"marker\": {\"colorbar\": {\"outlinewidth\": 0, \"ticks\": \"\"}}, \"type\": \"scatter3d\"}], \"scattercarpet\": [{\"marker\": {\"colorbar\": {\"outlinewidth\": 0, \"ticks\": \"\"}}, \"type\": \"scattercarpet\"}], \"scattergeo\": [{\"marker\": {\"colorbar\": {\"outlinewidth\": 0, \"ticks\": \"\"}}, \"type\": \"scattergeo\"}], \"scattergl\": [{\"marker\": {\"colorbar\": {\"outlinewidth\": 0, \"ticks\": \"\"}}, \"type\": \"scattergl\"}], \"scattermapbox\": [{\"marker\": {\"colorbar\": {\"outlinewidth\": 0, \"ticks\": \"\"}}, \"type\": \"scattermapbox\"}], \"scatterpolar\": [{\"marker\": {\"colorbar\": {\"outlinewidth\": 0, \"ticks\": \"\"}}, \"type\": \"scatterpolar\"}], \"scatterpolargl\": [{\"marker\": {\"colorbar\": {\"outlinewidth\": 0, \"ticks\": \"\"}}, \"type\": \"scatterpolargl\"}], \"scatterternary\": [{\"marker\": {\"colorbar\": {\"outlinewidth\": 0, \"ticks\": \"\"}}, \"type\": \"scatterternary\"}], \"surface\": [{\"colorbar\": {\"outlinewidth\": 0, \"ticks\": \"\"}, \"colorscale\": [[0.0, \"#0d0887\"], [0.1111111111111111, \"#46039f\"], [0.2222222222222222, \"#7201a8\"], [0.3333333333333333, \"#9c179e\"], [0.4444444444444444, \"#bd3786\"], [0.5555555555555556, \"#d8576b\"], [0.6666666666666666, \"#ed7953\"], [0.7777777777777778, \"#fb9f3a\"], [0.8888888888888888, \"#fdca26\"], [1.0, \"#f0f921\"]], \"type\": \"surface\"}], \"table\": [{\"cells\": {\"fill\": {\"color\": \"#EBF0F8\"}, \"line\": {\"color\": \"white\"}}, \"header\": {\"fill\": {\"color\": \"#C8D4E3\"}, \"line\": {\"color\": \"white\"}}, \"type\": \"table\"}]}, \"layout\": {\"annotationdefaults\": {\"arrowcolor\": \"#2a3f5f\", \"arrowhead\": 0, \"arrowwidth\": 1}, \"coloraxis\": {\"colorbar\": {\"outlinewidth\": 0, \"ticks\": \"\"}}, \"colorscale\": {\"diverging\": [[0, \"#8e0152\"], [0.1, \"#c51b7d\"], [0.2, \"#de77ae\"], [0.3, \"#f1b6da\"], [0.4, \"#fde0ef\"], [0.5, \"#f7f7f7\"], [0.6, \"#e6f5d0\"], [0.7, \"#b8e186\"], [0.8, \"#7fbc41\"], [0.9, \"#4d9221\"], [1, \"#276419\"]], \"sequential\": [[0.0, \"#0d0887\"], [0.1111111111111111, \"#46039f\"], [0.2222222222222222, \"#7201a8\"], [0.3333333333333333, \"#9c179e\"], [0.4444444444444444, \"#bd3786\"], [0.5555555555555556, \"#d8576b\"], [0.6666666666666666, \"#ed7953\"], [0.7777777777777778, \"#fb9f3a\"], [0.8888888888888888, \"#fdca26\"], [1.0, \"#f0f921\"]], \"sequentialminus\": [[0.0, \"#0d0887\"], [0.1111111111111111, \"#46039f\"], [0.2222222222222222, \"#7201a8\"], [0.3333333333333333, \"#9c179e\"], [0.4444444444444444, \"#bd3786\"], [0.5555555555555556, \"#d8576b\"], [0.6666666666666666, \"#ed7953\"], [0.7777777777777778, \"#fb9f3a\"], [0.8888888888888888, \"#fdca26\"], [1.0, \"#f0f921\"]]}, \"colorway\": [\"#636efa\", \"#EF553B\", \"#00cc96\", \"#ab63fa\", \"#FFA15A\", \"#19d3f3\", \"#FF6692\", \"#B6E880\", \"#FF97FF\", \"#FECB52\"], \"font\": {\"color\": \"#2a3f5f\"}, \"geo\": {\"bgcolor\": \"white\", \"lakecolor\": \"white\", \"landcolor\": \"#E5ECF6\", \"showlakes\": true, \"showland\": true, \"subunitcolor\": \"white\"}, \"hoverlabel\": {\"align\": \"left\"}, \"hovermode\": \"closest\", \"mapbox\": {\"style\": \"light\"}, \"paper_bgcolor\": \"white\", \"plot_bgcolor\": \"#E5ECF6\", \"polar\": {\"angularaxis\": {\"gridcolor\": \"white\", \"linecolor\": \"white\", \"ticks\": \"\"}, \"bgcolor\": \"#E5ECF6\", \"radialaxis\": {\"gridcolor\": \"white\", \"linecolor\": \"white\", \"ticks\": \"\"}}, \"scene\": {\"xaxis\": {\"backgroundcolor\": \"#E5ECF6\", \"gridcolor\": \"white\", \"gridwidth\": 2, \"linecolor\": \"white\", \"showbackground\": true, \"ticks\": \"\", \"zerolinecolor\": \"white\"}, \"yaxis\": {\"backgroundcolor\": \"#E5ECF6\", \"gridcolor\": \"white\", \"gridwidth\": 2, \"linecolor\": \"white\", \"showbackground\": true, \"ticks\": \"\", \"zerolinecolor\": \"white\"}, \"zaxis\": {\"backgroundcolor\": \"#E5ECF6\", \"gridcolor\": \"white\", \"gridwidth\": 2, \"linecolor\": \"white\", \"showbackground\": true, \"ticks\": \"\", \"zerolinecolor\": \"white\"}}, \"shapedefaults\": {\"line\": {\"color\": \"#2a3f5f\"}}, \"ternary\": {\"aaxis\": {\"gridcolor\": \"white\", \"linecolor\": \"white\", \"ticks\": \"\"}, \"baxis\": {\"gridcolor\": \"white\", \"linecolor\": \"white\", \"ticks\": \"\"}, \"bgcolor\": \"#E5ECF6\", \"caxis\": {\"gridcolor\": \"white\", \"linecolor\": \"white\", \"ticks\": \"\"}}, \"title\": {\"x\": 0.05}, \"xaxis\": {\"automargin\": true, \"gridcolor\": \"white\", \"linecolor\": \"white\", \"ticks\": \"\", \"title\": {\"standoff\": 15}, \"zerolinecolor\": \"white\", \"zerolinewidth\": 2}, \"yaxis\": {\"automargin\": true, \"gridcolor\": \"white\", \"linecolor\": \"white\", \"ticks\": \"\", \"title\": {\"standoff\": 15}, \"zerolinecolor\": \"white\", \"zerolinewidth\": 2}}}, \"title\": {\"font\": {\"color\": \"#D9D9D9\"}, \"text\": \"R2 score of diferent CV for validation data\"}, \"xaxis\": {\"gridcolor\": \"#434343\", \"showgrid\": true, \"tickfont\": {\"color\": \"#C2C2C2\"}, \"title\": {\"font\": {\"color\": \"#D9D9D9\"}, \"text\": \"count\"}, \"zerolinecolor\": \"#666570\"}, \"yaxis\": {\"gridcolor\": \"#434343\", \"showgrid\": true, \"tickfont\": {\"color\": \"#C2C2C2\"}, \"title\": {\"font\": {\"color\": \"#D9D9D9\"}, \"text\": \"R2 Score\"}, \"zerolinecolor\": \"#666570\"}},                        {\"showLink\": true, \"linkText\": \"Export to plot.ly\", \"plotlyServerURL\": \"https://plot.ly\", \"responsive\": true}                    ).then(function(){\n",
       "                            \n",
       "var gd = document.getElementById('abcb6e1c-289d-4279-8cdc-66f8f30af2d1');\n",
       "var x = new MutationObserver(function (mutations, observer) {{\n",
       "        var display = window.getComputedStyle(gd).display;\n",
       "        if (!display || display === 'none') {{\n",
       "            console.log([gd, 'removed!']);\n",
       "            Plotly.purge(gd);\n",
       "            observer.disconnect();\n",
       "        }}\n",
       "}});\n",
       "\n",
       "// Listen for the removal of the full notebook cells\n",
       "var notebookContainer = gd.closest('#notebook-container');\n",
       "if (notebookContainer) {{\n",
       "    x.observe(notebookContainer, {childList: true});\n",
       "}}\n",
       "\n",
       "// Listen for the clearing of the current output cell\n",
       "var outputEl = gd.closest('.output');\n",
       "if (outputEl) {{\n",
       "    x.observe(outputEl, {childList: true});\n",
       "}}\n",
       "\n",
       "                        })                };                });            </script>        </div>"
      ]
     },
     "metadata": {},
     "output_type": "display_data"
    }
   ],
   "source": [
    "pd.DataFrame(score_val).iplot(title=\"R2 score of diferent CV for validation data\",xTitle = \"count\",yTitle=\"R2 Score\")"
   ]
  },
  {
   "cell_type": "markdown",
   "metadata": {},
   "source": [
    "# Metric Reports\n",
    " \n",
    "\n",
    "| Metrics \t| Values \t| \n",
    "|-\t|-\t|\n",
    "| MSE \t| 11311.77\t|\n",
    "| RMSE \t| 106.35 \t|\n",
    "| MAE \t| 25.40 \t|\n",
    "| R2 Score \t| 0.04 \t|\n",
    "\n"
   ]
  },
  {
   "cell_type": "code",
   "execution_count": 53,
   "metadata": {},
   "outputs": [],
   "source": [
    "import pickle\n",
    "filename = 'finalized_model.pkl'\n",
    "pickle.dump(reg_rf_rscv,open(filename,'wb'))"
   ]
  },
  {
   "cell_type": "markdown",
   "metadata": {},
   "source": [
    "# Saved Model:\n",
    "\n",
    "model link - https://drive.google.com/file/d/1isIoiZRKjQLzTdb2YiGa-nAnMUGvMmh6/view?usp=sharing"
   ]
  },
  {
   "cell_type": "code",
   "execution_count": null,
   "metadata": {},
   "outputs": [],
   "source": []
  }
 ],
 "metadata": {
  "kernelspec": {
   "display_name": "Python 3",
   "language": "python",
   "name": "python3"
  },
  "language_info": {
   "codemirror_mode": {
    "name": "ipython",
    "version": 3
   },
   "file_extension": ".py",
   "mimetype": "text/x-python",
   "name": "python",
   "nbconvert_exporter": "python",
   "pygments_lexer": "ipython3",
   "version": "3.7.3"
  }
 },
 "nbformat": 4,
 "nbformat_minor": 4
}
